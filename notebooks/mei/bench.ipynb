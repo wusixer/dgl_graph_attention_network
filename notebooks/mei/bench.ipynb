{
 "cells": [
  {
   "cell_type": "code",
   "execution_count": null,
   "metadata": {},
   "outputs": [],
   "source": [
    "%load_ext autoreload\n",
    "%autoreload 2"
   ]
  },
  {
   "cell_type": "code",
   "execution_count": null,
   "metadata": {},
   "outputs": [],
   "source": [
    "from patch_gnn.data import load_ghesquire\n",
    "import pandas as pd\n",
    "from pyprojroot import here\n",
    "import pickle as pkl\n",
    "from patch_gnn.splitting import train_test_split\n",
    "from jax import random\n",
    "from patch_gnn.seqops import one_hot\n",
    "from patch_gnn.unirep import unirep_reps\n",
    "from patch_gnn.graph import graph_tensors\n",
    "from patch_gnn.models import MPNN, DeepMPNN\n",
    "from sklearn.ensemble import RandomForestRegressor\n",
    "from sklearn.metrics import explained_variance_score as evs\n",
    "import matplotlib.pyplot as plt \n",
    "from sklearn.metrics import mean_squared_error as mse"
   ]
  },
  {
   "cell_type": "code",
   "execution_count": null,
   "metadata": {},
   "outputs": [],
   "source": [
    "data = load_ghesquire()\n",
    "\n",
    "graph_pickle_path = here() / \"data/ghesquire_2011/graphs.pkl\"\n",
    "\n",
    "with open(graph_pickle_path, \"rb\") as f:\n",
    "    graphs = pkl.load(f)\n",
    "    \n",
    "key = random.PRNGKey(490)"
   ]
  },
  {
   "cell_type": "code",
   "execution_count": null,
   "metadata": {},
   "outputs": [],
   "source": [
    "filtered = (\n",
    "    data\n",
    "    .query(\"`accession-sequence` in @graphs.keys()\")\n",
    "    .query(\"ox_fwd_logit < 0.0\")\n",
    ")"
   ]
  },
  {
   "cell_type": "code",
   "execution_count": null,
   "metadata": {},
   "outputs": [],
   "source": [
    "train_df, test_df = train_test_split(key, filtered)\n",
    "\n",
    "train_oh = one_hot(train_df, 50)\n",
    "test_oh = one_hot(test_df, 50)\n",
    "\n",
    "train_unirep = unirep_reps(train_df)\n",
    "test_unirep = unirep_reps(test_df)\n",
    "\n",
    "train_graph = graph_tensors(train_df, graphs)\n",
    "test_graph = graph_tensors(test_df, graphs)"
   ]
  },
  {
   "cell_type": "code",
   "execution_count": null,
   "metadata": {},
   "outputs": [],
   "source": [
    "train_target = train_df['ox_fwd_logit'].values\n",
    "test_target = test_df['ox_fwd_logit'].values"
   ]
  },
  {
   "cell_type": "code",
   "execution_count": null,
   "metadata": {},
   "outputs": [],
   "source": [
    "models = {\n",
    "    \"mpnn\": MPNN(node_feature_shape=(20, 61), num_adjacency=1, num_training_steps=200),\n",
    "    \"deep_mpnn\": DeepMPNN(node_feature_shape=(20, 61), num_adjacency=1, num_training_steps=200),\n",
    "    \"rf_oh\": RandomForestRegresor(n_estimators=300),\n",
    "    \"rf_unirep\": RandomForestRegressor(n_estimators=300),\n",
    "}"
   ]
  },
  {
   "cell_type": "code",
   "execution_count": null,
   "metadata": {},
   "outputs": [],
   "source": [
    "model_mpnn = MPNN(node_feature_shape=(20, 61), num_adjacency=1, num_training_steps=200)\n",
    "model_mpnn.fit(train_graph, train_target)\n",
    "\n",
    "model_deepmpnn = DeepMPNN(node_feature_shape=(20, 61), num_adjacency=1, num_training_steps=200)\n",
    "model_deepmpnn.fit(train_graph, train_target)\n",
    "\n",
    "model_rfoh = RandomForestRegressor(oob_score = True)\n",
    "model_rfoh.fit(train_oh, train_target)\n",
    "\n",
    "model_rf_unirep = RandomForestRegressor(oob_score = True)\n",
    "model_rf_unirep.fit(train_unirep, train_target)"
   ]
  },
  {
   "cell_type": "code",
   "execution_count": null,
   "metadata": {},
   "outputs": [],
   "source": []
  },
  {
   "cell_type": "code",
   "execution_count": null,
   "metadata": {},
   "outputs": [],
   "source": [
    "model_rfoh.oob_score_"
   ]
  },
  {
   "cell_type": "code",
   "execution_count": null,
   "metadata": {},
   "outputs": [],
   "source": [
    "model_rf_unirep.oob_score_"
   ]
  },
  {
   "cell_type": "code",
   "execution_count": null,
   "metadata": {},
   "outputs": [],
   "source": [
    "def plot_y_eq_x(ax):\n",
    "    xmin, xmax = ax.get_xlim()\n",
    "    ymin, ymax = ax.get_ylim()\n",
    "    \n",
    "    minval = min(xmin, ymin)\n",
    "    maxval = max(xmax, ymax)\n",
    "    \n",
    "    ax.plot([minval, maxval], [minval, maxval])\n",
    "\n",
    "def plot_performance(model, trainX, trainY, testX, testY, model_name: str, ev_func):\n",
    "    fig, ax = plt.subplots(figsize=(10, 5), nrows=1, ncols=2, sharex = True, sharey = True)\n",
    "    train_preds = model.predict(trainX)\n",
    "    ax[0].scatter(train_preds.squeeze(), trainY)\n",
    "    ax[0].set_title(f\"Model: {model_name}, Training Perf: {ev_func(trainY, train_preds.squeeze()):.3f}\")\n",
    "    plot_y_eq_x(ax[0])\n",
    "\n",
    "    test_preds = model.predict(testX)\n",
    "    ax[1].scatter(test_preds.squeeze(), testY)\n",
    "    ax[1].set_title(f\"Model: {model_name}, Testing Perf: {ev_func(testY, test_preds.squeeze()):.3f}\")\n",
    "    plot_y_eq_x(ax[1])"
   ]
  },
  {
   "cell_type": "code",
   "execution_count": null,
   "metadata": {},
   "outputs": [],
   "source": [
    "plot_performance(model_rfoh, train_oh, train_target, test_oh, test_target, 'One Hot rf, mse', mse)\n",
    "plot_performance(model_rf_unirep, train_unirep, train_target, test_unirep, test_target, 'Unirep rf, mse', mse)\n",
    "plot_performance(model_mpnn, train_graph, train_target, test_graph, test_target, 'MPNN, mse', mse)\n",
    "plot_performance(model_deepmpnn, train_graph, train_target, test_graph, test_target, 'Deep MPNN, mse', mse)"
   ]
  },
  {
   "cell_type": "code",
   "execution_count": null,
   "metadata": {},
   "outputs": [],
   "source": [
    "plot_performance(model_rfoh, train_oh, train_target, test_oh, test_target, 'One Hot rf, evs', evs)\n",
    "plot_performance(model_rf_unirep, train_unirep, train_target, test_unirep, test_target, 'Unirep rf, evs', evs)\n",
    "plot_performance(model_mpnn, train_graph, train_target, test_graph, test_target, 'MPNN, evs', evs)\n",
    "plot_performance(model_deepmpnn, train_graph, train_target, test_graph, test_target, 'Deep MPNN, evs', evs)"
   ]
  },
  {
   "cell_type": "code",
   "execution_count": null,
   "metadata": {},
   "outputs": [],
   "source": []
  }
 ],
 "metadata": {
  "kernelspec": {
   "display_name": "patch-gnn",
   "language": "python",
   "name": "patch-gnn"
  },
  "language_info": {
   "codemirror_mode": {
    "name": "ipython",
    "version": 3
   },
   "file_extension": ".py",
   "mimetype": "text/x-python",
   "name": "python",
   "nbconvert_exporter": "python",
   "pygments_lexer": "ipython3",
   "version": "3.8.6"
  }
 },
 "nbformat": 4,
 "nbformat_minor": 4
}
