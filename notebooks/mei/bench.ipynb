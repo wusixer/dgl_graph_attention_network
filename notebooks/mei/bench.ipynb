{
 "cells": [
  {
   "cell_type": "code",
   "execution_count": 1,
   "metadata": {},
   "outputs": [],
   "source": [
    "%load_ext autoreload\n",
    "%autoreload 2"
   ]
  },
  {
   "cell_type": "code",
   "execution_count": null,
   "metadata": {},
   "outputs": [],
   "source": []
  },
  {
   "cell_type": "code",
   "execution_count": 2,
   "metadata": {},
   "outputs": [
    {
     "name": "stderr",
     "output_type": "stream",
     "text": [
      "WARNING:absl:No GPU/TPU found, falling back to CPU. (Set TF_CPP_MIN_LOG_LEVEL=0 and rerun for more info.)\n"
     ]
    }
   ],
   "source": [
    "from patch_gnn.data import load_ghesquire\n",
    "import pandas as pd\n",
    "from pyprojroot import here\n",
    "import pickle as pkl\n",
    "from patch_gnn.splitting import train_test_split\n",
    "from jax import random\n",
    "from patch_gnn.seqops import one_hot\n",
    "from patch_gnn.unirep import unirep_reps\n",
    "from patch_gnn.graph import graph_tensors\n",
    "from patch_gnn.models import MPNN, DeepMPNN\n",
    "from sklearn.ensemble import RandomForestRegressor\n",
    "from sklearn.metrics import explained_variance_score as evs\n",
    "import matplotlib.pyplot as plt \n",
    "from sklearn.metrics import mean_squared_error as mse\n",
    "import pickle as pkl\n",
    "from patch_gnn.graph import met_position\n"
   ]
  },
  {
   "cell_type": "code",
   "execution_count": 3,
   "metadata": {},
   "outputs": [],
   "source": [
    "data = load_ghesquire()\n",
    "\n",
    "graph_pickle_path = here() / \"data/ghesquire_2011/graphs.pkl\"\n",
    "\n",
    "with open(graph_pickle_path, \"rb\") as f:\n",
    "    graphs = pkl.load(f)\n",
    "\n",
    "key = random.PRNGKey(490)"
   ]
  },
  {
   "cell_type": "code",
   "execution_count": 4,
   "metadata": {},
   "outputs": [],
   "source": [
    "filtered = (\n",
    "    data\n",
    "    .query(\"`accession-sequence` in @graphs.keys()\")\n",
    "    .query(\"ox_fwd_logit < 2.0\")\n",
    "    .join_apply(met_position, \"met_position\")\n",
    ")"
   ]
  },
  {
   "cell_type": "code",
   "execution_count": 5,
   "metadata": {},
   "outputs": [],
   "source": [
    "train_df, test_df = train_test_split(key, filtered)"
   ]
  },
  {
   "cell_type": "code",
   "execution_count": 6,
   "metadata": {},
   "outputs": [
    {
     "data": {
      "text/plain": [
       "(258, 111)"
      ]
     },
     "execution_count": 6,
     "metadata": {},
     "output_type": "execute_result"
    }
   ],
   "source": [
    "len(train_df), len(test_df)"
   ]
  },
  {
   "cell_type": "code",
   "execution_count": 7,
   "metadata": {},
   "outputs": [],
   "source": [
    "train_oh = one_hot(train_df, 50)\n",
    "test_oh = one_hot(test_df, 50)\n",
    "\n",
    "train_unirep = unirep_reps(train_df)\n",
    "test_unirep = unirep_reps(test_df)\n",
    "\n",
    "train_graph = graph_tensors(train_df, graphs)\n",
    "test_graph = graph_tensors(test_df, graphs)"
   ]
  },
  {
   "cell_type": "code",
   "execution_count": 8,
   "metadata": {},
   "outputs": [],
   "source": [
    "with open(here() / \"data/ghesquire_2011/sasa.pkl\", \"rb\") as f:\n",
    "    sasa_dfs = pkl.load(f)"
   ]
  },
  {
   "cell_type": "code",
   "execution_count": 9,
   "metadata": {},
   "outputs": [
    {
     "data": {
      "text/html": [
       "<div>\n",
       "<style scoped>\n",
       "    .dataframe tbody tr th:only-of-type {\n",
       "        vertical-align: middle;\n",
       "    }\n",
       "\n",
       "    .dataframe tbody tr th {\n",
       "        vertical-align: top;\n",
       "    }\n",
       "\n",
       "    .dataframe thead th {\n",
       "        text-align: right;\n",
       "    }\n",
       "</style>\n",
       "<table border=\"1\" class=\"dataframe\">\n",
       "  <thead>\n",
       "    <tr style=\"text-align: right;\">\n",
       "      <th></th>\n",
       "      <th>ResidNe</th>\n",
       "      <th>Chain</th>\n",
       "      <th>ResidNr</th>\n",
       "      <th>iCode</th>\n",
       "      <th>Phob/A^2</th>\n",
       "      <th>Phil/A^2</th>\n",
       "      <th>SASA/A^2</th>\n",
       "      <th>Q(SASA)</th>\n",
       "      <th>N(overl)</th>\n",
       "      <th>Surf/A^2</th>\n",
       "    </tr>\n",
       "  </thead>\n",
       "  <tbody>\n",
       "    <tr>\n",
       "      <th>0</th>\n",
       "      <td>PRO</td>\n",
       "      <td>-</td>\n",
       "      <td>4</td>\n",
       "      <td>-</td>\n",
       "      <td>99.79</td>\n",
       "      <td>7.32</td>\n",
       "      <td>107.12</td>\n",
       "      <td>0.6476</td>\n",
       "      <td>348</td>\n",
       "      <td>165.4</td>\n",
       "    </tr>\n",
       "    <tr>\n",
       "      <th>1</th>\n",
       "      <td>GLY</td>\n",
       "      <td>-</td>\n",
       "      <td>5</td>\n",
       "      <td>-</td>\n",
       "      <td>37.79</td>\n",
       "      <td>27.27</td>\n",
       "      <td>65.06</td>\n",
       "      <td>0.5368</td>\n",
       "      <td>192</td>\n",
       "      <td>121.2</td>\n",
       "    </tr>\n",
       "    <tr>\n",
       "      <th>2</th>\n",
       "      <td>PRO</td>\n",
       "      <td>-</td>\n",
       "      <td>6</td>\n",
       "      <td>-</td>\n",
       "      <td>96.03</td>\n",
       "      <td>4.12</td>\n",
       "      <td>100.15</td>\n",
       "      <td>0.6055</td>\n",
       "      <td>400</td>\n",
       "      <td>165.4</td>\n",
       "    </tr>\n",
       "    <tr>\n",
       "      <th>3</th>\n",
       "      <td>ALA</td>\n",
       "      <td>-</td>\n",
       "      <td>7</td>\n",
       "      <td>-</td>\n",
       "      <td>10.52</td>\n",
       "      <td>6.56</td>\n",
       "      <td>17.09</td>\n",
       "      <td>0.1184</td>\n",
       "      <td>452</td>\n",
       "      <td>144.3</td>\n",
       "    </tr>\n",
       "    <tr>\n",
       "      <th>4</th>\n",
       "      <td>LEU</td>\n",
       "      <td>-</td>\n",
       "      <td>8</td>\n",
       "      <td>-</td>\n",
       "      <td>7.74</td>\n",
       "      <td>2.43</td>\n",
       "      <td>10.17</td>\n",
       "      <td>0.0647</td>\n",
       "      <td>898</td>\n",
       "      <td>157.1</td>\n",
       "    </tr>\n",
       "    <tr>\n",
       "      <th>...</th>\n",
       "      <td>...</td>\n",
       "      <td>...</td>\n",
       "      <td>...</td>\n",
       "      <td>...</td>\n",
       "      <td>...</td>\n",
       "      <td>...</td>\n",
       "      <td>...</td>\n",
       "      <td>...</td>\n",
       "      <td>...</td>\n",
       "      <td>...</td>\n",
       "    </tr>\n",
       "    <tr>\n",
       "      <th>238</th>\n",
       "      <td>GLU</td>\n",
       "      <td>-</td>\n",
       "      <td>242</td>\n",
       "      <td>-</td>\n",
       "      <td>33.31</td>\n",
       "      <td>36.27</td>\n",
       "      <td>69.59</td>\n",
       "      <td>0.3455</td>\n",
       "      <td>479</td>\n",
       "      <td>201.4</td>\n",
       "    </tr>\n",
       "    <tr>\n",
       "      <th>239</th>\n",
       "      <td>LEU</td>\n",
       "      <td>-</td>\n",
       "      <td>243</td>\n",
       "      <td>-</td>\n",
       "      <td>112.63</td>\n",
       "      <td>16.03</td>\n",
       "      <td>128.66</td>\n",
       "      <td>0.8190</td>\n",
       "      <td>328</td>\n",
       "      <td>157.1</td>\n",
       "    </tr>\n",
       "    <tr>\n",
       "      <th>240</th>\n",
       "      <td>LEU</td>\n",
       "      <td>-</td>\n",
       "      <td>244</td>\n",
       "      <td>-</td>\n",
       "      <td>19.86</td>\n",
       "      <td>13.01</td>\n",
       "      <td>32.87</td>\n",
       "      <td>0.2092</td>\n",
       "      <td>440</td>\n",
       "      <td>157.1</td>\n",
       "    </tr>\n",
       "    <tr>\n",
       "      <th>241</th>\n",
       "      <td>PHE</td>\n",
       "      <td>-</td>\n",
       "      <td>245</td>\n",
       "      <td>-</td>\n",
       "      <td>27.41</td>\n",
       "      <td>7.35</td>\n",
       "      <td>34.76</td>\n",
       "      <td>0.2029</td>\n",
       "      <td>588</td>\n",
       "      <td>171.3</td>\n",
       "    </tr>\n",
       "    <tr>\n",
       "      <th>242</th>\n",
       "      <td>SER</td>\n",
       "      <td>-</td>\n",
       "      <td>246</td>\n",
       "      <td>-</td>\n",
       "      <td>45.03</td>\n",
       "      <td>66.78</td>\n",
       "      <td>111.80</td>\n",
       "      <td>0.7700</td>\n",
       "      <td>189</td>\n",
       "      <td>145.2</td>\n",
       "    </tr>\n",
       "  </tbody>\n",
       "</table>\n",
       "<p>243 rows × 10 columns</p>\n",
       "</div>"
      ],
      "text/plain": [
       "    ResidNe Chain  ResidNr iCode  Phob/A^2  Phil/A^2  SASA/A^2  Q(SASA)  \\\n",
       "0       PRO     -        4     -     99.79      7.32    107.12   0.6476   \n",
       "1       GLY     -        5     -     37.79     27.27     65.06   0.5368   \n",
       "2       PRO     -        6     -     96.03      4.12    100.15   0.6055   \n",
       "3       ALA     -        7     -     10.52      6.56     17.09   0.1184   \n",
       "4       LEU     -        8     -      7.74      2.43     10.17   0.0647   \n",
       "..      ...   ...      ...   ...       ...       ...       ...      ...   \n",
       "238     GLU     -      242     -     33.31     36.27     69.59   0.3455   \n",
       "239     LEU     -      243     -    112.63     16.03    128.66   0.8190   \n",
       "240     LEU     -      244     -     19.86     13.01     32.87   0.2092   \n",
       "241     PHE     -      245     -     27.41      7.35     34.76   0.2029   \n",
       "242     SER     -      246     -     45.03     66.78    111.80   0.7700   \n",
       "\n",
       "     N(overl)  Surf/A^2  \n",
       "0         348     165.4  \n",
       "1         192     121.2  \n",
       "2         400     165.4  \n",
       "3         452     144.3  \n",
       "4         898     157.1  \n",
       "..        ...       ...  \n",
       "238       479     201.4  \n",
       "239       328     157.1  \n",
       "240       440     157.1  \n",
       "241       588     171.3  \n",
       "242       189     145.2  \n",
       "\n",
       "[243 rows x 10 columns]"
      ]
     },
     "execution_count": 9,
     "metadata": {},
     "output_type": "execute_result"
    }
   ],
   "source": [
    "sasa_dfs[\"O15305\"]"
   ]
  },
  {
   "cell_type": "code",
   "execution_count": 10,
   "metadata": {},
   "outputs": [],
   "source": [
    "def linear_model_data(df, sasa_dfs):\n",
    "    linear = []\n",
    "    for acc, pos in zip(df[\"accession\"], df[\"met_position\"]):\n",
    "        feats = sasa_dfs[acc].query(\"ResidNr == @pos\")[[\"SASA/A^2\", \"N(overl)\"]]\n",
    "        linear.append(feats)\n",
    "\n",
    "    return pd.concat(linear)\n",
    "\n",
    "train_linear = linear_model_data(train_df, sasa_dfs)\n",
    "test_linear = linear_model_data(test_df, sasa_dfs)"
   ]
  },
  {
   "cell_type": "code",
   "execution_count": 11,
   "metadata": {},
   "outputs": [],
   "source": [
    "train_target = train_df['ox_fwd_logit'].values\n",
    "test_target = test_df['ox_fwd_logit'].values"
   ]
  },
  {
   "cell_type": "code",
   "execution_count": 12,
   "metadata": {},
   "outputs": [],
   "source": [
    "### try new fluc descriptor anm and nma"
   ]
  },
  {
   "cell_type": "code",
   "execution_count": 65,
   "metadata": {},
   "outputs": [],
   "source": [
    "with open(here() / \"data/ghesquire_2011/ANM.pkl\", \"rb\") as f:\n",
    "    sasa_dfs = pkl.load(f)"
   ]
  },
  {
   "cell_type": "code",
   "execution_count": 66,
   "metadata": {},
   "outputs": [
    {
     "data": {
      "text/plain": [
       "810"
      ]
     },
     "execution_count": 66,
     "metadata": {},
     "output_type": "execute_result"
    }
   ],
   "source": [
    "len(sasa_dfs)"
   ]
  },
  {
   "cell_type": "code",
   "execution_count": 67,
   "metadata": {},
   "outputs": [
    {
     "data": {
      "text/html": [
       "<div>\n",
       "<style scoped>\n",
       "    .dataframe tbody tr th:only-of-type {\n",
       "        vertical-align: middle;\n",
       "    }\n",
       "\n",
       "    .dataframe tbody tr th {\n",
       "        vertical-align: top;\n",
       "    }\n",
       "\n",
       "    .dataframe thead th {\n",
       "        text-align: right;\n",
       "    }\n",
       "</style>\n",
       "<table border=\"1\" class=\"dataframe\">\n",
       "  <thead>\n",
       "    <tr style=\"text-align: right;\">\n",
       "      <th></th>\n",
       "      <th>chains</th>\n",
       "      <th>resnos</th>\n",
       "      <th>resids</th>\n",
       "      <th>fluc</th>\n",
       "    </tr>\n",
       "  </thead>\n",
       "  <tbody>\n",
       "    <tr>\n",
       "      <th>0</th>\n",
       "      <td>NaN</td>\n",
       "      <td>1</td>\n",
       "      <td>MET</td>\n",
       "      <td>inf</td>\n",
       "    </tr>\n",
       "    <tr>\n",
       "      <th>1</th>\n",
       "      <td>NaN</td>\n",
       "      <td>2</td>\n",
       "      <td>ALA</td>\n",
       "      <td>inf</td>\n",
       "    </tr>\n",
       "    <tr>\n",
       "      <th>2</th>\n",
       "      <td>NaN</td>\n",
       "      <td>3</td>\n",
       "      <td>SER</td>\n",
       "      <td>inf</td>\n",
       "    </tr>\n",
       "    <tr>\n",
       "      <th>3</th>\n",
       "      <td>NaN</td>\n",
       "      <td>4</td>\n",
       "      <td>VAL</td>\n",
       "      <td>inf</td>\n",
       "    </tr>\n",
       "    <tr>\n",
       "      <th>4</th>\n",
       "      <td>NaN</td>\n",
       "      <td>5</td>\n",
       "      <td>SER</td>\n",
       "      <td>inf</td>\n",
       "    </tr>\n",
       "    <tr>\n",
       "      <th>...</th>\n",
       "      <td>...</td>\n",
       "      <td>...</td>\n",
       "      <td>...</td>\n",
       "      <td>...</td>\n",
       "    </tr>\n",
       "    <tr>\n",
       "      <th>109</th>\n",
       "      <td>NaN</td>\n",
       "      <td>110</td>\n",
       "      <td>PHE</td>\n",
       "      <td>inf</td>\n",
       "    </tr>\n",
       "    <tr>\n",
       "      <th>110</th>\n",
       "      <td>NaN</td>\n",
       "      <td>111</td>\n",
       "      <td>GLY</td>\n",
       "      <td>inf</td>\n",
       "    </tr>\n",
       "    <tr>\n",
       "      <th>111</th>\n",
       "      <td>NaN</td>\n",
       "      <td>112</td>\n",
       "      <td>LEU</td>\n",
       "      <td>inf</td>\n",
       "    </tr>\n",
       "    <tr>\n",
       "      <th>112</th>\n",
       "      <td>NaN</td>\n",
       "      <td>113</td>\n",
       "      <td>PHE</td>\n",
       "      <td>inf</td>\n",
       "    </tr>\n",
       "    <tr>\n",
       "      <th>113</th>\n",
       "      <td>NaN</td>\n",
       "      <td>114</td>\n",
       "      <td>ASP</td>\n",
       "      <td>inf</td>\n",
       "    </tr>\n",
       "  </tbody>\n",
       "</table>\n",
       "<p>114 rows × 4 columns</p>\n",
       "</div>"
      ],
      "text/plain": [
       "     chains  resnos resids  fluc\n",
       "0       NaN       1    MET   inf\n",
       "1       NaN       2    ALA   inf\n",
       "2       NaN       3    SER   inf\n",
       "3       NaN       4    VAL   inf\n",
       "4       NaN       5    SER   inf\n",
       "..      ...     ...    ...   ...\n",
       "109     NaN     110    PHE   inf\n",
       "110     NaN     111    GLY   inf\n",
       "111     NaN     112    LEU   inf\n",
       "112     NaN     113    PHE   inf\n",
       "113     NaN     114    ASP   inf\n",
       "\n",
       "[114 rows x 4 columns]"
      ]
     },
     "execution_count": 67,
     "metadata": {},
     "output_type": "execute_result"
    }
   ],
   "source": [
    "sasa_dfs['P05386']"
   ]
  },
  {
   "cell_type": "code",
   "execution_count": 68,
   "metadata": {},
   "outputs": [],
   "source": [
    "import numpy as np\n",
    "import math\n",
    "def linear_model_data(df, sasa_dfs):\n",
    "    linear = []\n",
    "    for acc, pos in zip(df[\"accession\"], df[\"met_position\"]):\n",
    "        #print(acc)\n",
    "        sasa_dfs[acc] = sasa_dfs[acc].replace(np.inf, 100000000)\n",
    "        feats = sasa_dfs[acc].query(\"resnos == @pos\")[[\"fluc\"]]\n",
    "        #sasa_dfs[acc]['fluc'] = sasa_dfs[acc]['fluc'].apply(lambda x: x if not math.isinf(x) else 1000000 )\n",
    "        \n",
    "        #sasa_dfs[acc] = sasa_dfs[acc].replace(to_replace=r'inf', value='10000000', regex=True)\n",
    "        #sasa_dfs[acc]['fluc'] = sasa_dfs[acc]['fluc'].apply(lambda x: x if type(x) != float64 else 1000000 )\n",
    "        #sasa_dfs[acc] = sasa_dfs[acc].replace({'fluc': 'inf'}, {'fluc': '1000000000'}, regex=True)\n",
    "        #sasa_dfs[acc]['fluc'] = np.where('fluc' > 1000000000, 10000000, 'fluc') \n",
    "        linear.append(feats)\n",
    "\n",
    "    return pd.concat(linear)\n",
    "\n",
    "train_linear = linear_model_data(train_df, sasa_dfs)\n",
    "test_linear = linear_model_data(test_df, sasa_dfs)"
   ]
  },
  {
   "cell_type": "code",
   "execution_count": 69,
   "metadata": {},
   "outputs": [
    {
     "data": {
      "text/html": [
       "<div>\n",
       "<style scoped>\n",
       "    .dataframe tbody tr th:only-of-type {\n",
       "        vertical-align: middle;\n",
       "    }\n",
       "\n",
       "    .dataframe tbody tr th {\n",
       "        vertical-align: top;\n",
       "    }\n",
       "\n",
       "    .dataframe thead th {\n",
       "        text-align: right;\n",
       "    }\n",
       "</style>\n",
       "<table border=\"1\" class=\"dataframe\">\n",
       "  <thead>\n",
       "    <tr style=\"text-align: right;\">\n",
       "      <th></th>\n",
       "      <th>fluc</th>\n",
       "    </tr>\n",
       "  </thead>\n",
       "  <tbody>\n",
       "    <tr>\n",
       "      <th>391</th>\n",
       "      <td>0.498642</td>\n",
       "    </tr>\n",
       "    <tr>\n",
       "      <th>89</th>\n",
       "      <td>0.592851</td>\n",
       "    </tr>\n",
       "    <tr>\n",
       "      <th>68</th>\n",
       "      <td>0.646654</td>\n",
       "    </tr>\n",
       "    <tr>\n",
       "      <th>202</th>\n",
       "      <td>0.785049</td>\n",
       "    </tr>\n",
       "    <tr>\n",
       "      <th>74</th>\n",
       "      <td>7.825681</td>\n",
       "    </tr>\n",
       "    <tr>\n",
       "      <th>...</th>\n",
       "      <td>...</td>\n",
       "    </tr>\n",
       "    <tr>\n",
       "      <th>124</th>\n",
       "      <td>0.610817</td>\n",
       "    </tr>\n",
       "    <tr>\n",
       "      <th>115</th>\n",
       "      <td>0.301053</td>\n",
       "    </tr>\n",
       "    <tr>\n",
       "      <th>154</th>\n",
       "      <td>0.526359</td>\n",
       "    </tr>\n",
       "    <tr>\n",
       "      <th>21</th>\n",
       "      <td>8.188917</td>\n",
       "    </tr>\n",
       "    <tr>\n",
       "      <th>283</th>\n",
       "      <td>1.243034</td>\n",
       "    </tr>\n",
       "  </tbody>\n",
       "</table>\n",
       "<p>111 rows × 1 columns</p>\n",
       "</div>"
      ],
      "text/plain": [
       "         fluc\n",
       "391  0.498642\n",
       "89   0.592851\n",
       "68   0.646654\n",
       "202  0.785049\n",
       "74   7.825681\n",
       "..        ...\n",
       "124  0.610817\n",
       "115  0.301053\n",
       "154  0.526359\n",
       "21   8.188917\n",
       "283  1.243034\n",
       "\n",
       "[111 rows x 1 columns]"
      ]
     },
     "execution_count": 69,
     "metadata": {},
     "output_type": "execute_result"
    }
   ],
   "source": [
    "test_linear"
   ]
  },
  {
   "cell_type": "code",
   "execution_count": 71,
   "metadata": {},
   "outputs": [],
   "source": [
    "#sasa_dfs['P05386'].replace([np.inf, -np.inf], 100000000)"
   ]
  },
  {
   "cell_type": "code",
   "execution_count": 72,
   "metadata": {},
   "outputs": [],
   "source": [
    "train_target = train_df['ox_fwd_logit'].values\n",
    "test_target = test_df['ox_fwd_logit'].values"
   ]
  },
  {
   "cell_type": "code",
   "execution_count": 73,
   "metadata": {},
   "outputs": [
    {
     "data": {
      "text/plain": [
       "369"
      ]
     },
     "execution_count": 73,
     "metadata": {},
     "output_type": "execute_result"
    }
   ],
   "source": [
    "len(filtered)"
   ]
  },
  {
   "cell_type": "code",
   "execution_count": 74,
   "metadata": {},
   "outputs": [],
   "source": [
    "num_training_steps = 5000\n",
    "\n",
    "models = {\n",
    "    \"mpnn\": MPNN(\n",
    "        node_feature_shape=(20, 65),\n",
    "        num_adjacency=1,\n",
    "        num_training_steps=num_training_steps\n",
    "    ),\n",
    "    \"deep_mpnn\": DeepMPNN(\n",
    "        node_feature_shape=(20, 65),\n",
    "        num_adjacency=1,\n",
    "        num_training_steps=num_training_steps\n",
    "    ),\n",
    "    \"rf_oh\": RandomForestRegressor(n_estimators=300),\n",
    "    \"rf_unirep\": RandomForestRegressor(n_estimators=300),\n",
    "}"
   ]
  },
  {
   "cell_type": "code",
   "execution_count": 75,
   "metadata": {},
   "outputs": [],
   "source": [
    "from sklearn.linear_model import LinearRegression"
   ]
  },
  {
   "cell_type": "code",
   "execution_count": 76,
   "metadata": {},
   "outputs": [
    {
     "data": {
      "text/plain": [
       "LinearRegression()"
      ]
     },
     "execution_count": 76,
     "metadata": {},
     "output_type": "execute_result"
    }
   ],
   "source": [
    "model_linear = LinearRegression()\n",
    "model_linear.fit(train_linear, train_target)"
   ]
  },
  {
   "cell_type": "code",
   "execution_count": null,
   "metadata": {},
   "outputs": [
    {
     "data": {
      "application/vnd.jupyter.widget-view+json": {
       "model_id": "04669c8745b54aebaf6cdf3dc9e1d167",
       "version_major": 2,
       "version_minor": 0
      },
      "text/plain": [
       "  0%|          | 0/5000 [00:00<?, ?it/s]"
      ]
     },
     "metadata": {},
     "output_type": "display_data"
    }
   ],
   "source": [
    "model_mpnn = MPNN(\n",
    "    node_feature_shape=(20, 65),\n",
    "    num_adjacency=1,\n",
    "    num_training_steps=num_training_steps\n",
    ")\n",
    "model_mpnn.fit(train_graph, train_target)"
   ]
  },
  {
   "cell_type": "code",
   "execution_count": null,
   "metadata": {},
   "outputs": [],
   "source": [
    "model_deepmpnn = DeepMPNN(\n",
    "    node_feature_shape=(20, 65),\n",
    "    num_adjacency=1,\n",
    "    num_training_steps=num_training_steps\n",
    ")\n",
    "model_deepmpnn.fit(train_graph, train_target)"
   ]
  },
  {
   "cell_type": "code",
   "execution_count": null,
   "metadata": {},
   "outputs": [],
   "source": [
    "model_rfoh = RandomForestRegressor(oob_score=True, n_jobs=-1)\n",
    "model_rfoh.fit(train_oh, train_target)\n",
    "\n",
    "model_rf_unirep = RandomForestRegressor(oob_score=True, n_jobs=-1)\n",
    "model_rf_unirep.fit(train_unirep, train_target)"
   ]
  },
  {
   "cell_type": "code",
   "execution_count": null,
   "metadata": {},
   "outputs": [],
   "source": [
    "def plot_y_eq_x(ax):\n",
    "    xmin, xmax = ax.get_xlim()\n",
    "    ymin, ymax = ax.get_ylim()\n",
    "\n",
    "    minval = min(xmin, ymin)\n",
    "    maxval = max(xmax, ymax)\n",
    "\n",
    "    ax.plot([minval, maxval], [minval, maxval])\n",
    "\n",
    "def plot_performance(\n",
    "    model,\n",
    "    trainX, trainY, testX, testY,\n",
    "    model_name: str,\n",
    "    ev_func,\n",
    "    checkpoint: int = None,\n",
    "):\n",
    "    fig, ax = plt.subplots(\n",
    "        figsize=(10, 5), nrows=1, ncols=2, sharex=True, sharey=True,\n",
    "    )\n",
    "\n",
    "    if isinstance(model, MPNN):\n",
    "        train_preds = model.predict(trainX, checkpoint=checkpoint)\n",
    "    else:\n",
    "        train_preds = model.predict(trainX)\n",
    "    ax[0].scatter(trainY, train_preds.squeeze())\n",
    "    ax[0].set_title(f\"Model: {model_name}, Training Perf: {ev_func(trainY, train_preds.squeeze()):.3f}\")\n",
    "    plot_y_eq_x(ax[0])\n",
    "\n",
    "    if isinstance(model, MPNN):\n",
    "        test_preds = model.predict(testX, checkpoint=checkpoint)\n",
    "    else:\n",
    "        test_preds = model.predict(testX)\n",
    "    ax[1].scatter(testY, test_preds.squeeze())\n",
    "    ax[1].set_title(f\"Model: {model_name}, Testing Perf: {ev_func(testY, test_preds.squeeze()):.3f}\")\n",
    "    plot_y_eq_x(ax[1])"
   ]
  },
  {
   "cell_type": "markdown",
   "metadata": {},
   "source": [
    "## Baseline Model Performance"
   ]
  },
  {
   "cell_type": "code",
   "execution_count": null,
   "metadata": {},
   "outputs": [],
   "source": [
    "plot_performance(model_linear, train_linear, train_target, test_linear, test_target, 'Linear, evs', evs)\n"
   ]
  },
  {
   "cell_type": "code",
   "execution_count": null,
   "metadata": {
    "tags": []
   },
   "outputs": [],
   "source": [
    "plot_performance(model_rfoh, train_oh, train_target, test_oh, test_target, 'One Hot rf, evs', evs)\n",
    "plot_performance(model_rf_unirep, train_unirep, train_target, test_unirep, test_target, 'Unirep rf, evs', evs)"
   ]
  },
  {
   "cell_type": "markdown",
   "metadata": {},
   "source": [
    "## Which checkpoint for NN models?"
   ]
  },
  {
   "cell_type": "code",
   "execution_count": null,
   "metadata": {},
   "outputs": [],
   "source": [
    "plt.plot(model_mpnn.loss_history)\n",
    "plt.yscale(\"log\")"
   ]
  },
  {
   "cell_type": "code",
   "execution_count": null,
   "metadata": {},
   "outputs": [],
   "source": [
    "plt.plot(model_deepmpnn.loss_history)\n",
    "plt.yscale(\"log\")"
   ]
  },
  {
   "cell_type": "markdown",
   "metadata": {},
   "source": [
    "## Checkpoint at 400 steps"
   ]
  },
  {
   "cell_type": "code",
   "execution_count": null,
   "metadata": {
    "tags": []
   },
   "outputs": [],
   "source": [
    "checkpoint = 400\n",
    "plot_performance(model_mpnn, train_graph, train_target, test_graph, test_target, f'MPNN, evs, {checkpoint}', evs, checkpoint=checkpoint)\n",
    "plot_performance(model_deepmpnn, train_graph, train_target, test_graph, test_target, f'Deep MPNN, evs, {checkpoint}', evs, checkpoint=checkpoint)\n"
   ]
  },
  {
   "cell_type": "markdown",
   "metadata": {},
   "source": [
    "## Checkpoint at 600 steps"
   ]
  },
  {
   "cell_type": "code",
   "execution_count": null,
   "metadata": {
    "tags": []
   },
   "outputs": [],
   "source": [
    "checkpoint = 600\n",
    "plot_performance(model_mpnn, train_graph, train_target, test_graph, test_target, f'MPNN, evs, {checkpoint}', evs, checkpoint=checkpoint)\n",
    "plot_performance(model_deepmpnn, train_graph, train_target, test_graph, test_target, f'Deep MPNN, evs, {checkpoint}', evs, checkpoint=checkpoint)\n"
   ]
  },
  {
   "cell_type": "code",
   "execution_count": null,
   "metadata": {
    "tags": []
   },
   "outputs": [],
   "source": [
    "checkpoint = 1000\n",
    "plot_performance(model_mpnn, train_graph, train_target, test_graph, test_target, f'MPNN, evs, {checkpoint}', evs, checkpoint=checkpoint)\n",
    "plot_performance(model_deepmpnn, train_graph, train_target, test_graph, test_target, f'Deep MPNN, evs, {checkpoint}', evs, checkpoint=checkpoint)\n"
   ]
  },
  {
   "cell_type": "markdown",
   "metadata": {},
   "source": [
    "## Checkpoint at Final steps"
   ]
  },
  {
   "cell_type": "code",
   "execution_count": null,
   "metadata": {},
   "outputs": [],
   "source": [
    "plot_performance(model_mpnn, train_graph, train_target, test_graph, test_target, 'MPNN, evs', evs, checkpoint=-1)\n",
    "plot_performance(model_deepmpnn, train_graph, train_target, test_graph, test_target, 'Deep MPNN, evs', evs, checkpoint=-1)"
   ]
  },
  {
   "cell_type": "code",
   "execution_count": null,
   "metadata": {},
   "outputs": [],
   "source": []
  }
 ],
 "metadata": {
  "kernelspec": {
   "display_name": "patch-gnn",
   "language": "python",
   "name": "patch-gnn"
  },
  "language_info": {
   "codemirror_mode": {
    "name": "ipython",
    "version": 3
   },
   "file_extension": ".py",
   "mimetype": "text/x-python",
   "name": "python",
   "nbconvert_exporter": "python",
   "pygments_lexer": "ipython3",
   "version": "3.8.8"
  }
 },
 "nbformat": 4,
 "nbformat_minor": 4
}
