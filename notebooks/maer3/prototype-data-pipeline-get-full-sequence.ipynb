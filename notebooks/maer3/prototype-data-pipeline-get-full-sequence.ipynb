{
 "cells": [
  {
   "cell_type": "code",
   "execution_count": null,
   "metadata": {},
   "outputs": [],
   "source": [
    "%load_ext autoreload\n",
    "%autoreload 2\n",
    "%matplotlib inline\n",
    "%config InlineBackend.figure_format = 'retina'"
   ]
  },
  {
   "cell_type": "code",
   "execution_count": null,
   "metadata": {},
   "outputs": [],
   "source": [
    "from patch_gnn.data import load_ghesquire\n",
    "import janitor"
   ]
  },
  {
   "cell_type": "code",
   "execution_count": null,
   "metadata": {},
   "outputs": [],
   "source": [
    "data = load_ghesquire()"
   ]
  },
  {
   "cell_type": "code",
   "execution_count": null,
   "metadata": {},
   "outputs": [],
   "source": [
    "from functools import singledispatch\n",
    "\n",
    "@singledispatch\n",
    "def split_delimiter(x, delimiter=';'):\n",
    "    raise NotImplementedError(\"Unsupported type!\")\n",
    "\n",
    "@split_delimiter.register(float)\n",
    "def _split_delimiter(x, delimiter=\";\"):\n",
    "    return x\n",
    "\n",
    "@split_delimiter.register(str)\n",
    "def _split_delimiter(x, delimiter=\";\"):\n",
    "    return x.split(delimiter)\n"
   ]
  },
  {
   "cell_type": "code",
   "execution_count": null,
   "metadata": {},
   "outputs": [],
   "source": [
    "from functools import partial\n",
    "processed_data = (\n",
    "    data\n",
    "    .dropna(subset=[\"accession\"])\n",
    "    .transform_column(\"isoforms\", split_delimiter)\n",
    "    .explode(\"isoforms\")\n",
    "    .transform_column(\"isoforms\", partial(split_delimiter, delimiter=\" (\"))\n",
    "    .transform_column(\"isoforms\", lambda x: x[0] if isinstance(x, list) else x)\n",
    "    .transform_column(\"isoforms\", lambda x: x.strip(\" \") if isinstance(x, str) else x)\n",
    ")"
   ]
  },
  {
   "cell_type": "markdown",
   "metadata": {},
   "source": [
    "## download sequences from HitHub\n",
    "\n",
    "We have an internal mirror of UniProt, hosted on HitHub. (Once again, CBTDS does all the right things!) We can query HH for UniProt sequences that way.\n"
   ]
  },
  {
   "cell_type": "code",
   "execution_count": null,
   "metadata": {},
   "outputs": [],
   "source": [
    "from psycopg2 import connect\n",
    "from dotenv import load_dotenv\n",
    "\n",
    "load_dotenv()\n",
    "import os\n",
    "\n",
    "con = connect(dsn=os.getenv(\"HH_CONNECTION_STRING\"))"
   ]
  },
  {
   "cell_type": "code",
   "execution_count": null,
   "metadata": {},
   "outputs": [],
   "source": [
    "wanted_accessions = processed_data[\"accession\"].dropna().tolist()\n",
    "wanted_accessions.extend(processed_data[\"isoforms\"].dropna().tolist())"
   ]
  },
  {
   "cell_type": "code",
   "execution_count": null,
   "metadata": {},
   "outputs": [],
   "source": [
    "import pandas as pd\n",
    "\n",
    "accession_data = pd.read_sql(f\"select * from uniprot.ref_proteome where uniprot_accn in {tuple(wanted_accessions)}\", con=con)"
   ]
  },
  {
   "cell_type": "code",
   "execution_count": null,
   "metadata": {},
   "outputs": [],
   "source": [
    "import pandas_flavor as pf\n",
    "from Bio.SeqRecord import SeqRecord\n",
    "from Bio.Seq import Seq\n",
    "from Bio import SeqIO\n",
    "\n",
    "@pf.register_dataframe_method\n",
    "def to_fasta(df, identifier_column_name, sequence_column_name, filename):\n",
    "    seq_records = []\n",
    "    for r, d in df.iterrows():\n",
    "        seq = Seq(d[sequence_column_name])\n",
    "        seq_record = SeqRecord(seq, id=d[identifier_column_name], description=\"\", name=\"\")\n",
    "        seq_records.append(seq_record)\n",
    "    SeqIO.write(seq_records, filename, format=\"fasta\")\n"
   ]
  },
  {
   "cell_type": "code",
   "execution_count": null,
   "metadata": {},
   "outputs": [],
   "source": [
    "from pyprojroot import here\n",
    "accession_data.to_fasta(identifier_column_name=\"uniprot_accn\", sequence_column_name=\"seq\", filename=here() / \"data/ghesquire_2011/protein_sequences.fasta\")"
   ]
  },
  {
   "cell_type": "code",
   "execution_count": null,
   "metadata": {},
   "outputs": [],
   "source": []
  }
 ],
 "metadata": {
  "kernelspec": {
   "display_name": "patch-gnn",
   "language": "python",
   "name": "patch-gnn"
  },
  "language_info": {
   "codemirror_mode": {
    "name": "ipython",
    "version": 3
   },
   "file_extension": ".py",
   "mimetype": "text/x-python",
   "name": "python",
   "nbconvert_exporter": "python",
   "pygments_lexer": "ipython3",
   "version": "3.8.6"
  }
 },
 "nbformat": 4,
 "nbformat_minor": 4
}
