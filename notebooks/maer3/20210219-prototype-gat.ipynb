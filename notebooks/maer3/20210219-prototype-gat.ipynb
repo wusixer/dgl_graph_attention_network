{
 "cells": [
  {
   "cell_type": "code",
   "execution_count": null,
   "metadata": {},
   "outputs": [],
   "source": [
    "%load_ext autoreload\n",
    "%autoreload 2\n",
    "%matplotlib inline\n",
    "%config InlineBackend.figure_format = 'retina'"
   ]
  },
  {
   "cell_type": "code",
   "execution_count": null,
   "metadata": {},
   "outputs": [],
   "source": [
    "import pickle as pkl"
   ]
  },
  {
   "cell_type": "code",
   "execution_count": null,
   "metadata": {},
   "outputs": [],
   "source": [
    "from pyprojroot import here\n",
    "\n",
    "graph_pickle_path = here() / \"data/ghesquire_2011/graphs.pkl\"\n",
    "\n",
    "\n",
    "with open(graph_pickle_path, \"rb\") as f:\n",
    "    graphs = pkl.load(f)"
   ]
  },
  {
   "cell_type": "code",
   "execution_count": null,
   "metadata": {},
   "outputs": [],
   "source": [
    "import networkx as nx\n",
    "\n",
    "nx.draw(graphs[\"P15374-FLEESVSMSPEER\"], with_labels=True)"
   ]
  },
  {
   "cell_type": "code",
   "execution_count": null,
   "metadata": {},
   "outputs": [],
   "source": [
    "from patch_gnn.data import load_ghesquire\n",
    "\n",
    "data = load_ghesquire()"
   ]
  },
  {
   "cell_type": "code",
   "execution_count": null,
   "metadata": {},
   "outputs": [],
   "source": [
    "data[\"accession\"] = data[\"accession\"].fillna(method=\"ffill\")"
   ]
  },
  {
   "cell_type": "code",
   "execution_count": null,
   "metadata": {},
   "outputs": [],
   "source": [
    "filtered = (\n",
    "    data\n",
    "    .concatenate_columns([\"accession\", \"sequence\"], \"accession-sequence\")\n",
    "    .query(\"`accession-sequence` in @graphs.keys()\").drop_duplicates(subset=[\"accession\", \"end\"])\n",
    "    .query(\"ox_fwd_logit < 0.0\")\n",
    ")"
   ]
  },
  {
   "cell_type": "code",
   "execution_count": null,
   "metadata": {},
   "outputs": [],
   "source": [
    "filtered"
   ]
  },
  {
   "cell_type": "code",
   "execution_count": null,
   "metadata": {},
   "outputs": [],
   "source": [
    "import jax.numpy as np\n",
    "import matplotlib.pyplot as plt\n",
    "\n",
    "\n",
    "def ecdf_scatter(data):\n",
    "    x, y = np.sort(data), np.arange(1, len(data)+1) / len(data)\n",
    "    plt.scatter(x, y)\n",
    "    plt.show()\n",
    "\n",
    "ecdf_scatter(filtered[\"ox_fwd_logit\"].values)"
   ]
  },
  {
   "cell_type": "code",
   "execution_count": null,
   "metadata": {
    "tags": []
   },
   "outputs": [],
   "source": [
    "graphs"
   ]
  },
  {
   "cell_type": "code",
   "execution_count": null,
   "metadata": {
    "tags": []
   },
   "outputs": [],
   "source": [
    "filtered"
   ]
  },
  {
   "cell_type": "code",
   "execution_count": null,
   "metadata": {},
   "outputs": [],
   "source": [
    "from patch_gnn.graph import graph_tensors\n",
    "\n",
    "F, A = graph_tensors(filtered, graphs)\n",
    "F.shape, A.shape"
   ]
  },
  {
   "cell_type": "code",
   "execution_count": null,
   "metadata": {
    "tags": []
   },
   "outputs": [],
   "source": [
    "import pandas as pd\n",
    "\n",
    "aa_props = pd.read_csv(here() / \"data/amino_acid_properties.csv\", index_col=0)\n",
    "aa_props"
   ]
  },
  {
   "cell_type": "code",
   "execution_count": null,
   "metadata": {},
   "outputs": [],
   "source": [
    "from patch_gnn.graph import generate_feature_dataframe\n",
    "\n",
    "def featurize_aa_props(n, d, aa_props):\n",
    "    return pd.Series(aa_props[d[\"residue_name\"]], name=n)\n",
    "\n",
    "\n",
    "funcs = [\n",
    "    lambda n, d: featurize_aa_props(n, d, aa_props)\n",
    "]\n",
    "\n",
    "generate_feature_dataframe(graphs[\"P15374-FLEESVSMSPEER\"], funcs=funcs)\n"
   ]
  },
  {
   "cell_type": "code",
   "execution_count": null,
   "metadata": {},
   "outputs": [],
   "source": [
    "max(len(g) for _, g in graphs.items())"
   ]
  },
  {
   "cell_type": "code",
   "execution_count": null,
   "metadata": {},
   "outputs": [],
   "source": [
    "import jax.numpy as np\n",
    "\n",
    "from tqdm.auto import tqdm\n",
    "from patch_gnn.graph import prep_features\n",
    "feats = dict()\n",
    "for acc, g in tqdm(graphs.items()):\n",
    "    feat = np.array(generate_feature_dataframe(g, funcs).values)\n",
    "    feat = prep_features(feat, 20)\n",
    "    feats[acc] = feat\n"
   ]
  },
  {
   "cell_type": "code",
   "execution_count": null,
   "metadata": {},
   "outputs": [],
   "source": [
    "from patch_gnn.graph import prep_adjacency_matrix"
   ]
  },
  {
   "cell_type": "code",
   "execution_count": null,
   "metadata": {},
   "outputs": [],
   "source": [
    "import networkx as nx\n",
    "\n",
    "adjs = dict()\n",
    "for acc, g in tqdm(graphs.items()):\n",
    "    a = np.expand_dims(np.array(nx.adjacency_matrix(g).todense()), 2)\n",
    "    a = prep_adjacency_matrix(a, 20)\n",
    "    adjs[acc] = a"
   ]
  },
  {
   "cell_type": "code",
   "execution_count": null,
   "metadata": {},
   "outputs": [],
   "source": [
    "np.stack(list(adjs.values())).shape"
   ]
  },
  {
   "cell_type": "code",
   "execution_count": null,
   "metadata": {},
   "outputs": [],
   "source": [
    "np.stack(list(feats.values())).shape"
   ]
  },
  {
   "cell_type": "code",
   "execution_count": null,
   "metadata": {},
   "outputs": [],
   "source": [
    "from sklearn.model_selection import train_test_split"
   ]
  },
  {
   "cell_type": "code",
   "execution_count": null,
   "metadata": {},
   "outputs": [],
   "source": [
    "train_acc, test_acc = train_test_split(filtered[\"accession-sequence\"], train_size=0.7, random_state=49049)"
   ]
  },
  {
   "cell_type": "code",
   "execution_count": null,
   "metadata": {},
   "outputs": [],
   "source": [
    "train_feats = dict()\n",
    "train_adjs = dict()\n",
    "for acc in tqdm(train_acc):\n",
    "    train_feats[acc] = feats[acc]\n",
    "    train_adjs[acc] = adjs[acc]"
   ]
  },
  {
   "cell_type": "code",
   "execution_count": null,
   "metadata": {},
   "outputs": [],
   "source": [
    "test_feats = dict()\n",
    "test_adjs = dict()\n",
    "for acc in tqdm(test_acc):\n",
    "    test_feats[acc] = feats[acc]\n",
    "    test_adjs[acc] = adjs[acc]"
   ]
  },
  {
   "cell_type": "markdown",
   "metadata": {},
   "source": [
    "## Code up models"
   ]
  },
  {
   "cell_type": "code",
   "execution_count": null,
   "metadata": {},
   "outputs": [],
   "source": [
    "from patch_gnn.layers import MessagePassing, GraphAverage, GraphSummation, CustomGraphEmbedding\n",
    "from jax.experimental import stax\n",
    "\n",
    "embedding_init_fun, embedding_apply_fun = CustomGraphEmbedding(256)"
   ]
  },
  {
   "cell_type": "code",
   "execution_count": null,
   "metadata": {},
   "outputs": [],
   "source": [
    "from patch_gnn.layers import LinearRegression\n",
    "\n",
    "model_init_fun, model_apply_fun = stax.serial(\n",
    "    CustomGraphEmbedding(1024),\n",
    "    LinearRegression(1),\n",
    ")\n",
    "\n",
    "model2_init_fun, model2_apply_fun = stax.serial(\n",
    "    CustomGraphEmbedding(1024),\n",
    "    # One hidden layer\n",
    "    stax.Dense(512),\n",
    "    stax.Relu,\n",
    "    stax.Dense(1),\n",
    ")"
   ]
  },
  {
   "cell_type": "code",
   "execution_count": null,
   "metadata": {},
   "outputs": [],
   "source": [
    "train_Fs = np.stack(list(train_feats.values()))\n",
    "train_As = np.stack(list(train_adjs.values()))"
   ]
  },
  {
   "cell_type": "code",
   "execution_count": null,
   "metadata": {},
   "outputs": [],
   "source": [
    "test_Fs = np.stack(list(test_feats.values()))\n",
    "test_As = np.stack(list(test_adjs.values()))"
   ]
  },
  {
   "cell_type": "code",
   "execution_count": null,
   "metadata": {},
   "outputs": [],
   "source": [
    "train_Fs.shape  # (num_graphs, num_nodes, num_feats)"
   ]
  },
  {
   "cell_type": "code",
   "execution_count": null,
   "metadata": {},
   "outputs": [],
   "source": [
    "from jax.random import PRNGKey"
   ]
  },
  {
   "cell_type": "code",
   "execution_count": null,
   "metadata": {},
   "outputs": [],
   "source": [
    "from jax import vmap\n",
    "from functools import partial\n",
    "\n",
    "train_inputs = (train_As, train_Fs)\n",
    "test_inputs = (test_As, test_Fs)"
   ]
  },
  {
   "cell_type": "code",
   "execution_count": null,
   "metadata": {},
   "outputs": [],
   "source": [
    "train_output = data.loc[train_acc.index]['ox_fwd_logit'].values.reshape(-1, 1)\n",
    "test_output = data.loc[test_acc.index]['ox_fwd_logit'].values.reshape(-1, 1)\n"
   ]
  },
  {
   "cell_type": "code",
   "execution_count": null,
   "metadata": {},
   "outputs": [],
   "source": [
    "train_output.shape, test_output.shape"
   ]
  },
  {
   "cell_type": "code",
   "execution_count": null,
   "metadata": {},
   "outputs": [],
   "source": [
    "(*train_Fs[0].shape, train_As[0].shape[-1])"
   ]
  },
  {
   "cell_type": "code",
   "execution_count": null,
   "metadata": {},
   "outputs": [],
   "source": [
    "(*train_Fs[0].shape, train_As[0].shape[-1])"
   ]
  },
  {
   "cell_type": "code",
   "execution_count": null,
   "metadata": {},
   "outputs": [],
   "source": [
    "from patch_gnn.training import mseloss\n",
    "from jax import grad\n",
    "output_shape, params = model_init_fun(PRNGKey(42), input_shape=(*train_Fs[0].shape, train_As[0].shape[-1]))\n",
    "\n",
    "\n",
    "dloss = grad(mseloss)\n",
    "train_loss = mseloss(params, model_apply_fun, train_inputs, train_output)\n",
    "\n",
    "test_loss = mseloss(params, model_apply_fun, test_inputs, test_output)"
   ]
  },
  {
   "cell_type": "code",
   "execution_count": null,
   "metadata": {},
   "outputs": [],
   "source": [
    "train_loss, test_loss"
   ]
  },
  {
   "cell_type": "markdown",
   "metadata": {},
   "source": [
    "## Training loop"
   ]
  },
  {
   "cell_type": "code",
   "execution_count": null,
   "metadata": {},
   "outputs": [],
   "source": [
    "from jax.experimental.optimizers import adam, sgd\n",
    "from patch_gnn.training import mseloss\n",
    "from jax import grad\n",
    "\n",
    "dmseloss = grad(mseloss)"
   ]
  },
  {
   "cell_type": "code",
   "execution_count": null,
   "metadata": {},
   "outputs": [],
   "source": [
    "import jax\n",
    "from typing import Tuple\n",
    "from jax import jit\n",
    "from patch_gnn.training import step\n",
    "\n",
    "init, update, get_params = adam(step_size=1e-5)\n",
    "get_params = jit(get_params)\n",
    "\n",
    "training_step = partial(step, loss_fun=mseloss, apply_fun=model_apply_fun, update_fun=update, get_params=get_params, inputs=train_inputs, outputs=train_output)\n",
    "training_step = jit(training_step)"
   ]
  },
  {
   "cell_type": "code",
   "execution_count": null,
   "metadata": {},
   "outputs": [],
   "source": [
    "from tqdm.autonotebook import tqdm\n",
    "state = init(params)\n",
    "states = []\n",
    "losses = []\n",
    "for i in tqdm(range(100)):\n",
    "    state, loss = training_step(i, state)\n",
    "    states.append(state)\n",
    "    losses.append(loss)\n",
    "    "
   ]
  },
  {
   "cell_type": "code",
   "execution_count": null,
   "metadata": {},
   "outputs": [],
   "source": [
    "import matplotlib.pyplot as plt\n",
    "\n",
    "plt.plot(losses)"
   ]
  },
  {
   "cell_type": "code",
   "execution_count": null,
   "metadata": {},
   "outputs": [],
   "source": [
    "params_final = get_params(state)"
   ]
  },
  {
   "cell_type": "code",
   "execution_count": null,
   "metadata": {},
   "outputs": [],
   "source": [
    "from sklearn.metrics import explained_variance_score as evs"
   ]
  },
  {
   "cell_type": "code",
   "execution_count": null,
   "metadata": {},
   "outputs": [],
   "source": [
    "train_preds = vmap(partial(model_apply_fun, params_final))(train_inputs)\n",
    "\n",
    "\n",
    "import matplotlib.pyplot as plt\n",
    "\n",
    "\n",
    "plt.scatter(train_preds.squeeze(), train_output.squeeze())\n",
    "plt.plot([-4, 1], [-4, 1])\n",
    "plt.title(evs(train_output.squeeze(), train_preds.squeeze()))\n",
    "plt.xlabel(\"pred\")\n",
    "plt.ylabel(\"true\")"
   ]
  },
  {
   "cell_type": "code",
   "execution_count": null,
   "metadata": {},
   "outputs": [],
   "source": [
    "mseloss(params_final, model_apply_fun, train_inputs, train_output)"
   ]
  },
  {
   "cell_type": "code",
   "execution_count": null,
   "metadata": {},
   "outputs": [],
   "source": [
    "params_final = get_params(state)\n",
    "mseloss(params_final, model_apply_fun, test_inputs, test_output)"
   ]
  },
  {
   "cell_type": "code",
   "execution_count": null,
   "metadata": {},
   "outputs": [],
   "source": [
    "test_preds = vmap(partial(model_apply_fun, params_final))(test_inputs)\n",
    "plt.scatter(test_preds.squeeze(), test_output.squeeze())\n",
    "plt.plot([-4, 1], [-4, 1])\n",
    "plt.title(evs(test_output.squeeze(), test_preds.squeeze(), ))\n",
    "plt.xlabel(\"pred\")\n",
    "plt.ylabel(\"true\")"
   ]
  },
  {
   "cell_type": "markdown",
   "metadata": {},
   "source": [
    "## Try model2\n",
    "\n",
    "Has a hidden NN layer in between graph embedding and output."
   ]
  },
  {
   "cell_type": "code",
   "execution_count": null,
   "metadata": {},
   "outputs": [],
   "source": [
    "training2_step = partial(step, loss_fun=mseloss, apply_fun=model2_apply_fun, update_fun=update, get_params=get_params, inputs=train_inputs, outputs=train_output)\n",
    "training2_step = jit(training2_step)"
   ]
  },
  {
   "cell_type": "code",
   "execution_count": null,
   "metadata": {},
   "outputs": [],
   "source": [
    "from tqdm.autonotebook import tqdm\n",
    "\n",
    "output_shape, params = model2_init_fun(PRNGKey(42), input_shape=(*train_Fs[0].shape, train_As[0].shape[-1]))\n",
    "\n",
    "init, update, get_params = adam(step_size=1e-5)\n",
    "get_params = jit(get_params)\n",
    "state = init(params)\n",
    "\n",
    "states = []\n",
    "losses = []\n",
    "for i in tqdm(range(100)):\n",
    "    state, loss = training2_step(i, state)\n",
    "    losses.append(loss)\n",
    "    states.append(state)\n"
   ]
  },
  {
   "cell_type": "code",
   "execution_count": null,
   "metadata": {},
   "outputs": [],
   "source": [
    "plt.plot(losses)\n",
    "plt.yscale(\"log\")"
   ]
  },
  {
   "cell_type": "code",
   "execution_count": null,
   "metadata": {},
   "outputs": [],
   "source": [
    "params_final = get_params(state)\n",
    "train_preds = vmap(partial(model2_apply_fun, params_final))(train_inputs)\n",
    "\n",
    "plt.scatter(train_preds.squeeze(), train_output.squeeze())\n",
    "plt.plot([-4, 1], [-4, 1])\n",
    "plt.title(evs(train_output.squeeze(), train_preds.squeeze()))\n",
    "plt.xlabel(\"pred\")\n",
    "plt.ylabel(\"true\")"
   ]
  },
  {
   "cell_type": "code",
   "execution_count": null,
   "metadata": {},
   "outputs": [],
   "source": [
    "test_preds = vmap(partial(model2_apply_fun, params_final))(test_inputs)\n",
    "plt.scatter(test_preds.squeeze(), test_output.squeeze())\n",
    "plt.plot([-4, 1], [-4, 1])\n",
    "plt.title(evs(test_output.squeeze(), test_preds.squeeze()))\n",
    "plt.xlabel(\"pred\")\n",
    "plt.ylabel(\"true\")"
   ]
  },
  {
   "cell_type": "markdown",
   "metadata": {},
   "source": [
    "### Benchmarking code\n"
   ]
  },
  {
   "cell_type": "code",
   "execution_count": null,
   "metadata": {},
   "outputs": [],
   "source": [
    "def acc2oh(accession):\n",
    "    \"\"\"Given accession-sequence pair, return sequence.\"\"\"\n",
    "    pass\n",
    "\n",
    "def acc2unirep(accession):\n",
    "    \"\"\"Given accession-sequence pair, return UniRep.\"\"\"\n",
    "    pass\n",
    "\n",
    "def acc2graph(accession):\n",
    "    \"\"\"Given accession-sequence pair, return F and A matrices.\"\"\"\n",
    "    pass\n"
   ]
  },
  {
   "cell_type": "code",
   "execution_count": null,
   "metadata": {},
   "outputs": [],
   "source": []
  },
  {
   "cell_type": "code",
   "execution_count": null,
   "metadata": {},
   "outputs": [],
   "source": [
    "class OneHotRF:\n",
    "    def __init__(self):\n",
    "        pass \n",
    "    \n",
    "    def fit(self, X, y):\n",
    "        pass\n",
    "    \n",
    "    def predict(self, X):\n",
    "        pass \n",
    "\n",
    "\n",
    "class UniRepRF:\n",
    "    def __init__(self):\n",
    "        pass\n",
    "    def fit(self, X, y):\n",
    "        pass\n",
    "    def predict(self, X):\n",
    "        pass\n"
   ]
  },
  {
   "cell_type": "code",
   "execution_count": null,
   "metadata": {},
   "outputs": [],
   "source": [
    "from patch_gnn.seqops import encoder, padding, one_hot"
   ]
  },
  {
   "cell_type": "code",
   "execution_count": null,
   "metadata": {},
   "outputs": [],
   "source": [
    "one_hot(data, 50).shape"
   ]
  },
  {
   "cell_type": "code",
   "execution_count": null,
   "metadata": {},
   "outputs": [],
   "source": [
    "from jax import random\n",
    "\n",
    "key = random.PRNGKey(490)\n",
    "\n",
    "a = np.arange(30)\n",
    "random.permutation(key, a)"
   ]
  },
  {
   "cell_type": "code",
   "execution_count": null,
   "metadata": {},
   "outputs": [],
   "source": [
    "from patch_gnn.splitting import train_test_split"
   ]
  },
  {
   "cell_type": "code",
   "execution_count": null,
   "metadata": {},
   "outputs": [],
   "source": [
    "train_df, test_df = train_test_split(key, filtered)\n",
    "train_df\n"
   ]
  },
  {
   "cell_type": "code",
   "execution_count": null,
   "metadata": {},
   "outputs": [],
   "source": [
    "test_df.shape"
   ]
  },
  {
   "cell_type": "code",
   "execution_count": null,
   "metadata": {},
   "outputs": [],
   "source": [
    "from patch_gnn.unirep import unirep_reps\n",
    "\n",
    "unirep_reps(test_df)"
   ]
  },
  {
   "cell_type": "code",
   "execution_count": null,
   "metadata": {},
   "outputs": [],
   "source": [
    "one_hot(test_df, 50)"
   ]
  },
  {
   "cell_type": "code",
   "execution_count": null,
   "metadata": {},
   "outputs": [],
   "source": [
    "test_As.shape"
   ]
  },
  {
   "cell_type": "code",
   "execution_count": null,
   "metadata": {
    "tags": []
   },
   "outputs": [],
   "source": [
    "test_tensors = graph_tensors(test_df, graphs)\n",
    "test_tensors[0].shape, test_tensors[1].shape"
   ]
  },
  {
   "cell_type": "code",
   "execution_count": null,
   "metadata": {},
   "outputs": [],
   "source": [
    "train_tensors = graph_tensors(train_df, graphs)"
   ]
  },
  {
   "cell_type": "code",
   "execution_count": null,
   "metadata": {},
   "outputs": [],
   "source": [
    "test_target = test_df[\"ox_fwd_logit\"].values\n",
    "train_target = train_df[\"ox_fwd_logit\"].values"
   ]
  },
  {
   "cell_type": "code",
   "execution_count": null,
   "metadata": {},
   "outputs": [],
   "source": [
    "from sklearn.ensemble import RandomForestRegressor\n",
    "from functools import partial\n",
    "from patch_gnn.training import step, mseloss\n",
    "\n"
   ]
  },
  {
   "cell_type": "code",
   "execution_count": null,
   "metadata": {},
   "outputs": [],
   "source": [
    "model = MPNN(node_feature_shape=(20, 61), num_adjacency=1, num_training_steps=200)\n",
    "model.fit(train_tensors, train_target)\n",
    "\n",
    "fig, ax = plt.subplots(figsize=(12, 6), nrows=1, ncols=2)\n",
    "train_preds = model.predict(train_tensors)\n",
    "ax[0].scatter(train_preds.squeeze(), train_df[\"ox_fwd_logit\"].values)\n",
    "ax[0].set_title(evs(train_df[\"ox_fwd_logit\"].values, train_preds.squeeze()))\n",
    "\n",
    "test_preds = model.predict(test_tensors)\n",
    "ax[1].scatter(test_preds.squeeze(), test_df[\"ox_fwd_logit\"].values)\n",
    "ax[1].set_title(evs(test_df[\"ox_fwd_logit\"].values, test_preds.squeeze()))"
   ]
  },
  {
   "cell_type": "code",
   "execution_count": null,
   "metadata": {},
   "outputs": [],
   "source": [
    "model = DeepMPNN(node_feature_shape=(20, 61), num_adjacency=1, num_training_steps=200)\n",
    "model.fit(train_tensors, train_target)\n",
    "\n",
    "fig, ax = plt.subplots(figsize=(12, 6), nrows=1, ncols=2)\n",
    "train_preds = model.predict(train_tensors)\n",
    "ax[0].scatter(train_preds.squeeze(), train_df[\"ox_fwd_logit\"].values)\n",
    "ax[0].set_title(evs(train_df[\"ox_fwd_logit\"].values, train_preds.squeeze()))\n",
    "\n",
    "test_preds = model.predict(test_tensors)\n",
    "ax[1].scatter(test_preds.squeeze(), test_df[\"ox_fwd_logit\"].values)\n",
    "ax[1].set_title(evs(test_df[\"ox_fwd_logit\"].values, test_preds.squeeze()))"
   ]
  },
  {
   "cell_type": "code",
   "execution_count": null,
   "metadata": {},
   "outputs": [],
   "source": []
  }
 ],
 "metadata": {
  "kernelspec": {
   "display_name": "patch-gnn",
   "language": "python",
   "name": "patch-gnn"
  },
  "language_info": {
   "codemirror_mode": {
    "name": "ipython",
    "version": 3
   },
   "file_extension": ".py",
   "mimetype": "text/x-python",
   "name": "python",
   "nbconvert_exporter": "python",
   "pygments_lexer": "ipython3",
   "version": "3.8.6"
  }
 },
 "nbformat": 4,
 "nbformat_minor": 4
}
