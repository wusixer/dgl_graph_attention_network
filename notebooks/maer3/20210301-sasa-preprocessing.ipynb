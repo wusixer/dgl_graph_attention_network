{
 "cells": [
  {
   "cell_type": "code",
   "execution_count": 1,
   "metadata": {},
   "outputs": [],
   "source": [
    "%load_ext autoreload\n",
    "%autoreload 2\n",
    "%matplotlib inline\n",
    "%config InlineBackend.figure_format = 'retina'"
   ]
  },
  {
   "cell_type": "code",
   "execution_count": 2,
   "metadata": {},
   "outputs": [],
   "source": [
    "from easy_datastore import download_item"
   ]
  },
  {
   "cell_type": "code",
   "execution_count": 1,
   "metadata": {},
   "outputs": [
    {
     "data": {
      "text/plain": [
       "True"
      ]
     },
     "execution_count": 1,
     "metadata": {},
     "output_type": "execute_result"
    }
   ],
   "source": [
    "from dotenv import load_dotenv\n",
    "\n",
    "load_dotenv()"
   ]
  },
  {
   "cell_type": "code",
   "execution_count": 4,
   "metadata": {},
   "outputs": [
    {
     "name": "stderr",
     "output_type": "stream",
     "text": [
      "Successfully loaded refresh_token=[0.AR...dNSo] from secrets.\n",
      "/home/maer3/anaconda/envs/patch-gnn/lib/python3.8/site-packages/dc/managers/fs/fs_manager.py:108: RuntimeWarning: Local mounter was disabled due to an exception 'ERROR: Client SDK, 500, cannot mount anything without goofys executable'\n",
      "  warnings.warn(f\"Local mounter was disabled due to an exception '{str(ex)}'\", RuntimeWarning)\n",
      "/home/maer3/anaconda/envs/patch-gnn/lib/python3.8/site-packages/dc/managers/fs/fs_manager.py:115: RuntimeWarning: Cluster mounter was disabled due to an exception 'ERROR: Client SDK, 500, please install pyspark before use '__init__''\n",
      "  warnings.warn(f\"Cluster mounter was disabled due to an exception '{str(ex)}'\", RuntimeWarning)\n"
     ]
    },
    {
     "name": "stdout",
     "output_type": "stream",
     "text": [
      "/home/maer3/github/research/sda-patch-gnn/notebooks/maer3/a1a0d3a7-6723-47f0-86cc-5f42e69435b5  26251981 / 0.0  (0.00%)"
     ]
    }
   ],
   "source": [
    "from easy_datastore.functions import login\n",
    "from pathlib import Path\n",
    "\n",
    "dc = login()\n",
    "file_manager = dc.file_manager\n",
    "item = \"a1a0d3a7-6723-47f0-86cc-5f42e69435b5\"\n",
    "download_fpath = Path(item)\n",
    "with open(download_fpath, \"wb\") as fo:\n",
    "    res = file_manager._download_file(fo, item, stream=False)\n"
   ]
  },
  {
   "cell_type": "code",
   "execution_count": 5,
   "metadata": {},
   "outputs": [
    {
     "data": {
      "text/plain": [
       "'a1a0d3a7-6723-47f0-86cc-5f42e69435b5'"
      ]
     },
     "execution_count": 5,
     "metadata": {},
     "output_type": "execute_result"
    }
   ],
   "source": [
    "res.file_name"
   ]
  },
  {
   "cell_type": "code",
   "execution_count": 6,
   "metadata": {},
   "outputs": [],
   "source": [
    "import zipfile"
   ]
  },
  {
   "cell_type": "code",
   "execution_count": 7,
   "metadata": {},
   "outputs": [],
   "source": [
    "z = zipfile.ZipFile(file=item)\n",
    "z.extractall()"
   ]
  },
  {
   "cell_type": "markdown",
   "metadata": {},
   "source": [
    "## Custom parser to read SASA calculations"
   ]
  },
  {
   "cell_type": "code",
   "execution_count": null,
   "metadata": {
    "tags": []
   },
   "outputs": [],
   "source": []
  },
  {
   "cell_type": "code",
   "execution_count": 8,
   "metadata": {
    "tags": []
   },
   "outputs": [],
   "source": [
    "fname = \"pops_out/A6NEC2_pops.out\"\n",
    "with open(fname, \"r+\") as f:\n",
    "    sasa = f.readlines()"
   ]
  },
  {
   "cell_type": "code",
   "execution_count": null,
   "metadata": {
    "scrolled": true,
    "tags": []
   },
   "outputs": [],
   "source": [
    "from collections import defaultdict\n",
    "\n",
    "sasa_raw = defaultdict(list)\n",
    "sasa_type = \"\"\n",
    "for line in sasa:\n",
    "    if \"===\" in line:\n",
    "        sasa_type = line.split(\"===\")[1].strip(\" \")\n",
    "    sasa_raw[sasa_type].append(line)\n",
    "\n",
    "\n",
    "data = \"\".join(l.replace(\"\\t\\t\", \"\\t\") for l in sasa_raw[\"RESIDUE SASAs\"][1:])\n",
    "pd.read_csv(StringIO(data), sep=\"\\t\")"
   ]
  },
  {
   "cell_type": "code",
   "execution_count": 81,
   "metadata": {},
   "outputs": [],
   "source": [
    "from patch_gnn.solvent import pops2df"
   ]
  },
  {
   "cell_type": "code",
   "execution_count": 85,
   "metadata": {
    "tags": []
   },
   "outputs": [
    {
     "data": {
      "application/vnd.jupyter.widget-view+json": {
       "model_id": "d889ad2cb8fa475aae0230fcf4c92a69",
       "version_major": 2,
       "version_minor": 0
      },
      "text/plain": [
       "HBox(children=(FloatProgress(value=1.0, bar_style='info', layout=Layout(width='20px'), max=1.0), HTML(value=''…"
      ]
     },
     "metadata": {},
     "output_type": "display_data"
    },
    {
     "name": "stdout",
     "output_type": "stream",
     "text": [
      "\n"
     ]
    }
   ],
   "source": [
    "import os\n",
    "from pathlib import Path\n",
    "from tqdm.auto import tqdm\n",
    "from typing import List\n",
    "\n",
    "pops_dir = Path(\"pops_out\")\n",
    "pops_files = [f for f in os.listdir(pops_dir) if f.endswith(\".out\")]\n",
    "accessions = [f.split(\"_\")[0] for f in pops_files]\n",
    "\n",
    "sasa_dfs = dict()\n",
    "for file, accession in tqdm(zip(pops_files, accessions)):\n",
    "    sasa_dfs[accession] = pops2df(pops_dir / file, wanted_sasa=\"RESIDUE SASAs\")"
   ]
  },
  {
   "cell_type": "markdown",
   "metadata": {},
   "source": [
    "Taken from: https://github.com/Fraternalilab/POPSlegacy\n",
    "\n",
    "RESIDUE SASAs\n",
    "\n",
    "- ResidNe : residue name in molecular coordinate file\n",
    "- Chain : chain name in molecular coordinate file (can be void)\n",
    "- ResidNr : residue number in molecular coordinate file\n",
    "- Phob/A^2 : hydrophobic solvent accessible surace area in Angstrom^2 units\n",
    "- Phil/A^2 : hydrophilic solvent accessible surace area in Angstrom^2 units\n",
    "- Total/A^2 : total solvent accessible surace area in Angstrom^2 units\n",
    "- Q(SASA) : quotient of SASA and Surf (below), i.e. the fraction of SASA\n",
    "- N(overl) : number of overlaps with residue neighbours - calculated from solvent. Should be inversely proportional to exposure.\n",
    "- Surf/A^2 : surface area of isolated residue\n",
    "\n"
   ]
  },
  {
   "cell_type": "code",
   "execution_count": 16,
   "metadata": {},
   "outputs": [],
   "source": [
    "from pyprojroot import here\n",
    "import pickle as pkl\n",
    "\n",
    "with open(here() / \"data/ghesquire_2011/sasa.pkl\", \"wb\") as f:\n",
    "    pkl.dump(sasa_dfs, f)"
   ]
  },
  {
   "cell_type": "code",
   "execution_count": 17,
   "metadata": {},
   "outputs": [],
   "source": [
    "Path(item).unlink()"
   ]
  },
  {
   "cell_type": "markdown",
   "metadata": {},
   "source": [
    "## Simple linear model using SASA scores to predict oxidation"
   ]
  },
  {
   "cell_type": "code",
   "execution_count": 18,
   "metadata": {},
   "outputs": [],
   "source": [
    "import janitor"
   ]
  },
  {
   "cell_type": "code",
   "execution_count": 19,
   "metadata": {},
   "outputs": [
    {
     "name": "stdout",
     "output_type": "stream",
     "text": [
      "/tmp/8b87b9c3-00b6-4bec-b305-acd390f01afe  417511 / 0.0  (0.00%)"
     ]
    }
   ],
   "source": [
    "from patch_gnn.data import load_ghesquire\n",
    "from patch_gnn.graph import met_position\n",
    "import pickle as pkl\n",
    "\n",
    "graph_pickle_path = here() / \"data/ghesquire_2011/graphs.pkl\"\n",
    "\n",
    "with open(graph_pickle_path, \"rb\") as f:\n",
    "    graphs = pkl.load(f)\n",
    "\n",
    "data = load_ghesquire()\n",
    "filtered = (\n",
    "    data\n",
    "    .query(\"`accession-sequence` in @graphs.keys()\")\n",
    "    .query(\"ox_fwd_logit < 0.0\")\n",
    "    .join_apply(met_position, \"met_position\")\n",
    ")"
   ]
  },
  {
   "cell_type": "code",
   "execution_count": 20,
   "metadata": {},
   "outputs": [
    {
     "data": {
      "text/plain": [
       "Index(['ResidNe', 'Chain', 'ResidNr', 'iCode', 'Phob/A^2', 'Phil/A^2',\n",
       "       'SASA/A^2', 'Q(SASA)', 'N(overl)', 'Surf/A^2'],\n",
       "      dtype='object')"
      ]
     },
     "execution_count": 20,
     "metadata": {},
     "output_type": "execute_result"
    }
   ],
   "source": [
    "sasa_dfs[\"A6NEC2\"].query(\"ResidNr == 216\").columns"
   ]
  },
  {
   "cell_type": "code",
   "execution_count": 21,
   "metadata": {},
   "outputs": [],
   "source": [
    "sasa_feat_columns = ['ResidNe', 'Phob/A^2', 'Phil/A^2', 'SASA/A^2', 'Q(SASA)', 'N(overl)', 'Surf/A^2']"
   ]
  },
  {
   "cell_type": "code",
   "execution_count": 22,
   "metadata": {
    "scrolled": true,
    "tags": []
   },
   "outputs": [
    {
     "data": {
      "text/html": [
       "<div>\n",
       "<style scoped>\n",
       "    .dataframe tbody tr th:only-of-type {\n",
       "        vertical-align: middle;\n",
       "    }\n",
       "\n",
       "    .dataframe tbody tr th {\n",
       "        vertical-align: top;\n",
       "    }\n",
       "\n",
       "    .dataframe thead th {\n",
       "        text-align: right;\n",
       "    }\n",
       "</style>\n",
       "<table border=\"1\" class=\"dataframe\">\n",
       "  <thead>\n",
       "    <tr style=\"text-align: right;\">\n",
       "      <th></th>\n",
       "      <th>accession</th>\n",
       "      <th>Description</th>\n",
       "      <th>sequence</th>\n",
       "      <th>isoforms</th>\n",
       "      <th>end</th>\n",
       "      <th>score</th>\n",
       "      <th>threshold</th>\n",
       "      <th>m/z</th>\n",
       "      <th>z</th>\n",
       "      <th>ppm</th>\n",
       "      <th>%ox_fwd</th>\n",
       "      <th>val_fwd</th>\n",
       "      <th>%ox_rev</th>\n",
       "      <th>val_rev</th>\n",
       "      <th>ox_fwd_logit</th>\n",
       "      <th>ox_rev_logit</th>\n",
       "      <th>accession-sequence</th>\n",
       "      <th>met_position</th>\n",
       "    </tr>\n",
       "  </thead>\n",
       "  <tbody>\n",
       "    <tr>\n",
       "      <th>9</th>\n",
       "      <td>A6NEC2</td>\n",
       "      <td>Puromycin-sensitive aminopeptidase-like protein</td>\n",
       "      <td>VALSNMNVIDR</td>\n",
       "      <td>P55786 (211-221)</td>\n",
       "      <td>221.0</td>\n",
       "      <td>69.0</td>\n",
       "      <td>25.0</td>\n",
       "      <td>632.3219</td>\n",
       "      <td>2.0</td>\n",
       "      <td>0.237600</td>\n",
       "      <td>1.057476</td>\n",
       "      <td>NaN</td>\n",
       "      <td>2.150</td>\n",
       "      <td>NaN</td>\n",
       "      <td>-4.538654</td>\n",
       "      <td>-3.817968</td>\n",
       "      <td>A6NEC2-VALSNMNVIDR</td>\n",
       "      <td>216.0</td>\n",
       "    </tr>\n",
       "    <tr>\n",
       "      <th>12</th>\n",
       "      <td>A6NIZ1</td>\n",
       "      <td>Ras-related protein Rap-1b-like protein</td>\n",
       "      <td>DTDDVPMILVGNK</td>\n",
       "      <td>P61224 (15-117)</td>\n",
       "      <td>117.0</td>\n",
       "      <td>58.0</td>\n",
       "      <td>32.0</td>\n",
       "      <td>724.8511</td>\n",
       "      <td>2.0</td>\n",
       "      <td>0.759833</td>\n",
       "      <td>3.633391</td>\n",
       "      <td>NaN</td>\n",
       "      <td>NaN</td>\n",
       "      <td>NaN</td>\n",
       "      <td>-3.277993</td>\n",
       "      <td>NaN</td>\n",
       "      <td>A6NIZ1-DTDDVPMILVGNK</td>\n",
       "      <td>111.0</td>\n",
       "    </tr>\n",
       "    <tr>\n",
       "      <th>18</th>\n",
       "      <td>A8MWD9</td>\n",
       "      <td>Small nuclear ribonucleoprotein G-like protein</td>\n",
       "      <td>GNSIIMLEALERV</td>\n",
       "      <td>P6238 (64-76)</td>\n",
       "      <td>76.0</td>\n",
       "      <td>43.0</td>\n",
       "      <td>34.0</td>\n",
       "      <td>738.8908</td>\n",
       "      <td>2.0</td>\n",
       "      <td>1.151945</td>\n",
       "      <td>4.104501</td>\n",
       "      <td>V</td>\n",
       "      <td>NaN</td>\n",
       "      <td>NaN</td>\n",
       "      <td>-3.151175</td>\n",
       "      <td>NaN</td>\n",
       "      <td>A8MWD9-GNSIIMLEALERV</td>\n",
       "      <td>69.0</td>\n",
       "    </tr>\n",
       "    <tr>\n",
       "      <th>26</th>\n",
       "      <td>O00170</td>\n",
       "      <td>AH receptor-interacting protein</td>\n",
       "      <td>GKPMELIIGK</td>\n",
       "      <td>NaN</td>\n",
       "      <td>66.0</td>\n",
       "      <td>35.0</td>\n",
       "      <td>34.0</td>\n",
       "      <td>373.2144</td>\n",
       "      <td>3.0</td>\n",
       "      <td>0.000000</td>\n",
       "      <td>5.831856</td>\n",
       "      <td>NaN</td>\n",
       "      <td>NaN</td>\n",
       "      <td>NaN</td>\n",
       "      <td>-2.781747</td>\n",
       "      <td>NaN</td>\n",
       "      <td>O00170-GKPMELIIGK</td>\n",
       "      <td>60.0</td>\n",
       "    </tr>\n",
       "    <tr>\n",
       "      <th>27</th>\n",
       "      <td>O00186</td>\n",
       "      <td>Syntaxin-binding protein 3</td>\n",
       "      <td>IENESDMIR</td>\n",
       "      <td>NaN</td>\n",
       "      <td>440.0</td>\n",
       "      <td>49.0</td>\n",
       "      <td>34.0</td>\n",
       "      <td>569.7560</td>\n",
       "      <td>2.0</td>\n",
       "      <td>0.263737</td>\n",
       "      <td>2.168332</td>\n",
       "      <td>NaN</td>\n",
       "      <td>NaN</td>\n",
       "      <td>NaN</td>\n",
       "      <td>-3.809290</td>\n",
       "      <td>NaN</td>\n",
       "      <td>O00186-IENESDMIR</td>\n",
       "      <td>438.0</td>\n",
       "    </tr>\n",
       "    <tr>\n",
       "      <th>...</th>\n",
       "      <td>...</td>\n",
       "      <td>...</td>\n",
       "      <td>...</td>\n",
       "      <td>...</td>\n",
       "      <td>...</td>\n",
       "      <td>...</td>\n",
       "      <td>...</td>\n",
       "      <td>...</td>\n",
       "      <td>...</td>\n",
       "      <td>...</td>\n",
       "      <td>...</td>\n",
       "      <td>...</td>\n",
       "      <td>...</td>\n",
       "      <td>...</td>\n",
       "      <td>...</td>\n",
       "      <td>...</td>\n",
       "      <td>...</td>\n",
       "      <td>...</td>\n",
       "    </tr>\n",
       "    <tr>\n",
       "      <th>2550</th>\n",
       "      <td>Q9Y3C4</td>\n",
       "      <td>TP53RK-binding protein</td>\n",
       "      <td>NLPEIMNITEVK</td>\n",
       "      <td>NaN</td>\n",
       "      <td>146.0</td>\n",
       "      <td>34.0</td>\n",
       "      <td>32.0</td>\n",
       "      <td>716.8719</td>\n",
       "      <td>2.0</td>\n",
       "      <td>0.907994</td>\n",
       "      <td>5.242244</td>\n",
       "      <td>NaN</td>\n",
       "      <td>NaN</td>\n",
       "      <td>NaN</td>\n",
       "      <td>-2.894574</td>\n",
       "      <td>NaN</td>\n",
       "      <td>Q9Y3C4-NLPEIMNITEVK</td>\n",
       "      <td>140.0</td>\n",
       "    </tr>\n",
       "    <tr>\n",
       "      <th>2555</th>\n",
       "      <td>Q9Y3E7</td>\n",
       "      <td>Charged multivesicular body protein 3</td>\n",
       "      <td>IPEIQATMR</td>\n",
       "      <td>NaN</td>\n",
       "      <td>128.0</td>\n",
       "      <td>58.0</td>\n",
       "      <td>24.0</td>\n",
       "      <td>545.7820</td>\n",
       "      <td>2.0</td>\n",
       "      <td>0.642468</td>\n",
       "      <td>0.271624</td>\n",
       "      <td>NaN</td>\n",
       "      <td>1.183</td>\n",
       "      <td>NaN</td>\n",
       "      <td>-4.595120</td>\n",
       "      <td>-4.425216</td>\n",
       "      <td>Q9Y3E7-IPEIQATMR</td>\n",
       "      <td>127.0</td>\n",
       "    </tr>\n",
       "    <tr>\n",
       "      <th>2560</th>\n",
       "      <td>Q9Y3L5</td>\n",
       "      <td>Ras-related protein Rap-2c</td>\n",
       "      <td>VDLEPEREVMSSEGR</td>\n",
       "      <td>NaN</td>\n",
       "      <td>132.0</td>\n",
       "      <td>65.0</td>\n",
       "      <td>31.0</td>\n",
       "      <td>588.9403</td>\n",
       "      <td>3.0</td>\n",
       "      <td>0.283479</td>\n",
       "      <td>28.043333</td>\n",
       "      <td>NaN</td>\n",
       "      <td>12.237</td>\n",
       "      <td>NaN</td>\n",
       "      <td>-0.942313</td>\n",
       "      <td>-1.970176</td>\n",
       "      <td>Q9Y3L5-VDLEPEREVMSSEGR</td>\n",
       "      <td>127.0</td>\n",
       "    </tr>\n",
       "    <tr>\n",
       "      <th>2609</th>\n",
       "      <td>Q9Y5W9</td>\n",
       "      <td>Sorting nexin-11</td>\n",
       "      <td>STMTVSDAILR</td>\n",
       "      <td>NaN</td>\n",
       "      <td>153.0</td>\n",
       "      <td>65.0</td>\n",
       "      <td>33.0</td>\n",
       "      <td>613.3087</td>\n",
       "      <td>2.0</td>\n",
       "      <td>0.653273</td>\n",
       "      <td>14.018914</td>\n",
       "      <td>NaN</td>\n",
       "      <td>NaN</td>\n",
       "      <td>NaN</td>\n",
       "      <td>-1.813720</td>\n",
       "      <td>NaN</td>\n",
       "      <td>Q9Y5W9-STMTVSDAILR</td>\n",
       "      <td>145.0</td>\n",
       "    </tr>\n",
       "    <tr>\n",
       "      <th>2621</th>\n",
       "      <td>Q9Y6G9</td>\n",
       "      <td>Cytoplasmic dynein 1 light intermediate chain 1</td>\n",
       "      <td>EIMAEDDQVFLMK</td>\n",
       "      <td>NaN</td>\n",
       "      <td>378.0</td>\n",
       "      <td>62.0</td>\n",
       "      <td>28.0</td>\n",
       "      <td>816.8614</td>\n",
       "      <td>2.0</td>\n",
       "      <td>1.470853</td>\n",
       "      <td>13.904511</td>\n",
       "      <td>V</td>\n",
       "      <td>NaN</td>\n",
       "      <td>NaN</td>\n",
       "      <td>-1.823244</td>\n",
       "      <td>NaN</td>\n",
       "      <td>Q9Y6G9-EIMAEDDQVFLMK</td>\n",
       "      <td>377.0</td>\n",
       "    </tr>\n",
       "  </tbody>\n",
       "</table>\n",
       "<p>362 rows × 18 columns</p>\n",
       "</div>"
      ],
      "text/plain": [
       "     accession                                       Description  \\\n",
       "9       A6NEC2  Puromycin-sensitive aminopeptidase-like protein    \n",
       "12      A6NIZ1          Ras-related protein Rap-1b-like protein    \n",
       "18      A8MWD9   Small nuclear ribonucleoprotein G-like protein    \n",
       "26      O00170                  AH receptor-interacting protein    \n",
       "27      O00186                       Syntaxin-binding protein 3    \n",
       "...        ...                                               ...   \n",
       "2550    Q9Y3C4                           TP53RK-binding protein    \n",
       "2555    Q9Y3E7            Charged multivesicular body protein 3    \n",
       "2560    Q9Y3L5                       Ras-related protein Rap-2c    \n",
       "2609    Q9Y5W9                                 Sorting nexin-11    \n",
       "2621    Q9Y6G9  Cytoplasmic dynein 1 light intermediate chain 1    \n",
       "\n",
       "             sequence          isoforms    end  score  threshold       m/z  \\\n",
       "9         VALSNMNVIDR  P55786 (211-221)  221.0   69.0       25.0  632.3219   \n",
       "12      DTDDVPMILVGNK   P61224 (15-117)  117.0   58.0       32.0  724.8511   \n",
       "18      GNSIIMLEALERV     P6238 (64-76)   76.0   43.0       34.0  738.8908   \n",
       "26         GKPMELIIGK               NaN   66.0   35.0       34.0  373.2144   \n",
       "27          IENESDMIR               NaN  440.0   49.0       34.0  569.7560   \n",
       "...               ...               ...    ...    ...        ...       ...   \n",
       "2550     NLPEIMNITEVK               NaN  146.0   34.0       32.0  716.8719   \n",
       "2555        IPEIQATMR               NaN  128.0   58.0       24.0  545.7820   \n",
       "2560  VDLEPEREVMSSEGR               NaN  132.0   65.0       31.0  588.9403   \n",
       "2609      STMTVSDAILR               NaN  153.0   65.0       33.0  613.3087   \n",
       "2621    EIMAEDDQVFLMK               NaN  378.0   62.0       28.0  816.8614   \n",
       "\n",
       "        z       ppm    %ox_fwd val_fwd  %ox_rev val_rev  ox_fwd_logit  \\\n",
       "9     2.0  0.237600   1.057476     NaN    2.150     NaN     -4.538654   \n",
       "12    2.0  0.759833   3.633391     NaN      NaN     NaN     -3.277993   \n",
       "18    2.0  1.151945   4.104501       V      NaN     NaN     -3.151175   \n",
       "26    3.0  0.000000   5.831856     NaN      NaN     NaN     -2.781747   \n",
       "27    2.0  0.263737   2.168332     NaN      NaN     NaN     -3.809290   \n",
       "...   ...       ...        ...     ...      ...     ...           ...   \n",
       "2550  2.0  0.907994   5.242244     NaN      NaN     NaN     -2.894574   \n",
       "2555  2.0  0.642468   0.271624     NaN    1.183     NaN     -4.595120   \n",
       "2560  3.0  0.283479  28.043333     NaN   12.237     NaN     -0.942313   \n",
       "2609  2.0  0.653273  14.018914     NaN      NaN     NaN     -1.813720   \n",
       "2621  2.0  1.470853  13.904511       V      NaN     NaN     -1.823244   \n",
       "\n",
       "      ox_rev_logit      accession-sequence  met_position  \n",
       "9        -3.817968      A6NEC2-VALSNMNVIDR         216.0  \n",
       "12             NaN    A6NIZ1-DTDDVPMILVGNK         111.0  \n",
       "18             NaN    A8MWD9-GNSIIMLEALERV          69.0  \n",
       "26             NaN       O00170-GKPMELIIGK          60.0  \n",
       "27             NaN        O00186-IENESDMIR         438.0  \n",
       "...            ...                     ...           ...  \n",
       "2550           NaN     Q9Y3C4-NLPEIMNITEVK         140.0  \n",
       "2555     -4.425216        Q9Y3E7-IPEIQATMR         127.0  \n",
       "2560     -1.970176  Q9Y3L5-VDLEPEREVMSSEGR         127.0  \n",
       "2609           NaN      Q9Y5W9-STMTVSDAILR         145.0  \n",
       "2621           NaN    Q9Y6G9-EIMAEDDQVFLMK         377.0  \n",
       "\n",
       "[362 rows x 18 columns]"
      ]
     },
     "execution_count": 22,
     "metadata": {},
     "output_type": "execute_result"
    }
   ],
   "source": [
    "filtered"
   ]
  },
  {
   "cell_type": "markdown",
   "metadata": {},
   "source": [
    "### Prototype annotation of graphs"
   ]
  },
  {
   "cell_type": "code",
   "execution_count": 87,
   "metadata": {},
   "outputs": [],
   "source": [
    "import pickle as pkl\n",
    "\n",
    "with open(here() / \"data/ghesquire_2011/graphs.pkl\", \"rb\") as f:\n",
    "    graphs = pkl.load(f)"
   ]
  },
  {
   "cell_type": "code",
   "execution_count": 102,
   "metadata": {},
   "outputs": [
    {
     "data": {
      "application/vnd.jupyter.widget-view+json": {
       "model_id": "8974b0a1b70b4f538e7d6eff40900e3d",
       "version_major": 2,
       "version_minor": 0
      },
      "text/plain": [
       "HBox(children=(FloatProgress(value=0.0, max=373.0), HTML(value='')))"
      ]
     },
     "metadata": {},
     "output_type": "display_data"
    },
    {
     "name": "stdout",
     "output_type": "stream",
     "text": [
      "\n"
     ]
    }
   ],
   "source": [
    "for acc_seq, g in tqdm(graphs.items()):\n",
    "    accession = acc_seq.split(\"-\")[0]\n",
    "    sasa_df = sasa_dfs[accession]\n",
    "    for n, d in g.nodes(data=True):\n",
    "        res = d[\"residue_name\"]\n",
    "        num = d[\"residue_number\"]\n",
    "        sasa_info = sasa_df.query(\"ResidNe == @res\").query(\"ResidNr == @num\").iloc[0]\n",
    "        g.nodes[n][\"Phob/A^2\"] = sasa_info[\"Phob/A^2\"]\n",
    "        g.nodes[n][\"Phil/A^2\"] = sasa_info[\"Phil/A^2\"]\n",
    "        g.nodes[n][\"SASA/A^2\"] = sasa_info[\"SASA/A^2\"]\n",
    "        g.nodes[n][\"N(overl)\"] = sasa_info[\"N(overl)\"]"
   ]
  },
  {
   "cell_type": "code",
   "execution_count": 104,
   "metadata": {},
   "outputs": [
    {
     "data": {
      "text/plain": [
       "NodeDataView({'82VAL': {'chain_id': '', 'residue_number': 82, 'residue_name': 'VAL', 'x_coord': 12.869, 'y_coord': 25.605, 'z_coord': 64.49, 'features': None, 'Phob/A^2': 13.37, 'Phil/A^2': 2.2, 'SASA/A^2': 15.57, 'N(overl)': 562}, '125MET': {'chain_id': '', 'residue_number': 125, 'residue_name': 'MET', 'x_coord': 9.81, 'y_coord': 26.269, 'z_coord': 55.166, 'features': None, 'Phob/A^2': 17.08, 'Phil/A^2': 4.19, 'SASA/A^2': 21.28, 'N(overl)': 626}, '128PHE': {'chain_id': '', 'residue_number': 128, 'residue_name': 'PHE', 'x_coord': 12.108, 'y_coord': 22.405, 'z_coord': 53.312, 'features': None, 'Phob/A^2': 20.84, 'Phil/A^2': 2.1, 'SASA/A^2': 22.94, 'N(overl)': 824}, '116MET': {'chain_id': '', 'residue_number': 116, 'residue_name': 'MET', 'x_coord': 5.162, 'y_coord': 27.414, 'z_coord': 57.489, 'features': None, 'Phob/A^2': 34.78, 'Phil/A^2': 7.18, 'SASA/A^2': 41.96, 'N(overl)': 632}, '126GLN': {'chain_id': '', 'residue_number': 126, 'residue_name': 'GLN', 'x_coord': 7.412, 'y_coord': 25.525, 'z_coord': 52.238, 'features': None, 'Phob/A^2': 36.66, 'Phil/A^2': 39.95, 'SASA/A^2': 76.6, 'N(overl)': 507}, '122LEU': {'chain_id': '', 'residue_number': 122, 'residue_name': 'LEU', 'x_coord': 7.404, 'y_coord': 30.645, 'z_coord': 55.521, 'features': None, 'Phob/A^2': 22.05, 'Phil/A^2': 4.5, 'SASA/A^2': 26.55, 'N(overl)': 532}, '112VAL': {'chain_id': '', 'residue_number': 112, 'residue_name': 'VAL', 'x_coord': 7.238, 'y_coord': 21.728, 'z_coord': 59.825, 'features': None, 'Phob/A^2': 23.84, 'Phil/A^2': 3.01, 'SASA/A^2': 26.85, 'N(overl)': 583}, '85MET': {'chain_id': '', 'residue_number': 85, 'residue_name': 'MET', 'x_coord': 12.831, 'y_coord': 20.486, 'z_coord': 63.636, 'features': None, 'Phob/A^2': 13.75, 'Phil/A^2': 3.4, 'SASA/A^2': 17.14, 'N(overl)': 672}, '21LEU': {'chain_id': '', 'residue_number': 21, 'residue_name': 'LEU', 'x_coord': 16.987, 'y_coord': 25.986, 'z_coord': 60.335, 'features': None, 'Phob/A^2': 12.33, 'Phil/A^2': 2.57, 'SASA/A^2': 14.89, 'N(overl)': 709}, '124THR': {'chain_id': '', 'residue_number': 124, 'residue_name': 'THR', 'x_coord': 12.095, 'y_coord': 28.502, 'z_coord': 53.043, 'features': None, 'Phob/A^2': 73.08, 'Phil/A^2': 19.04, 'SASA/A^2': 92.13, 'N(overl)': 385}})"
      ]
     },
     "execution_count": 104,
     "metadata": {},
     "output_type": "execute_result"
    }
   ],
   "source": [
    "g.nodes(data=True)"
   ]
  },
  {
   "cell_type": "code",
   "execution_count": 100,
   "metadata": {},
   "outputs": [
    {
     "data": {
      "text/plain": [
       "ResidNe        THR\n",
       "Chain            -\n",
       "ResidNr        124\n",
       "iCode            -\n",
       "Phob/A^2     73.08\n",
       "Phil/A^2     19.04\n",
       "SASA/A^2     92.13\n",
       "Q(SASA)     0.6037\n",
       "N(overl)       385\n",
       "Surf/A^2     152.6\n",
       "Name: 114, dtype: object"
      ]
     },
     "execution_count": 100,
     "metadata": {},
     "output_type": "execute_result"
    }
   ],
   "source": [
    "res = d[\"residue_name\"]\n",
    "num = d[\"residue_number\"]\n",
    "sasa_df.query(\"ResidNe == @res\").query(\"ResidNr == @num\").iloc[0]"
   ]
  },
  {
   "cell_type": "code",
   "execution_count": 88,
   "metadata": {},
   "outputs": [
    {
     "data": {
      "text/plain": [
       "{'Q9H0U4-MGPGAASGGERPNLK': <networkx.classes.graph.Graph at 0x7f272b487eb0>,\n",
       " 'P15374-FLEESVSMSPEER': <networkx.classes.graph.Graph at 0x7f272b17ba60>,\n",
       " 'Q9NPD3-SCEMGLQLR': <networkx.classes.graph.Graph at 0x7f2725d2f8b0>,\n",
       " 'P52564-ADDLEPIMELGR': <networkx.classes.graph.Graph at 0x7f2727304490>,\n",
       " 'P36542-EVMLVGIGDK': <networkx.classes.graph.Graph at 0x7f2727445730>,\n",
       " 'P35244-MFILSDGEGK': <networkx.classes.graph.Graph at 0x7f2726faeca0>,\n",
       " 'Q9ULP9-EIQLLQMANEK': <networkx.classes.graph.Graph at 0x7f27266b3e50>,\n",
       " 'P46778-TNGKEPELLEPIPYEFMA': <networkx.classes.graph.Graph at 0x7f2726ca2d60>,\n",
       " 'Q9H1K1-NVGTGLVGAPACGDVMK': <networkx.classes.graph.Graph at 0x7f27270f17f0>,\n",
       " 'P10644-ILMGSTLR': <networkx.classes.graph.Graph at 0x7f2726ce44f0>,\n",
       " 'Q96E11-ESGMNLNPEVEGTLIR': <networkx.classes.graph.Graph at 0x7f27268149a0>,\n",
       " 'P30044-FSMVVQDGIVK': <networkx.classes.graph.Graph at 0x7f2726812f70>,\n",
       " 'P62191-AICTEAGLMALR': <networkx.classes.graph.Graph at 0x7f2726c22520>,\n",
       " 'Q13283-VMEKPSPLLVGR': <networkx.classes.graph.Graph at 0x7f2726827d30>,\n",
       " 'Q99961-LTMLNTVSK': <networkx.classes.graph.Graph at 0x7f2726816400>,\n",
       " 'P09104-LDNLMLELDGTENK': <networkx.classes.graph.Graph at 0x7f2726ae91c0>,\n",
       " 'O95273-AAALLMLTK': <networkx.classes.graph.Graph at 0x7f27263fa0d0>,\n",
       " 'P60660-EGNGTVMGAEIR': <networkx.classes.graph.Graph at 0x7f2726aecf70>,\n",
       " 'Q9HDC9-LFSQETVMK': <networkx.classes.graph.Graph at 0x7f2726a1dd30>,\n",
       " 'Q02252-VPGATMLLAK': <networkx.classes.graph.Graph at 0x7f2725684730>,\n",
       " 'O43488-RMDAPASAAAVR': <networkx.classes.graph.Graph at 0x7f2725643910>,\n",
       " 'P84085-QDMPNAMPVSELTDK': <networkx.classes.graph.Graph at 0x7f271cb33040>,\n",
       " 'P50995-DESTNVDMSLAQR': <networkx.classes.graph.Graph at 0x7f271cb1fa90>,\n",
       " 'O14933-MDLADLLTQNPELFR': <networkx.classes.graph.Graph at 0x7f271d30eb20>,\n",
       " 'Q7Z6V5-AEEAVEMLK': <networkx.classes.graph.Graph at 0x7f271cb2c370>,\n",
       " 'P61247-APAMFNIR': <networkx.classes.graph.Graph at 0x7f271caea910>,\n",
       " 'Q8IZ07-FDLSQEMER': <networkx.classes.graph.Graph at 0x7f271cb09e20>,\n",
       " 'Q9UMS4-FIASTGMDR': <networkx.classes.graph.Graph at 0x7f272fa61250>,\n",
       " 'P78330-AMGGAVPFK': <networkx.classes.graph.Graph at 0x7f272f0fe700>,\n",
       " 'Q5JVF3-AMFDSDFK': <networkx.classes.graph.Graph at 0x7f272a41c250>,\n",
       " 'Q5T653-MIDFLR': <networkx.classes.graph.Graph at 0x7f272f5131c0>,\n",
       " 'Q9Y3A3-VMAEGTAVLR': <networkx.classes.graph.Graph at 0x7f27283372e0>,\n",
       " 'O75251-QSDVMIVAGTLTNK': <networkx.classes.graph.Graph at 0x7f2730dbda60>,\n",
       " 'P61225-VPMILVGNK': <networkx.classes.graph.Graph at 0x7f272f70f5b0>,\n",
       " 'P41236-TSTTSSMVASAEQPR': <networkx.classes.graph.Graph at 0x7f272cf6a0d0>,\n",
       " 'P19388-ALIVVQQGMTPSAK': <networkx.classes.graph.Graph at 0x7f2730864160>,\n",
       " 'Q9BV20-VICCTEDMLEK': <networkx.classes.graph.Graph at 0x7f272ff53490>,\n",
       " 'P62249-PLEMIEPR': <networkx.classes.graph.Graph at 0x7f27283dc520>,\n",
       " 'P26373-LATQLTGPVMPVR': <networkx.classes.graph.Graph at 0x7f272a691a00>,\n",
       " 'Q92989-VMVVGPTDVGK': <networkx.classes.graph.Graph at 0x7f272c7dfbb0>,\n",
       " 'P61586-IGAFGYMECSAK': <networkx.classes.graph.Graph at 0x7f272ad2cc10>,\n",
       " 'Q9NR45-QLLPCEMACNEK': <networkx.classes.graph.Graph at 0x7f273097f610>,\n",
       " 'Q9BRF8-GIEDDLMDLIK': <networkx.classes.graph.Graph at 0x7f272fee6310>,\n",
       " 'Q9UK41-AMDEIQPDLR': <networkx.classes.graph.Graph at 0x7f271a8d8910>,\n",
       " 'P04062-LLMLDDQR': <networkx.classes.graph.Graph at 0x7f271a895730>,\n",
       " 'Q9ULC4-FVLSGANIMCPGLTSPGAK': <networkx.classes.graph.Graph at 0x7f273dc2a7c0>,\n",
       " 'P46777-IEGDMIVCAAYAHELPK': <networkx.classes.graph.Graph at 0x7f273d800e50>,\n",
       " 'Q96HQ2-MEFILR': <networkx.classes.graph.Graph at 0x7f271cb4f730>,\n",
       " 'Q7L2H7-LLTFMGMAVENK': <networkx.classes.graph.Graph at 0x7f271cb76a90>,\n",
       " 'P11413-EMVQNLMVLR': <networkx.classes.graph.Graph at 0x7f273ddbeb20>,\n",
       " 'P82921-ILTMDGLIEDIK': <networkx.classes.graph.Graph at 0x7f273d91f760>,\n",
       " 'P62256-SPSIGFMNK': <networkx.classes.graph.Graph at 0x7f273dd501f0>,\n",
       " 'P11908-MVLVGDVK': <networkx.classes.graph.Graph at 0x7f273d990130>,\n",
       " 'P14635-NVVMVNQGLTK': <networkx.classes.graph.Graph at 0x7f273da22580>,\n",
       " 'Q9H0R6-LLDQGALLMGK': <networkx.classes.graph.Graph at 0x7f271ca74f10>,\n",
       " 'P61106-YIIIGDMGVGK': <networkx.classes.graph.Graph at 0x7f271a65ff40>,\n",
       " 'P50213-MSDGLFLQK': <networkx.classes.graph.Graph at 0x7f271a5dc8b0>,\n",
       " 'O15269-LLQEIVDQCMNR': <networkx.classes.graph.Graph at 0x7f271a4d13d0>,\n",
       " 'Q04323-MLELVAQK': <networkx.classes.graph.Graph at 0x7f271a4327c0>,\n",
       " 'Q92928-NATNVEQAFMTMAAEIK': <networkx.classes.graph.Graph at 0x7f271a33bb20>,\n",
       " 'Q9UHV9-MVGGVLVER': <networkx.classes.graph.Graph at 0x7f271a31c9a0>,\n",
       " 'Q14498-IESIQLMMDSETGR': <networkx.classes.graph.Graph at 0x7f271a28a1c0>,\n",
       " 'P53990-FGLIQSMK': <networkx.classes.graph.Graph at 0x7f271a2a4fd0>,\n",
       " 'P23368-GMAFTLQER': <networkx.classes.graph.Graph at 0x7f271a201a90>,\n",
       " 'Q96H20-GTVLAEDQLAQMSK': <networkx.classes.graph.Graph at 0x7f271a092070>,\n",
       " 'P04818-TGTGTLSVFGMQAR': <networkx.classes.graph.Graph at 0x7f2719ffe3a0>,\n",
       " 'Q15833-SQLLIMDR': <networkx.classes.graph.Graph at 0x7f2719f42250>,\n",
       " 'O75914-SDNILLGMDGSVK': <networkx.classes.graph.Graph at 0x7f2719e5be50>,\n",
       " 'Q00169-MLAPEGALNIHEK': <networkx.classes.graph.Graph at 0x7f2719d91cd0>,\n",
       " 'P62318-FLILPDMLK': <networkx.classes.graph.Graph at 0x7f2719cbf970>,\n",
       " 'Q9BRP4-GGLGVSSSTDGTMK': <networkx.classes.graph.Graph at 0x7f2719c88f10>,\n",
       " 'Q9H2H8-GFMVQTGDPTGTGR': <networkx.classes.graph.Graph at 0x7f2719bb9c40>,\n",
       " 'Q96GG9-MEQELKEPGR': <networkx.classes.graph.Graph at 0x7f2719ba2bb0>,\n",
       " 'Q8N335-VMENGLLFK': <networkx.classes.graph.Graph at 0x7f2719b08eb0>,\n",
       " 'P61160-DLMVGDEASELR': <networkx.classes.graph.Graph at 0x7f27199f88e0>,\n",
       " 'O00186-IENESDMIR': <networkx.classes.graph.Graph at 0x7f27199607f0>,\n",
       " 'Q14344-APMAAQGMVETR': <networkx.classes.graph.Graph at 0x7f27197d43d0>,\n",
       " 'P36957-NVEAMNFADIER': <networkx.classes.graph.Graph at 0x7f2719749fd0>,\n",
       " 'Q8IXH7-MFTSMDPPPVELIR': <networkx.classes.graph.Graph at 0x7f27196a72b0>,\n",
       " 'Q96FZ7-VMEGLQFGNECLNK': <networkx.classes.graph.Graph at 0x7f27195a0250>,\n",
       " 'Q9UBF6-VQVMDACLR': <networkx.classes.graph.Graph at 0x7f27195436d0>,\n",
       " 'Q06830-ATAVMPDGQFK': <networkx.classes.graph.Graph at 0x7f2719574910>,\n",
       " 'Q8NE86-DAIAQAEMDLKR': <networkx.classes.graph.Graph at 0x7f27194dd580>,\n",
       " 'Q8TDQ7-TLAMDTILANAK': <networkx.classes.graph.Graph at 0x7f27194b75b0>,\n",
       " 'Q8WWP7-DMFGEDVLK': <networkx.classes.graph.Graph at 0x7f271940ef40>,\n",
       " 'P63241-YEDICPSTHNMDVPNIK': <networkx.classes.graph.Graph at 0x7f271933c880>,\n",
       " 'P62140-IVQMTEAEVR': <networkx.classes.graph.Graph at 0x7f2719311820>,\n",
       " 'P04632-SMVAVMDSDTTGK': <networkx.classes.graph.Graph at 0x7f271923e970>,\n",
       " 'Q9NUI1-APPAVMAAVDQALK': <networkx.classes.graph.Graph at 0x7f2719219f70>,\n",
       " 'Q00796-AMGAAQVVVTDLSATR': <networkx.classes.graph.Graph at 0x7f27191751f0>,\n",
       " 'A6NEC2-VALSNMNVIDR': <networkx.classes.graph.Graph at 0x7f27190413a0>,\n",
       " 'Q96EY1-EFTVNIMDTCER': <networkx.classes.graph.Graph at 0x7f2718f5d040>,\n",
       " 'P54687-LFQPNLNMDR': <networkx.classes.graph.Graph at 0x7f2718f77490>,\n",
       " 'Q9H223-ADQVDTQQLMR': <networkx.classes.graph.Graph at 0x7f2718e65220>,\n",
       " 'O95861-LVTDCVAAMNPDAVLR': <networkx.classes.graph.Graph at 0x7f2718d53220>,\n",
       " 'Q9Y2Q3-AGMSAEQAQGLLEK': <networkx.classes.graph.Graph at 0x7f2718cd6a60>,\n",
       " 'Q15369-AMLSGPGQFAENETNEVNFR': <networkx.classes.graph.Graph at 0x7f2718c18250>,\n",
       " 'Q9NWU5-EVLLEAQDMAVR': <networkx.classes.graph.Graph at 0x7f2718c33f40>,\n",
       " 'P30101-FVMQEEFSR': <networkx.classes.graph.Graph at 0x7f2718bedbe0>,\n",
       " 'Q9Y3L5-VDLEPEREVMSSEGR': <networkx.classes.graph.Graph at 0x7f2718ae1f40>,\n",
       " 'P15927-IDDMTAAPMDVR': <networkx.classes.graph.Graph at 0x7f2718a5b9a0>,\n",
       " 'Q15836-LQQTQNQVDEVVDIMR': <networkx.classes.graph.Graph at 0x7f27189b95b0>,\n",
       " 'O94919-DSDIIEDVMVK': <networkx.classes.graph.Graph at 0x7f27189f68b0>,\n",
       " 'Q00059-FKEQLTPSQIMSLEK': <networkx.classes.graph.Graph at 0x7f2718968b50>,\n",
       " 'Q9NVP2-ENPPMKPDFSQLQR': <networkx.classes.graph.Graph at 0x7f27188cfaf0>,\n",
       " 'O95571-PQQIDFAVPANMR': <networkx.classes.graph.Graph at 0x7f27188afaf0>,\n",
       " 'O15511-QGNMTAALQAALK': <networkx.classes.graph.Graph at 0x7f2718837be0>,\n",
       " 'O15144-DSIVHQAGMLK': <networkx.classes.graph.Graph at 0x7f271873c2e0>,\n",
       " 'O75947-IVEYEKEMEK': <networkx.classes.graph.Graph at 0x7f2718727ee0>,\n",
       " 'P52566-ELQEMDKDDESLIK': <networkx.classes.graph.Graph at 0x7f271869f3a0>,\n",
       " 'Q9UL40-TVASSLGQIPMQR': <networkx.classes.graph.Graph at 0x7f271866c640>,\n",
       " 'P40121-VSDATGQMNLTK': <networkx.classes.graph.Graph at 0x7f27185e5a30>,\n",
       " 'Q9HCD5-MADEAILQER': <networkx.classes.graph.Graph at 0x7f27184ce6a0>,\n",
       " 'P07339-DPDAQPGGELMLGGTDSK': <networkx.classes.graph.Graph at 0x7f27184a9400>,\n",
       " 'P09493-MEIQEIQLK': <networkx.classes.graph.Graph at 0x7f2718404b50>,\n",
       " 'P22061-VFEVMLATDR': <networkx.classes.graph.Graph at 0x7f27183e4970>,\n",
       " 'P62701-FDTGNLCMVTGGANLGR': <networkx.classes.graph.Graph at 0x7f27183032b0>,\n",
       " 'O75688-IQNAGGSVMIQR': <networkx.classes.graph.Graph at 0x7f27182807f0>,\n",
       " 'P31350-EFLFNAIETMPCVK': <networkx.classes.graph.Graph at 0x7f27181e74f0>,\n",
       " 'Q9UIC8-FGQIMIENLR': <networkx.classes.graph.Graph at 0x7f2718120640>,\n",
       " 'P15531-FMQASEDLLK': <networkx.classes.graph.Graph at 0x7f2718099dc0>,\n",
       " 'Q9BU02-LSSMLGVPAQETAPAK': <networkx.classes.graph.Graph at 0x7f271801dbe0>,\n",
       " 'Q9H488-PSSFFGMDRPPK': <networkx.classes.graph.Graph at 0x7f2717f8bbb0>,\n",
       " 'P63165-QGVPMNSLR': <networkx.classes.graph.Graph at 0x7f2717eae130>,\n",
       " 'P35613-SSEHINEGETAMLVCK': <networkx.classes.graph.Graph at 0x7f2717e3fee0>,\n",
       " 'P36578-MINTDLSR': <networkx.classes.graph.Graph at 0x7f2717e30280>,\n",
       " 'Q9H2J4-LSESGAIMTDLEENPK': <networkx.classes.graph.Graph at 0x7f2717d5d820>,\n",
       " 'Q8NEZ5-TSMETALALEK': <networkx.classes.graph.Graph at 0x7f2717d2a7c0>,\n",
       " 'Q9HA47-IMELLGQNEVEQR': <networkx.classes.graph.Graph at 0x7f2717c05430>,\n",
       " 'Q9NX47-PDQALQQMLDR': <networkx.classes.graph.Graph at 0x7f2717b78790>,\n",
       " 'Q9BRS2-DCANVNDFFMR': <networkx.classes.graph.Graph at 0x7f2717badd30>,\n",
       " 'Q9Y3C4-NLPEIMNITEVK': <networkx.classes.graph.Graph at 0x7f2717b2db80>,\n",
       " 'P51665-NDIAINELMK': <networkx.classes.graph.Graph at 0x7f2717a91a30>,\n",
       " 'Q9BUE0-YLGQPEMGDK': <networkx.classes.graph.Graph at 0x7f2717a343a0>,\n",
       " 'Q9NVN8-ACFGAENLMR': <networkx.classes.graph.Graph at 0x7f27179f3e20>,\n",
       " 'Q99614-ALEMCPSCFQK': <networkx.classes.graph.Graph at 0x7f271789a730>,\n",
       " 'Q9Y5W9-STMTVSDAILR': <networkx.classes.graph.Graph at 0x7f2717826820>,\n",
       " 'O75419-LEEEIVEQTMR': <networkx.classes.graph.Graph at 0x7f27177a4340>,\n",
       " 'Q8NB37-AMEFVDVTESNAR': <networkx.classes.graph.Graph at 0x7f2717674670>,\n",
       " 'Q9UNF0-ASLMNDDFEK': <networkx.classes.graph.Graph at 0x7f27175cfb80>,\n",
       " 'Q6NVY1-LAMLEEDLLALK': <networkx.classes.graph.Graph at 0x7f2717508670>,\n",
       " 'P35659-LLASANLEEVTMK': <networkx.classes.graph.Graph at 0x7f271744c8e0>,\n",
       " 'O43716-AVDTDGVEPMESVLEDR': <networkx.classes.graph.Graph at 0x7f271742b0d0>,\n",
       " 'O43175-FMGTELNGK': <networkx.classes.graph.Graph at 0x7f27173c1f70>,\n",
       " 'P27348-DSTLIMQLLR': <networkx.classes.graph.Graph at 0x7f271736a520>,\n",
       " 'Q96BW1-GDFMFSADR': <networkx.classes.graph.Graph at 0x7f2717280370>,\n",
       " 'Q8NHP8-VLTILEQIPGMVVVADK': <networkx.classes.graph.Graph at 0x7f271724afa0>,\n",
       " 'P57775-LGTDLMTSVPVK': <networkx.classes.graph.Graph at 0x7f27170d71c0>,\n",
       " 'P00492-VFIPHGLIMDR': <networkx.classes.graph.Graph at 0x7f2717004af0>,\n",
       " 'Q7Z6K3-TPVPDSLGLEMEHR': <networkx.classes.graph.Graph at 0x7f2716ff6fd0>,\n",
       " 'O94903-VMVQINTSGEESK': <networkx.classes.graph.Graph at 0x7f2716e7e400>,\n",
       " 'P01111-VKDSDDVPMVLVGNK': <networkx.classes.graph.Graph at 0x7f2716e4ccd0>,\n",
       " 'P18124-ASINMLR': <networkx.classes.graph.Graph at 0x7f2716de35b0>,\n",
       " 'Q14919-IMQTDEEIGK': <networkx.classes.graph.Graph at 0x7f2716d49a00>,\n",
       " 'Q8IW45-GPMDSDDSHGSVLR': <networkx.classes.graph.Graph at 0x7f2716d1d160>,\n",
       " 'P31146-RCEPIAMTVPR': <networkx.classes.graph.Graph at 0x7f2716c9ff10>,\n",
       " 'Q13740-LDVPQNLMFGK': <networkx.classes.graph.Graph at 0x7f2716b475b0>,\n",
       " 'O43809-LMTEILGR': <networkx.classes.graph.Graph at 0x7f2716b31970>,\n",
       " 'P49902-LQNAADMPANMDK': <networkx.classes.graph.Graph at 0x7f2716ab6970>,\n",
       " 'P04899-AMGNLQIDFADPSR': <networkx.classes.graph.Graph at 0x7f2716900100>,\n",
       " 'P23526-ALDIAENEMPGLMR': <networkx.classes.graph.Graph at 0x7f27168a06d0>,\n",
       " 'Q7L5D6-VFSLMDPNSPER': <networkx.classes.graph.Graph at 0x7f27167a05b0>,\n",
       " 'P62244-MNVLADALK': <networkx.classes.graph.Graph at 0x7f2716724cd0>,\n",
       " 'P42696-LNNSELMGR': <networkx.classes.graph.Graph at 0x7f27166897f0>,\n",
       " 'Q13838-FMQDPMEIFVDDETK': <networkx.classes.graph.Graph at 0x7f271665fe50>,\n",
       " 'Q12765-MDAEHPELR': <networkx.classes.graph.Graph at 0x7f27165d3a90>,\n",
       " 'P21291-SCFLCMVCK': <networkx.classes.graph.Graph at 0x7f27164ca850>,\n",
       " 'P04181-VLPMNTGVEAGETACK': <networkx.classes.graph.Graph at 0x7f27164403a0>,\n",
       " 'Q16222-ALAAQNIVEDMEQR': <networkx.classes.graph.Graph at 0x7f2716347160>,\n",
       " 'Q8WUW1-IADFLNSFDMSCR': <networkx.classes.graph.Graph at 0x7f2716249a30>,\n",
       " 'P49755-IPDQLVILDMK': <networkx.classes.graph.Graph at 0x7f27162137f0>,\n",
       " 'P01733-HEVTEMGQEVTLR': <networkx.classes.graph.Graph at 0x7f27161beaf0>,\n",
       " 'Q9BVP2-SMQVVPLDK': <networkx.classes.graph.Graph at 0x7f27161f59a0>,\n",
       " 'P14550-VFDFTFSPEEMK': <networkx.classes.graph.Graph at 0x7f2716170ee0>,\n",
       " 'Q9NTK5-YLEANMTQSALPK': <networkx.classes.graph.Graph at 0x7f2715ffa4f0>,\n",
       " 'Q9BTE7-LEAESMGFFTK': <networkx.classes.graph.Graph at 0x7f2714f3da30>,\n",
       " 'P34897-AMADALLER': <networkx.classes.graph.Graph at 0x7f2714ebb940>,\n",
       " 'P40938-VVIQEMLK': <networkx.classes.graph.Graph at 0x7f2714dde610>,\n",
       " 'Q9BUF5-MASTFIGNSTAIQELFK': <networkx.classes.graph.Graph at 0x7f2714d74cd0>,\n",
       " 'Q9NX62-MTSGDVLSNR': <networkx.classes.graph.Graph at 0x7f2714c00d30>,\n",
       " 'P14324-VLTEDEMGHPEIGDAIAR': <networkx.classes.graph.Graph at 0x7f2714b6a3a0>,\n",
       " 'P63167-NADMSEEMQQDSVECATQALEK': <networkx.classes.graph.Graph at 0x7f2714a49040>,\n",
       " 'P55209-NVDLLSDMVQEHDEPILK': <networkx.classes.graph.Graph at 0x7f2714a5f880>,\n",
       " 'Q9H5X1-VAAAMENPNLR': <networkx.classes.graph.Graph at 0x7f27268fbf70>,\n",
       " 'Q9Y385-SQDFCCEGCGSAMK': <networkx.classes.graph.Graph at 0x7f2726fa8b50>,\n",
       " 'O14556-LTGMAFR': <networkx.classes.graph.Graph at 0x7f272ef609d0>,\n",
       " 'P11766-AFELMHSGK': <networkx.classes.graph.Graph at 0x7f27262c4b20>,\n",
       " 'Q9UNP9-SDVVPMTAENFR': <networkx.classes.graph.Graph at 0x7f27262d7550>,\n",
       " 'Q9UJZ1-ESMQMQVEAER': <networkx.classes.graph.Graph at 0x7f272686a190>,\n",
       " 'Q9H6Q4-SPQQVMGSLVK': <networkx.classes.graph.Graph at 0x7f2726a965e0>,\n",
       " 'Q16630-QFLSQFEMQSR': <networkx.classes.graph.Graph at 0x7f272661fac0>,\n",
       " 'O95183-SDQLLDMSSTFNK': <networkx.classes.graph.Graph at 0x7f272685fd90>,\n",
       " 'Q15208-VMEEEGLKDEEK': <networkx.classes.graph.Graph at 0x7f2726700580>,\n",
       " 'P43897-LGQHVVGMAPLSVGSLDDEPGGEAETK': <networkx.classes.graph.Graph at 0x7f27261fbdc0>,\n",
       " 'Q9Y265-KTEVLMENFR': <networkx.classes.graph.Graph at 0x7f2726c40f70>,\n",
       " 'Q06323-LMVMEIR': <networkx.classes.graph.Graph at 0x7f27261d0a90>,\n",
       " 'Q05048-LGMENDDTAVQYAIGR': <networkx.classes.graph.Graph at 0x7f271cb9c520>,\n",
       " 'Q13951-LDGMGCLEFDEER': <networkx.classes.graph.Graph at 0x7f271cb86370>,\n",
       " 'Q9UNH7-LGEGEGSMTKEEFTK': <networkx.classes.graph.Graph at 0x7f271ce78520>,\n",
       " 'Q99714-LVAGEMGQNEPDQGGQR': <networkx.classes.graph.Graph at 0x7f2726be96a0>,\n",
       " 'P43378-NQQSLAVSNMGAR': <networkx.classes.graph.Graph at 0x7f272570eaf0>,\n",
       " 'Q9H7P6-DLSEALPETSMDPITGVGVVASR': <networkx.classes.graph.Graph at 0x7f272663c910>,\n",
       " 'O14579-DSIVAELDREMSR': <networkx.classes.graph.Graph at 0x7f27266395e0>,\n",
       " 'P25789-ATCIGNNSAAAVSMLK': <networkx.classes.graph.Graph at 0x7f271ca267c0>,\n",
       " 'P35250-DAMLELNASNDR': <networkx.classes.graph.Graph at 0x7f272691dd90>,\n",
       " 'Q13217-EVLSDPEMR': <networkx.classes.graph.Graph at 0x7f272691efa0>,\n",
       " 'Q99829-VVTMEVEAR': <networkx.classes.graph.Graph at 0x7f2725667b20>,\n",
       " 'P62304-VMVQPINLIFR': <networkx.classes.graph.Graph at 0x7f2725754580>,\n",
       " 'P15170-DMGTVVLGK': <networkx.classes.graph.Graph at 0x7f2725779c70>,\n",
       " 'Q13547-SIRPDNMSEYSK': <networkx.classes.graph.Graph at 0x7f271c8ab5e0>,\n",
       " 'P63220-MGESDDSILR': <networkx.classes.graph.Graph at 0x7f271c97b250>,\n",
       " 'Q96CS3-LLQFQDLTGIESMDQCR': <networkx.classes.graph.Graph at 0x7f271c8bc280>,\n",
       " 'Q9H0C8-GSADNVTVMVVR': <networkx.classes.graph.Graph at 0x7f271a9c2e80>,\n",
       " 'P49590-GMDTPAFELK': <networkx.classes.graph.Graph at 0x7f271c8e4c40>,\n",
       " 'O95067-ISMIPQLNSK': <networkx.classes.graph.Graph at 0x7f271ba3ed90>,\n",
       " 'Q14141-SLDLVTMK': <networkx.classes.graph.Graph at 0x7f271bac5100>,\n",
       " 'O75874-LIDDMVAQAMK': <networkx.classes.graph.Graph at 0x7f271ba2e340>,\n",
       " 'Q2TAY7-DTEMLATGAQDGK': <networkx.classes.graph.Graph at 0x7f271b73aca0>,\n",
       " 'P32455-LMANPEALK': <networkx.classes.graph.Graph at 0x7f2713c75580>,\n",
       " 'Q9H2W6-TLATLSENNMEAK': <networkx.classes.graph.Graph at 0x7f2713b0bf10>,\n",
       " 'O60551-GFDVFNALDLMENK': <networkx.classes.graph.Graph at 0x7f2713a4a8e0>,\n",
       " 'O94763-MSDAAGDIVDIR': <networkx.classes.graph.Graph at 0x7f2713947580>,\n",
       " 'A8MWD9-GNSIIMLEALERV': <networkx.classes.graph.Graph at 0x7f27139301f0>,\n",
       " 'Q9H5Q4-VVGMFPSR': <networkx.classes.graph.Graph at 0x7f27138c52e0>,\n",
       " 'Q16774-VAVQAVQAMNR': <networkx.classes.graph.Graph at 0x7f27137fb640>,\n",
       " 'P51991-IETIEVMEDR': <networkx.classes.graph.Graph at 0x7f27137851c0>,\n",
       " 'P62857-VEFMDDTSR': <networkx.classes.graph.Graph at 0x7f271376e0d0>,\n",
       " 'P62487-TMDEDIVIQQDDEIR': <networkx.classes.graph.Graph at 0x7f27136ff4f0>,\n",
       " 'Q9Y696-HPESNTAGMDIFAK': <networkx.classes.graph.Graph at 0x7f27136ef2b0>,\n",
       " 'O76054-AGEMTEVLPNQR': <networkx.classes.graph.Graph at 0x7f27136636a0>,\n",
       " 'P48739-MIAPEGSLVFHEK': <networkx.classes.graph.Graph at 0x7f27135a2d90>,\n",
       " 'P49189-VSFTGSVPTGMK': <networkx.classes.graph.Graph at 0x7f27134d5ac0>,\n",
       " 'P61981-MVDREQLVQK': <networkx.classes.graph.Graph at 0x7f27133f0d60>,\n",
       " 'P55145-KINELMPK': <networkx.classes.graph.Graph at 0x7f27132bf100>,\n",
       " 'P50749-GLKPLQEDTPQLMR': <networkx.classes.graph.Graph at 0x7f27132815b0>,\n",
       " 'P25788-VFQVEYAMK': <networkx.classes.graph.Graph at 0x7f2713264370>,\n",
       " 'Q9NZ45-IVHAFDMEDLGDK': <networkx.classes.graph.Graph at 0x7f2713232eb0>,\n",
       " 'Q96RQ1-MLQLIQSR': <networkx.classes.graph.Graph at 0x7f27131965e0>,\n",
       " 'P61020-TAMNVNDLFLAIAK': <networkx.classes.graph.Graph at 0x7f2713135160>,\n",
       " 'Q9UJ83-NQETMGAFQEFPQVEACR': <networkx.classes.graph.Graph at 0x7f27130e2f10>,\n",
       " 'Q96EK6-VLGQLTETGVVSPEQFMK': <networkx.classes.graph.Graph at 0x7f2712efd040>,\n",
       " 'Q16629-VELSTGMPR': <networkx.classes.graph.Graph at 0x7f2712ed1460>,\n",
       " 'Q9H0P0-EIVAESDVMLK': <networkx.classes.graph.Graph at 0x7f2712e7faf0>,\n",
       " 'P20618-NMQNVEHVPLSLDR': <networkx.classes.graph.Graph at 0x7f2712e00c10>,\n",
       " 'Q9BTV5-DGVTMAPAFR': <networkx.classes.graph.Graph at 0x7f2712d84df0>,\n",
       " 'Q00534-VQTGEEGMPLSTIR': <networkx.classes.graph.Graph at 0x7f2712ceee80>,\n",
       " 'O15382-AADLQLEMTQKPHK': <networkx.classes.graph.Graph at 0x7f2712c2bf40>,\n",
       " 'Q96CX2-MFTQQQPQELAR': <networkx.classes.graph.Graph at 0x7f2712b1cc40>,\n",
       " 'P15313-TPVSEDMLGR': <networkx.classes.graph.Graph at 0x7f2712a9a280>,\n",
       " 'O43776-LMTDTINEPILLCR': <networkx.classes.graph.Graph at 0x7f27129e7f40>,\n",
       " 'Q9H7B4-LMDGAPSESEK': <networkx.classes.graph.Graph at 0x7f2712896700>,\n",
       " 'P43034-LLASCSADMTIK': <networkx.classes.graph.Graph at 0x7f27127a1400>,\n",
       " 'Q9HCN8-AMEGIFIKPSVEPSAGHDEL': <networkx.classes.graph.Graph at 0x7f27126c6790>,\n",
       " 'O96017-ILGETSLMR': <networkx.classes.graph.Graph at 0x7f271269c6d0>,\n",
       " 'Q96C36-LMAFQPAPK': <networkx.classes.graph.Graph at 0x7f271262fee0>,\n",
       " 'P28070-TQNPMVTGTSVLGVK': <networkx.classes.graph.Graph at 0x7f2712551df0>,\n",
       " 'Q01581-TGVAPDVFAENMK': <networkx.classes.graph.Graph at 0x7f27124a6040>,\n",
       " 'Q9Y6G9-EIMAEDDQVFLMK': <networkx.classes.graph.Graph at 0x7f2712377af0>,\n",
       " 'P14174-PMFIVNTNVPR': <networkx.classes.graph.Graph at 0x7f2712282100>,\n",
       " 'Q9BRX2-ANEAMAIDTLLISDELFR': <networkx.classes.graph.Graph at 0x7f27122a1e20>,\n",
       " 'Q53GS9-TIVTDVFQGSMR': <networkx.classes.graph.Graph at 0x7f27121f94f0>,\n",
       " 'P62829-LPAAGVGDMVMATVK': <networkx.classes.graph.Graph at 0x7f2712168af0>,\n",
       " 'P40925-DLDVAILVGSMPR': <networkx.classes.graph.Graph at 0x7f27120bdb50>,\n",
       " 'O60832-IMLPGVLR': <networkx.classes.graph.Graph at 0x7f2712075eb0>,\n",
       " 'Q9Y224-AGVMALANLLQIQR': <networkx.classes.graph.Graph at 0x7f2711f4caf0>,\n",
       " 'P12955-TDMELEVLR': <networkx.classes.graph.Graph at 0x7f2711e784c0>,\n",
       " 'P67870-GIAQMLEK': <networkx.classes.graph.Graph at 0x7f2711dcdfd0>,\n",
       " 'Q96C01-VQEAVESMVK': <networkx.classes.graph.Graph at 0x7f2711d64b20>,\n",
       " 'Q96CW1-IPTPLNTSGVQVICMK': <networkx.classes.graph.Graph at 0x7f2711cc5910>,\n",
       " 'P22695-QVAEQFLNMR': <networkx.classes.graph.Graph at 0x7f2711c21e80>,\n",
       " 'P46926-TLAMDTILANAR': <networkx.classes.graph.Graph at 0x7f2711b259d0>,\n",
       " 'Q53EL6-EIDMLLK': <networkx.classes.graph.Graph at 0x7f27119f8490>,\n",
       " 'O00170-GKPMELIIGK': <networkx.classes.graph.Graph at 0x7f27119a4400>,\n",
       " 'Q15645-ELEMIGFIENNVSK': <networkx.classes.graph.Graph at 0x7f2711961b20>,\n",
       " 'Q9NZJ7-LMSNALSTVTR': <networkx.classes.graph.Graph at 0x7f271184db80>,\n",
       " 'Q9H0S4-ILNMDFETEVDK': <networkx.classes.graph.Graph at 0x7f271179f580>,\n",
       " 'P08134-EVFEMATR': <networkx.classes.graph.Graph at 0x7f27116fdc10>,\n",
       " 'P48047-TDPSILGGMIVR': <networkx.classes.graph.Graph at 0x7f27116a9040>,\n",
       " 'Q8N2Z9-DLEMFAR': <networkx.classes.graph.Graph at 0x7f271165aa30>,\n",
       " 'Q06203-GMGLVNHVFTEDNLK': <networkx.classes.graph.Graph at 0x7f27116279a0>,\n",
       " 'Q13596-SLAMLGSSEDNTALSR': <networkx.classes.graph.Graph at 0x7f27114c86a0>,\n",
       " 'Q13509-MSSTFIGNSTAIQELFK': <networkx.classes.graph.Graph at 0x7f271145e280>,\n",
       " 'Q7Z7C8-MVITAPPVTNQPVTPK': <networkx.classes.graph.Graph at 0x7f271135f220>,\n",
       " 'P83731-AITGASLADIMAK': <networkx.classes.graph.Graph at 0x7f27112f7e20>,\n",
       " 'Q9BZL1-MIEVVCNDR': <networkx.classes.graph.Graph at 0x7f271132de80>,\n",
       " 'P13804-AAVDAGFVPNDMQVGQTGK': <networkx.classes.graph.Graph at 0x7f27112d8b50>,\n",
       " 'P60174-VTNGAFTGEISPGMIK': <networkx.classes.graph.Graph at 0x7f2711230040>,\n",
       " 'Q15819-INMNGINNSSGMVDAR': <networkx.classes.graph.Graph at 0x7f271118c940>,\n",
       " 'Q13526-GQMQKPFEDASFALR': <networkx.classes.graph.Graph at 0x7f2711161a00>,\n",
       " 'Q9Y3B8-EGGAAMAAGESMAQR': <networkx.classes.graph.Graph at 0x7f27110b99a0>,\n",
       " 'P42677-LVQSPNSYFMDVK': <networkx.classes.graph.Graph at 0x7f2711095f40>,\n",
       " 'P11233-VIMVGSGGVGK': <networkx.classes.graph.Graph at 0x7f27110741c0>,\n",
       " 'Q13112-MLSGIGAEGEAR': <networkx.classes.graph.Graph at 0x7f2711027c40>,\n",
       " 'A6NIZ1-DTDDVPMILVGNK': <networkx.classes.graph.Graph at 0x7f2710f0ed90>,\n",
       " 'Q5T2N8-DALNLAQMQEQTLQLEQQSK': <networkx.classes.graph.Graph at 0x7f2710e877f0>,\n",
       " 'P62495-TELSQSDMFDQR': <networkx.classes.graph.Graph at 0x7f2710def6d0>,\n",
       " 'Q8WYJ6-ADALMPQETQALK': <networkx.classes.graph.Graph at 0x7f2710cdc8e0>,\n",
       " 'Q9NUV9-EAPEDIQDLMDIFGDR': <networkx.classes.graph.Graph at 0x7f2710c6d8e0>,\n",
       " 'Q12933-DLAMADLEQK': <networkx.classes.graph.Graph at 0x7f2710be7820>,\n",
       " 'Q9P258-LGHAEQKDEMVPR': <networkx.classes.graph.Graph at 0x7f2710b5f820>,\n",
       " 'Q9Y3E7-IPEIQATMR': <networkx.classes.graph.Graph at 0x7f2710a4c910>,\n",
       " 'O14818-NIELAVMR': <networkx.classes.graph.Graph at 0x7f2710a29d30>,\n",
       " 'O95544-IMLSPEAR': <networkx.classes.graph.Graph at 0x7f271094c460>,\n",
       " 'Q86VY4-DAGSGPPATEGSMDTLENVQLK': <networkx.classes.graph.Graph at 0x7f2710884880>,\n",
       " 'Q75N03-MCPGCSDPVQR': <networkx.classes.graph.Graph at 0x7f27108088e0>,\n",
       " 'Q9NX74-GGMGAALLSDPDKIEK': <networkx.classes.graph.Graph at 0x7f27107c27f0>,\n",
       " 'P43686-ISGADINSICQESGMLAVR': <networkx.classes.graph.Graph at 0x7f2710772a60>,\n",
       " 'O14929-LMQGFNEDMAIEAQQK': <networkx.classes.graph.Graph at 0x7f2710736850>,\n",
       " 'P09651-IEVIEIMTDR': <networkx.classes.graph.Graph at 0x7f2710606220>,\n",
       " 'Q9NS86-LHLGGEAEMEER': <networkx.classes.graph.Graph at 0x7f27105f40d0>,\n",
       " 'Q12912-AEMLGAINQESR': <networkx.classes.graph.Graph at 0x7f27104e74c0>,\n",
       " 'Q13011-MMADEALGSGLVSR': <networkx.classes.graph.Graph at 0x7f27104b4460>,\n",
       " 'O00767-LVMFQR': <networkx.classes.graph.Graph at 0x7f27103d2670>,\n",
       " 'P07910-MIAGQVLDINLAAEPK': <networkx.classes.graph.Graph at 0x7f2710336160>,\n",
       " 'O60942-EMLFEFIDR': <networkx.classes.graph.Graph at 0x7f27102e42b0>,\n",
       " 'Q10713-LTDEEVEMTR': <networkx.classes.graph.Graph at 0x7f2710210790>,\n",
       " 'Q8TDN6-LFVINEVCEMK': <networkx.classes.graph.Graph at 0x7f27100b83a0>,\n",
       " 'P10301-LDILDTAGQEEFGAMR': <networkx.classes.graph.Graph at 0x7f27100455b0>,\n",
       " 'Q9H0E2-DAAINSLLQMGEEP': <networkx.classes.graph.Graph at 0x7f2710002fa0>,\n",
       " 'Q9UK97-AMQLVPDIEFK': <networkx.classes.graph.Graph at 0x7f270ffcabe0>,\n",
       " 'Q9BV23-QDQVLDVSGADMLAK': <networkx.classes.graph.Graph at 0x7f270fec7460>,\n",
       " 'P61163-VMAGALEGDIFIGPK': <networkx.classes.graph.Graph at 0x7f270fe3bfa0>,\n",
       " 'Q14103-ESESVDKVMDQK': <networkx.classes.graph.Graph at 0x7f270fd70190>,\n",
       " 'Q92688-IFGGLDMLAEK': <networkx.classes.graph.Graph at 0x7f270fd09670>,\n",
       " 'O43709-MIDIQTR': <networkx.classes.graph.Graph at 0x7f270fcce8e0>,\n",
       " 'P18621-SAEFLLHMLK': <networkx.classes.graph.Graph at 0x7f270fc55700>,\n",
       " 'P04066-ITMLGIQGDLK': <networkx.classes.graph.Graph at 0x7f270fbc1220>,\n",
       " 'Q99497-GAEEMETVIPVDVMR': <networkx.classes.graph.Graph at 0x7f270fabd5e0>,\n",
       " 'Q15286-FAGQMGIQLFETSAK': <networkx.classes.graph.Graph at 0x7f270fa3e250>,\n",
       " 'P18085-ILMVGLDAAGK': <networkx.classes.graph.Graph at 0x7f270fa2a0a0>,\n",
       " 'P22234-DLKEVTPEGLQMVK': <networkx.classes.graph.Graph at 0x7f270f9ed610>,\n",
       " 'Q01543-NGPPPPNMTTNER': <networkx.classes.graph.Graph at 0x7f270f936bb0>,\n",
       " 'Q9NZL9-MLDPSIK': <networkx.classes.graph.Graph at 0x7f270f892df0>,\n",
       " 'O75191-VVAFTGDNPASLAGMR': <networkx.classes.graph.Graph at 0x7f270f826a60>,\n",
       " 'Q9H4A6-LQLEACGMR': <networkx.classes.graph.Graph at 0x7f270f67b8e0>,\n",
       " 'Q16576-EMFEDTVEER': <networkx.classes.graph.Graph at 0x7f270f66adc0>,\n",
       " 'O15305-TMGYSVTAPEDTR': <networkx.classes.graph.Graph at 0x7f270f5035e0>,\n",
       " 'Q9ULR3-YTLAAQDLVMR': <networkx.classes.graph.Graph at 0x7f270f4eaf40>,\n",
       " 'P06132-EAGLAPVPMIIFAK': <networkx.classes.graph.Graph at 0x7f270f3baf10>,\n",
       " 'O75844-DIQEDSGMEPR': <networkx.classes.graph.Graph at 0x7f270f2ca6a0>,\n",
       " 'Q6ZYL4-VGELMDQNAFSLTQK': <networkx.classes.graph.Graph at 0x7f270f1c1fd0>,\n",
       " 'P49720-FGIQAQMVTTDFQK': <networkx.classes.graph.Graph at 0x7f270f195c70>,\n",
       " 'P67936-MEIQEMQLK': <networkx.classes.graph.Graph at 0x7f270f10d700>,\n",
       " 'P49366-AVQQVNAMIEK': <networkx.classes.graph.Graph at 0x7f270f0d65e0>,\n",
       " 'O15126-AQQEFATGVMSNK': <networkx.classes.graph.Graph at 0x7f2715f48970>,\n",
       " 'Q13868-SAEDELAMR': <networkx.classes.graph.Graph at 0x7f2715e3e280>,\n",
       " 'Q16543-DVQMLQDAISK': <networkx.classes.graph.Graph at 0x7f2715e09d90>,\n",
       " 'P55039-IDQISMEEVDR': <networkx.classes.graph.Graph at 0x7f2715d4d190>,\n",
       " 'Q96EY8-VVPLVQMGETDANVAK': <networkx.classes.graph.Graph at 0x7f2715ceca30>,\n",
       " 'Q96KC8-DSVTCSPGMVR': <networkx.classes.graph.Graph at 0x7f2715c0e190>,\n",
       " 'P35813-TGFLEIDEHMR': <networkx.classes.graph.Graph at 0x7f2715c23c10>,\n",
       " 'Q96C19-DGFIDLMELK': <networkx.classes.graph.Graph at 0x7f2715b725b0>,\n",
       " 'P63027-LQQTQAQVDEVVDIMR': <networkx.classes.graph.Graph at 0x7f2715b2aac0>,\n",
       " 'P49903-LGIGMDTCVIPLR': <networkx.classes.graph.Graph at 0x7f2715aecca0>,\n",
       " 'Q9UKL6-STSMPQLGER': <networkx.classes.graph.Graph at 0x7f2715a1adc0>,\n",
       " 'Q9NPE3-VLMTQQPRPVL': <networkx.classes.graph.Graph at 0x7f2715945820>,\n",
       " 'Q9NRG7-AIMLLEGQK': <networkx.classes.graph.Graph at 0x7f2715977790>,\n",
       " 'Q49B96-KLMLQEPLEK': <networkx.classes.graph.Graph at 0x7f271588f880>,\n",
       " 'P30084-EGMTAFVEK': <networkx.classes.graph.Graph at 0x7f2715845d60>,\n",
       " 'P23381-MSASDPNSSIFLTDTAK': <networkx.classes.graph.Graph at 0x7f27157e52e0>,\n",
       " 'Q9BVC3-MLLQNAVK': <networkx.classes.graph.Graph at 0x7f2715709fa0>,\n",
       " 'Q9BUI4-QVEDFAMIPAK': <networkx.classes.graph.Graph at 0x7f271565f250>,\n",
       " 'Q53S33-VTDISGGCGAMYEIK': <networkx.classes.graph.Graph at 0x7f27154f95b0>,\n",
       " 'Q9UBQ7-NTMSLLAANNLLAGLR': <networkx.classes.graph.Graph at 0x7f271552e820>,\n",
       " 'P14678-GENLVSMTVEGPPPK': <networkx.classes.graph.Graph at 0x7f27154adfa0>,\n",
       " 'Q7Z4G1-LGMAVSSDTCR': <networkx.classes.graph.Graph at 0x7f27154283d0>,\n",
       " 'Q9BUB5-ICDFDLGSGMK': <networkx.classes.graph.Graph at 0x7f27153ce4c0>,\n",
       " 'Q9Y312-FSELPTQMFPEGATPAEITK': <networkx.classes.graph.Graph at 0x7f271536faf0>,\n",
       " 'Q712K3-ALMLELK': <networkx.classes.graph.Graph at 0x7f271529ad90>,\n",
       " 'P34949-GDCVECMACSDNTVR': <networkx.classes.graph.Graph at 0x7f271522d670>,\n",
       " 'O75439-SFGGGMNLSSK': <networkx.classes.graph.Graph at 0x7f27150c8280>,\n",
       " 'P21281-GPVVLAEDFLDIMGQPINPQCR': <networkx.classes.graph.Graph at 0x7f271500ca30>,\n",
       " 'Q9UQN3-TLQTMQNFQK': <networkx.classes.graph.Graph at 0x7f270cf8a640>}"
      ]
     },
     "execution_count": 88,
     "metadata": {},
     "output_type": "execute_result"
    }
   ],
   "source": [
    "graphs"
   ]
  },
  {
   "cell_type": "code",
   "execution_count": null,
   "metadata": {},
   "outputs": [],
   "source": []
  },
  {
   "cell_type": "code",
   "execution_count": null,
   "metadata": {},
   "outputs": [],
   "source": []
  },
  {
   "cell_type": "code",
   "execution_count": 41,
   "metadata": {},
   "outputs": [],
   "source": [
    "sasa_mets = []\n",
    "for row, data in filtered.iterrows():\n",
    "    accession = data[\"accession\"]\n",
    "    met_position = data[\"met_position\"]\n",
    "    sasa_feats = sasa_dfs[accession].query(\"ResidNr == @met_position\")[sasa_feat_columns]\n",
    "    sasa_feats[\"accession\"] = accession\n",
    "    sasa_feats[\"met_position\"] = met_position\n",
    "    sasa_feats[\"ox_fwd_logit\"] = data[\"ox_fwd_logit\"]\n",
    "    sasa_feats[\"%ox_fwd\"] = data[\"%ox_fwd\"]\n",
    "    sasa_mets.append(sasa_feats)"
   ]
  },
  {
   "cell_type": "markdown",
   "metadata": {},
   "source": [
    "### Problematic SASA/PDB files"
   ]
  },
  {
   "cell_type": "code",
   "execution_count": 58,
   "metadata": {},
   "outputs": [
    {
     "data": {
      "text/html": [
       "<div>\n",
       "<style scoped>\n",
       "    .dataframe tbody tr th:only-of-type {\n",
       "        vertical-align: middle;\n",
       "    }\n",
       "\n",
       "    .dataframe tbody tr th {\n",
       "        vertical-align: top;\n",
       "    }\n",
       "\n",
       "    .dataframe thead th {\n",
       "        text-align: right;\n",
       "    }\n",
       "</style>\n",
       "<table border=\"1\" class=\"dataframe\">\n",
       "  <thead>\n",
       "    <tr style=\"text-align: right;\">\n",
       "      <th></th>\n",
       "      <th>ResidNe</th>\n",
       "      <th>Phob/A^2</th>\n",
       "      <th>Phil/A^2</th>\n",
       "      <th>SASA/A^2</th>\n",
       "      <th>Q(SASA)</th>\n",
       "      <th>N(overl)</th>\n",
       "      <th>Surf/A^2</th>\n",
       "      <th>accession</th>\n",
       "      <th>met_position</th>\n",
       "      <th>ox_fwd_logit</th>\n",
       "      <th>%ox_fwd</th>\n",
       "    </tr>\n",
       "  </thead>\n",
       "  <tbody>\n",
       "    <tr>\n",
       "      <th>175</th>\n",
       "      <td>MET</td>\n",
       "      <td>2.820188</td>\n",
       "      <td>1.644805</td>\n",
       "      <td>3.089223</td>\n",
       "      <td>0.096</td>\n",
       "      <td>748</td>\n",
       "      <td>5.432411</td>\n",
       "      <td>A6NEC2</td>\n",
       "      <td>216.0</td>\n",
       "      <td>-4.538654</td>\n",
       "      <td>1.057476</td>\n",
       "    </tr>\n",
       "    <tr>\n",
       "      <th>110</th>\n",
       "      <td>MET</td>\n",
       "      <td>3.398193</td>\n",
       "      <td>1.593309</td>\n",
       "      <td>3.550479</td>\n",
       "      <td>0.1523</td>\n",
       "      <td>576</td>\n",
       "      <td>5.432411</td>\n",
       "      <td>A6NIZ1</td>\n",
       "      <td>111.0</td>\n",
       "      <td>-3.277993</td>\n",
       "      <td>3.633391</td>\n",
       "    </tr>\n",
       "    <tr>\n",
       "      <th>55</th>\n",
       "      <td>MET</td>\n",
       "      <td>4.640441</td>\n",
       "      <td>2.093098</td>\n",
       "      <td>4.715817</td>\n",
       "      <td>0.4884</td>\n",
       "      <td>368</td>\n",
       "      <td>5.432411</td>\n",
       "      <td>A8MWD9</td>\n",
       "      <td>69.0</td>\n",
       "      <td>-3.151175</td>\n",
       "      <td>4.104501</td>\n",
       "    </tr>\n",
       "    <tr>\n",
       "      <th>58</th>\n",
       "      <td>MET</td>\n",
       "      <td>3.230804</td>\n",
       "      <td>1.660131</td>\n",
       "      <td>3.419692</td>\n",
       "      <td>0.1336</td>\n",
       "      <td>510</td>\n",
       "      <td>5.432411</td>\n",
       "      <td>O00170</td>\n",
       "      <td>60.0</td>\n",
       "      <td>-2.781747</td>\n",
       "      <td>5.831856</td>\n",
       "    </tr>\n",
       "    <tr>\n",
       "      <th>431</th>\n",
       "      <td>MET</td>\n",
       "      <td>2.525729</td>\n",
       "      <td>1.731656</td>\n",
       "      <td>2.898671</td>\n",
       "      <td>0.0793</td>\n",
       "      <td>707</td>\n",
       "      <td>5.432411</td>\n",
       "      <td>O00186</td>\n",
       "      <td>438.0</td>\n",
       "      <td>-3.809290</td>\n",
       "      <td>2.168332</td>\n",
       "    </tr>\n",
       "    <tr>\n",
       "      <th>...</th>\n",
       "      <td>...</td>\n",
       "      <td>...</td>\n",
       "      <td>...</td>\n",
       "      <td>...</td>\n",
       "      <td>...</td>\n",
       "      <td>...</td>\n",
       "      <td>...</td>\n",
       "      <td>...</td>\n",
       "      <td>...</td>\n",
       "      <td>...</td>\n",
       "      <td>...</td>\n",
       "    </tr>\n",
       "    <tr>\n",
       "      <th>139</th>\n",
       "      <td>MET</td>\n",
       "      <td>3.652215</td>\n",
       "      <td>2.578701</td>\n",
       "      <td>3.946231</td>\n",
       "      <td>0.2262</td>\n",
       "      <td>472</td>\n",
       "      <td>5.432411</td>\n",
       "      <td>Q9Y3C4</td>\n",
       "      <td>140.0</td>\n",
       "      <td>-2.894574</td>\n",
       "      <td>5.242244</td>\n",
       "    </tr>\n",
       "    <tr>\n",
       "      <th>115</th>\n",
       "      <td>MET</td>\n",
       "      <td>2.628285</td>\n",
       "      <td>1.095273</td>\n",
       "      <td>2.823757</td>\n",
       "      <td>0.0736</td>\n",
       "      <td>617</td>\n",
       "      <td>5.432411</td>\n",
       "      <td>Q9Y3E7</td>\n",
       "      <td>127.0</td>\n",
       "      <td>-4.595120</td>\n",
       "      <td>0.271624</td>\n",
       "    </tr>\n",
       "    <tr>\n",
       "      <th>126</th>\n",
       "      <td>MET</td>\n",
       "      <td>4.600560</td>\n",
       "      <td>1.769855</td>\n",
       "      <td>4.657858</td>\n",
       "      <td>0.4609</td>\n",
       "      <td>462</td>\n",
       "      <td>5.432411</td>\n",
       "      <td>Q9Y3L5</td>\n",
       "      <td>127.0</td>\n",
       "      <td>-0.942313</td>\n",
       "      <td>28.043333</td>\n",
       "    </tr>\n",
       "    <tr>\n",
       "      <th>134</th>\n",
       "      <td>MET</td>\n",
       "      <td>3.816173</td>\n",
       "      <td>2.109000</td>\n",
       "      <td>3.982854</td>\n",
       "      <td>0.2347</td>\n",
       "      <td>486</td>\n",
       "      <td>5.432411</td>\n",
       "      <td>Q9Y5W9</td>\n",
       "      <td>145.0</td>\n",
       "      <td>-1.813720</td>\n",
       "      <td>14.018914</td>\n",
       "    </tr>\n",
       "    <tr>\n",
       "      <th>325</th>\n",
       "      <td>MET</td>\n",
       "      <td>4.513165</td>\n",
       "      <td>1.900614</td>\n",
       "      <td>4.584049</td>\n",
       "      <td>0.4281</td>\n",
       "      <td>407</td>\n",
       "      <td>5.432411</td>\n",
       "      <td>Q9Y6G9</td>\n",
       "      <td>377.0</td>\n",
       "      <td>-1.823244</td>\n",
       "      <td>13.904511</td>\n",
       "    </tr>\n",
       "  </tbody>\n",
       "</table>\n",
       "<p>358 rows × 11 columns</p>\n",
       "</div>"
      ],
      "text/plain": [
       "    ResidNe  Phob/A^2  Phil/A^2  SASA/A^2 Q(SASA)  N(overl)  Surf/A^2  \\\n",
       "175     MET  2.820188  1.644805  3.089223   0.096       748  5.432411   \n",
       "110     MET  3.398193  1.593309  3.550479  0.1523       576  5.432411   \n",
       "55      MET  4.640441  2.093098  4.715817  0.4884       368  5.432411   \n",
       "58      MET  3.230804  1.660131  3.419692  0.1336       510  5.432411   \n",
       "431     MET  2.525729  1.731656  2.898671  0.0793       707  5.432411   \n",
       "..      ...       ...       ...       ...     ...       ...       ...   \n",
       "139     MET  3.652215  2.578701  3.946231  0.2262       472  5.432411   \n",
       "115     MET  2.628285  1.095273  2.823757  0.0736       617  5.432411   \n",
       "126     MET  4.600560  1.769855  4.657858  0.4609       462  5.432411   \n",
       "134     MET  3.816173  2.109000  3.982854  0.2347       486  5.432411   \n",
       "325     MET  4.513165  1.900614  4.584049  0.4281       407  5.432411   \n",
       "\n",
       "    accession  met_position  ox_fwd_logit    %ox_fwd  \n",
       "175    A6NEC2         216.0     -4.538654   1.057476  \n",
       "110    A6NIZ1         111.0     -3.277993   3.633391  \n",
       "55     A8MWD9          69.0     -3.151175   4.104501  \n",
       "58     O00170          60.0     -2.781747   5.831856  \n",
       "431    O00186         438.0     -3.809290   2.168332  \n",
       "..        ...           ...           ...        ...  \n",
       "139    Q9Y3C4         140.0     -2.894574   5.242244  \n",
       "115    Q9Y3E7         127.0     -4.595120   0.271624  \n",
       "126    Q9Y3L5         127.0     -0.942313  28.043333  \n",
       "134    Q9Y5W9         145.0     -1.813720  14.018914  \n",
       "325    Q9Y6G9         377.0     -1.823244  13.904511  \n",
       "\n",
       "[358 rows x 11 columns]"
      ]
     },
     "execution_count": 58,
     "metadata": {},
     "output_type": "execute_result"
    }
   ],
   "source": [
    "# We are dropping any of those that have incorrect MET position.\n",
    "# TODO: Fix Excel table\n",
    "import numpy as np\n",
    "\n",
    "area_columns = [c for c in sasa_feat_columns if \"A^2\" in c]\n",
    "\n",
    "sasa_df = pd.concat(sasa_mets).query(\"ResidNe == 'MET'\").transform_columns(area_columns, np.log)\n",
    "sasa_df"
   ]
  },
  {
   "cell_type": "code",
   "execution_count": 72,
   "metadata": {},
   "outputs": [],
   "source": [
    "bad_mets = pd.concat(sasa_mets).query(\"ResidNe != 'MET'\")"
   ]
  },
  {
   "cell_type": "markdown",
   "metadata": {},
   "source": [
    "Uncovered a data quality issue here, \"end\" recorded in table may not necessarily be the correct end position for the sequence.\n",
    "\n",
    "We will skip these guys for the time being."
   ]
  },
  {
   "cell_type": "code",
   "execution_count": 67,
   "metadata": {},
   "outputs": [],
   "source": [
    "y_column = \"ox_fwd_logit\"\n"
   ]
  },
  {
   "cell_type": "code",
   "execution_count": 73,
   "metadata": {},
   "outputs": [],
   "source": [
    "from sklearn.linear_model import LinearRegression"
   ]
  },
  {
   "cell_type": "code",
   "execution_count": 74,
   "metadata": {},
   "outputs": [
    {
     "data": {
      "text/plain": [
       "LinearRegression()"
      ]
     },
     "execution_count": 74,
     "metadata": {},
     "output_type": "execute_result"
    }
   ],
   "source": [
    "X_columns = [\"SASA/A^2\", \"N(overl)\"]\n",
    "y_column = \"ox_fwd_logit\"\n",
    "lr = LinearRegression()\n",
    "lr.fit(sasa_df[X_columns], sasa_df[y_column])"
   ]
  },
  {
   "cell_type": "code",
   "execution_count": 80,
   "metadata": {},
   "outputs": [
    {
     "data": {
      "text/plain": [
       "(0.22000221586051338, 1.0642195490436896)"
      ]
     },
     "execution_count": 80,
     "metadata": {},
     "output_type": "execute_result"
    }
   ],
   "source": [
    "from sklearn.metrics import explained_variance_score as evs, mean_squared_error as mse\n",
    "preds = lr.predict(sasa_df[X_columns])\n",
    "evs(sasa_df[y_column], preds), mse(sasa_df[y_column], preds)"
   ]
  },
  {
   "cell_type": "code",
   "execution_count": 79,
   "metadata": {},
   "outputs": [
    {
     "data": {
      "text/plain": [
       "<matplotlib.collections.PathCollection at 0x7f2726cde0a0>"
      ]
     },
     "execution_count": 79,
     "metadata": {},
     "output_type": "execute_result"
    },
    {
     "data": {
      "image/png": "[encoded data removed]",
      "text/plain": [
       "<Figure size 432x288 with 1 Axes>"
      ]
     },
     "metadata": {
      "image/png": {
       "height": 248,
       "width": 370
      },
      "needs_background": "light"
     },
     "output_type": "display_data"
    }
   ],
   "source": [
    "import matplotlib.pyplot as plt\n",
    "\n",
    "plt.scatter(preds, sasa_df[y_column])"
   ]
  },
  {
   "cell_type": "code",
   "execution_count": null,
   "metadata": {},
   "outputs": [],
   "source": []
  },
  {
   "cell_type": "code",
   "execution_count": null,
   "metadata": {},
   "outputs": [],
   "source": []
  },
  {
   "cell_type": "code",
   "execution_count": null,
   "metadata": {},
   "outputs": [],
   "source": []
  },
  {
   "cell_type": "code",
   "execution_count": 68,
   "metadata": {},
   "outputs": [
    {
     "data": {
      "text/plain": [
       "<AxesSubplot:xlabel='SASA/A^2', ylabel='ox_fwd_logit'>"
      ]
     },
     "execution_count": 68,
     "metadata": {},
     "output_type": "execute_result"
    },
    {
     "data": {
      "image/png": "[encoded data removed]",
      "text/plain": [
       "<Figure size 432x288 with 1 Axes>"
      ]
     },
     "metadata": {
      "image/png": {
       "height": 261,
       "width": 384
      },
      "needs_background": "light"
     },
     "output_type": "display_data"
    }
   ],
   "source": [
    "sasa_df.plot(kind=\"scatter\", x=\"SASA/A^2\", y=y_column)"
   ]
  },
  {
   "cell_type": "code",
   "execution_count": 69,
   "metadata": {},
   "outputs": [
    {
     "data": {
      "text/plain": [
       "<AxesSubplot:xlabel='Phil/A^2', ylabel='ox_fwd_logit'>"
      ]
     },
     "execution_count": 69,
     "metadata": {},
     "output_type": "execute_result"
    },
    {
     "data": {
      "image/png": "[encoded data removed]",
      "text/plain": [
       "<Figure size 432x288 with 1 Axes>"
      ]
     },
     "metadata": {
      "image/png": {
       "height": 261,
       "width": 384
      },
      "needs_background": "light"
     },
     "output_type": "display_data"
    }
   ],
   "source": [
    "sasa_df.plot(kind=\"scatter\", x=\"Phil/A^2\", y=y_column)"
   ]
  },
  {
   "cell_type": "code",
   "execution_count": 70,
   "metadata": {},
   "outputs": [
    {
     "data": {
      "text/plain": [
       "<AxesSubplot:xlabel='Phob/A^2', ylabel='ox_fwd_logit'>"
      ]
     },
     "execution_count": 70,
     "metadata": {},
     "output_type": "execute_result"
    },
    {
     "data": {
      "image/png": "[encoded data removed]",
      "text/plain": [
       "<Figure size 432x288 with 1 Axes>"
      ]
     },
     "metadata": {
      "image/png": {
       "height": 261,
       "width": 389
      },
      "needs_background": "light"
     },
     "output_type": "display_data"
    }
   ],
   "source": [
    "sasa_df.plot(kind=\"scatter\", x=\"Phob/A^2\", y=y_column)"
   ]
  },
  {
   "cell_type": "code",
   "execution_count": 71,
   "metadata": {},
   "outputs": [
    {
     "data": {
      "text/plain": [
       "<AxesSubplot:xlabel='N(overl)', ylabel='ox_fwd_logit'>"
      ]
     },
     "execution_count": 71,
     "metadata": {},
     "output_type": "execute_result"
    },
    {
     "data": {
      "image/png": "[encoded data removed]",
      "text/plain": [
       "<Figure size 432x288 with 1 Axes>"
      ]
     },
     "metadata": {
      "image/png": {
       "height": 261,
       "width": 392
      },
      "needs_background": "light"
     },
     "output_type": "display_data"
    }
   ],
   "source": [
    "sasa_df.plot(kind=\"scatter\", x=\"N(overl)\", y=y_column)"
   ]
  },
  {
   "cell_type": "code",
   "execution_count": null,
   "metadata": {},
   "outputs": [],
   "source": []
  },
  {
   "cell_type": "code",
   "execution_count": null,
   "metadata": {},
   "outputs": [],
   "source": [
    "liauhyrfalo;wieyghlfkjhdalweuirgh"
   ]
  },
  {
   "cell_type": "code",
   "execution_count": null,
   "metadata": {},
   "outputs": [],
   "source": []
  },
  {
   "cell_type": "code",
   "execution_count": null,
   "metadata": {},
   "outputs": [],
   "source": []
  },
  {
   "cell_type": "code",
   "execution_count": null,
   "metadata": {},
   "outputs": [],
   "source": []
  },
  {
   "cell_type": "code",
   "execution_count": null,
   "metadata": {},
   "outputs": [],
   "source": []
  },
  {
   "cell_type": "code",
   "execution_count": null,
   "metadata": {},
   "outputs": [],
   "source": []
  },
  {
   "cell_type": "code",
   "execution_count": null,
   "metadata": {},
   "outputs": [],
   "source": []
  },
  {
   "cell_type": "code",
   "execution_count": null,
   "metadata": {},
   "outputs": [],
   "source": []
  },
  {
   "cell_type": "code",
   "execution_count": null,
   "metadata": {},
   "outputs": [],
   "source": []
  },
  {
   "cell_type": "code",
   "execution_count": null,
   "metadata": {},
   "outputs": [],
   "source": []
  },
  {
   "cell_type": "code",
   "execution_count": null,
   "metadata": {},
   "outputs": [],
   "source": []
  },
  {
   "cell_type": "code",
   "execution_count": null,
   "metadata": {},
   "outputs": [],
   "source": []
  },
  {
   "cell_type": "code",
   "execution_count": null,
   "metadata": {},
   "outputs": [],
   "source": []
  },
  {
   "cell_type": "code",
   "execution_count": null,
   "metadata": {},
   "outputs": [],
   "source": []
  },
  {
   "cell_type": "code",
   "execution_count": null,
   "metadata": {},
   "outputs": [],
   "source": []
  },
  {
   "cell_type": "code",
   "execution_count": null,
   "metadata": {},
   "outputs": [],
   "source": []
  }
 ],
 "metadata": {
  "kernelspec": {
   "display_name": "patch-gnn",
   "language": "python",
   "name": "patch-gnn"
  },
  "language_info": {
   "codemirror_mode": {
    "name": "ipython",
    "version": 3
   },
   "file_extension": ".py",
   "mimetype": "text/x-python",
   "name": "python",
   "nbconvert_exporter": "python",
   "pygments_lexer": "ipython3",
   "version": "3.8.8"
  },
  "widgets": {
   "application/vnd.jupyter.widget-state+json": {
    "state": {
     "02cc824cc4f14faeb976480af9d2be65": {
      "model_module": "@jupyter-widgets/controls",
      "model_module_version": "1.5.0",
      "model_name": "DescriptionStyleModel",
      "state": {
       "description_width": ""
      }
     },
     "078db31a3807403892edd5916a292238": {
      "model_module": "@jupyter-widgets/controls",
      "model_module_version": "1.5.0",
      "model_name": "DescriptionStyleModel",
      "state": {
       "description_width": ""
      }
     },
     "0da9b065a83d43e4af2e60118d7a18a0": {
      "model_module": "@jupyter-widgets/controls",
      "model_module_version": "1.5.0",
      "model_name": "DescriptionStyleModel",
      "state": {
       "description_width": ""
      }
     },
     "1139655935d64493bda1b70435ea23d4": {
      "model_module": "@jupyter-widgets/base",
      "model_module_version": "1.2.0",
      "model_name": "LayoutModel",
      "state": {
       "width": "20px"
      }
     },
     "1cb0bbeb24eb4a7aaa3c573fd158b707": {
      "model_module": "@jupyter-widgets/controls",
      "model_module_version": "1.5.0",
      "model_name": "FloatProgressModel",
      "state": {
       "bar_style": "success",
       "description": "100%",
       "layout": "IPY_MODEL_8baacb88fe214ba9bb23735d9d1d3876",
       "max": 810,
       "style": "IPY_MODEL_a4100a694e3c4f97aecb502cc67a6b91",
       "value": 810
      }
     },
     "2b6b3f9debeb4b2e9847ffff43ada0da": {
      "model_module": "@jupyter-widgets/base",
      "model_module_version": "1.2.0",
      "model_name": "LayoutModel",
      "state": {}
     },
     "2ca1e5bbf9fc4e5ca25c58d4597d53a6": {
      "model_module": "@jupyter-widgets/base",
      "model_module_version": "1.2.0",
      "model_name": "LayoutModel",
      "state": {}
     },
     "37041f2033724f09b607651f3e8f0890": {
      "model_module": "@jupyter-widgets/controls",
      "model_module_version": "1.5.0",
      "model_name": "FloatProgressModel",
      "state": {
       "bar_style": "success",
       "layout": "IPY_MODEL_1139655935d64493bda1b70435ea23d4",
       "max": 1,
       "style": "IPY_MODEL_e96e1566c4c94ab0b8da7f0f14d03f43",
       "value": 1
      }
     },
     "3bbf23a251434534ade779edfcb687e0": {
      "model_module": "@jupyter-widgets/base",
      "model_module_version": "1.2.0",
      "model_name": "LayoutModel",
      "state": {}
     },
     "3bf438c0262b4823aa554adaf2e9666e": {
      "model_module": "@jupyter-widgets/controls",
      "model_module_version": "1.5.0",
      "model_name": "HTMLModel",
      "state": {
       "layout": "IPY_MODEL_2b6b3f9debeb4b2e9847ffff43ada0da",
       "style": "IPY_MODEL_078db31a3807403892edd5916a292238",
       "value": "810it [03:31,  3.83it/s]"
      }
     },
     "3d000d185b7e44fbb0585a348e4273c1": {
      "model_module": "@jupyter-widgets/controls",
      "model_module_version": "1.5.0",
      "model_name": "FloatProgressModel",
      "state": {
       "bar_style": "danger",
       "description": "  0%",
       "layout": "IPY_MODEL_4b7d0142f0de46ee9ea2343077ef3e5e",
       "max": 810,
       "style": "IPY_MODEL_997238bc1d1f404c850d21ef06c281cc"
      }
     },
     "45d004d6c2624c1aab2c3cad9aa9a7bd": {
      "model_module": "@jupyter-widgets/base",
      "model_module_version": "1.2.0",
      "model_name": "LayoutModel",
      "state": {
       "width": "20px"
      }
     },
     "4960782a1e054de192531a68714a480d": {
      "model_module": "@jupyter-widgets/controls",
      "model_module_version": "1.5.0",
      "model_name": "DescriptionStyleModel",
      "state": {
       "description_width": ""
      }
     },
     "4a7c72af9e8040bda1877d5ee7b06201": {
      "model_module": "@jupyter-widgets/controls",
      "model_module_version": "1.5.0",
      "model_name": "FloatProgressModel",
      "state": {
       "bar_style": "success",
       "description": "100%",
       "layout": "IPY_MODEL_d15cb12dff624d7a88adda2cac927083",
       "max": 373,
       "style": "IPY_MODEL_77a7a466b049476fa5c4b3201f04c680",
       "value": 373
      }
     },
     "4b7d0142f0de46ee9ea2343077ef3e5e": {
      "model_module": "@jupyter-widgets/base",
      "model_module_version": "1.2.0",
      "model_name": "LayoutModel",
      "state": {}
     },
     "5147434b232d4a78ad16f0c480e4506c": {
      "model_module": "@jupyter-widgets/controls",
      "model_module_version": "1.5.0",
      "model_name": "HTMLModel",
      "state": {
       "layout": "IPY_MODEL_5165128e956142948485c474cbe5f9c0",
       "style": "IPY_MODEL_c17c4739d9444365a94789f07d59a869",
       "value": "0it [00:06, ?it/s]"
      }
     },
     "5165128e956142948485c474cbe5f9c0": {
      "model_module": "@jupyter-widgets/base",
      "model_module_version": "1.2.0",
      "model_name": "LayoutModel",
      "state": {}
     },
     "533cdf6ad10a4eb69a119458ac6f1bbc": {
      "model_module": "@jupyter-widgets/base",
      "model_module_version": "1.2.0",
      "model_name": "LayoutModel",
      "state": {}
     },
     "5470ffd2112d472192adcc79e2df0045": {
      "model_module": "@jupyter-widgets/base",
      "model_module_version": "1.2.0",
      "model_name": "LayoutModel",
      "state": {}
     },
     "55ef5b1e1c05440392f718b18f9558d2": {
      "model_module": "@jupyter-widgets/controls",
      "model_module_version": "1.5.0",
      "model_name": "HTMLModel",
      "state": {
       "layout": "IPY_MODEL_ff866368720a49d69a3e9dac10a0139e",
       "style": "IPY_MODEL_4960782a1e054de192531a68714a480d",
       "value": "810it [03:55,  3.44it/s]"
      }
     },
     "58e1006267774265bf676242e70c7c6c": {
      "model_module": "@jupyter-widgets/controls",
      "model_module_version": "1.5.0",
      "model_name": "HTMLModel",
      "state": {
       "layout": "IPY_MODEL_3bbf23a251434534ade779edfcb687e0",
       "style": "IPY_MODEL_9a89450c309240db99cf7aeaef627017",
       "value": "0it [00:03, ?it/s]"
      }
     },
     "602830a572ae48b8a8974bc498fbd34e": {
      "model_module": "@jupyter-widgets/controls",
      "model_module_version": "1.5.0",
      "model_name": "ProgressStyleModel",
      "state": {
       "description_width": "initial"
      }
     },
     "6d05be2336f34a07807baf5b7d149e48": {
      "model_module": "@jupyter-widgets/base",
      "model_module_version": "1.2.0",
      "model_name": "LayoutModel",
      "state": {
       "width": "20px"
      }
     },
     "75fbc9f0a12a48e6a6e3cea7ab91c5d7": {
      "model_module": "@jupyter-widgets/controls",
      "model_module_version": "1.5.0",
      "model_name": "HTMLModel",
      "state": {
       "layout": "IPY_MODEL_533cdf6ad10a4eb69a119458ac6f1bbc",
       "style": "IPY_MODEL_f34e36b6220448acac8075a84cc4fb87",
       "value": " 373/373 [00:13&lt;00:00, 27.47it/s]"
      }
     },
     "776d50d9333c4d52b1eac798815f8bdd": {
      "model_module": "@jupyter-widgets/base",
      "model_module_version": "1.2.0",
      "model_name": "LayoutModel",
      "state": {}
     },
     "77a7a466b049476fa5c4b3201f04c680": {
      "model_module": "@jupyter-widgets/controls",
      "model_module_version": "1.5.0",
      "model_name": "ProgressStyleModel",
      "state": {
       "description_width": "initial"
      }
     },
     "7bacfa0a26014085bd03015a22606c9c": {
      "model_module": "@jupyter-widgets/controls",
      "model_module_version": "1.5.0",
      "model_name": "FloatProgressModel",
      "state": {
       "bar_style": "danger",
       "layout": "IPY_MODEL_6d05be2336f34a07807baf5b7d149e48",
       "max": 1,
       "style": "IPY_MODEL_fd2ec1875bae4d06876ab9e3deec802d"
      }
     },
     "8974b0a1b70b4f538e7d6eff40900e3d": {
      "model_module": "@jupyter-widgets/controls",
      "model_module_version": "1.5.0",
      "model_name": "HBoxModel",
      "state": {
       "children": [
        "IPY_MODEL_4a7c72af9e8040bda1877d5ee7b06201",
        "IPY_MODEL_75fbc9f0a12a48e6a6e3cea7ab91c5d7"
       ],
       "layout": "IPY_MODEL_d30256801fa04fccb4fc02e39715ff00"
      }
     },
     "8baacb88fe214ba9bb23735d9d1d3876": {
      "model_module": "@jupyter-widgets/base",
      "model_module_version": "1.2.0",
      "model_name": "LayoutModel",
      "state": {}
     },
     "90d66904c45b44e98d5db456c41657ef": {
      "model_module": "@jupyter-widgets/base",
      "model_module_version": "1.2.0",
      "model_name": "LayoutModel",
      "state": {}
     },
     "9404240bdf9b4f41be5f4322406c8b9e": {
      "model_module": "@jupyter-widgets/controls",
      "model_module_version": "1.5.0",
      "model_name": "ProgressStyleModel",
      "state": {
       "description_width": "initial"
      }
     },
     "997238bc1d1f404c850d21ef06c281cc": {
      "model_module": "@jupyter-widgets/controls",
      "model_module_version": "1.5.0",
      "model_name": "ProgressStyleModel",
      "state": {
       "description_width": "initial"
      }
     },
     "9a89450c309240db99cf7aeaef627017": {
      "model_module": "@jupyter-widgets/controls",
      "model_module_version": "1.5.0",
      "model_name": "DescriptionStyleModel",
      "state": {
       "description_width": ""
      }
     },
     "9b4899edc27247139a9216e843ed4e2a": {
      "model_module": "@jupyter-widgets/base",
      "model_module_version": "1.2.0",
      "model_name": "LayoutModel",
      "state": {}
     },
     "9c27e2afb3654b5d8c00f77bc110da06": {
      "model_module": "@jupyter-widgets/controls",
      "model_module_version": "1.5.0",
      "model_name": "HTMLModel",
      "state": {
       "layout": "IPY_MODEL_9d1b2179a135495f89d851d8e7d78a53",
       "style": "IPY_MODEL_02cc824cc4f14faeb976480af9d2be65",
       "value": " 810/810 [00:17&lt;00:00, 46.66it/s]"
      }
     },
     "9d1b2179a135495f89d851d8e7d78a53": {
      "model_module": "@jupyter-widgets/base",
      "model_module_version": "1.2.0",
      "model_name": "LayoutModel",
      "state": {}
     },
     "9e7d5cb13c6b432ba3fa7d1c92e53634": {
      "model_module": "@jupyter-widgets/controls",
      "model_module_version": "1.5.0",
      "model_name": "HBoxModel",
      "state": {
       "children": [
        "IPY_MODEL_1cb0bbeb24eb4a7aaa3c573fd158b707",
        "IPY_MODEL_9c27e2afb3654b5d8c00f77bc110da06"
       ],
       "layout": "IPY_MODEL_d38b52fa31ed4cc3a07f47a9df743d9b"
      }
     },
     "a4100a694e3c4f97aecb502cc67a6b91": {
      "model_module": "@jupyter-widgets/controls",
      "model_module_version": "1.5.0",
      "model_name": "ProgressStyleModel",
      "state": {
       "description_width": "initial"
      }
     },
     "a5d786d6529a4ba395b75749b6ff2274": {
      "model_module": "@jupyter-widgets/controls",
      "model_module_version": "1.5.0",
      "model_name": "HBoxModel",
      "state": {
       "children": [
        "IPY_MODEL_caaf3db4a726434f9d941a20008678b6",
        "IPY_MODEL_5147434b232d4a78ad16f0c480e4506c"
       ],
       "layout": "IPY_MODEL_5470ffd2112d472192adcc79e2df0045"
      }
     },
     "ae442cd2f95545b6a3084954d927f9c7": {
      "model_module": "@jupyter-widgets/controls",
      "model_module_version": "1.5.0",
      "model_name": "HBoxModel",
      "state": {
       "children": [
        "IPY_MODEL_3d000d185b7e44fbb0585a348e4273c1",
        "IPY_MODEL_e16c28ae84884801bf3bc0e83293f446"
       ],
       "layout": "IPY_MODEL_90d66904c45b44e98d5db456c41657ef"
      }
     },
     "c17c4739d9444365a94789f07d59a869": {
      "model_module": "@jupyter-widgets/controls",
      "model_module_version": "1.5.0",
      "model_name": "DescriptionStyleModel",
      "state": {
       "description_width": ""
      }
     },
     "c6351b5c581d402d820e1179992f072b": {
      "model_module": "@jupyter-widgets/controls",
      "model_module_version": "1.5.0",
      "model_name": "HBoxModel",
      "state": {
       "children": [
        "IPY_MODEL_7bacfa0a26014085bd03015a22606c9c",
        "IPY_MODEL_58e1006267774265bf676242e70c7c6c"
       ],
       "layout": "IPY_MODEL_f68f51db2d6d46d5bd3364a3a1193921"
      }
     },
     "caaf3db4a726434f9d941a20008678b6": {
      "model_module": "@jupyter-widgets/controls",
      "model_module_version": "1.5.0",
      "model_name": "FloatProgressModel",
      "state": {
       "bar_style": "danger",
       "layout": "IPY_MODEL_45d004d6c2624c1aab2c3cad9aa9a7bd",
       "max": 1,
       "style": "IPY_MODEL_602830a572ae48b8a8974bc498fbd34e"
      }
     },
     "d15cb12dff624d7a88adda2cac927083": {
      "model_module": "@jupyter-widgets/base",
      "model_module_version": "1.2.0",
      "model_name": "LayoutModel",
      "state": {}
     },
     "d30256801fa04fccb4fc02e39715ff00": {
      "model_module": "@jupyter-widgets/base",
      "model_module_version": "1.2.0",
      "model_name": "LayoutModel",
      "state": {}
     },
     "d38b52fa31ed4cc3a07f47a9df743d9b": {
      "model_module": "@jupyter-widgets/base",
      "model_module_version": "1.2.0",
      "model_name": "LayoutModel",
      "state": {}
     },
     "d4eab34d2b0847a4885c37b954533bb7": {
      "model_module": "@jupyter-widgets/controls",
      "model_module_version": "1.5.0",
      "model_name": "FloatProgressModel",
      "state": {
       "bar_style": "success",
       "layout": "IPY_MODEL_ff1f14244e4b43b793fba606bc047a44",
       "max": 1,
       "style": "IPY_MODEL_9404240bdf9b4f41be5f4322406c8b9e",
       "value": 1
      }
     },
     "d889ad2cb8fa475aae0230fcf4c92a69": {
      "model_module": "@jupyter-widgets/controls",
      "model_module_version": "1.5.0",
      "model_name": "HBoxModel",
      "state": {
       "children": [
        "IPY_MODEL_37041f2033724f09b607651f3e8f0890",
        "IPY_MODEL_3bf438c0262b4823aa554adaf2e9666e"
       ],
       "layout": "IPY_MODEL_9b4899edc27247139a9216e843ed4e2a"
      }
     },
     "e16c28ae84884801bf3bc0e83293f446": {
      "model_module": "@jupyter-widgets/controls",
      "model_module_version": "1.5.0",
      "model_name": "HTMLModel",
      "state": {
       "layout": "IPY_MODEL_776d50d9333c4d52b1eac798815f8bdd",
       "style": "IPY_MODEL_0da9b065a83d43e4af2e60118d7a18a0",
       "value": " 0/810 [00:12&lt;?, ?it/s]"
      }
     },
     "e96e1566c4c94ab0b8da7f0f14d03f43": {
      "model_module": "@jupyter-widgets/controls",
      "model_module_version": "1.5.0",
      "model_name": "ProgressStyleModel",
      "state": {
       "description_width": "initial"
      }
     },
     "f34e36b6220448acac8075a84cc4fb87": {
      "model_module": "@jupyter-widgets/controls",
      "model_module_version": "1.5.0",
      "model_name": "DescriptionStyleModel",
      "state": {
       "description_width": ""
      }
     },
     "f68f51db2d6d46d5bd3364a3a1193921": {
      "model_module": "@jupyter-widgets/base",
      "model_module_version": "1.2.0",
      "model_name": "LayoutModel",
      "state": {}
     },
     "fc4c4308c78e4840802ee2a30f4a636e": {
      "model_module": "@jupyter-widgets/controls",
      "model_module_version": "1.5.0",
      "model_name": "HBoxModel",
      "state": {
       "children": [
        "IPY_MODEL_d4eab34d2b0847a4885c37b954533bb7",
        "IPY_MODEL_55ef5b1e1c05440392f718b18f9558d2"
       ],
       "layout": "IPY_MODEL_2ca1e5bbf9fc4e5ca25c58d4597d53a6"
      }
     },
     "fd2ec1875bae4d06876ab9e3deec802d": {
      "model_module": "@jupyter-widgets/controls",
      "model_module_version": "1.5.0",
      "model_name": "ProgressStyleModel",
      "state": {
       "description_width": "initial"
      }
     },
     "ff1f14244e4b43b793fba606bc047a44": {
      "model_module": "@jupyter-widgets/base",
      "model_module_version": "1.2.0",
      "model_name": "LayoutModel",
      "state": {
       "width": "20px"
      }
     },
     "ff866368720a49d69a3e9dac10a0139e": {
      "model_module": "@jupyter-widgets/base",
      "model_module_version": "1.2.0",
      "model_name": "LayoutModel",
      "state": {}
     }
    },
    "version_major": 2,
    "version_minor": 0
   }
  }
 },
 "nbformat": 4,
 "nbformat_minor": 4
}
