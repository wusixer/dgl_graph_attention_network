{
 "cells": [
  {
   "cell_type": "code",
   "execution_count": null,
   "metadata": {},
   "outputs": [],
   "source": [
    "%load_ext autoreload\n",
    "%autoreload 2\n",
    "%matplotlib inline\n",
    "%config InlineBackend.figure_format = 'retina'"
   ]
  },
  {
   "cell_type": "code",
   "execution_count": null,
   "metadata": {},
   "outputs": [],
   "source": [
    "import os\n",
    "\n",
    "os.__file__"
   ]
  },
  {
   "cell_type": "code",
   "execution_count": null,
   "metadata": {},
   "outputs": [],
   "source": [
    "from patch_gnn.data import load_ghesquire\n",
    "\n",
    "data = load_ghesquire()"
   ]
  },
  {
   "cell_type": "code",
   "execution_count": null,
   "metadata": {},
   "outputs": [],
   "source": [
    "from functools import partial, singledispatch\n",
    "from multipledispatch import dispatch\n",
    "\n",
    "@dispatch(float)\n",
    "def _split_delimiter(x, delimiter=\";\"):\n",
    "    \"\"\"Split delimiter helper function for floats.\"\"\"\n",
    "    return x\n",
    "\n",
    "@dispatch(str)\n",
    "def _split_delimiter(x, delimiter=\";\"):\n",
    "    \"\"\"Split delimiter helper function for strings.\"\"\"\n",
    "    return x.split(delimiter)"
   ]
  },
  {
   "cell_type": "code",
   "execution_count": null,
   "metadata": {},
   "outputs": [],
   "source": [
    "from patch_gnn.seqops import met_position"
   ]
  },
  {
   "cell_type": "code",
   "execution_count": null,
   "metadata": {},
   "outputs": [],
   "source": [
    "import janitor\n",
    "processed_data = (\n",
    "    data.dropna(subset=[\"accession\"])\n",
    "    .transform_column(\"isoforms\", split_delimiter)\n",
    "    .explode(\"isoforms\")\n",
    "    .transform_column(\"isoforms\", partial(split_delimiter, delimiter=\" (\"))\n",
    "    .transform_column(\"isoforms\", lambda x: x[0] if isinstance(x, list) else x)\n",
    "    .transform_column(\n",
    "        \"isoforms\", lambda x: x.strip(\" \") if isinstance(x, str) else x\n",
    "    )\n",
    "    .drop_duplicates(\"sequence\")\n",
    "    .join_apply(met_position, \"met_position\")\n",
    ")\n"
   ]
  },
  {
   "cell_type": "markdown",
   "metadata": {},
   "source": [
    "## Prototype for using 3D models"
   ]
  },
  {
   "cell_type": "code",
   "execution_count": null,
   "metadata": {},
   "outputs": [],
   "source": [
    "from pyprojroot import here\n",
    "import os\n",
    "\n",
    "models_path = here() / \"data/ghesquire_2011/models\"\n",
    "protein_models = os.listdir(models_path)"
   ]
  },
  {
   "cell_type": "code",
   "execution_count": null,
   "metadata": {
    "tags": []
   },
   "outputs": [],
   "source": [
    "import os\n",
    "\n",
    "built_models = [f.strip(\".pdb\") for f in os.listdir(models_path)]\n",
    "built_models"
   ]
  },
  {
   "cell_type": "code",
   "execution_count": null,
   "metadata": {},
   "outputs": [],
   "source": [
    "processed_data.query(\"accession in @built_models\")"
   ]
  },
  {
   "cell_type": "code",
   "execution_count": null,
   "metadata": {},
   "outputs": [],
   "source": [
    "import networkx as nx\n",
    "\n",
    "def get_node(G: nx.Graph, pos: int):\n",
    "    node = [n for n, d in G.nodes(data=True) if d[\"residue_number\"] == pos]\n",
    "    if len(node) == 1:\n",
    "        return node[0]\n",
    "    raise Exception(\"Node not found!\")"
   ]
  },
  {
   "cell_type": "code",
   "execution_count": null,
   "metadata": {},
   "outputs": [],
   "source": [
    "from proteingraph import read_pdb"
   ]
  },
  {
   "cell_type": "code",
   "execution_count": null,
   "metadata": {},
   "outputs": [],
   "source": [
    "from tqdm.auto import tqdm"
   ]
  },
  {
   "cell_type": "code",
   "execution_count": null,
   "metadata": {},
   "outputs": [],
   "source": [
    "def load_model(model: str):\n",
    "    try:\n",
    "        m = read_pdb(models_path / f\"{model}.pdb\")\n",
    "        return model, m\n",
    "    except Exception as e:\n",
    "        print(e)\n",
    "    \n",
    "        \n",
    "        "
   ]
  },
  {
   "cell_type": "code",
   "execution_count": null,
   "metadata": {},
   "outputs": [],
   "source": [
    "from joblib import Parallel, delayed"
   ]
  },
  {
   "cell_type": "code",
   "execution_count": null,
   "metadata": {},
   "outputs": [],
   "source": [
    "results = Parallel(n_jobs=-1)(delayed(load_model)(m) for m in built_models)"
   ]
  },
  {
   "cell_type": "code",
   "execution_count": null,
   "metadata": {
    "tags": []
   },
   "outputs": [],
   "source": [
    "results = [r for r in results if r is not None]\n",
    "dict(results)"
   ]
  },
  {
   "cell_type": "code",
   "execution_count": null,
   "metadata": {},
   "outputs": [],
   "source": [
    "processed_data.set_index(\"accession\").loc['P15374'][\"met_position\"]"
   ]
  },
  {
   "cell_type": "code",
   "execution_count": null,
   "metadata": {
    "tags": []
   },
   "outputs": [],
   "source": [
    "from patch_gnn.graph import extract_neighborhood\n",
    "\n",
    "met_graphs = dict()\n",
    "\n",
    "for accession, g in tqdm(results):\n",
    "    pos = processed_data.set_index(\"accession\").loc[accession][\"met_position\"]\n",
    "    try:\n",
    "        metnode = get_node(g, pos)\n",
    "        met_g = extract_neighborhood(g, metnode, 1)\n",
    "        met_graphs[accession] = met_g\n",
    "    except Exception as e:\n",
    "        print(e)"
   ]
  },
  {
   "cell_type": "code",
   "execution_count": null,
   "metadata": {},
   "outputs": [],
   "source": [
    "len(met_graphs)"
   ]
  },
  {
   "cell_type": "markdown",
   "metadata": {},
   "source": [
    "## Calculate degree of met node"
   ]
  },
  {
   "cell_type": "code",
   "execution_count": null,
   "metadata": {},
   "outputs": [],
   "source": [
    "met_dcs = dict()\n",
    "\n",
    "for acc, g in tqdm(met_graphs.items()):\n",
    "    pos = processed_data.set_index(\"accession\").loc[acc][\"met_position\"]\n",
    "    metnode = get_node(g, pos)\n",
    "    met_dcs[acc] = nx.degree(g)[metnode]"
   ]
  },
  {
   "cell_type": "code",
   "execution_count": null,
   "metadata": {},
   "outputs": [],
   "source": [
    "processed_data.columns"
   ]
  },
  {
   "cell_type": "code",
   "execution_count": null,
   "metadata": {},
   "outputs": [],
   "source": [
    "processed_data.set_index(\"accession\").join(pd.Series(met_dcs, name=\"met_degree\")).dropna(subset=[\"met_degree\"]).plot(kind=\"scatter\", x=\"met_degree\", y=\"ox_fwd_logit\")"
   ]
  },
  {
   "cell_type": "code",
   "execution_count": null,
   "metadata": {},
   "outputs": [],
   "source": []
  }
 ],
 "metadata": {
  "kernelspec": {
   "display_name": "patch-gnn",
   "language": "python",
   "name": "patch-gnn"
  },
  "language_info": {
   "codemirror_mode": {
    "name": "ipython",
    "version": 3
   },
   "file_extension": ".py",
   "mimetype": "text/x-python",
   "name": "python",
   "nbconvert_exporter": "python",
   "pygments_lexer": "ipython3",
   "version": "3.8.6"
  }
 },
 "nbformat": 4,
 "nbformat_minor": 4
}
