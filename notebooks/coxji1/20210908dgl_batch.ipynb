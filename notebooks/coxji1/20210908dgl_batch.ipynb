{
 "cells": [
  {
   "cell_type": "code",
   "execution_count": 1,
   "metadata": {},
   "outputs": [],
   "source": [
    "%load_ext autoreload\n",
    "%autoreload 2\n",
    "%matplotlib inline\n",
    "%config InlineBackend.figure_format = 'retina'"
   ]
  },
  {
   "cell_type": "markdown",
   "metadata": {},
   "source": [
    "#### The purpose of this notebook is to explore using dgl libaray for GAT implementation"
   ]
  },
  {
   "cell_type": "code",
   "execution_count": 2,
   "metadata": {},
   "outputs": [],
   "source": [
    "#To use double-precision numbers: https://jax.readthedocs.io/en/latest/notebooks/Common_Gotchas_in_JAX.html\n",
    "from jax.config import config\n",
    "config.update(\"jax_enable_x64\", True)"
   ]
  },
  {
   "cell_type": "code",
   "execution_count": 3,
   "metadata": {},
   "outputs": [],
   "source": [
    "from patch_gnn.data import load_ghesquire\n",
    "import pandas as pd\n",
    "from pyprojroot import here\n",
    "import pickle as pkl\n",
    "from patch_gnn.splitting import train_test_split\n",
    "from jax import random, vmap#, nn\n",
    "from patch_gnn.seqops import one_hot\n",
    "from patch_gnn.graph import graph_tensors,stack_feature_tensors\n",
    "from patch_gnn.layers import concatenate_node_features,get_norm_attn_matrix,softmax_on_non_zero\n",
    "from patch_gnn.models import MPNN, DeepMPNN\n",
    "from sklearn.ensemble import RandomForestRegressor\n",
    "from sklearn.metrics import explained_variance_score as evs\n",
    "import matplotlib.pyplot as plt \n",
    "from sklearn.metrics import mean_squared_error as mse\n",
    "import pickle as pkl\n",
    "from patch_gnn.graph import met_position\n",
    "import jax.numpy as jnp\n",
    "import numpy as np\n",
    "from tqdm import tqdm\n",
    "\n",
    "pd.set_option('display.max_rows', 100)\n",
    "from jax.config import config \n",
    "config.update(\"jax_debug_nans\", True)"
   ]
  },
  {
   "cell_type": "markdown",
   "metadata": {},
   "source": [
    "#### Get all relevant graphs"
   ]
  },
  {
   "cell_type": "code",
   "execution_count": 4,
   "metadata": {},
   "outputs": [
    {
     "name": "stderr",
     "output_type": "stream",
     "text": [
      "WARNING:absl:No GPU/TPU found, falling back to CPU. (Set TF_CPP_MIN_LOG_LEVEL=0 and rerun for more info.)\n"
     ]
    },
    {
     "name": "stdout",
     "output_type": "stream",
     "text": [
      "Q8IXH7-MFTSMDPPPVELIR\n",
      "P00492-VFIPHGLIMDR\n",
      "O75874-LIDDMVAQAMK\n",
      "P67936-MEIQEMQLK\n",
      "the filtered graphs has 359 graphs\n"
     ]
    }
   ],
   "source": [
    "data = load_ghesquire()\n",
    "\n",
    "graph_pickle_path = here() / \"data/ghesquire_2011/graphs.pkl\"\n",
    "processed_data_path = here() / \"data/ghesquire_2011/processed_data.pkl\"\n",
    "\n",
    "with open(graph_pickle_path, \"rb\") as f:\n",
    "    graphs = pkl.load(f)\n",
    "\n",
    "# the cleaned data has everything processed and ready to be used for deep learning\n",
    "with open(processed_data_path, \"rb\") as f:\n",
    "    processed_data = pkl.load(f)\n",
    "    \n",
    "key = random.PRNGKey(490)\n",
    "\n",
    "#train_df, test_df = train_test_split(key, processed_data)\n",
    "#print(len(train_df), len(test_df))\n",
    "\n",
    "# select the graphs that only exist in fitered dataset\n",
    "# one cannot directly loop through the dict keys, and delete certain ones b/c it is changing \n",
    "graphs_to_remove = []\n",
    "for graph_key in graphs.keys():\n",
    "    if graph_key not in processed_data[\"accession-sequence\"].tolist():\n",
    "        print(graph_key)\n",
    "        graphs_to_remove.append(graph_key)\n",
    "for graph_key in graphs_to_remove:\n",
    "    graphs.pop(graph_key)\n",
    "print(f\"the filtered graphs has {len(list(graphs.values()))} graphs\")"
   ]
  },
  {
   "cell_type": "markdown",
   "metadata": {},
   "source": [
    "##### Convert networkx graphs to dgl graph objects, then put it into a dataset"
   ]
  },
  {
   "cell_type": "code",
   "execution_count": 5,
   "metadata": {},
   "outputs": [
    {
     "name": "stderr",
     "output_type": "stream",
     "text": [
      "Using backend: pytorch\n"
     ]
    }
   ],
   "source": [
    "from patch_gnn.dgl_dataset import get_graph_and_feat_df,convert_networkx_to_dgl,PatchGNNDataset"
   ]
  },
  {
   "cell_type": "code",
   "execution_count": null,
   "metadata": {},
   "outputs": [],
   "source": [
    "#torch.tensor(all_graph_features[0])"
   ]
  },
  {
   "cell_type": "code",
   "execution_count": 6,
   "metadata": {},
   "outputs": [
    {
     "name": "stderr",
     "output_type": "stream",
     "text": [
      "100%|██████████| 251/251 [00:00<00:00, 2857.95it/s]\n",
      "100%|██████████| 108/108 [00:00<00:00, 2968.12it/s]\n"
     ]
    }
   ],
   "source": [
    "all_networkx_graphs, all_graph_features, accession_num = get_graph_and_feat_df(graphs, processed_data)\n",
    "all_networkx_graphs = [graph.to_directed() for graph in all_networkx_graphs]\n",
    "targets = processed_data['ox_fwd_logit'].values\n",
    "train_dataset = PatchGNNDataset(\n",
    "                 networkx_graphs= all_networkx_graphs[:251],\n",
    "                 labels = targets[:251],\n",
    "                 features= all_graph_features[:251])\n",
    "test_dataset = PatchGNNDataset(\n",
    "                 networkx_graphs= all_networkx_graphs[251:],\n",
    "                 labels = targets[251:],\n",
    "                 features= all_graph_features[251:])\n"
   ]
  },
  {
   "cell_type": "code",
   "execution_count": 7,
   "metadata": {},
   "outputs": [
    {
     "name": "stdout",
     "output_type": "stream",
     "text": [
      "dataset 0 nodes is {0: '402CYS', 1: '405ILE', 2: '409LEU', 3: '437ASP', 4: '438MET', 5: '439ILE', 6: '442TRP', 7: '573LEU', 8: '576ILE'}, target is -3.8092901706695557\n"
     ]
    }
   ],
   "source": [
    "# indexing datasets returns dgl_graph, target value and node names\n",
    "one_dgl_graph, one_graph_node, one_graph_label = train_dataset[4]\n",
    "\n",
    "print(f\"dataset 0 nodes is {one_graph_node}, target is {one_graph_label}\")\n",
    "one_dgl_nodes = list(one_graph_node.values())"
   ]
  },
  {
   "cell_type": "markdown",
   "metadata": {},
   "source": [
    "##### Plot them to varify that the note order, graph structure do not change after this conversion"
   ]
  },
  {
   "cell_type": "code",
   "execution_count": null,
   "metadata": {},
   "outputs": [],
   "source": [
    "import networkx as nx\n",
    "import matplotlib.pyplot as plt\n",
    "plt.figure(figsize=(10, 5))\n",
    "plt.subplot(131)\n",
    "newgraph = one_dgl_graph.to_networkx()\n",
    "plt.title('Raw dgl graph converted to networkx')\n",
    "nx.draw_networkx(newgraph, with_labels=True, \n",
    "                 node_size =500)\n",
    "plt.subplot(132)\n",
    "plt.title('Actual networkx graph')\n",
    "nx.draw_networkx(all_networkx_graphs[4], with_labels=True,node_size =400)\n",
    "\n",
    "plt.subplot(133)\n",
    "plt.title('Raw dgl graph with networkx node order')\n",
    "mapping = dict(zip(list(newgraph.nodes()), one_dgl_nodes))\n",
    "newgraph = nx.relabel_nodes(newgraph, mapping)\n",
    "nx.draw_networkx(newgraph, with_labels=True,node_size =400)"
   ]
  },
  {
   "cell_type": "markdown",
   "metadata": {},
   "source": [
    "### When converting nx object to dgl, need to use `Sorted` in networkx_nodes, so that it will appear the same order as its numeric labels"
   ]
  },
  {
   "cell_type": "code",
   "execution_count": null,
   "metadata": {},
   "outputs": [],
   "source": [
    "one_nx_graph = all_networkx_graphs[4]\n",
    "one_nx_graph_feature = all_graph_features[4]\n",
    "plt.figure(figsize = (10,5))\n",
    "plt.subplot(121)\n",
    "nx.draw_networkx(one_nx_graph, with_labels=True, node_size =500,\n",
    "                node_color = ['lightblue' if 'MET' not in i else 'lightgreen' \n",
    "                              for i in list(one_nx_graph.nodes())])\n",
    "one_dgl_graph, mapping = convert_networkx_to_dgl(one_nx_graph, one_nx_graph_feature)\n",
    "plt.subplot(122)\n",
    "dgl_to_nx = nx.relabel_nodes(one_dgl_graph.to_networkx(), mapping = mapping)\n",
    "#nx.draw_networkx(one_dgl_graph.to_networkx(), with_labels=True, node_size =500)\n",
    "nx.draw_networkx(dgl_to_nx, with_labels=True, node_size =500,\n",
    "                node_color = ['lightblue' if 'MET' not in i else 'lightgreen' \n",
    "                              for i in list(dgl_to_nx.nodes())])\n",
    "print(mapping)"
   ]
  },
  {
   "cell_type": "code",
   "execution_count": null,
   "metadata": {},
   "outputs": [],
   "source": [
    "dgl_to_nx.nodes()"
   ]
  },
  {
   "cell_type": "code",
   "execution_count": null,
   "metadata": {},
   "outputs": [],
   "source": [
    "#all_graphs = [graph[0] for graph in dataset]\n",
    "#all_labels = [graph[2] for graph in dataset]\n",
    "#train_graphs = all_graphs[:251]\n",
    "#test_graphs = all_graphs[251:]\n",
    "#train_labels = all_labels[:251]\n",
    "#test_labels = all_labels[251:]"
   ]
  },
  {
   "cell_type": "markdown",
   "metadata": {},
   "source": [
    "##### Making GAT layer"
   ]
  },
  {
   "cell_type": "code",
   "execution_count": 8,
   "metadata": {},
   "outputs": [],
   "source": [
    "from dgl.nn.pytorch.conv import GATConv\n",
    "import torch.nn as nn\n",
    "import torch.nn.functional as F\n",
    "import torch\n",
    "from dgl.nn import AvgPooling\n",
    "from patch_gnn.dgl_layer import GATN"
   ]
  },
  {
   "cell_type": "code",
   "execution_count": null,
   "metadata": {},
   "outputs": [],
   "source": [
    "# taken from https://github.com/dmlc/dgl/issues/1887\n",
    "\n",
    "\n",
    "class GATN(torch.nn.Module):\n",
    "    def __init__(self, in_dim, embed_dim, gat_n_heads,\n",
    "                 gat_out_dim, dense_out1, dense_out2, dense_out3):\n",
    "        super(GATN, self).__init__()\n",
    "        self.dense = nn.Linear(in_dim, embed_dim)\n",
    "        self.gatlayer = GATConv(embed_dim, gat_out_dim, gat_n_heads)\n",
    "        self.poolinglayer = AvgPooling()\n",
    "        self.dense1 = nn.Linear(gat_out_dim*gat_n_heads, dense_out1)\n",
    "        self.dense2 = nn.Linear(dense_out1, dense_out2)\n",
    "        self.dense3 = nn.Linear(dense_out2, dense_out3)\n",
    "        \n",
    "    # there are multiple disconnected graph, will be easier to think of them as ind graph (one graph)\n",
    "    def forward(self, graph, feature):  \n",
    "        h = self.dense(feature) # (graph_sample_size, in_dim) --> (graph_sample_size, embed_dim)\n",
    "        #print(f\"h after embedding is {h.size()}\")\n",
    "        h, atten = self.gatlayer(graph, h, get_attention = True) #--> h: (n_nodes, num_heads, gat_out_dim)\n",
    "        #print(f\"h size after gat is {h.size()}\")\n",
    "        h = h.flatten(start_dim =1) #(n_nodes, gat_out_dim*num_heads ) \n",
    "        # add graph summation across 1st axis - axis 0\n",
    "        h = self.poolinglayer(graph, h) # (batch_size, gat_out_dim*num_heads)\n",
    "        # use sumlayer insteadh = torch.sum(h, dim=0)\n",
    "        #print(f\"h size after summation is {h.size()}\")\n",
    "        h = F.elu(h)\n",
    "        h = self.dense1(h)\n",
    "        h = F.elu(h)\n",
    "        h = self.dense2(h)\n",
    "        h = F.elu(h)\n",
    "        h = self.dense3(h)\n",
    "        \n",
    "        return h, atten\n",
    "            "
   ]
  },
  {
   "cell_type": "code",
   "execution_count": null,
   "metadata": {},
   "outputs": [],
   "source": []
  },
  {
   "cell_type": "code",
   "execution_count": 10,
   "metadata": {},
   "outputs": [],
   "source": [
    "from dgl.dataloading import GraphDataLoader\n",
    "import dgl\n"
   ]
  },
  {
   "cell_type": "code",
   "execution_count": 9,
   "metadata": {},
   "outputs": [],
   "source": [
    "from  random import shuffle as shuffle_order\n",
    "def collate_fn(dataset):\n",
    "    \"\"\"Randomly shuffle graph, names, labels in the same way for each batch\"\"\"\n",
    "    # not ideal if one wants to do shuffle and also want to retrive nodenames\n",
    "    #https://discuss.pytorch.org/t/how-to-create-batches-of-a-list-of-varying-dimension-tensors/50773/14\n",
    "    #print(samples, type(samples))\n",
    "    graphs, nodename_dict, labels = map(list, zip(*dataset)) #combine each position into graphs, dict_names, labels\n",
    "    joined_lst = list(zip(graphs, nodename_dict, labels)) # join them for random shuffling\n",
    "    shuffle_order(joined_lst) # shuffle dataset in place\n",
    "    new_graphs, new_nodename_dict, new_labels = zip(*joined_lst) # unpack\n",
    "    batch_graph = dgl.batch(new_graphs)\n",
    "    return batch_graph, torch.tensor(new_labels)"
   ]
  },
  {
   "cell_type": "code",
   "execution_count": 11,
   "metadata": {},
   "outputs": [],
   "source": [
    "train_loader = GraphDataLoader(train_dataset, batch_size = 251, collate_fn =collate_fn)#, #ddp_seed =42)\n",
    "test_loader = GraphDataLoader(test_dataset, batch_size = 108, collate_fn =collate_fn)#, #ddp_seed =42)"
   ]
  },
  {
   "cell_type": "code",
   "execution_count": null,
   "metadata": {},
   "outputs": [],
   "source": [
    "for graphs, targets in train_loader:\n",
    "    print(f\"graphs are {graphs}\")\n",
    "    print(f\"targets are {targets}\")\n",
    "    break"
   ]
  },
  {
   "cell_type": "code",
   "execution_count": null,
   "metadata": {},
   "outputs": [],
   "source": [
    "train_dataset[0],targets.size()"
   ]
  },
  {
   "cell_type": "code",
   "execution_count": 13,
   "metadata": {},
   "outputs": [
    {
     "name": "stderr",
     "output_type": "stream",
     "text": [
      "100%|██████████| 10000/10000 [05:09<00:00, 32.27it/s]\n"
     ]
    }
   ],
   "source": [
    "# use tensorboard: https://pytorch.org/tutorials/recipes/recipes/tensorboard_with_pytorch.html\n",
    "from tensorboardX import SummaryWriter\n",
    "\n",
    "#for lr in [1e-3,1e-4,1e-5]:\n",
    "for lr in [1e-5]:\n",
    "    writer = SummaryWriter(f\"runs/lr_{lr}_new1000-epoch\")\n",
    "    # create the model\n",
    "    net = GATN(in_dim = 67, embed_dim = 96, gat_n_heads =1,\n",
    "              gat_out_dim = 64, dense_out1 = 128, dense_out2 =64, dense_out3 =1)\n",
    "\n",
    "    # create optimizer\n",
    "    optimizer = torch.optim.Adam(net.parameters(), lr=lr)\n",
    "    \n",
    "    # training main loop\n",
    "    pred_lst = list()\n",
    "    atten_lst = list()\n",
    "    mseloss_list = list()\n",
    "    pred_test_lst = list()\n",
    "    atten_test_lst = list()\n",
    "    mseloss_test_list = list()\n",
    "    train_target_lst = list()\n",
    "    test_target_lst = list()\n",
    "    for epoch in tqdm(range(10000)):\n",
    "\n",
    "        # start training\n",
    "        #batch size is 251 here\n",
    "        for train_graphs, train_targets in train_loader:\n",
    "            pred_train_target, atten = net(train_graphs, \n",
    "                                 train_graphs.ndata[\"feat\"])\n",
    "\n",
    "            train_target_lst.append(train_targets)\n",
    "            # compute loss for each batch - shouldn't compute loss for the entire dataset, right?\n",
    "            mse_loss = nn.MSELoss()\n",
    "            # both pred and train labels are tensor.size([1])\n",
    "            actual_loss = mse_loss(pred_train_target.float(), train_targets.float().unsqueeze(1))\n",
    "\n",
    "            # backward\n",
    "            #need to set gradient to zero first https://stackoverflow.com/questions/48001598/why-do-we-need-to-call-zero-grad-in-pytorch\n",
    "            optimizer.zero_grad()\n",
    "            actual_loss.backward()\n",
    "            optimizer.step()\n",
    "\n",
    "            pred_lst.append(pred_train_target.detach().numpy())\n",
    "            atten_lst.append(atten)\n",
    "            mseloss_list.append(actual_loss.detach().numpy())\n",
    "\n",
    "        writer.add_scalar(\"mean_MSELoss/train\", np.mean(mseloss_list), epoch)\n",
    "        writer.add_text('lr', f'learning rate {lr}')\n",
    "        #print(f\"pred list is {pred_lst}\")\n",
    "        writer.add_scalar(\"variance explained/train\", evs(train_targets, pred_lst[-1]), epoch)\n",
    "\n",
    "        # predict\n",
    "        for test_graphs, test_targets in test_loader:\n",
    "            \n",
    "            pred_test_target, atten_test = net(test_graphs, \n",
    "                             test_graphs.ndata[\"feat\"])\n",
    "            test_target_lst.append(test_targets)\n",
    "        \n",
    "            # compute loss for each batch - shouldn't compute loss for the entire dataset, right?\n",
    "            mse_loss = nn.MSELoss()\n",
    "            # both pred and train labels are tensor.size([1])\n",
    "            actual_test_loss = mse_loss(pred_test_target.float(), test_targets.float().unsqueeze(1))\n",
    "            pred_test_lst.append(pred_test_target.detach().numpy())\n",
    "            atten_test_lst.append(atten_test)\n",
    "            mseloss_test_list.append(actual_test_loss.detach().numpy())\n",
    "\n",
    "            #print(f\"mseloss_test_list is {mseloss_test_list}\")\n",
    "    #print(f\"len of pred is {len(pred_test_lst)}\")\n",
    "        writer.add_scalar(\"mean_MSELoss/test\", np.mean(mseloss_test_list), epoch)\n",
    "        writer.add_text('lr', f'learning rate {lr}')\n",
    "        writer.add_scalar(\"variance explained/test\", evs(test_targets, pred_test_lst[-1]), epoch)   \n",
    "\n",
    "    writer.flush()\n",
    "    writer.close()  "
   ]
  },
  {
   "cell_type": "code",
   "execution_count": 16,
   "metadata": {},
   "outputs": [
    {
     "data": {
      "text/plain": [
       "Text(0.5, 1.0, 'GATN, Testing Perf: -0.071, epoch 7195')"
      ]
     },
     "execution_count": 16,
     "metadata": {},
     "output_type": "execute_result"
    },
    {
     "data": {
      "image/png": "[encoded data removed]",
      "text/plain": [
       "<Figure size 720x360 with 2 Axes>"
      ]
     },
     "metadata": {
      "image/png": {
       "height": 318,
       "width": 594
      },
      "needs_background": "light"
     },
     "output_type": "display_data"
    }
   ],
   "source": [
    "    fig, ax = plt.subplots(\n",
    "        figsize=(10, 5), nrows=1, ncols=2, sharex=True, sharey=True,\n",
    "    )\n",
    "ax[0].scatter(train_target_lst[4267].squeeze(), pred_lst[4267].squeeze())\n",
    "ax[0].plot([-5, 0], [-5, 0])\n",
    "ax[0].set_title(f\"GATN, Training Perf: {evs(train_target_lst[4267].squeeze(), pred_lst[4267].squeeze()):.3f}, epoch 7195\")\n",
    "ax[1].scatter(test_target_lst[4267].squeeze(), pred_test_lst[4267].squeeze())\n",
    "ax[1].plot([-5, 0], [-5, 0])\n",
    "ax[1].set_title(f\"GATN, Testing Perf: {evs(test_target_lst[4267].squeeze(), pred_test_lst[4267].squeeze()):.3f}, epoch 7195\")"
   ]
  },
  {
   "cell_type": "code",
   "execution_count": 18,
   "metadata": {},
   "outputs": [
    {
     "data": {
      "text/plain": [
       "tensor([ 2.6335, -1.2429,  1.4193, -0.5816, -0.2503, -1.6729, -2.5144,  0.5988,\n",
       "        -1.5129, -0.5003, -2.3741,  0.7839,  0.8272,  2.5411,  0.5502, -0.7628,\n",
       "         0.5638,  0.1282,  1.8323,  1.6995,  2.0984, -1.4245, -1.5966,  0.2122,\n",
       "        -1.0487, -0.2509,  0.8581,  1.1559,  0.9684,  2.7135, -0.7118,  1.2007,\n",
       "         0.0936, -0.0955,  0.0240, -1.9777, -0.5360, -1.2035,  0.4136,  0.0953,\n",
       "         1.8155, -1.1116,  1.2419,  0.0505,  0.4280, -0.7571,  0.4399,  2.0209,\n",
       "         1.6145, -0.5446,  2.1161, -0.2375,  1.4802, -1.6129,  1.5381,  0.8723,\n",
       "        -0.8399,  0.3864,  0.2945, -1.1169, -0.0266,  0.6566, -0.3752,  1.1445,\n",
       "         1.3272,  1.7806,  0.9434,  1.1412,  2.0496,  0.1468,  0.8289,  1.0127,\n",
       "        -0.2206,  0.1333,  0.8277, -0.4758,  1.0111,  1.1382, -0.5121, -1.7384,\n",
       "         0.9319, -0.5432,  0.2111, -0.4069,  0.0492,  1.6371, -1.3956,  0.0448,\n",
       "         1.9349,  1.3449,  0.8886,  0.1042,  1.8393,  0.8616,  0.9845,  1.8467,\n",
       "         0.7369, -0.9845, -0.0610,  1.7239,  0.4267,  0.0617, -1.1151, -1.1107,\n",
       "        -0.3753, -2.2426, -1.1397,  0.4065])"
      ]
     },
     "execution_count": 18,
     "metadata": {},
     "output_type": "execute_result"
    }
   ],
   "source": [
    "test_target_lst[4267].squeeze()- pred_test_lst[4267].squeeze()"
   ]
  },
  {
   "cell_type": "code",
   "execution_count": 22,
   "metadata": {},
   "outputs": [
    {
     "ename": "NameError",
     "evalue": "name 'pred_train_lst' is not defined",
     "output_type": "error",
     "traceback": [
      "\u001b[0;31m---------------------------------------------------------------------------\u001b[0m",
      "\u001b[0;31mNameError\u001b[0m                                 Traceback (most recent call last)",
      "\u001b[0;32m/scratch/tmp/1871717.1.default.q/ipykernel_36322/4059543792.py\u001b[0m in \u001b[0;36m<module>\u001b[0;34m\u001b[0m\n\u001b[0;32m----> 1\u001b[0;31m \u001b[0mtrain_target_lst\u001b[0m\u001b[0;34m[\u001b[0m\u001b[0;36m4267\u001b[0m\u001b[0;34m]\u001b[0m\u001b[0;34m.\u001b[0m\u001b[0msqueeze\u001b[0m\u001b[0;34m(\u001b[0m\u001b[0;34m)\u001b[0m\u001b[0;34m-\u001b[0m \u001b[0mpred_train_lst\u001b[0m\u001b[0;34m[\u001b[0m\u001b[0;36m4267\u001b[0m\u001b[0;34m]\u001b[0m\u001b[0;34m.\u001b[0m\u001b[0msqueeze\u001b[0m\u001b[0;34m(\u001b[0m\u001b[0;34m)\u001b[0m\u001b[0;34m\u001b[0m\u001b[0;34m\u001b[0m\u001b[0m\n\u001b[0m",
      "\u001b[0;31mNameError\u001b[0m: name 'pred_train_lst' is not defined"
     ]
    }
   ],
   "source": [
    "train_target_lst[4267].squeeze()- pred_train_lst[4267].squeeze()"
   ]
  },
  {
   "cell_type": "code",
   "execution_count": 21,
   "metadata": {},
   "outputs": [
    {
     "data": {
      "text/plain": [
       "(-2.301544666290283, [-2.0512068271636963])"
      ]
     },
     "execution_count": 21,
     "metadata": {},
     "output_type": "execute_result"
    }
   ],
   "source": [
    "test_target_lst[4267].tolist()[4], pred_test_lst[4267].tolist()[4]"
   ]
  },
  {
   "cell_type": "code",
   "execution_count": 28,
   "metadata": {},
   "outputs": [
    {
     "data": {
      "text/plain": [
       "(35, -2.301544551818798)"
      ]
     },
     "execution_count": 28,
     "metadata": {},
     "output_type": "execute_result"
    }
   ],
   "source": [
    "# get index from the list whose value is close to the test target chosen\n",
    "min(enumerate(targets[251:]), key=lambda x: abs(x[1]+2.3015446))"
   ]
  },
  {
   "cell_type": "code",
   "execution_count": 29,
   "metadata": {},
   "outputs": [
    {
     "data": {
      "text/plain": [
       "-2.301544551818798"
      ]
     },
     "execution_count": 29,
     "metadata": {},
     "output_type": "execute_result"
    }
   ],
   "source": [
    "# confirm it is the right target\n",
    "targets[286]"
   ]
  },
  {
   "cell_type": "code",
   "execution_count": 32,
   "metadata": {},
   "outputs": [
    {
     "data": {
      "text/plain": [
       "torch.Size([3148, 1, 1])"
      ]
     },
     "execution_count": 32,
     "metadata": {},
     "output_type": "execute_result"
    }
   ],
   "source": [
    "atten = atten_test_lst[4267]\n",
    "atten.shape"
   ]
  },
  {
   "cell_type": "code",
   "execution_count": 75,
   "metadata": {},
   "outputs": [],
   "source": [
    "num = 52"
   ]
  },
  {
   "cell_type": "code",
   "execution_count": 76,
   "metadata": {},
   "outputs": [],
   "source": [
    "one_out_target, one_atten = net(test_dataset[num][0], \n",
    "                             test_dataset[num][0].ndata[\"feat\"])"
   ]
  },
  {
   "cell_type": "code",
   "execution_count": 77,
   "metadata": {},
   "outputs": [
    {
     "data": {
      "text/plain": [
       "<AxesSubplot:>"
      ]
     },
     "execution_count": 77,
     "metadata": {},
     "output_type": "execute_result"
    },
    {
     "data": {
      "image/png": "[encoded data removed]",
      "text/plain": [
       "<Figure size 432x288 with 2 Axes>"
      ]
     },
     "metadata": {
      "image/png": {
       "height": 282,
       "width": 380
      },
      "needs_background": "light"
     },
     "output_type": "display_data"
    }
   ],
   "source": [
    "import seaborn as sns\n",
    "#labels = list(sorted(all_networkx_graphs[357].nodes()))\n",
    "\n",
    "labels = list(sorted(test_dataset[num][1].values()))\n",
    "from numpy.random import default_rng\n",
    "#https://stackoverflow.com/questions/2318529/plotting-only-upper-lower-triangle-of-a-heatmap\n",
    "a =np.zeros((len(labels),len(labels)))#default_rng(42).random((len(labels),len(labels)))\n",
    "for i in range(len(test_dataset[num][0].edges(form = \"uv\")[0])):\n",
    "    a[test_dataset[num][0].edges(form = \"uv\")[0][i], test_dataset[num][0].edges(form = \"uv\")[1][i]] =  one_atten[i]\n",
    "\n",
    "sns.heatmap(a,\n",
    "                xticklabels = labels, \n",
    "                yticklabels= labels)"
   ]
  },
  {
   "cell_type": "code",
   "execution_count": 78,
   "metadata": {},
   "outputs": [
    {
     "data": {
      "text/html": [
       "<div>\n",
       "<style scoped>\n",
       "    .dataframe tbody tr th:only-of-type {\n",
       "        vertical-align: middle;\n",
       "    }\n",
       "\n",
       "    .dataframe tbody tr th {\n",
       "        vertical-align: top;\n",
       "    }\n",
       "\n",
       "    .dataframe thead th {\n",
       "        text-align: right;\n",
       "    }\n",
       "</style>\n",
       "<table border=\"1\" class=\"dataframe\">\n",
       "  <thead>\n",
       "    <tr style=\"text-align: right;\">\n",
       "      <th></th>\n",
       "      <th>0</th>\n",
       "      <th>1</th>\n",
       "      <th>2</th>\n",
       "      <th>3</th>\n",
       "      <th>4</th>\n",
       "      <th>5</th>\n",
       "      <th>6</th>\n",
       "      <th>7</th>\n",
       "    </tr>\n",
       "  </thead>\n",
       "  <tbody>\n",
       "    <tr>\n",
       "      <th>0</th>\n",
       "      <td>0.000000</td>\n",
       "      <td>0.415456</td>\n",
       "      <td>0.025415</td>\n",
       "      <td>0.025333</td>\n",
       "      <td>0.000133</td>\n",
       "      <td>0.0</td>\n",
       "      <td>0.000000</td>\n",
       "      <td>0.000000</td>\n",
       "    </tr>\n",
       "    <tr>\n",
       "      <th>1</th>\n",
       "      <td>0.120656</td>\n",
       "      <td>0.000000</td>\n",
       "      <td>0.004907</td>\n",
       "      <td>0.004891</td>\n",
       "      <td>0.000026</td>\n",
       "      <td>0.0</td>\n",
       "      <td>0.000000</td>\n",
       "      <td>0.000000</td>\n",
       "    </tr>\n",
       "    <tr>\n",
       "      <th>2</th>\n",
       "      <td>0.107960</td>\n",
       "      <td>0.071766</td>\n",
       "      <td>0.000000</td>\n",
       "      <td>0.004376</td>\n",
       "      <td>0.000023</td>\n",
       "      <td>0.0</td>\n",
       "      <td>0.111154</td>\n",
       "      <td>0.000000</td>\n",
       "    </tr>\n",
       "    <tr>\n",
       "      <th>3</th>\n",
       "      <td>0.119420</td>\n",
       "      <td>0.079384</td>\n",
       "      <td>0.004856</td>\n",
       "      <td>0.000000</td>\n",
       "      <td>0.000025</td>\n",
       "      <td>0.0</td>\n",
       "      <td>0.122953</td>\n",
       "      <td>0.005008</td>\n",
       "    </tr>\n",
       "    <tr>\n",
       "      <th>4</th>\n",
       "      <td>0.651964</td>\n",
       "      <td>0.433393</td>\n",
       "      <td>0.026513</td>\n",
       "      <td>0.026426</td>\n",
       "      <td>0.000000</td>\n",
       "      <td>1.0</td>\n",
       "      <td>0.671255</td>\n",
       "      <td>0.027342</td>\n",
       "    </tr>\n",
       "    <tr>\n",
       "      <th>5</th>\n",
       "      <td>0.000000</td>\n",
       "      <td>0.000000</td>\n",
       "      <td>0.000000</td>\n",
       "      <td>0.000000</td>\n",
       "      <td>0.994882</td>\n",
       "      <td>0.0</td>\n",
       "      <td>0.000000</td>\n",
       "      <td>0.000000</td>\n",
       "    </tr>\n",
       "    <tr>\n",
       "      <th>6</th>\n",
       "      <td>0.000000</td>\n",
       "      <td>0.000000</td>\n",
       "      <td>0.938309</td>\n",
       "      <td>0.935249</td>\n",
       "      <td>0.004892</td>\n",
       "      <td>0.0</td>\n",
       "      <td>0.000000</td>\n",
       "      <td>0.967650</td>\n",
       "    </tr>\n",
       "    <tr>\n",
       "      <th>7</th>\n",
       "      <td>0.000000</td>\n",
       "      <td>0.000000</td>\n",
       "      <td>0.000000</td>\n",
       "      <td>0.003726</td>\n",
       "      <td>0.000019</td>\n",
       "      <td>0.0</td>\n",
       "      <td>0.094637</td>\n",
       "      <td>0.000000</td>\n",
       "    </tr>\n",
       "  </tbody>\n",
       "</table>\n",
       "</div>"
      ],
      "text/plain": [
       "          0         1         2         3         4    5         6         7\n",
       "0  0.000000  0.415456  0.025415  0.025333  0.000133  0.0  0.000000  0.000000\n",
       "1  0.120656  0.000000  0.004907  0.004891  0.000026  0.0  0.000000  0.000000\n",
       "2  0.107960  0.071766  0.000000  0.004376  0.000023  0.0  0.111154  0.000000\n",
       "3  0.119420  0.079384  0.004856  0.000000  0.000025  0.0  0.122953  0.005008\n",
       "4  0.651964  0.433393  0.026513  0.026426  0.000000  1.0  0.671255  0.027342\n",
       "5  0.000000  0.000000  0.000000  0.000000  0.994882  0.0  0.000000  0.000000\n",
       "6  0.000000  0.000000  0.938309  0.935249  0.004892  0.0  0.000000  0.967650\n",
       "7  0.000000  0.000000  0.000000  0.003726  0.000019  0.0  0.094637  0.000000"
      ]
     },
     "execution_count": 78,
     "metadata": {},
     "output_type": "execute_result"
    }
   ],
   "source": [
    "b = pd.DataFrame(a)\n",
    "b"
   ]
  },
  {
   "cell_type": "code",
   "execution_count": 79,
   "metadata": {},
   "outputs": [
    {
     "data": {
      "image/png": "[encoded data removed]",
      "text/plain": [
       "<Figure size 360x360 with 1 Axes>"
      ]
     },
     "metadata": {
      "image/png": {
       "height": 286,
       "width": 293
      }
     },
     "output_type": "display_data"
    }
   ],
   "source": [
    "import networkx as nx\n",
    "import matplotlib.pyplot as plt\n",
    "plt.figure(figsize=(5, 5))\n",
    "\n",
    "dgl_to_nx = nx.relabel_nodes(test_dataset[num][0].to_networkx(), mapping = test_dataset[num][1])\n",
    "#nx.draw_networkx(one_dgl_graph.to_networkx(), with_labels=True, node_size =500)\n",
    "nx.draw_networkx(dgl_to_nx, with_labels=True, node_size =500,\n",
    "                node_color = ['lightblue' if 'MET' not in i else 'lightgreen' for i in list(test_dataset[num][1].values())])\n",
    "\n",
    "#nx.draw_networkx(test_dataset[35][0], with_labels=True, node_size =500,\n",
    "#                node_color = ['lightblue' if 'MET' not in i else 'lightgreen' \n",
    "#                              for i in list(all_networkx_graphs[357].nodes())])"
   ]
  },
  {
   "cell_type": "code",
   "execution_count": 71,
   "metadata": {},
   "outputs": [
    {
     "data": {
      "text/plain": [
       "['lightblue',\n",
       " 'lightblue',\n",
       " 'lightblue',\n",
       " 'lightblue',\n",
       " 'lightblue',\n",
       " 'lightgreen',\n",
       " 'lightblue',\n",
       " 'lightgreen',\n",
       " 'lightblue',\n",
       " 'lightblue',\n",
       " 'lightblue',\n",
       " 'lightblue']"
      ]
     },
     "execution_count": 71,
     "metadata": {},
     "output_type": "execute_result"
    }
   ],
   "source": [
    "['lightblue' if 'MET' not in i else 'lightgreen' for i in list(test_dataset[num][1].values())]"
   ]
  },
  {
   "cell_type": "code",
   "execution_count": null,
   "metadata": {},
   "outputs": [],
   "source": []
  },
  {
   "cell_type": "code",
   "execution_count": null,
   "metadata": {},
   "outputs": [],
   "source": []
  },
  {
   "cell_type": "code",
   "execution_count": null,
   "metadata": {},
   "outputs": [],
   "source": []
  },
  {
   "cell_type": "code",
   "execution_count": null,
   "metadata": {},
   "outputs": [],
   "source": []
  },
  {
   "cell_type": "code",
   "execution_count": null,
   "metadata": {},
   "outputs": [],
   "source": []
  },
  {
   "cell_type": "code",
   "execution_count": null,
   "metadata": {},
   "outputs": [],
   "source": []
  },
  {
   "cell_type": "code",
   "execution_count": null,
   "metadata": {},
   "outputs": [],
   "source": [
    "dataset[4][0].ndata[\"feat\"][:5,:5]"
   ]
  },
  {
   "cell_type": "code",
   "execution_count": null,
   "metadata": {},
   "outputs": [],
   "source": [
    "dataset[4][2][:5,:5]"
   ]
  },
  {
   "cell_type": "code",
   "execution_count": null,
   "metadata": {},
   "outputs": [],
   "source": [
    "import dgl\n",
    "import numpy as np\n",
    "import torch as th\n",
    "from dgl.nn import GATConv\n",
    "from dgl.nn import AvgPooling\n",
    "g = dgl.graph(([0,1,2,3,2,5], [1,2,3,4,0,3]))\n",
    "g = dgl.add_self_loop(g)\n",
    "g = dgl.batch([g,g])\n",
    "feat = th.ones(12, 10) # (n_node, n_feat)\n",
    "gatconv = GATConv(10, 2, num_heads=3)\n",
    "res = gatconv(g, feat)\n",
    "res = res.flatten(start_dim =1)\n",
    "print(res.shape)\n",
    "poolinglayer = AvgPooling() \n",
    "# graph attention use graph connectivity to perform pooling, if graphs are not connected, it will be viewed as seperated graph\n",
    "res = poolinglayer(g, res)\n",
    "\n",
    "res.shape #(#nodes, # heads, outdim is 2)\n"
   ]
  },
  {
   "cell_type": "code",
   "execution_count": null,
   "metadata": {},
   "outputs": [],
   "source": [
    "g.batch_size, g.batch_num_nodes(), g.nodes()"
   ]
  },
  {
   "cell_type": "code",
   "execution_count": null,
   "metadata": {},
   "outputs": [],
   "source": [
    "res.flatten(start_dim =1)"
   ]
  },
  {
   "cell_type": "code",
   "execution_count": null,
   "metadata": {},
   "outputs": [],
   "source": [
    "g.in_degrees(),feat"
   ]
  },
  {
   "cell_type": "code",
   "execution_count": null,
   "metadata": {},
   "outputs": [],
   "source": [
    "\n",
    "nx.draw_networkx(g.to_networkx(), with_labels=True,node_size =400)"
   ]
  },
  {
   "cell_type": "code",
   "execution_count": null,
   "metadata": {},
   "outputs": [],
   "source": []
  },
  {
   "cell_type": "code",
   "execution_count": null,
   "metadata": {},
   "outputs": [],
   "source": []
  },
  {
   "cell_type": "code",
   "execution_count": null,
   "metadata": {},
   "outputs": [],
   "source": []
  },
  {
   "cell_type": "code",
   "execution_count": null,
   "metadata": {},
   "outputs": [],
   "source": []
  },
  {
   "cell_type": "code",
   "execution_count": null,
   "metadata": {},
   "outputs": [],
   "source": []
  },
  {
   "cell_type": "code",
   "execution_count": null,
   "metadata": {},
   "outputs": [],
   "source": []
  },
  {
   "cell_type": "code",
   "execution_count": null,
   "metadata": {},
   "outputs": [],
   "source": []
  },
  {
   "cell_type": "code",
   "execution_count": null,
   "metadata": {},
   "outputs": [],
   "source": []
  },
  {
   "cell_type": "code",
   "execution_count": null,
   "metadata": {},
   "outputs": [],
   "source": []
  },
  {
   "cell_type": "code",
   "execution_count": null,
   "metadata": {},
   "outputs": [],
   "source": []
  },
  {
   "cell_type": "code",
   "execution_count": null,
   "metadata": {},
   "outputs": [],
   "source": [
    "atten = atten.squeeze()"
   ]
  },
  {
   "cell_type": "code",
   "execution_count": null,
   "metadata": {},
   "outputs": [],
   "source": [
    "all_graphs[2].edges(form = \"uv\")[0],all_graphs[2].edges(form = \"uv\")[1]"
   ]
  },
  {
   "cell_type": "code",
   "execution_count": null,
   "metadata": {},
   "outputs": [],
   "source": []
  },
  {
   "cell_type": "markdown",
   "metadata": {},
   "source": [
    "### draw attention plot"
   ]
  },
  {
   "cell_type": "code",
   "execution_count": null,
   "metadata": {},
   "outputs": [],
   "source": [
    "import seaborn as sns\n",
    "labels = list(sorted(all_networkx_graphs[2].nodes()))\n",
    "labels\n",
    "from numpy.random import default_rng\n",
    "#https://stackoverflow.com/questions/2318529/plotting-only-upper-lower-triangle-of-a-heatmap\n",
    "a =np.zeros((len(labels),len(labels)))#default_rng(42).random((len(labels),len(labels)))\n",
    "for i in range(len(all_graphs[2].edges(form = \"uv\")[0])):\n",
    "    a[all_graphs[2].edges(form = \"uv\")[0][i], all_graphs[2].edges(form = \"uv\")[1][i]] =  atten[i]\n",
    "\n",
    "sns.heatmap(a,\n",
    "                xticklabels = labels, \n",
    "                yticklabels= labels)"
   ]
  },
  {
   "cell_type": "code",
   "execution_count": null,
   "metadata": {},
   "outputs": [],
   "source": [
    "b = pd.DataFrame(a)\n",
    "b"
   ]
  },
  {
   "cell_type": "code",
   "execution_count": null,
   "metadata": {},
   "outputs": [],
   "source": [
    "#dgl_to_nx = nx.relabel_nodes(all_graphs[2].to_networkx())\n",
    "#nx.draw_networkx(one_dgl_graph.to_networkx(), with_labels=True, node_size =500)\n",
    "nx.draw_networkx(all_graphs[2].to_networkx(), with_labels=True, node_size =500)"
   ]
  },
  {
   "cell_type": "code",
   "execution_count": null,
   "metadata": {},
   "outputs": [],
   "source": [
    "import matplotlib.pyplot as plt\n",
    "\n",
    "#nx.draw(all_graphs[0].to_networkx(), atten.squeeze())\n",
    "G=nx.Graph()\n",
    "i=1\n",
    "G.add_node(i,pos=(i,i))\n",
    "G.add_node(2,pos=(2,2))\n",
    "G.add_node(3,pos=(1,0))\n",
    "G.add_edge(1,2,weight=0.5)\n",
    "G.add_edge(1,3,weight=9.8)\n",
    "pos=nx.get_node_attributes(G,'pos')\n",
    "nx.draw(G,pos)\n",
    "labels = nx.get_edge_attributes(G,'weight')\n",
    "nx.draw_networkx_edge_labels(G,pos,edge_labels=labels)\n",
    "#nx.draw_networkx(all_graphs[0].to_networkx())"
   ]
  },
  {
   "cell_type": "code",
   "execution_count": null,
   "metadata": {},
   "outputs": [],
   "source": [
    "labels"
   ]
  },
  {
   "cell_type": "code",
   "execution_count": null,
   "metadata": {},
   "outputs": [],
   "source": [
    "atten.tolist()"
   ]
  },
  {
   "cell_type": "code",
   "execution_count": null,
   "metadata": {},
   "outputs": [],
   "source": []
  },
  {
   "cell_type": "code",
   "execution_count": null,
   "metadata": {},
   "outputs": [],
   "source": []
  },
  {
   "cell_type": "code",
   "execution_count": null,
   "metadata": {},
   "outputs": [],
   "source": []
  },
  {
   "cell_type": "code",
   "execution_count": null,
   "metadata": {},
   "outputs": [],
   "source": [
    "dataset[1], pd.DataFrame(all_graph_features[1])"
   ]
  },
  {
   "cell_type": "code",
   "execution_count": null,
   "metadata": {},
   "outputs": [],
   "source": [
    "all_graphs, all_feature = get_graph_and_feat_df(graphs, processed_data)"
   ]
  },
  {
   "cell_type": "code",
   "execution_count": null,
   "metadata": {},
   "outputs": [],
   "source": [
    "len(all_graphs), all_feature[0].shape"
   ]
  },
  {
   "cell_type": "code",
   "execution_count": null,
   "metadata": {},
   "outputs": [],
   "source": [
    "new_entry_list = processed_data[\"accession-sequence\"].reset_index()\n",
    "#new_entry_list\n",
    "list(graphs[new_entry_list.loc[0,\"accession-sequence\"]].nodes())\n",
    "# the keys in the dict of dgl will be indices"
   ]
  },
  {
   "cell_type": "code",
   "execution_count": null,
   "metadata": {},
   "outputs": [],
   "source": [
    "graphs[new_entry_list.loc[0,\"accession-sequence\"]].edges()"
   ]
  },
  {
   "cell_type": "code",
   "execution_count": null,
   "metadata": {},
   "outputs": [],
   "source": [
    "pd.DataFrame(all_feature[0]).iloc[:9,:]"
   ]
  },
  {
   "cell_type": "code",
   "execution_count": null,
   "metadata": {},
   "outputs": [],
   "source": [
    "graphs[new_entry_list.loc[1,\"accession-sequence\"]].nodes()"
   ]
  },
  {
   "cell_type": "code",
   "execution_count": null,
   "metadata": {},
   "outputs": [],
   "source": [
    "pd.DataFrame(all_feature[1]).iloc[[1,3,4],:]"
   ]
  },
  {
   "cell_type": "code",
   "execution_count": null,
   "metadata": {},
   "outputs": [],
   "source": [
    "processed_data[\"accession-sequence\"]"
   ]
  },
  {
   "cell_type": "code",
   "execution_count": null,
   "metadata": {},
   "outputs": [],
   "source": [
    "all_graphs, all_feature = get_graph_and_feat_df(graphs, processed_data)\n",
    "target = processed_data['ox_fwd_logit'].values"
   ]
  },
  {
   "cell_type": "code",
   "execution_count": null,
   "metadata": {},
   "outputs": [],
   "source": [
    "type(target)"
   ]
  },
  {
   "cell_type": "code",
   "execution_count": null,
   "metadata": {},
   "outputs": [],
   "source": [
    "type(all_feature)"
   ]
  },
  {
   "cell_type": "code",
   "execution_count": null,
   "metadata": {},
   "outputs": [],
   "source": [
    "pd.DataFrame(all_feature[0])"
   ]
  },
  {
   "cell_type": "code",
   "execution_count": null,
   "metadata": {},
   "outputs": [],
   "source": [
    "len(all_graphs), all_feature.shape, taget.shape"
   ]
  },
  {
   "cell_type": "code",
   "execution_count": null,
   "metadata": {},
   "outputs": [],
   "source": [
    "all_graphs[0]"
   ]
  },
  {
   "cell_type": "code",
   "execution_count": null,
   "metadata": {},
   "outputs": [],
   "source": [
    "import dgl"
   ]
  },
  {
   "cell_type": "code",
   "execution_count": null,
   "metadata": {},
   "outputs": [],
   "source": [
    "dgl_graphs = [dgl.from_networkx(graph) for graph in all_graphs]"
   ]
  },
  {
   "cell_type": "code",
   "execution_count": null,
   "metadata": {},
   "outputs": [],
   "source": [
    "dgl_graphs[0]"
   ]
  },
  {
   "cell_type": "code",
   "execution_count": null,
   "metadata": {},
   "outputs": [],
   "source": [
    "dgl.__version__"
   ]
  },
  {
   "cell_type": "code",
   "execution_count": null,
   "metadata": {},
   "outputs": [],
   "source": [
    "# taken from https://github.com/dmlc/dgl/issues/1887\n",
    "from dgl.nn.pytorch.conv import GATConv\n",
    "import torch.nn as nn\n",
    "import torch.nn.functional as F\n",
    "import torch\n",
    "\n",
    "class GATDefault(torch.nn.Module):\n",
    "    def __init__(self, in_dim, hidden_dim, out_dim, num_heads):\n",
    "        super(GATDefault, self).__init__()\n",
    "        self.layer1 = GATConv(in_dim, hidden_dim, num_heads)\n",
    "        # Be aware that the input dimension is hidden_dim*num_heads since\n",
    "        # multiple head outputs are concatenated together. Also, only\n",
    "        # one attention head in the output layer.\n",
    "        self.layer2 = GATConv(hidden_dim * num_heads, out_dim, 1)\n",
    "\n",
    "    def forward(self, g, h):\n",
    "        h = self.layer1(g, h)\n",
    "        # Concat last 2 dim (num_heads * out_dim)\n",
    "        h = h.view(-1, h.size(1) * h.size(2)) # (in_feat, num_heads, out_dim) -> (in_feat, num_heads * out_dim)\n",
    "        h = F.elu(h)\n",
    "        h = self.layer2(g, h)\n",
    "        # Sueeze the head dim as it's = 1 \n",
    "        h = h.squeeze() # (in_feat, 1, out_dim) -> (in_feat, out_dim)\n",
    "        return h\n",
    "\n"
   ]
  },
  {
   "cell_type": "code",
   "execution_count": null,
   "metadata": {},
   "outputs": [],
   "source": [
    "net = GATDefault(\n",
    "          in_dim=67 ,#features.size(1),\n",
    "          hidden_dim=128,\n",
    "          out_dim=64,\n",
    "          num_heads=1)\n",
    "print(net)"
   ]
  },
  {
   "cell_type": "code",
   "execution_count": null,
   "metadata": {},
   "outputs": [],
   "source": [
    "#dgl no need to pad \n",
    "g = dgl_graphs[0]\n",
    "features = np.squeeze(all_feature[0])\n",
    "features = torch.tensor(features[:9,:], dtype =torch.float32)\n",
    "features.shape\n",
    "g, features.shape"
   ]
  },
  {
   "cell_type": "code",
   "execution_count": null,
   "metadata": {},
   "outputs": [],
   "source": [
    "len(g.nodes())\n",
    "#pd.DataFrame(features.numpy())\n",
    "features = np.squeeze(all_feature[0])\n",
    "type(features)"
   ]
  },
  {
   "cell_type": "code",
   "execution_count": null,
   "metadata": {},
   "outputs": [],
   "source": [
    "# create optimizer\n",
    "optimizer = torch.optim.Adam(net.parameters(), lr=1e-3)\n",
    "\n",
    "# main loop\n",
    "dur = []\n",
    "for epoch in range(30):\n",
    "    if epoch >= 3:\n",
    "        t0 = time.time()\n",
    "\n",
    "    out_from_attention = net(g, features)\n",
    "    logp = F.linear(out_from_attention, 1)#F.log_softmax(logits, 1) # probably need to change to linear regression\n",
    "    loss = F.nll_loss(logp[mask], labels[mask])\n",
    "\n",
    "    optimizer.zero_grad()\n",
    "    loss.backward()\n",
    "    optimizer.step()\n",
    "\n",
    "    if epoch >= 3:\n",
    "        dur.append(time.time() - t0)\n",
    "\n",
    "    print(\"Epoch {:05d} | Loss {:.4f} | Time(s) {:.4f}\".format(\n",
    "        epoch, loss.item(), np.mean(dur)))"
   ]
  },
  {
   "cell_type": "code",
   "execution_count": null,
   "metadata": {},
   "outputs": [],
   "source": [
    "out = net(g, features)\n",
    "out.shape"
   ]
  },
  {
   "cell_type": "code",
   "execution_count": null,
   "metadata": {},
   "outputs": [],
   "source": []
  },
  {
   "cell_type": "code",
   "execution_count": null,
   "metadata": {},
   "outputs": [],
   "source": [
    "from dgl import DGLGraph\n",
    "from dgl.data import citation_graph as citegrh\n",
    "import networkx as nx\n",
    "\n",
    "def load_cora_data():\n",
    "    data = citegrh.load_cora()\n",
    "    features = torch.FloatTensor(data.features)\n",
    "    labels = torch.LongTensor(data.labels)\n",
    "    mask = torch.BoolTensor(data.train_mask)\n",
    "    g = DGLGraph(data.graph)\n",
    "    return g, features, labels, mask\n",
    "g_exam, features_exam, labels_exam, mask_exam = load_cora_data()\n"
   ]
  },
  {
   "cell_type": "code",
   "execution_count": null,
   "metadata": {},
   "outputs": [],
   "source": [
    "g_exam,features_exam.shape"
   ]
  },
  {
   "cell_type": "code",
   "execution_count": null,
   "metadata": {},
   "outputs": [],
   "source": [
    "features_exam.shape"
   ]
  },
  {
   "cell_type": "code",
   "execution_count": null,
   "metadata": {},
   "outputs": [],
   "source": [
    "# how to make my dataset: https://docs.dgl.ai/tutorials/blitz/6_load_data.html#sphx-glr-tutorials-blitz-6-load-data-py\n",
    "#https://bitbucket.prd.nibr.novartis.net/projects/CHEMGNN/repos/chemgnn/browse"
   ]
  },
  {
   "cell_type": "code",
   "execution_count": null,
   "metadata": {},
   "outputs": [],
   "source": [
    "import dgl\n",
    "from dgl.data import DGLDataset\n",
    "import torch\n",
    "import os\n",
    "from typing import List, Optional\n",
    "import networkx as nx\n",
    "from tqdm import tqdm\n",
    "from patch_gnn.dgl_dataset import get_graph_and_feat_df\n",
    "\n",
    "def convert_networkx_to_dgl(one_networkx_graph:nx.Graph, one_graph_feature:np.ndarray):\n",
    "    \"\"\"\n",
    "    Convert one networkx graph to dgl graph\n",
    "    :param one_networkx_graph: one nx.Graph\n",
    "    :param one_graph_feature: ndarray of shape (n_node, m_features), n_node could vary in length\n",
    "                              n_node match to the correpsonding num of nodes in one_networkx_graph\n",
    "    \"\"\"\n",
    "    dgl_graph = dgl.from_networkx(one_networkx_graph)\n",
    "    dgl_graph.ndata['feat'] = torch.from_numpy(one_graph_feature)\n",
    "    return dgl_graph\n",
    "    \n",
    "\n",
    "class PatchGNNDataset(DGLDataset):\n",
    "    def __init__(self,\n",
    "                 name: str = 'ghesquire_2011',\n",
    "                 networkx_graphs: List[nx.Graph] = None,\n",
    "                 labels: np.ndarray = None,\n",
    "                 features: List[np.ndarray] = None,\n",
    "                 networkx_to_dglgraph: callable = convert_networkx_to_dgl):\n",
    "        \"\"\"\n",
    "        init this class\n",
    "        :params networkx_graph: a list of graphs in networkx format\n",
    "        :params labels: the target of prediction\n",
    "        :features: a list, each element is a feature matrix of the corresponding graph from networkx_graph, \n",
    "                    should be of shape (n_node, m_features) with no padding. n_node varies for each graph,\n",
    "                    m_features is fixed for all graphs.         \n",
    "        \"\"\"\n",
    "        self.networkx_graphs = networkx_graphs\n",
    "        self.features = features\n",
    "        self.labels = torch.from_numpy(labels)\n",
    "        self.nodenames = [list(graph.nodes()) for graph in networkx_graphs]\n",
    "        super().__init__(name= name)\n",
    "\n",
    "    def process(self):\n",
    "        # convert networkx_graphs to dgl graphs\n",
    "        dgl_graphs = []\n",
    "        for idx in tqdm(range(len(self.networkx_graphs))):\n",
    "            dgl_graphs.append(convert_networkx_to_dgl(self.networkx_graphs[idx], self.features[idx]))\n",
    "            \n",
    "        self.dgl_graphs = dgl_graphs\n",
    "\n",
    "    def __getitem__(self, idx):\n",
    "        return self.dgl_graphs[idx], self.labels[idx], self.nodenames[idx]\n",
    "\n",
    "    def __len__(self):\n",
    "        return len(self.dgl_graphs)\n",
    "\n",
    "all_graphs, all_feature = get_graph_and_feat_df(graphs, processed_data)\n",
    "target = processed_data['ox_fwd_logit'].values\n",
    "dataset = PatchGNNDataset(\n",
    "                 networkx_graphs= all_graphs,\n",
    "                 labels = target,\n",
    "                 features= all_feature)\n"
   ]
  },
  {
   "cell_type": "code",
   "execution_count": null,
   "metadata": {},
   "outputs": [],
   "source": [
    "#all_feature[1].shape\n",
    "dgl_graph = dgl.from_networkx(all_graphs[0])\n",
    "dgl_graph.ndata['feat'] = torch.from_numpy(all_feature[0])\n",
    "dgl_graph"
   ]
  },
  {
   "cell_type": "code",
   "execution_count": null,
   "metadata": {},
   "outputs": [],
   "source": [
    "all_feature[1].shape"
   ]
  },
  {
   "cell_type": "code",
   "execution_count": null,
   "metadata": {},
   "outputs": [],
   "source": [
    "#torch.FloatTensor\n",
    "#(list(graphs['Q9H0U4-MGPGAASGGERPNLK'].nodes()))\n",
    "graphs['Q9H0U4-MGPGAASGGERPNLK']"
   ]
  },
  {
   "cell_type": "code",
   "execution_count": null,
   "metadata": {},
   "outputs": [],
   "source": [
    "dgl.from_networkx(graphs['Q9H0U4-MGPGAASGGERPNLK'], node_attrs =list(graphs['Q9H0U4-MGPGAASGGERPNLK'].nodes()) )"
   ]
  },
  {
   "cell_type": "code",
   "execution_count": null,
   "metadata": {},
   "outputs": [],
   "source": [
    "graphs['Q9H0U4-MGPGAASGGERPNLK'].nodes()"
   ]
  },
  {
   "cell_type": "code",
   "execution_count": null,
   "metadata": {},
   "outputs": [],
   "source": [
    "torch.from_numpy(list(graphs['Q9H0U4-MGPGAASGGERPNLK'].nodes()).astype('category').cat.codes.to_numpy())"
   ]
  },
  {
   "cell_type": "code",
   "execution_count": null,
   "metadata": {},
   "outputs": [],
   "source": [
    "import networkx as nx\n",
    "import dgl\n",
    "\n",
    "#g_nx = nx.petersen_graph()\n",
    "#g_dgl = dgl.DGLGraph(g_nx)\n",
    "g_dgl = dgl.from_networkx(graphs['Q9H0U4-MGPGAASGGERPNLK'])\n",
    "import matplotlib.pyplot as plt\n",
    "#plt.subplot(121)\n",
    "#nx.draw(g_nx, with_labels=True)\n",
    "#plt.subplot(122)\n",
    "plt.subplot(111)\n",
    "nx.draw(g_dgl.to_networkx(), with_labels=True)"
   ]
  },
  {
   "cell_type": "code",
   "execution_count": null,
   "metadata": {},
   "outputs": [],
   "source": []
  }
 ],
 "metadata": {
  "kernelspec": {
   "display_name": "patch_gnn",
   "language": "python",
   "name": "patch_gnn"
  },
  "language_info": {
   "codemirror_mode": {
    "name": "ipython",
    "version": 3
   },
   "file_extension": ".py",
   "mimetype": "text/x-python",
   "name": "python",
   "nbconvert_exporter": "python",
   "pygments_lexer": "ipython3",
   "version": "3.8.10"
  }
 },
 "nbformat": 4,
 "nbformat_minor": 4
}
