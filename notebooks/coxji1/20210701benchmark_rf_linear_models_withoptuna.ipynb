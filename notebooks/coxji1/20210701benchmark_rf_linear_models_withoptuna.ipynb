{
 "cells": [
  {
   "cell_type": "code",
   "execution_count": 28,
   "metadata": {},
   "outputs": [
    {
     "name": "stdout",
     "output_type": "stream",
     "text": [
      "The autoreload extension is already loaded. To reload it, use:\n",
      "  %reload_ext autoreload\n"
     ]
    }
   ],
   "source": [
    "%load_ext autoreload\n",
    "%autoreload 2"
   ]
  },
  {
   "cell_type": "code",
   "execution_count": 29,
   "metadata": {},
   "outputs": [],
   "source": [
    "from patch_gnn.data import load_ghesquire\n",
    "import pandas as pd\n",
    "from pyprojroot import here\n",
    "import pickle as pkl\n",
    "from patch_gnn.splitting import train_test_split\n",
    "from jax import random\n",
    "from patch_gnn.seqops import one_hot\n",
    "from patch_gnn.unirep import unirep_reps\n",
    "from patch_gnn.graph import graph_tensors\n",
    "from patch_gnn.models import MPNN, DeepMPNN, DeepGAT\n",
    "from sklearn.ensemble import RandomForestRegressor\n",
    "from sklearn.metrics import explained_variance_score as evs\n",
    "import matplotlib.pyplot as plt \n",
    "from sklearn.metrics import mean_squared_error as mse\n",
    "import pickle as pkl\n",
    "from patch_gnn.graph import met_position\n",
    "import seaborn as sns\n",
    "from patch_gnn.tune import evotune_mpnn_class, evotune_rf"
   ]
  },
  {
   "cell_type": "code",
   "execution_count": 30,
   "metadata": {},
   "outputs": [],
   "source": [
    "from jax.config import config\n",
    "config.update(\"jax_debug_nans\", True)"
   ]
  },
  {
   "cell_type": "markdown",
   "metadata": {},
   "source": [
    "## Load data and its asscociated graphs\n",
    "##### Data is the raw data, while its associated graph,pkl has only sasa and fluc features. Loading its associated garph is necessary given graphs.pkl contains accession-sequence identifier needed to subset raw data for analysis "
   ]
  },
  {
   "cell_type": "code",
   "execution_count": 31,
   "metadata": {},
   "outputs": [],
   "source": [
    "data = load_ghesquire()\n",
    "\n",
    "#graph_pickle_path = here() / \"data/ghesquire_2011/graphs.pkl\"\n",
    "processed_data_path = here() / \"data/ghesquire_2011/processed_data.pkl\"\n",
    "\n",
    "\n",
    "# the cleaned data has everything processed and ready to be used for deep learning\n",
    "with open(processed_data_path, \"rb\") as f:\n",
    "    processed_data = pkl.load(f)\n",
    "    \n",
    "key = random.PRNGKey(490)"
   ]
  },
  {
   "cell_type": "markdown",
   "metadata": {},
   "source": [
    "##### peptide length distribution"
   ]
  },
  {
   "cell_type": "code",
   "execution_count": 32,
   "metadata": {},
   "outputs": [
    {
     "data": {
      "text/plain": [
       "Text(0.5, 1.0, 'Peptide length distribution')"
      ]
     },
     "execution_count": 32,
     "metadata": {},
     "output_type": "execute_result"
    },
    {
     "data": {
      "image/png": "[encoded data removed]",
      "text/plain": [
       "<Figure size 288x180 with 1 Axes>"
      ]
     },
     "metadata": {
      "needs_background": "light"
     },
     "output_type": "display_data"
    }
   ],
   "source": [
    "list(set(processed_data.sequence.str.len().tolist()))\n",
    "f = plt.figure(figsize=(4,2.5))\n",
    "ax = f.add_subplot(1,1,1)\n",
    "length_dist = pd.DataFrame({'length': processed_data.sequence.str.len().value_counts().index,\n",
    "                            'count': processed_data.sequence.str.len().value_counts()}).sort_values('length')\n",
    "sns.barplot(data = length_dist, x = 'length', y = 'count')\n",
    "ax.set_title(\"Peptide length distribution\")"
   ]
  },
  {
   "cell_type": "markdown",
   "metadata": {},
   "source": [
    "##### Split data in to train and test"
   ]
  },
  {
   "cell_type": "code",
   "execution_count": 33,
   "metadata": {},
   "outputs": [
    {
     "data": {
      "text/plain": [
       "((251, 18), (108, 18))"
      ]
     },
     "execution_count": 33,
     "metadata": {},
     "output_type": "execute_result"
    }
   ],
   "source": [
    "train_df, test_df = train_test_split(key, processed_data) # 70% training, 30% testing\n",
    "(train_df.shape), (test_df.shape) #359 total raw data points"
   ]
  },
  {
   "cell_type": "markdown",
   "metadata": {},
   "source": [
    "Note that this the num of train + test samples  = total graphs"
   ]
  },
  {
   "cell_type": "code",
   "execution_count": 34,
   "metadata": {},
   "outputs": [],
   "source": [
    "def plot_y_eq_x(ax):\n",
    "    xmin, xmax = ax.get_xlim()\n",
    "    ymin, ymax = ax.get_ylim()\n",
    "\n",
    "    minval = min(xmin, ymin)\n",
    "    maxval = max(xmax, ymax)\n",
    "\n",
    "    ax.plot([minval, maxval], [minval, maxval])\n",
    "\n",
    "def plot_performance(\n",
    "    model,\n",
    "    trainX, trainY, testX, testY,\n",
    "    model_name: str,\n",
    "    ev_func1,\n",
    "    ev_func2,\n",
    "    checkpoint: int = None,\n",
    "):\n",
    "    fig, ax = plt.subplots(\n",
    "        figsize=(10, 5), nrows=1, ncols=2, sharex=True, sharey=True,\n",
    "    )\n",
    "    # evaluate model is MPNN class, b/c other deep learning models inhert from this class, they are all under this class\n",
    "    if isinstance(model, MPNN):\n",
    "        train_preds = model.predict(trainX, checkpoint=checkpoint)\n",
    "    else:\n",
    "        train_preds = model.predict(trainX)\n",
    "    ax[0].scatter(trainY, train_preds.squeeze())\n",
    "    ax[0].set_title(f\"Model: {model_name}, Train evs: {ev_func1(trainY, train_preds.squeeze()):.3f},mse: {ev_func2(trainY, train_preds.squeeze()):.3f}\")\n",
    "    plot_y_eq_x(ax[0])\n",
    "\n",
    "    if isinstance(model, MPNN):\n",
    "        test_preds = model.predict(testX, checkpoint=checkpoint)\n",
    "    else:\n",
    "        test_preds = model.predict(testX)\n",
    "    ax[1].scatter(testY, test_preds.squeeze())\n",
    "    ax[1].set_title(f\"Model: {model_name}, Test evs: {ev_func1(testY, test_preds.squeeze()):.3f}, mse: {ev_func2(testY, test_preds.squeeze()):.3f}\")\n",
    "    plot_y_eq_x(ax[1])"
   ]
  },
  {
   "cell_type": "markdown",
   "metadata": {},
   "source": [
    "## Deep learning related model of interests\n",
    "- Sequence based models\n",
    "    - One hot encoding with random forest\n",
    "    - Unirep representation with random forest\n",
    "- Sequence properties based models\n",
    "    - Using SASA features to fit a linear model for Met oxi prediction\n",
    "    - Using fluc features (AMN and NMA) to fit a linear model for Met oxi prediction, see `fluc_clinear_regression.ipynb`"
   ]
  },
  {
   "cell_type": "markdown",
   "metadata": {},
   "source": [
    "##### According to the distribution graph above, pad it to length 30 is enough"
   ]
  },
  {
   "cell_type": "code",
   "execution_count": 35,
   "metadata": {},
   "outputs": [
    {
     "name": "stdout",
     "output_type": "stream",
     "text": [
      "(251, 567) (108, 567)\n",
      "(251, 1900) (108, 1900)\n"
     ]
    }
   ],
   "source": [
    "train_oh = one_hot(train_df, 27) #pad sequence to 27 length and one hot encode it\n",
    "test_oh = one_hot(test_df, 27)\n",
    "print(train_oh.shape, test_oh.shape)\n",
    "\n",
    "train_unirep = unirep_reps(train_df) # unirep representation of the sequence\n",
    "test_unirep = unirep_reps(test_df)\n",
    "print(train_unirep.shape, test_unirep.shape)\n",
    "\n"
   ]
  },
  {
   "cell_type": "code",
   "execution_count": 36,
   "metadata": {},
   "outputs": [],
   "source": [
    "#load target value\n",
    "train_target = train_df['ox_fwd_logit'].values\n",
    "test_target = test_df['ox_fwd_logit'].values"
   ]
  },
  {
   "cell_type": "markdown",
   "metadata": {},
   "source": [
    "## Linear model of interests\n",
    "- Use SASA to predict oxidation\n",
    "- Use ANM to predict oxidation\n",
    "- use NMA to predict oxidation"
   ]
  },
  {
   "cell_type": "code",
   "execution_count": 37,
   "metadata": {},
   "outputs": [],
   "source": [
    "with open(here() / \"data/ghesquire_2011/sasa.pkl\", \"rb\") as f:\n",
    "    sasa_dfs = pkl.load(f)\n",
    "with open(here() / \"data/ghesquire_2011/ANM.pkl\", \"rb\") as f:\n",
    "    anm_dfs = pkl.load(f)\n",
    "with open(here() / \"data/ghesquire_2011/NMA.pkl\", \"rb\") as f:\n",
    "    nma_dfs = pkl.load(f)"
   ]
  },
  {
   "cell_type": "code",
   "execution_count": 38,
   "metadata": {},
   "outputs": [],
   "source": [
    "from sklearn.linear_model import LinearRegression\n",
    "def linear_model_data_forsasa(df, sasa_dfs):\n",
    "    linear = []\n",
    "    for acc, pos in zip(df[\"accession\"], df[\"met_position\"]):\n",
    "        feats = sasa_dfs[acc].query(\"ResidNr == @pos\")[[\"SASA/A^2\", \"N(overl)\"]] #using only two features from sasa_dfs, want to compare with older models\n",
    "        linear.append(feats)\n",
    "\n",
    "    return pd.concat(linear)\n",
    "\n",
    "def linear_model_data_for_anm_nma(df, feature_dfs):\n",
    "    \"\"\"\n",
    "    return a feature vector \n",
    "    :params df: either train_df or test_df\n",
    "    :params feature_df: either anm_dfs or nma_dfs, they are dictionaries\n",
    "                        with key being accesssion and values being features associated\n",
    "                        that accession number\n",
    "    \"\"\"\n",
    "    linear = []\n",
    "    for acc, pos in zip(df[\"accession\"], df[\"met_position\"]):\n",
    "        # preprocessing already removed all the inf and nan values, so in theory there shouldn't be any\n",
    "        if feature_dfs[acc].loc[:,'fluc'].isnull().any().sum()!=0:\n",
    "            feature_dfs[acc] = feature_dfs[acc].replace(np.inf, 100000000, inplace =True)\n",
    "        feats = feature_dfs[acc].query(\"resnos == @pos\")[[\"fluc\"]]\n",
    "        linear.append(feats)\n",
    "    return pd.concat(linear)\n"
   ]
  },
  {
   "cell_type": "code",
   "execution_count": 39,
   "metadata": {},
   "outputs": [],
   "source": [
    "linear_models = {\n",
    "    \"sasa\": linear_model_data_forsasa(train_df, sasa_dfs), \n",
    "    \"anm\": linear_model_data_for_anm_nma(train_df, anm_dfs),\n",
    "    \"nma\": linear_model_data_for_anm_nma(train_df, nma_dfs),\n",
    "    \"sasa_test\": linear_model_data_forsasa(test_df, sasa_dfs), \n",
    "    \"anm_test\": linear_model_data_for_anm_nma(test_df, anm_dfs),\n",
    "    \"nma_test\": linear_model_data_for_anm_nma(test_df, nma_dfs)\n",
    "}"
   ]
  },
  {
   "cell_type": "code",
   "execution_count": 40,
   "metadata": {},
   "outputs": [],
   "source": [
    "sasa_linear = LinearRegression().fit(linear_models['sasa'], train_target)\n",
    "anm_linear = LinearRegression().fit(linear_models['anm'], train_target)\n",
    "nma_linear = LinearRegression().fit(linear_models['nma'], train_target)"
   ]
  },
  {
   "cell_type": "code",
   "execution_count": 41,
   "metadata": {},
   "outputs": [],
   "source": [
    "#train_linear = linear_model_data(train_df, sasa_dfs)\n",
    "#test_linear = linear_model_data(test_df, sasa_dfs)"
   ]
  },
  {
   "cell_type": "code",
   "execution_count": 42,
   "metadata": {},
   "outputs": [],
   "source": [
    "#from sklearn.linear_model import LinearRegression\n",
    "#model_linear = LinearRegression()\n",
    "#model_linear.fit(train_linear, train_target)"
   ]
  },
  {
   "cell_type": "markdown",
   "metadata": {},
   "source": [
    "### Define training for non-linear models"
   ]
  },
  {
   "cell_type": "code",
   "execution_count": 43,
   "metadata": {},
   "outputs": [],
   "source": [
    "rf_max_depth_kwargs = {\"name\" : \"max_depth\", # this key value pair is required as is\n",
    "                       \"low\" :2,  # one can change the value\n",
    "                       \"high\" : 65, # one can change the value\n",
    "                       \"log\" :True  #this key value pair is required as is\n",
    "                        }\n",
    "rf_n_estimator_kwargs = {\"name\" : \"n_estimators\",# this key value pair is required as is\n",
    "                        \"low\" : 128, # one can change the value\n",
    "                        \"high\" : 900, # one can change the value\n",
    "                        \"log\" : True # this key value pair is required as is\n",
    "                            }"
   ]
  },
  {
   "cell_type": "code",
   "execution_count": 44,
   "metadata": {},
   "outputs": [
    {
     "name": "stderr",
     "output_type": "stream",
     "text": [
      "\u001b[32m[I 2021-07-06 19:55:41,190]\u001b[0m A new study created in memory with name: no-name-517036f5-bd46-4685-9813-9412a3b33326\u001b[0m\n"
     ]
    },
    {
     "name": "stdout",
     "output_type": "stream",
     "text": [
      "The params that were optimized {'max_depth': 11, 'n_estimators': 163}\n"
     ]
    },
    {
     "name": "stderr",
     "output_type": "stream",
     "text": [
      "\u001b[32m[I 2021-07-06 19:55:41,594]\u001b[0m Trial 0 finished with value: 0.4523952875717223 and parameters: {'max_depth': 11, 'n_estimators': 163}. Best is trial 0 with value: 0.4523952875717223.\u001b[0m\n"
     ]
    },
    {
     "name": "stdout",
     "output_type": "stream",
     "text": [
      "The params that were optimized {'max_depth': 9, 'n_estimators': 135}\n"
     ]
    },
    {
     "name": "stderr",
     "output_type": "stream",
     "text": [
      "\u001b[32m[I 2021-07-06 19:55:41,970]\u001b[0m Trial 1 finished with value: 0.5668668604712966 and parameters: {'max_depth': 9, 'n_estimators': 135}. Best is trial 0 with value: 0.4523952875717223.\u001b[0m\n"
     ]
    },
    {
     "name": "stdout",
     "output_type": "stream",
     "text": [
      "The params that were optimized {'max_depth': 32, 'n_estimators': 614}\n"
     ]
    },
    {
     "name": "stderr",
     "output_type": "stream",
     "text": [
      "\u001b[32m[I 2021-07-06 19:55:43,226]\u001b[0m Trial 2 finished with value: 0.205742389178052 and parameters: {'max_depth': 32, 'n_estimators': 614}. Best is trial 2 with value: 0.205742389178052.\u001b[0m\n"
     ]
    },
    {
     "name": "stdout",
     "output_type": "stream",
     "text": [
      "The params that were optimized {'max_depth': 48, 'n_estimators': 802}\n"
     ]
    },
    {
     "name": "stderr",
     "output_type": "stream",
     "text": [
      "\u001b[32m[I 2021-07-06 19:55:45,126]\u001b[0m Trial 3 finished with value: 0.20928555622296488 and parameters: {'max_depth': 48, 'n_estimators': 802}. Best is trial 2 with value: 0.205742389178052.\u001b[0m\n"
     ]
    },
    {
     "name": "stdout",
     "output_type": "stream",
     "text": [
      "The params that were optimized {'max_depth': 21, 'n_estimators': 663}\n"
     ]
    },
    {
     "name": "stderr",
     "output_type": "stream",
     "text": [
      "\u001b[32m[I 2021-07-06 19:55:46,603]\u001b[0m Trial 4 finished with value: 0.23817685335118396 and parameters: {'max_depth': 21, 'n_estimators': 663}. Best is trial 2 with value: 0.205742389178052.\u001b[0m\n"
     ]
    },
    {
     "name": "stdout",
     "output_type": "stream",
     "text": [
      "The params that were optimized {'max_depth': 3, 'n_estimators': 191}\n"
     ]
    },
    {
     "name": "stderr",
     "output_type": "stream",
     "text": [
      "\u001b[32m[I 2021-07-06 19:55:47,096]\u001b[0m Trial 5 finished with value: 1.0981061748273808 and parameters: {'max_depth': 3, 'n_estimators': 191}. Best is trial 2 with value: 0.205742389178052.\u001b[0m\n"
     ]
    },
    {
     "name": "stdout",
     "output_type": "stream",
     "text": [
      "The params that were optimized {'max_depth': 13, 'n_estimators': 540}\n"
     ]
    },
    {
     "name": "stderr",
     "output_type": "stream",
     "text": [
      "\u001b[32m[I 2021-07-06 19:55:48,223]\u001b[0m Trial 6 finished with value: 0.37537044850504525 and parameters: {'max_depth': 13, 'n_estimators': 540}. Best is trial 2 with value: 0.205742389178052.\u001b[0m\n"
     ]
    },
    {
     "name": "stdout",
     "output_type": "stream",
     "text": [
      "The params that were optimized {'max_depth': 2, 'n_estimators': 504}\n"
     ]
    },
    {
     "name": "stderr",
     "output_type": "stream",
     "text": [
      "\u001b[32m[I 2021-07-06 19:55:49,253]\u001b[0m Trial 7 finished with value: 1.2215258452239985 and parameters: {'max_depth': 2, 'n_estimators': 504}. Best is trial 2 with value: 0.205742389178052.\u001b[0m\n"
     ]
    },
    {
     "name": "stdout",
     "output_type": "stream",
     "text": [
      "The params that were optimized {'max_depth': 17, 'n_estimators': 143}\n"
     ]
    },
    {
     "name": "stderr",
     "output_type": "stream",
     "text": [
      "\u001b[32m[I 2021-07-06 19:55:49,637]\u001b[0m Trial 8 finished with value: 0.2891766424976851 and parameters: {'max_depth': 17, 'n_estimators': 143}. Best is trial 2 with value: 0.205742389178052.\u001b[0m\n"
     ]
    },
    {
     "name": "stdout",
     "output_type": "stream",
     "text": [
      "The params that were optimized {'max_depth': 3, 'n_estimators': 285}\n"
     ]
    },
    {
     "name": "stderr",
     "output_type": "stream",
     "text": [
      "\u001b[32m[I 2021-07-06 19:55:50,236]\u001b[0m Trial 9 finished with value: 1.0955530891906857 and parameters: {'max_depth': 3, 'n_estimators': 285}. Best is trial 2 with value: 0.205742389178052.\u001b[0m\n"
     ]
    },
    {
     "name": "stdout",
     "output_type": "stream",
     "text": [
      "The params that were optimized {'max_depth': 64, 'n_estimators': 363}\n"
     ]
    },
    {
     "name": "stderr",
     "output_type": "stream",
     "text": [
      "\u001b[32m[I 2021-07-06 19:55:51,073]\u001b[0m Trial 10 finished with value: 0.212197465156779 and parameters: {'max_depth': 64, 'n_estimators': 363}. Best is trial 2 with value: 0.205742389178052.\u001b[0m\n"
     ]
    },
    {
     "name": "stdout",
     "output_type": "stream",
     "text": [
      "The params that were optimized {'max_depth': 63, 'n_estimators': 686}\n"
     ]
    },
    {
     "name": "stderr",
     "output_type": "stream",
     "text": [
      "\u001b[32m[I 2021-07-06 19:55:52,522]\u001b[0m Trial 11 finished with value: 0.20455956402849598 and parameters: {'max_depth': 63, 'n_estimators': 686}. Best is trial 11 with value: 0.20455956402849598.\u001b[0m\n"
     ]
    },
    {
     "name": "stdout",
     "output_type": "stream",
     "text": [
      "The params that were optimized {'max_depth': 34, 'n_estimators': 872}\n"
     ]
    },
    {
     "name": "stderr",
     "output_type": "stream",
     "text": [
      "\u001b[32m[I 2021-07-06 19:55:54,309]\u001b[0m Trial 12 finished with value: 0.20703760488019657 and parameters: {'max_depth': 34, 'n_estimators': 872}. Best is trial 11 with value: 0.20455956402849598.\u001b[0m\n"
     ]
    },
    {
     "name": "stdout",
     "output_type": "stream",
     "text": [
      "The params that were optimized {'max_depth': 34, 'n_estimators': 409}\n"
     ]
    },
    {
     "name": "stderr",
     "output_type": "stream",
     "text": [
      "\u001b[32m[I 2021-07-06 19:55:55,195]\u001b[0m Trial 13 finished with value: 0.2164909607708337 and parameters: {'max_depth': 34, 'n_estimators': 409}. Best is trial 11 with value: 0.20455956402849598.\u001b[0m\n"
     ]
    },
    {
     "name": "stdout",
     "output_type": "stream",
     "text": [
      "The params that were optimized {'max_depth': 64, 'n_estimators': 686}\n"
     ]
    },
    {
     "name": "stderr",
     "output_type": "stream",
     "text": [
      "\u001b[32m[I 2021-07-06 19:55:56,619]\u001b[0m Trial 14 finished with value: 0.20679623552781956 and parameters: {'max_depth': 64, 'n_estimators': 686}. Best is trial 11 with value: 0.20455956402849598.\u001b[0m\n"
     ]
    },
    {
     "name": "stdout",
     "output_type": "stream",
     "text": [
      "The params that were optimized {'max_depth': 31, 'n_estimators': 278}\n"
     ]
    },
    {
     "name": "stderr",
     "output_type": "stream",
     "text": [
      "\u001b[32m[I 2021-07-06 19:55:57,295]\u001b[0m Trial 15 finished with value: 0.20444958328411247 and parameters: {'max_depth': 31, 'n_estimators': 278}. Best is trial 15 with value: 0.20444958328411247.\u001b[0m\n"
     ]
    },
    {
     "name": "stdout",
     "output_type": "stream",
     "text": [
      "The params that were optimized {'max_depth': 8, 'n_estimators': 252}\n"
     ]
    },
    {
     "name": "stderr",
     "output_type": "stream",
     "text": [
      "\u001b[32m[I 2021-07-06 19:55:57,907]\u001b[0m Trial 16 finished with value: 0.6390615328565443 and parameters: {'max_depth': 8, 'n_estimators': 252}. Best is trial 15 with value: 0.20444958328411247.\u001b[0m\n"
     ]
    },
    {
     "name": "stdout",
     "output_type": "stream",
     "text": [
      "The params that were optimized {'max_depth': 6, 'n_estimators': 227}\n"
     ]
    },
    {
     "name": "stderr",
     "output_type": "stream",
     "text": [
      "\u001b[32m[I 2021-07-06 19:55:58,473]\u001b[0m Trial 17 finished with value: 0.7784498477954167 and parameters: {'max_depth': 6, 'n_estimators': 227}. Best is trial 15 with value: 0.20444958328411247.\u001b[0m\n"
     ]
    },
    {
     "name": "stdout",
     "output_type": "stream",
     "text": [
      "The params that were optimized {'max_depth': 22, 'n_estimators': 310}\n"
     ]
    },
    {
     "name": "stderr",
     "output_type": "stream",
     "text": [
      "\u001b[32m[I 2021-07-06 19:55:59,203]\u001b[0m Trial 18 finished with value: 0.2294410001572083 and parameters: {'max_depth': 22, 'n_estimators': 310}. Best is trial 15 with value: 0.20444958328411247.\u001b[0m\n"
     ]
    },
    {
     "name": "stdout",
     "output_type": "stream",
     "text": [
      "The params that were optimized {'max_depth': 48, 'n_estimators': 432}\n"
     ]
    },
    {
     "name": "stderr",
     "output_type": "stream",
     "text": [
      "\u001b[32m[I 2021-07-06 19:56:00,229]\u001b[0m Trial 19 finished with value: 0.2095943871662908 and parameters: {'max_depth': 48, 'n_estimators': 432}. Best is trial 15 with value: 0.20444958328411247.\u001b[0m\n"
     ]
    },
    {
     "name": "stdout",
     "output_type": "stream",
     "text": [
      "The params that were optimized {'max_depth': 50, 'n_estimators': 208}\n"
     ]
    },
    {
     "name": "stderr",
     "output_type": "stream",
     "text": [
      "\u001b[32m[I 2021-07-06 19:56:00,771]\u001b[0m Trial 20 finished with value: 0.21374726538699682 and parameters: {'max_depth': 50, 'n_estimators': 208}. Best is trial 15 with value: 0.20444958328411247.\u001b[0m\n"
     ]
    },
    {
     "name": "stdout",
     "output_type": "stream",
     "text": [
      "The params that were optimized {'max_depth': 30, 'n_estimators': 609}\n"
     ]
    },
    {
     "name": "stderr",
     "output_type": "stream",
     "text": [
      "\u001b[32m[I 2021-07-06 19:56:02,104]\u001b[0m Trial 21 finished with value: 0.20672382388980384 and parameters: {'max_depth': 30, 'n_estimators': 609}. Best is trial 15 with value: 0.20444958328411247.\u001b[0m\n"
     ]
    },
    {
     "name": "stdout",
     "output_type": "stream",
     "text": [
      "The params that were optimized {'max_depth': 30, 'n_estimators': 886}\n"
     ]
    },
    {
     "name": "stderr",
     "output_type": "stream",
     "text": [
      "\u001b[32m[I 2021-07-06 19:56:03,889]\u001b[0m Trial 22 finished with value: 0.21179594479110464 and parameters: {'max_depth': 30, 'n_estimators': 886}. Best is trial 15 with value: 0.20444958328411247.\u001b[0m\n"
     ]
    },
    {
     "name": "stdout",
     "output_type": "stream",
     "text": [
      "The params that were optimized {'max_depth': 42, 'n_estimators': 480}\n"
     ]
    },
    {
     "name": "stderr",
     "output_type": "stream",
     "text": [
      "\u001b[32m[I 2021-07-06 19:56:04,965]\u001b[0m Trial 23 finished with value: 0.20726458981331672 and parameters: {'max_depth': 42, 'n_estimators': 480}. Best is trial 15 with value: 0.20444958328411247.\u001b[0m\n"
     ]
    },
    {
     "name": "stdout",
     "output_type": "stream",
     "text": [
      "The params that were optimized {'max_depth': 21, 'n_estimators': 365}\n"
     ]
    },
    {
     "name": "stderr",
     "output_type": "stream",
     "text": [
      "\u001b[32m[I 2021-07-06 19:56:05,816]\u001b[0m Trial 24 finished with value: 0.23891991194382195 and parameters: {'max_depth': 21, 'n_estimators': 365}. Best is trial 15 with value: 0.20444958328411247.\u001b[0m\n"
     ]
    },
    {
     "name": "stdout",
     "output_type": "stream",
     "text": [
      "The params that were optimized {'max_depth': 65, 'n_estimators': 739}\n"
     ]
    },
    {
     "name": "stderr",
     "output_type": "stream",
     "text": [
      "\u001b[32m[I 2021-07-06 19:56:07,401]\u001b[0m Trial 25 finished with value: 0.20814061279129234 and parameters: {'max_depth': 65, 'n_estimators': 739}. Best is trial 15 with value: 0.20444958328411247.\u001b[0m\n"
     ]
    },
    {
     "name": "stdout",
     "output_type": "stream",
     "text": [
      "The params that were optimized {'max_depth': 14, 'n_estimators': 577}\n"
     ]
    },
    {
     "name": "stderr",
     "output_type": "stream",
     "text": [
      "\u001b[32m[I 2021-07-06 19:56:08,642]\u001b[0m Trial 26 finished with value: 0.34208933689949456 and parameters: {'max_depth': 14, 'n_estimators': 577}. Best is trial 15 with value: 0.20444958328411247.\u001b[0m\n"
     ]
    },
    {
     "name": "stdout",
     "output_type": "stream",
     "text": [
      "The params that were optimized {'max_depth': 26, 'n_estimators': 293}\n"
     ]
    },
    {
     "name": "stderr",
     "output_type": "stream",
     "text": [
      "\u001b[32m[I 2021-07-06 19:56:09,359]\u001b[0m Trial 27 finished with value: 0.21354985670273285 and parameters: {'max_depth': 26, 'n_estimators': 293}. Best is trial 15 with value: 0.20444958328411247.\u001b[0m\n"
     ]
    },
    {
     "name": "stdout",
     "output_type": "stream",
     "text": [
      "The params that were optimized {'max_depth': 40, 'n_estimators': 440}\n"
     ]
    },
    {
     "name": "stderr",
     "output_type": "stream",
     "text": [
      "\u001b[32m[I 2021-07-06 19:56:10,350]\u001b[0m Trial 28 finished with value: 0.20383963501841718 and parameters: {'max_depth': 40, 'n_estimators': 440}. Best is trial 28 with value: 0.20383963501841718.\u001b[0m\n"
     ]
    },
    {
     "name": "stdout",
     "output_type": "stream",
     "text": [
      "The params that were optimized {'max_depth': 47, 'n_estimators': 435}\n"
     ]
    },
    {
     "name": "stderr",
     "output_type": "stream",
     "text": [
      "\u001b[32m[I 2021-07-06 19:56:11,280]\u001b[0m Trial 29 finished with value: 0.2098162245007256 and parameters: {'max_depth': 47, 'n_estimators': 435}. Best is trial 28 with value: 0.20383963501841718.\u001b[0m\n"
     ]
    },
    {
     "name": "stdout",
     "output_type": "stream",
     "text": [
      "The params that were optimized {'max_depth': 62, 'n_estimators': 249}\n"
     ]
    },
    {
     "name": "stderr",
     "output_type": "stream",
     "text": [
      "\u001b[32m[I 2021-07-06 19:56:11,908]\u001b[0m Trial 30 finished with value: 0.20961722045064757 and parameters: {'max_depth': 62, 'n_estimators': 249}. Best is trial 28 with value: 0.20383963501841718.\u001b[0m\n"
     ]
    },
    {
     "name": "stdout",
     "output_type": "stream",
     "text": [
      "The params that were optimized {'max_depth': 35, 'n_estimators': 665}\n"
     ]
    },
    {
     "name": "stderr",
     "output_type": "stream",
     "text": [
      "\u001b[32m[I 2021-07-06 19:56:13,281]\u001b[0m Trial 31 finished with value: 0.2041248236426478 and parameters: {'max_depth': 35, 'n_estimators': 665}. Best is trial 28 with value: 0.20383963501841718.\u001b[0m\n"
     ]
    },
    {
     "name": "stdout",
     "output_type": "stream",
     "text": [
      "The params that were optimized {'max_depth': 39, 'n_estimators': 334}\n"
     ]
    },
    {
     "name": "stderr",
     "output_type": "stream",
     "text": [
      "\u001b[32m[I 2021-07-06 19:56:14,073]\u001b[0m Trial 32 finished with value: 0.20443873865615902 and parameters: {'max_depth': 39, 'n_estimators': 334}. Best is trial 28 with value: 0.20383963501841718.\u001b[0m\n"
     ]
    },
    {
     "name": "stdout",
     "output_type": "stream",
     "text": [
      "The params that were optimized {'max_depth': 39, 'n_estimators': 343}\n"
     ]
    },
    {
     "name": "stderr",
     "output_type": "stream",
     "text": [
      "\u001b[32m[I 2021-07-06 19:56:14,882]\u001b[0m Trial 33 finished with value: 0.20355900230345533 and parameters: {'max_depth': 39, 'n_estimators': 343}. Best is trial 33 with value: 0.20355900230345533.\u001b[0m\n"
     ]
    },
    {
     "name": "stdout",
     "output_type": "stream",
     "text": [
      "The params that were optimized {'max_depth': 41, 'n_estimators': 337}\n"
     ]
    },
    {
     "name": "stderr",
     "output_type": "stream",
     "text": [
      "\u001b[32m[I 2021-07-06 19:56:15,622]\u001b[0m Trial 34 finished with value: 0.2106250583774569 and parameters: {'max_depth': 41, 'n_estimators': 337}. Best is trial 33 with value: 0.20355900230345533.\u001b[0m\n"
     ]
    },
    {
     "name": "stdout",
     "output_type": "stream",
     "text": [
      "The params that were optimized {'max_depth': 38, 'n_estimators': 392}\n"
     ]
    },
    {
     "name": "stderr",
     "output_type": "stream",
     "text": [
      "\u001b[32m[I 2021-07-06 19:56:16,514]\u001b[0m Trial 35 finished with value: 0.20958692787288338 and parameters: {'max_depth': 38, 'n_estimators': 392}. Best is trial 33 with value: 0.20355900230345533.\u001b[0m\n"
     ]
    },
    {
     "name": "stdout",
     "output_type": "stream",
     "text": [
      "The params that were optimized {'max_depth': 24, 'n_estimators': 336}\n"
     ]
    },
    {
     "name": "stderr",
     "output_type": "stream",
     "text": [
      "\u001b[32m[I 2021-07-06 19:56:17,268]\u001b[0m Trial 36 finished with value: 0.22914980307396915 and parameters: {'max_depth': 24, 'n_estimators': 336}. Best is trial 33 with value: 0.20355900230345533.\u001b[0m\n"
     ]
    },
    {
     "name": "stdout",
     "output_type": "stream",
     "text": [
      "The params that were optimized {'max_depth': 18, 'n_estimators': 473}\n"
     ]
    },
    {
     "name": "stderr",
     "output_type": "stream",
     "text": [
      "\u001b[32m[I 2021-07-06 19:56:18,250]\u001b[0m Trial 37 finished with value: 0.2661915070591688 and parameters: {'max_depth': 18, 'n_estimators': 473}. Best is trial 33 with value: 0.20355900230345533.\u001b[0m\n"
     ]
    },
    {
     "name": "stdout",
     "output_type": "stream",
     "text": [
      "The params that were optimized {'max_depth': 52, 'n_estimators': 526}\n"
     ]
    },
    {
     "name": "stderr",
     "output_type": "stream",
     "text": [
      "\u001b[32m[I 2021-07-06 19:56:19,403]\u001b[0m Trial 38 finished with value: 0.20579059160875776 and parameters: {'max_depth': 52, 'n_estimators': 526}. Best is trial 33 with value: 0.20355900230345533.\u001b[0m\n"
     ]
    },
    {
     "name": "stdout",
     "output_type": "stream",
     "text": [
      "The params that were optimized {'max_depth': 10, 'n_estimators': 374}\n"
     ]
    },
    {
     "name": "stderr",
     "output_type": "stream",
     "text": [
      "\u001b[32m[I 2021-07-06 19:56:20,219]\u001b[0m Trial 39 finished with value: 0.5039958020851992 and parameters: {'max_depth': 10, 'n_estimators': 374}. Best is trial 33 with value: 0.20355900230345533.\u001b[0m\n"
     ]
    },
    {
     "name": "stdout",
     "output_type": "stream",
     "text": [
      "The params that were optimized {'max_depth': 17, 'n_estimators': 328}\n"
     ]
    },
    {
     "name": "stderr",
     "output_type": "stream",
     "text": [
      "\u001b[32m[I 2021-07-06 19:56:20,980]\u001b[0m Trial 40 finished with value: 0.2827209893646164 and parameters: {'max_depth': 17, 'n_estimators': 328}. Best is trial 33 with value: 0.20355900230345533.\u001b[0m\n"
     ]
    },
    {
     "name": "stdout",
     "output_type": "stream",
     "text": [
      "The params that were optimized {'max_depth': 27, 'n_estimators': 266}\n"
     ]
    },
    {
     "name": "stderr",
     "output_type": "stream",
     "text": [
      "\u001b[32m[I 2021-07-06 19:56:21,642]\u001b[0m Trial 41 finished with value: 0.2124742741479209 and parameters: {'max_depth': 27, 'n_estimators': 266}. Best is trial 33 with value: 0.20355900230345533.\u001b[0m\n"
     ]
    },
    {
     "name": "stdout",
     "output_type": "stream",
     "text": [
      "The params that were optimized {'max_depth': 37, 'n_estimators': 184}\n"
     ]
    },
    {
     "name": "stderr",
     "output_type": "stream",
     "text": [
      "\u001b[32m[I 2021-07-06 19:56:22,077]\u001b[0m Trial 42 finished with value: 0.2179472620711497 and parameters: {'max_depth': 37, 'n_estimators': 184}. Best is trial 33 with value: 0.20355900230345533.\u001b[0m\n"
     ]
    },
    {
     "name": "stdout",
     "output_type": "stream",
     "text": [
      "The params that were optimized {'max_depth': 55, 'n_estimators': 291}\n"
     ]
    },
    {
     "name": "stderr",
     "output_type": "stream",
     "text": [
      "\u001b[32m[I 2021-07-06 19:56:22,716]\u001b[0m Trial 43 finished with value: 0.21406265471681715 and parameters: {'max_depth': 55, 'n_estimators': 291}. Best is trial 33 with value: 0.20355900230345533.\u001b[0m\n"
     ]
    },
    {
     "name": "stdout",
     "output_type": "stream",
     "text": [
      "The params that were optimized {'max_depth': 43, 'n_estimators': 222}\n"
     ]
    },
    {
     "name": "stderr",
     "output_type": "stream",
     "text": [
      "\u001b[32m[I 2021-07-06 19:56:23,278]\u001b[0m Trial 44 finished with value: 0.21133078481401338 and parameters: {'max_depth': 43, 'n_estimators': 222}. Best is trial 33 with value: 0.20355900230345533.\u001b[0m\n"
     ]
    },
    {
     "name": "stdout",
     "output_type": "stream",
     "text": [
      "The params that were optimized {'max_depth': 30, 'n_estimators': 266}\n"
     ]
    },
    {
     "name": "stderr",
     "output_type": "stream",
     "text": [
      "\u001b[32m[I 2021-07-06 19:56:23,919]\u001b[0m Trial 45 finished with value: 0.20420378571613995 and parameters: {'max_depth': 30, 'n_estimators': 266}. Best is trial 33 with value: 0.20355900230345533.\u001b[0m\n"
     ]
    },
    {
     "name": "stdout",
     "output_type": "stream",
     "text": [
      "The params that were optimized {'max_depth': 27, 'n_estimators': 311}\n"
     ]
    },
    {
     "name": "stderr",
     "output_type": "stream",
     "text": [
      "\u001b[32m[I 2021-07-06 19:56:24,652]\u001b[0m Trial 46 finished with value: 0.21187039334199048 and parameters: {'max_depth': 27, 'n_estimators': 311}. Best is trial 33 with value: 0.20355900230345533.\u001b[0m\n"
     ]
    },
    {
     "name": "stdout",
     "output_type": "stream",
     "text": [
      "The params that were optimized {'max_depth': 35, 'n_estimators': 409}\n"
     ]
    },
    {
     "name": "stderr",
     "output_type": "stream",
     "text": [
      "\u001b[32m[I 2021-07-06 19:56:25,569]\u001b[0m Trial 47 finished with value: 0.2144041920807532 and parameters: {'max_depth': 35, 'n_estimators': 409}. Best is trial 33 with value: 0.20355900230345533.\u001b[0m\n"
     ]
    },
    {
     "name": "stdout",
     "output_type": "stream",
     "text": [
      "The params that were optimized {'max_depth': 56, 'n_estimators': 768}\n"
     ]
    },
    {
     "name": "stderr",
     "output_type": "stream",
     "text": [
      "\u001b[32m[I 2021-07-06 19:56:27,177]\u001b[0m Trial 48 finished with value: 0.20720363759263208 and parameters: {'max_depth': 56, 'n_estimators': 768}. Best is trial 33 with value: 0.20355900230345533.\u001b[0m\n"
     ]
    },
    {
     "name": "stdout",
     "output_type": "stream",
     "text": [
      "The params that were optimized {'max_depth': 20, 'n_estimators': 453}\n"
     ]
    },
    {
     "name": "stderr",
     "output_type": "stream",
     "text": [
      "\u001b[32m[I 2021-07-06 19:56:28,199]\u001b[0m Trial 49 finished with value: 0.24701275968832398 and parameters: {'max_depth': 20, 'n_estimators': 453}. Best is trial 33 with value: 0.20355900230345533.\u001b[0m\n"
     ]
    },
    {
     "name": "stdout",
     "output_type": "stream",
     "text": [
      "The params that were optimized {'max_depth': 12, 'n_estimators': 560}\n"
     ]
    },
    {
     "name": "stderr",
     "output_type": "stream",
     "text": [
      "\u001b[32m[I 2021-07-06 19:56:29,435]\u001b[0m Trial 50 finished with value: 0.41081444855540045 and parameters: {'max_depth': 12, 'n_estimators': 560}. Best is trial 33 with value: 0.20355900230345533.\u001b[0m\n"
     ]
    },
    {
     "name": "stdout",
     "output_type": "stream",
     "text": [
      "The params that were optimized {'max_depth': 31, 'n_estimators': 264}\n"
     ]
    },
    {
     "name": "stderr",
     "output_type": "stream",
     "text": [
      "\u001b[32m[I 2021-07-06 19:56:30,093]\u001b[0m Trial 51 finished with value: 0.2144805693489647 and parameters: {'max_depth': 31, 'n_estimators': 264}. Best is trial 33 with value: 0.20355900230345533.\u001b[0m\n"
     ]
    },
    {
     "name": "stdout",
     "output_type": "stream",
     "text": [
      "The params that were optimized {'max_depth': 42, 'n_estimators': 231}\n"
     ]
    },
    {
     "name": "stderr",
     "output_type": "stream",
     "text": [
      "\u001b[32m[I 2021-07-06 19:56:30,634]\u001b[0m Trial 52 finished with value: 0.2097700860470298 and parameters: {'max_depth': 42, 'n_estimators': 231}. Best is trial 33 with value: 0.20355900230345533.\u001b[0m\n"
     ]
    },
    {
     "name": "stdout",
     "output_type": "stream",
     "text": [
      "The params that were optimized {'max_depth': 33, 'n_estimators': 273}\n"
     ]
    },
    {
     "name": "stderr",
     "output_type": "stream",
     "text": [
      "\u001b[32m[I 2021-07-06 19:56:31,295]\u001b[0m Trial 53 finished with value: 0.20886252927535523 and parameters: {'max_depth': 33, 'n_estimators': 273}. Best is trial 33 with value: 0.20355900230345533.\u001b[0m\n"
     ]
    },
    {
     "name": "stdout",
     "output_type": "stream",
     "text": [
      "The params that were optimized {'max_depth': 24, 'n_estimators': 311}\n"
     ]
    },
    {
     "name": "stderr",
     "output_type": "stream",
     "text": [
      "\u001b[32m[I 2021-07-06 19:56:32,066]\u001b[0m Trial 54 finished with value: 0.22383736770384707 and parameters: {'max_depth': 24, 'n_estimators': 311}. Best is trial 33 with value: 0.20355900230345533.\u001b[0m\n"
     ]
    },
    {
     "name": "stdout",
     "output_type": "stream",
     "text": [
      "The params that were optimized {'max_depth': 15, 'n_estimators': 350}\n"
     ]
    },
    {
     "name": "stderr",
     "output_type": "stream",
     "text": [
      "\u001b[32m[I 2021-07-06 19:56:32,864]\u001b[0m Trial 55 finished with value: 0.32032525577833965 and parameters: {'max_depth': 15, 'n_estimators': 350}. Best is trial 33 with value: 0.20355900230345533.\u001b[0m\n"
     ]
    },
    {
     "name": "stdout",
     "output_type": "stream",
     "text": [
      "The params that were optimized {'max_depth': 6, 'n_estimators': 246}\n"
     ]
    },
    {
     "name": "stderr",
     "output_type": "stream",
     "text": [
      "\u001b[32m[I 2021-07-06 19:56:33,487]\u001b[0m Trial 56 finished with value: 0.7858596249992963 and parameters: {'max_depth': 6, 'n_estimators': 246}. Best is trial 33 with value: 0.20355900230345533.\u001b[0m\n"
     ]
    },
    {
     "name": "stdout",
     "output_type": "stream",
     "text": [
      "The params that were optimized {'max_depth': 30, 'n_estimators': 200}\n"
     ]
    },
    {
     "name": "stderr",
     "output_type": "stream",
     "text": [
      "\u001b[32m[I 2021-07-06 19:56:34,046]\u001b[0m Trial 57 finished with value: 0.2098834192970082 and parameters: {'max_depth': 30, 'n_estimators': 200}. Best is trial 33 with value: 0.20355900230345533.\u001b[0m\n"
     ]
    },
    {
     "name": "stdout",
     "output_type": "stream",
     "text": [
      "The params that were optimized {'max_depth': 38, 'n_estimators': 390}\n"
     ]
    },
    {
     "name": "stderr",
     "output_type": "stream",
     "text": [
      "\u001b[32m[I 2021-07-06 19:56:34,923]\u001b[0m Trial 58 finished with value: 0.20749612241213217 and parameters: {'max_depth': 38, 'n_estimators': 390}. Best is trial 33 with value: 0.20355900230345533.\u001b[0m\n"
     ]
    },
    {
     "name": "stdout",
     "output_type": "stream",
     "text": [
      "The params that were optimized {'max_depth': 47, 'n_estimators': 168}\n"
     ]
    },
    {
     "name": "stderr",
     "output_type": "stream",
     "text": [
      "\u001b[32m[I 2021-07-06 19:56:35,366]\u001b[0m Trial 59 finished with value: 0.2093580957801877 and parameters: {'max_depth': 47, 'n_estimators': 168}. Best is trial 33 with value: 0.20355900230345533.\u001b[0m\n"
     ]
    },
    {
     "name": "stdout",
     "output_type": "stream",
     "text": [
      "The params that were optimized {'max_depth': 25, 'n_estimators': 648}\n"
     ]
    },
    {
     "name": "stderr",
     "output_type": "stream",
     "text": [
      "\u001b[32m[I 2021-07-06 19:56:36,689]\u001b[0m Trial 60 finished with value: 0.21449137010383693 and parameters: {'max_depth': 25, 'n_estimators': 648}. Best is trial 33 with value: 0.20355900230345533.\u001b[0m\n"
     ]
    },
    {
     "name": "stdout",
     "output_type": "stream",
     "text": [
      "The params that were optimized {'max_depth': 63, 'n_estimators': 831}\n"
     ]
    },
    {
     "name": "stderr",
     "output_type": "stream",
     "text": [
      "\u001b[32m[I 2021-07-06 19:56:38,367]\u001b[0m Trial 61 finished with value: 0.20675674932566893 and parameters: {'max_depth': 63, 'n_estimators': 831}. Best is trial 33 with value: 0.20355900230345533.\u001b[0m\n"
     ]
    },
    {
     "name": "stdout",
     "output_type": "stream",
     "text": [
      "The params that were optimized {'max_depth': 57, 'n_estimators': 736}\n"
     ]
    },
    {
     "name": "stderr",
     "output_type": "stream",
     "text": [
      "\u001b[32m[I 2021-07-06 19:56:39,912]\u001b[0m Trial 62 finished with value: 0.204000513748242 and parameters: {'max_depth': 57, 'n_estimators': 736}. Best is trial 33 with value: 0.20355900230345533.\u001b[0m\n"
     ]
    },
    {
     "name": "stdout",
     "output_type": "stream",
     "text": [
      "The params that were optimized {'max_depth': 54, 'n_estimators': 616}\n"
     ]
    },
    {
     "name": "stderr",
     "output_type": "stream",
     "text": [
      "\u001b[32m[I 2021-07-06 19:56:41,246]\u001b[0m Trial 63 finished with value: 0.20795657067071283 and parameters: {'max_depth': 54, 'n_estimators': 616}. Best is trial 33 with value: 0.20355900230345533.\u001b[0m\n"
     ]
    },
    {
     "name": "stdout",
     "output_type": "stream",
     "text": [
      "The params that were optimized {'max_depth': 46, 'n_estimators': 690}\n"
     ]
    },
    {
     "name": "stderr",
     "output_type": "stream",
     "text": [
      "\u001b[32m[I 2021-07-06 19:56:42,726]\u001b[0m Trial 64 finished with value: 0.21056075154383413 and parameters: {'max_depth': 46, 'n_estimators': 690}. Best is trial 33 with value: 0.20355900230345533.\u001b[0m\n"
     ]
    },
    {
     "name": "stdout",
     "output_type": "stream",
     "text": [
      "The params that were optimized {'max_depth': 36, 'n_estimators': 288}\n"
     ]
    },
    {
     "name": "stderr",
     "output_type": "stream",
     "text": [
      "\u001b[32m[I 2021-07-06 19:56:43,698]\u001b[0m Trial 65 finished with value: 0.20659122093026056 and parameters: {'max_depth': 36, 'n_estimators': 288}. Best is trial 33 with value: 0.20355900230345533.\u001b[0m\n"
     ]
    },
    {
     "name": "stdout",
     "output_type": "stream",
     "text": [
      "The params that were optimized {'max_depth': 29, 'n_estimators': 739}\n"
     ]
    },
    {
     "name": "stderr",
     "output_type": "stream",
     "text": [
      "\u001b[32m[I 2021-07-06 19:56:45,256]\u001b[0m Trial 66 finished with value: 0.20929435418413703 and parameters: {'max_depth': 29, 'n_estimators': 739}. Best is trial 33 with value: 0.20355900230345533.\u001b[0m\n"
     ]
    },
    {
     "name": "stdout",
     "output_type": "stream",
     "text": [
      "The params that were optimized {'max_depth': 40, 'n_estimators': 319}\n"
     ]
    },
    {
     "name": "stderr",
     "output_type": "stream",
     "text": [
      "\u001b[32m[I 2021-07-06 19:56:46,022]\u001b[0m Trial 67 finished with value: 0.20957547469944005 and parameters: {'max_depth': 40, 'n_estimators': 319}. Best is trial 33 with value: 0.20355900230345533.\u001b[0m\n"
     ]
    },
    {
     "name": "stdout",
     "output_type": "stream",
     "text": [
      "The params that were optimized {'max_depth': 58, 'n_estimators': 500}\n"
     ]
    },
    {
     "name": "stderr",
     "output_type": "stream",
     "text": [
      "\u001b[32m[I 2021-07-06 19:56:47,148]\u001b[0m Trial 68 finished with value: 0.2055065931728111 and parameters: {'max_depth': 58, 'n_estimators': 500}. Best is trial 33 with value: 0.20355900230345533.\u001b[0m\n"
     ]
    },
    {
     "name": "stdout",
     "output_type": "stream",
     "text": [
      "The params that were optimized {'max_depth': 34, 'n_estimators': 239}\n"
     ]
    },
    {
     "name": "stderr",
     "output_type": "stream",
     "text": [
      "\u001b[32m[I 2021-07-06 19:56:47,705]\u001b[0m Trial 69 finished with value: 0.20737649238645162 and parameters: {'max_depth': 34, 'n_estimators': 239}. Best is trial 33 with value: 0.20355900230345533.\u001b[0m\n"
     ]
    },
    {
     "name": "stdout",
     "output_type": "stream",
     "text": [
      "The params that were optimized {'max_depth': 22, 'n_estimators': 354}\n"
     ]
    },
    {
     "name": "stderr",
     "output_type": "stream",
     "text": [
      "\u001b[32m[I 2021-07-06 19:56:48,511]\u001b[0m Trial 70 finished with value: 0.22836402961714594 and parameters: {'max_depth': 22, 'n_estimators': 354}. Best is trial 33 with value: 0.20355900230345533.\u001b[0m\n"
     ]
    },
    {
     "name": "stdout",
     "output_type": "stream",
     "text": [
      "The params that were optimized {'max_depth': 50, 'n_estimators': 824}\n"
     ]
    },
    {
     "name": "stderr",
     "output_type": "stream",
     "text": [
      "\u001b[32m[I 2021-07-06 19:56:50,225]\u001b[0m Trial 71 finished with value: 0.2056115125909905 and parameters: {'max_depth': 50, 'n_estimators': 824}. Best is trial 33 with value: 0.20355900230345533.\u001b[0m\n"
     ]
    },
    {
     "name": "stdout",
     "output_type": "stream",
     "text": [
      "The params that were optimized {'max_depth': 45, 'n_estimators': 696}\n"
     ]
    },
    {
     "name": "stderr",
     "output_type": "stream",
     "text": [
      "\u001b[32m[I 2021-07-06 19:56:51,639]\u001b[0m Trial 72 finished with value: 0.2061254219994278 and parameters: {'max_depth': 45, 'n_estimators': 696}. Best is trial 33 with value: 0.20355900230345533.\u001b[0m\n"
     ]
    },
    {
     "name": "stdout",
     "output_type": "stream",
     "text": [
      "The params that were optimized {'max_depth': 58, 'n_estimators': 599}\n"
     ]
    },
    {
     "name": "stderr",
     "output_type": "stream",
     "text": [
      "\u001b[32m[I 2021-07-06 19:56:52,871]\u001b[0m Trial 73 finished with value: 0.2035494391848195 and parameters: {'max_depth': 58, 'n_estimators': 599}. Best is trial 73 with value: 0.2035494391848195.\u001b[0m\n"
     ]
    },
    {
     "name": "stdout",
     "output_type": "stream",
     "text": [
      "The params that were optimized {'max_depth': 2, 'n_estimators': 601}\n"
     ]
    },
    {
     "name": "stderr",
     "output_type": "stream",
     "text": [
      "\u001b[32m[I 2021-07-06 19:56:54,073]\u001b[0m Trial 74 finished with value: 1.220432097737356 and parameters: {'max_depth': 2, 'n_estimators': 601}. Best is trial 73 with value: 0.2035494391848195.\u001b[0m\n"
     ]
    },
    {
     "name": "stdout",
     "output_type": "stream",
     "text": [
      "The params that were optimized {'max_depth': 65, 'n_estimators': 537}\n"
     ]
    },
    {
     "name": "stderr",
     "output_type": "stream",
     "text": [
      "\u001b[32m[I 2021-07-06 19:56:55,248]\u001b[0m Trial 75 finished with value: 0.21003026232459293 and parameters: {'max_depth': 65, 'n_estimators': 537}. Best is trial 73 with value: 0.2035494391848195.\u001b[0m\n"
     ]
    },
    {
     "name": "stdout",
     "output_type": "stream",
     "text": [
      "The params that were optimized {'max_depth': 39, 'n_estimators': 657}\n"
     ]
    },
    {
     "name": "stderr",
     "output_type": "stream",
     "text": [
      "\u001b[32m[I 2021-07-06 19:56:56,659]\u001b[0m Trial 76 finished with value: 0.207406731164926 and parameters: {'max_depth': 39, 'n_estimators': 657}. Best is trial 73 with value: 0.2035494391848195.\u001b[0m\n"
     ]
    },
    {
     "name": "stdout",
     "output_type": "stream",
     "text": [
      "The params that were optimized {'max_depth': 32, 'n_estimators': 302}\n"
     ]
    },
    {
     "name": "stderr",
     "output_type": "stream",
     "text": [
      "\u001b[32m[I 2021-07-06 19:56:57,400]\u001b[0m Trial 77 finished with value: 0.20803166750871147 and parameters: {'max_depth': 32, 'n_estimators': 302}. Best is trial 73 with value: 0.2035494391848195.\u001b[0m\n"
     ]
    },
    {
     "name": "stdout",
     "output_type": "stream",
     "text": [
      "The params that were optimized {'max_depth': 60, 'n_estimators': 277}\n"
     ]
    },
    {
     "name": "stderr",
     "output_type": "stream",
     "text": [
      "\u001b[32m[I 2021-07-06 19:56:58,048]\u001b[0m Trial 78 finished with value: 0.21614893783918443 and parameters: {'max_depth': 60, 'n_estimators': 277}. Best is trial 73 with value: 0.2035494391848195.\u001b[0m\n"
     ]
    },
    {
     "name": "stdout",
     "output_type": "stream",
     "text": [
      "The params that were optimized {'max_depth': 28, 'n_estimators': 414}\n"
     ]
    },
    {
     "name": "stderr",
     "output_type": "stream",
     "text": [
      "\u001b[32m[I 2021-07-06 19:56:58,985]\u001b[0m Trial 79 finished with value: 0.2141100009675348 and parameters: {'max_depth': 28, 'n_estimators': 414}. Best is trial 73 with value: 0.2035494391848195.\u001b[0m\n"
     ]
    },
    {
     "name": "stdout",
     "output_type": "stream",
     "text": [
      "The params that were optimized {'max_depth': 51, 'n_estimators': 887}\n"
     ]
    },
    {
     "name": "stderr",
     "output_type": "stream",
     "text": [
      "\u001b[32m[I 2021-07-06 19:57:00,820]\u001b[0m Trial 80 finished with value: 0.20498982038680905 and parameters: {'max_depth': 51, 'n_estimators': 887}. Best is trial 73 with value: 0.2035494391848195.\u001b[0m\n"
     ]
    },
    {
     "name": "stdout",
     "output_type": "stream",
     "text": [
      "The params that were optimized {'max_depth': 44, 'n_estimators': 769}\n"
     ]
    },
    {
     "name": "stderr",
     "output_type": "stream",
     "text": [
      "\u001b[32m[I 2021-07-06 19:57:02,439]\u001b[0m Trial 81 finished with value: 0.2081821854443231 and parameters: {'max_depth': 44, 'n_estimators': 769}. Best is trial 73 with value: 0.2035494391848195.\u001b[0m\n"
     ]
    },
    {
     "name": "stdout",
     "output_type": "stream",
     "text": [
      "The params that were optimized {'max_depth': 55, 'n_estimators': 730}\n"
     ]
    },
    {
     "name": "stderr",
     "output_type": "stream",
     "text": [
      "\u001b[32m[I 2021-07-06 19:57:03,999]\u001b[0m Trial 82 finished with value: 0.2052889672921193 and parameters: {'max_depth': 55, 'n_estimators': 730}. Best is trial 73 with value: 0.2035494391848195.\u001b[0m\n"
     ]
    },
    {
     "name": "stdout",
     "output_type": "stream",
     "text": [
      "The params that were optimized {'max_depth': 36, 'n_estimators': 257}\n"
     ]
    },
    {
     "name": "stderr",
     "output_type": "stream",
     "text": [
      "\u001b[32m[I 2021-07-06 19:57:04,644]\u001b[0m Trial 83 finished with value: 0.21226600136801593 and parameters: {'max_depth': 36, 'n_estimators': 257}. Best is trial 73 with value: 0.2035494391848195.\u001b[0m\n"
     ]
    },
    {
     "name": "stdout",
     "output_type": "stream",
     "text": [
      "The params that were optimized {'max_depth': 42, 'n_estimators': 571}\n"
     ]
    },
    {
     "name": "stderr",
     "output_type": "stream",
     "text": [
      "\u001b[32m[I 2021-07-06 19:57:05,857]\u001b[0m Trial 84 finished with value: 0.20619694287745693 and parameters: {'max_depth': 42, 'n_estimators': 571}. Best is trial 73 with value: 0.2035494391848195.\u001b[0m\n"
     ]
    },
    {
     "name": "stdout",
     "output_type": "stream",
     "text": [
      "The params that were optimized {'max_depth': 65, 'n_estimators': 637}\n"
     ]
    },
    {
     "name": "stderr",
     "output_type": "stream",
     "text": [
      "\u001b[32m[I 2021-07-06 19:57:07,239]\u001b[0m Trial 85 finished with value: 0.2103196409036662 and parameters: {'max_depth': 65, 'n_estimators': 637}. Best is trial 73 with value: 0.2035494391848195.\u001b[0m\n"
     ]
    },
    {
     "name": "stdout",
     "output_type": "stream",
     "text": [
      "The params that were optimized {'max_depth': 50, 'n_estimators': 378}\n"
     ]
    },
    {
     "name": "stderr",
     "output_type": "stream",
     "text": [
      "\u001b[32m[I 2021-07-06 19:57:08,124]\u001b[0m Trial 86 finished with value: 0.2024901817291798 and parameters: {'max_depth': 50, 'n_estimators': 378}. Best is trial 86 with value: 0.2024901817291798.\u001b[0m\n"
     ]
    },
    {
     "name": "stdout",
     "output_type": "stream",
     "text": [
      "The params that were optimized {'max_depth': 3, 'n_estimators': 376}\n"
     ]
    },
    {
     "name": "stderr",
     "output_type": "stream",
     "text": [
      "\u001b[32m[I 2021-07-06 19:57:08,962]\u001b[0m Trial 87 finished with value: 1.101302551267026 and parameters: {'max_depth': 3, 'n_estimators': 376}. Best is trial 86 with value: 0.2024901817291798.\u001b[0m\n"
     ]
    },
    {
     "name": "stdout",
     "output_type": "stream",
     "text": [
      "The params that were optimized {'max_depth': 49, 'n_estimators': 449}\n"
     ]
    },
    {
     "name": "stderr",
     "output_type": "stream",
     "text": [
      "\u001b[32m[I 2021-07-06 19:57:09,981]\u001b[0m Trial 88 finished with value: 0.20941885657138845 and parameters: {'max_depth': 49, 'n_estimators': 449}. Best is trial 86 with value: 0.2024901817291798.\u001b[0m\n"
     ]
    },
    {
     "name": "stdout",
     "output_type": "stream",
     "text": [
      "The params that were optimized {'max_depth': 39, 'n_estimators': 326}\n"
     ]
    },
    {
     "name": "stderr",
     "output_type": "stream",
     "text": [
      "\u001b[32m[I 2021-07-06 19:57:10,766]\u001b[0m Trial 89 finished with value: 0.20971691360904018 and parameters: {'max_depth': 39, 'n_estimators': 326}. Best is trial 86 with value: 0.2024901817291798.\u001b[0m\n"
     ]
    },
    {
     "name": "stdout",
     "output_type": "stream",
     "text": [
      "The params that were optimized {'max_depth': 33, 'n_estimators': 351}\n"
     ]
    },
    {
     "name": "stderr",
     "output_type": "stream",
     "text": [
      "\u001b[32m[I 2021-07-06 19:57:11,586]\u001b[0m Trial 90 finished with value: 0.21197919171291316 and parameters: {'max_depth': 33, 'n_estimators': 351}. Best is trial 86 with value: 0.2024901817291798.\u001b[0m\n"
     ]
    },
    {
     "name": "stdout",
     "output_type": "stream",
     "text": [
      "The params that were optimized {'max_depth': 60, 'n_estimators': 396}\n"
     ]
    },
    {
     "name": "stderr",
     "output_type": "stream",
     "text": [
      "\u001b[32m[I 2021-07-06 19:57:12,449]\u001b[0m Trial 91 finished with value: 0.20847309817577872 and parameters: {'max_depth': 60, 'n_estimators': 396}. Best is trial 86 with value: 0.2024901817291798.\u001b[0m\n"
     ]
    },
    {
     "name": "stdout",
     "output_type": "stream",
     "text": [
      "The params that were optimized {'max_depth': 51, 'n_estimators': 711}\n"
     ]
    },
    {
     "name": "stderr",
     "output_type": "stream",
     "text": [
      "\u001b[32m[I 2021-07-06 19:57:13,971]\u001b[0m Trial 92 finished with value: 0.2094271152118278 and parameters: {'max_depth': 51, 'n_estimators': 711}. Best is trial 86 with value: 0.2024901817291798.\u001b[0m\n"
     ]
    },
    {
     "name": "stdout",
     "output_type": "stream",
     "text": [
      "The params that were optimized {'max_depth': 45, 'n_estimators': 781}\n"
     ]
    },
    {
     "name": "stderr",
     "output_type": "stream",
     "text": [
      "\u001b[32m[I 2021-07-06 19:57:15,649]\u001b[0m Trial 93 finished with value: 0.20696142657063069 and parameters: {'max_depth': 45, 'n_estimators': 781}. Best is trial 86 with value: 0.2024901817291798.\u001b[0m\n"
     ]
    },
    {
     "name": "stdout",
     "output_type": "stream",
     "text": [
      "The params that were optimized {'max_depth': 56, 'n_estimators': 376}\n"
     ]
    },
    {
     "name": "stderr",
     "output_type": "stream",
     "text": [
      "\u001b[32m[I 2021-07-06 19:57:16,524]\u001b[0m Trial 94 finished with value: 0.20910865551659047 and parameters: {'max_depth': 56, 'n_estimators': 376}. Best is trial 86 with value: 0.2024901817291798.\u001b[0m\n"
     ]
    },
    {
     "name": "stdout",
     "output_type": "stream",
     "text": [
      "The params that were optimized {'max_depth': 36, 'n_estimators': 338}\n"
     ]
    },
    {
     "name": "stderr",
     "output_type": "stream",
     "text": [
      "\u001b[32m[I 2021-07-06 19:57:17,328]\u001b[0m Trial 95 finished with value: 0.20489743497719792 and parameters: {'max_depth': 36, 'n_estimators': 338}. Best is trial 86 with value: 0.2024901817291798.\u001b[0m\n"
     ]
    },
    {
     "name": "stdout",
     "output_type": "stream",
     "text": [
      "The params that were optimized {'max_depth': 40, 'n_estimators': 297}\n"
     ]
    },
    {
     "name": "stderr",
     "output_type": "stream",
     "text": [
      "\u001b[32m[I 2021-07-06 19:57:17,983]\u001b[0m Trial 96 finished with value: 0.20334589504114334 and parameters: {'max_depth': 40, 'n_estimators': 297}. Best is trial 86 with value: 0.2024901817291798.\u001b[0m\n"
     ]
    },
    {
     "name": "stdout",
     "output_type": "stream",
     "text": [
      "The params that were optimized {'max_depth': 31, 'n_estimators': 297}\n"
     ]
    },
    {
     "name": "stderr",
     "output_type": "stream",
     "text": [
      "\u001b[32m[I 2021-07-06 19:57:18,670]\u001b[0m Trial 97 finished with value: 0.21524705794732368 and parameters: {'max_depth': 31, 'n_estimators': 297}. Best is trial 86 with value: 0.2024901817291798.\u001b[0m\n"
     ]
    },
    {
     "name": "stdout",
     "output_type": "stream",
     "text": [
      "The params that were optimized {'max_depth': 25, 'n_estimators': 216}\n"
     ]
    },
    {
     "name": "stderr",
     "output_type": "stream",
     "text": [
      "\u001b[32m[I 2021-07-06 19:57:19,183]\u001b[0m Trial 98 finished with value: 0.21438790610157307 and parameters: {'max_depth': 25, 'n_estimators': 216}. Best is trial 86 with value: 0.2024901817291798.\u001b[0m\n"
     ]
    },
    {
     "name": "stdout",
     "output_type": "stream",
     "text": [
      "The params that were optimized {'max_depth': 42, 'n_estimators': 270}\n"
     ]
    },
    {
     "name": "stderr",
     "output_type": "stream",
     "text": [
      "\u001b[32m[I 2021-07-06 19:57:19,826]\u001b[0m Trial 99 finished with value: 0.20803360748730196 and parameters: {'max_depth': 42, 'n_estimators': 270}. Best is trial 86 with value: 0.2024901817291798.\u001b[0m\n"
     ]
    },
    {
     "name": "stdout",
     "output_type": "stream",
     "text": [
      "The params that were optimized {'max_depth': 28, 'n_estimators': 318}\n"
     ]
    },
    {
     "name": "stderr",
     "output_type": "stream",
     "text": [
      "\u001b[32m[I 2021-07-06 19:57:20,576]\u001b[0m Trial 100 finished with value: 0.2113904362250783 and parameters: {'max_depth': 28, 'n_estimators': 318}. Best is trial 86 with value: 0.2024901817291798.\u001b[0m\n"
     ]
    },
    {
     "name": "stdout",
     "output_type": "stream",
     "text": [
      "The params that were optimized {'max_depth': 48, 'n_estimators': 280}\n"
     ]
    },
    {
     "name": "stderr",
     "output_type": "stream",
     "text": [
      "\u001b[32m[I 2021-07-06 19:57:21,242]\u001b[0m Trial 101 finished with value: 0.2085198293879469 and parameters: {'max_depth': 48, 'n_estimators': 280}. Best is trial 86 with value: 0.2024901817291798.\u001b[0m\n"
     ]
    },
    {
     "name": "stdout",
     "output_type": "stream",
     "text": [
      "The params that were optimized {'max_depth': 40, 'n_estimators': 665}\n"
     ]
    },
    {
     "name": "stderr",
     "output_type": "stream",
     "text": [
      "\u001b[32m[I 2021-07-06 19:57:22,628]\u001b[0m Trial 102 finished with value: 0.20679219686938935 and parameters: {'max_depth': 40, 'n_estimators': 665}. Best is trial 86 with value: 0.2024901817291798.\u001b[0m\n"
     ]
    },
    {
     "name": "stdout",
     "output_type": "stream",
     "text": [
      "The params that were optimized {'max_depth': 8, 'n_estimators': 597}\n"
     ]
    },
    {
     "name": "stderr",
     "output_type": "stream",
     "text": [
      "\u001b[32m[I 2021-07-06 19:57:23,829]\u001b[0m Trial 103 finished with value: 0.6287172923127003 and parameters: {'max_depth': 8, 'n_estimators': 597}. Best is trial 86 with value: 0.2024901817291798.\u001b[0m\n"
     ]
    },
    {
     "name": "stdout",
     "output_type": "stream",
     "text": [
      "The params that were optimized {'max_depth': 34, 'n_estimators': 303}\n"
     ]
    },
    {
     "name": "stderr",
     "output_type": "stream",
     "text": [
      "\u001b[32m[I 2021-07-06 19:57:24,567]\u001b[0m Trial 104 finished with value: 0.2078565161810164 and parameters: {'max_depth': 34, 'n_estimators': 303}. Best is trial 86 with value: 0.2024901817291798.\u001b[0m\n"
     ]
    },
    {
     "name": "stdout",
     "output_type": "stream",
     "text": [
      "The params that were optimized {'max_depth': 54, 'n_estimators': 511}\n"
     ]
    },
    {
     "name": "stderr",
     "output_type": "stream",
     "text": [
      "\u001b[32m[I 2021-07-06 19:57:25,709]\u001b[0m Trial 105 finished with value: 0.20369079008108862 and parameters: {'max_depth': 54, 'n_estimators': 511}. Best is trial 86 with value: 0.2024901817291798.\u001b[0m\n"
     ]
    },
    {
     "name": "stdout",
     "output_type": "stream",
     "text": [
      "The params that were optimized {'max_depth': 52, 'n_estimators': 480}\n"
     ]
    },
    {
     "name": "stderr",
     "output_type": "stream",
     "text": [
      "\u001b[32m[I 2021-07-06 19:57:26,780]\u001b[0m Trial 106 finished with value: 0.2100450377460141 and parameters: {'max_depth': 52, 'n_estimators': 480}. Best is trial 86 with value: 0.2024901817291798.\u001b[0m\n"
     ]
    },
    {
     "name": "stdout",
     "output_type": "stream",
     "text": [
      "The params that were optimized {'max_depth': 19, 'n_estimators': 514}\n"
     ]
    },
    {
     "name": "stderr",
     "output_type": "stream",
     "text": [
      "\u001b[32m[I 2021-07-06 19:57:27,895]\u001b[0m Trial 107 finished with value: 0.253436439235444 and parameters: {'max_depth': 19, 'n_estimators': 514}. Best is trial 86 with value: 0.2024901817291798.\u001b[0m\n"
     ]
    },
    {
     "name": "stdout",
     "output_type": "stream",
     "text": [
      "The params that were optimized {'max_depth': 2, 'n_estimators': 558}\n"
     ]
    },
    {
     "name": "stderr",
     "output_type": "stream",
     "text": [
      "\u001b[32m[I 2021-07-06 19:57:29,036]\u001b[0m Trial 108 finished with value: 1.2207034617291699 and parameters: {'max_depth': 2, 'n_estimators': 558}. Best is trial 86 with value: 0.2024901817291798.\u001b[0m\n"
     ]
    },
    {
     "name": "stdout",
     "output_type": "stream",
     "text": [
      "The params that were optimized {'max_depth': 43, 'n_estimators': 426}\n"
     ]
    },
    {
     "name": "stderr",
     "output_type": "stream",
     "text": [
      "\u001b[32m[I 2021-07-06 19:57:29,998]\u001b[0m Trial 109 finished with value: 0.2070325782139884 and parameters: {'max_depth': 43, 'n_estimators': 426}. Best is trial 86 with value: 0.2024901817291798.\u001b[0m\n"
     ]
    },
    {
     "name": "stdout",
     "output_type": "stream",
     "text": [
      "The params that were optimized {'max_depth': 37, 'n_estimators': 460}\n"
     ]
    },
    {
     "name": "stderr",
     "output_type": "stream",
     "text": [
      "\u001b[32m[I 2021-07-06 19:57:31,026]\u001b[0m Trial 110 finished with value: 0.21199280398639522 and parameters: {'max_depth': 37, 'n_estimators': 460}. Best is trial 86 with value: 0.2024901817291798.\u001b[0m\n"
     ]
    },
    {
     "name": "stdout",
     "output_type": "stream",
     "text": [
      "The params that were optimized {'max_depth': 60, 'n_estimators': 622}\n"
     ]
    },
    {
     "name": "stderr",
     "output_type": "stream",
     "text": [
      "\u001b[32m[I 2021-07-06 19:57:32,357]\u001b[0m Trial 111 finished with value: 0.20547694086038534 and parameters: {'max_depth': 60, 'n_estimators': 622}. Best is trial 86 with value: 0.2024901817291798.\u001b[0m\n"
     ]
    },
    {
     "name": "stdout",
     "output_type": "stream",
     "text": [
      "The params that were optimized {'max_depth': 45, 'n_estimators': 678}\n"
     ]
    },
    {
     "name": "stderr",
     "output_type": "stream",
     "text": [
      "\u001b[32m[I 2021-07-06 19:57:33,821]\u001b[0m Trial 112 finished with value: 0.20474452307770383 and parameters: {'max_depth': 45, 'n_estimators': 678}. Best is trial 86 with value: 0.2024901817291798.\u001b[0m\n"
     ]
    },
    {
     "name": "stdout",
     "output_type": "stream",
     "text": [
      "The params that were optimized {'max_depth': 54, 'n_estimators': 502}\n"
     ]
    },
    {
     "name": "stderr",
     "output_type": "stream",
     "text": [
      "\u001b[32m[I 2021-07-06 19:57:34,926]\u001b[0m Trial 113 finished with value: 0.2069537094299262 and parameters: {'max_depth': 54, 'n_estimators': 502}. Best is trial 86 with value: 0.2024901817291798.\u001b[0m\n"
     ]
    },
    {
     "name": "stdout",
     "output_type": "stream",
     "text": [
      "The params that were optimized {'max_depth': 48, 'n_estimators': 262}\n"
     ]
    },
    {
     "name": "stderr",
     "output_type": "stream",
     "text": [
      "\u001b[32m[I 2021-07-06 19:57:35,902]\u001b[0m Trial 114 finished with value: 0.21122901045212858 and parameters: {'max_depth': 48, 'n_estimators': 262}. Best is trial 86 with value: 0.2024901817291798.\u001b[0m\n"
     ]
    },
    {
     "name": "stdout",
     "output_type": "stream",
     "text": [
      "The params that were optimized {'max_depth': 31, 'n_estimators': 241}\n"
     ]
    },
    {
     "name": "stderr",
     "output_type": "stream",
     "text": [
      "\u001b[32m[I 2021-07-06 19:57:36,512]\u001b[0m Trial 115 finished with value: 0.21446143990494793 and parameters: {'max_depth': 31, 'n_estimators': 241}. Best is trial 86 with value: 0.2024901817291798.\u001b[0m\n"
     ]
    },
    {
     "name": "stdout",
     "output_type": "stream",
     "text": [
      "The params that were optimized {'max_depth': 39, 'n_estimators': 358}\n"
     ]
    },
    {
     "name": "stderr",
     "output_type": "stream",
     "text": [
      "\u001b[32m[I 2021-07-06 19:57:37,316]\u001b[0m Trial 116 finished with value: 0.2068999397986091 and parameters: {'max_depth': 39, 'n_estimators': 358}. Best is trial 86 with value: 0.2024901817291798.\u001b[0m\n"
     ]
    },
    {
     "name": "stdout",
     "output_type": "stream",
     "text": [
      "The params that were optimized {'max_depth': 57, 'n_estimators': 588}\n"
     ]
    },
    {
     "name": "stderr",
     "output_type": "stream",
     "text": [
      "\u001b[32m[I 2021-07-06 19:57:38,549]\u001b[0m Trial 117 finished with value: 0.20648840579569644 and parameters: {'max_depth': 57, 'n_estimators': 588}. Best is trial 86 with value: 0.2024901817291798.\u001b[0m\n"
     ]
    },
    {
     "name": "stdout",
     "output_type": "stream",
     "text": [
      "The params that were optimized {'max_depth': 65, 'n_estimators': 287}\n"
     ]
    },
    {
     "name": "stderr",
     "output_type": "stream",
     "text": [
      "\u001b[32m[I 2021-07-06 19:57:39,275]\u001b[0m Trial 118 finished with value: 0.21112782051120396 and parameters: {'max_depth': 65, 'n_estimators': 287}. Best is trial 86 with value: 0.2024901817291798.\u001b[0m\n"
     ]
    },
    {
     "name": "stdout",
     "output_type": "stream",
     "text": [
      "The params that were optimized {'max_depth': 22, 'n_estimators': 542}\n"
     ]
    },
    {
     "name": "stderr",
     "output_type": "stream",
     "text": [
      "\u001b[32m[I 2021-07-06 19:57:40,465]\u001b[0m Trial 119 finished with value: 0.23582747558967945 and parameters: {'max_depth': 22, 'n_estimators': 542}. Best is trial 86 with value: 0.2024901817291798.\u001b[0m\n"
     ]
    },
    {
     "name": "stdout",
     "output_type": "stream",
     "text": [
      "The params that were optimized {'max_depth': 35, 'n_estimators': 390}\n"
     ]
    },
    {
     "name": "stderr",
     "output_type": "stream",
     "text": [
      "\u001b[32m[I 2021-07-06 19:57:41,308]\u001b[0m Trial 120 finished with value: 0.20413350417943935 and parameters: {'max_depth': 35, 'n_estimators': 390}. Best is trial 86 with value: 0.2024901817291798.\u001b[0m\n"
     ]
    },
    {
     "name": "stdout",
     "output_type": "stream",
     "text": [
      "The params that were optimized {'max_depth': 35, 'n_estimators': 401}\n"
     ]
    },
    {
     "name": "stderr",
     "output_type": "stream",
     "text": [
      "\u001b[32m[I 2021-07-06 19:57:42,187]\u001b[0m Trial 121 finished with value: 0.20798997528237947 and parameters: {'max_depth': 35, 'n_estimators': 401}. Best is trial 86 with value: 0.2024901817291798.\u001b[0m\n"
     ]
    },
    {
     "name": "stdout",
     "output_type": "stream",
     "text": [
      "The params that were optimized {'max_depth': 42, 'n_estimators': 382}\n"
     ]
    },
    {
     "name": "stderr",
     "output_type": "stream",
     "text": [
      "\u001b[32m[I 2021-07-06 19:57:43,021]\u001b[0m Trial 122 finished with value: 0.2093926675809163 and parameters: {'max_depth': 42, 'n_estimators': 382}. Best is trial 86 with value: 0.2024901817291798.\u001b[0m\n"
     ]
    },
    {
     "name": "stdout",
     "output_type": "stream",
     "text": [
      "The params that were optimized {'max_depth': 28, 'n_estimators': 416}\n"
     ]
    },
    {
     "name": "stderr",
     "output_type": "stream",
     "text": [
      "\u001b[32m[I 2021-07-06 19:57:43,957]\u001b[0m Trial 123 finished with value: 0.21091935818214097 and parameters: {'max_depth': 28, 'n_estimators': 416}. Best is trial 86 with value: 0.2024901817291798.\u001b[0m\n"
     ]
    },
    {
     "name": "stdout",
     "output_type": "stream",
     "text": [
      "The params that were optimized {'max_depth': 33, 'n_estimators': 341}\n"
     ]
    },
    {
     "name": "stderr",
     "output_type": "stream",
     "text": [
      "\u001b[32m[I 2021-07-06 19:57:44,758]\u001b[0m Trial 124 finished with value: 0.20670061732173844 and parameters: {'max_depth': 33, 'n_estimators': 341}. Best is trial 86 with value: 0.2024901817291798.\u001b[0m\n"
     ]
    },
    {
     "name": "stdout",
     "output_type": "stream",
     "text": [
      "The params that were optimized {'max_depth': 47, 'n_estimators': 324}\n"
     ]
    },
    {
     "name": "stderr",
     "output_type": "stream",
     "text": [
      "\u001b[32m[I 2021-07-06 19:57:45,525]\u001b[0m Trial 125 finished with value: 0.2055642549214627 and parameters: {'max_depth': 47, 'n_estimators': 324}. Best is trial 86 with value: 0.2024901817291798.\u001b[0m\n"
     ]
    },
    {
     "name": "stdout",
     "output_type": "stream",
     "text": [
      "The params that were optimized {'max_depth': 52, 'n_estimators': 843}\n"
     ]
    },
    {
     "name": "stderr",
     "output_type": "stream",
     "text": [
      "\u001b[32m[I 2021-07-06 19:57:47,278]\u001b[0m Trial 126 finished with value: 0.20462547531798078 and parameters: {'max_depth': 52, 'n_estimators': 843}. Best is trial 86 with value: 0.2024901817291798.\u001b[0m\n"
     ]
    },
    {
     "name": "stdout",
     "output_type": "stream",
     "text": [
      "The params that were optimized {'max_depth': 2, 'n_estimators': 437}\n"
     ]
    },
    {
     "name": "stderr",
     "output_type": "stream",
     "text": [
      "\u001b[32m[I 2021-07-06 19:57:48,193]\u001b[0m Trial 127 finished with value: 1.2195236154667124 and parameters: {'max_depth': 2, 'n_estimators': 437}. Best is trial 86 with value: 0.2024901817291798.\u001b[0m\n"
     ]
    },
    {
     "name": "stdout",
     "output_type": "stream",
     "text": [
      "The params that were optimized {'max_depth': 30, 'n_estimators': 366}\n"
     ]
    },
    {
     "name": "stderr",
     "output_type": "stream",
     "text": [
      "\u001b[32m[I 2021-07-06 19:57:49,040]\u001b[0m Trial 128 finished with value: 0.2090428751169892 and parameters: {'max_depth': 30, 'n_estimators': 366}. Best is trial 86 with value: 0.2024901817291798.\u001b[0m\n"
     ]
    },
    {
     "name": "stdout",
     "output_type": "stream",
     "text": [
      "The params that were optimized {'max_depth': 37, 'n_estimators': 751}\n"
     ]
    },
    {
     "name": "stderr",
     "output_type": "stream",
     "text": [
      "\u001b[32m[I 2021-07-06 19:57:50,595]\u001b[0m Trial 129 finished with value: 0.20967405200662678 and parameters: {'max_depth': 37, 'n_estimators': 751}. Best is trial 86 with value: 0.2024901817291798.\u001b[0m\n"
     ]
    },
    {
     "name": "stdout",
     "output_type": "stream",
     "text": [
      "The params that were optimized {'max_depth': 40, 'n_estimators': 712}\n"
     ]
    },
    {
     "name": "stderr",
     "output_type": "stream",
     "text": [
      "\u001b[32m[I 2021-07-06 19:57:52,102]\u001b[0m Trial 130 finished with value: 0.20919543491267897 and parameters: {'max_depth': 40, 'n_estimators': 712}. Best is trial 86 with value: 0.2024901817291798.\u001b[0m\n"
     ]
    },
    {
     "name": "stdout",
     "output_type": "stream",
     "text": [
      "The params that were optimized {'max_depth': 53, 'n_estimators': 814}\n"
     ]
    },
    {
     "name": "stderr",
     "output_type": "stream",
     "text": [
      "\u001b[32m[I 2021-07-06 19:57:53,809]\u001b[0m Trial 131 finished with value: 0.20967755751268466 and parameters: {'max_depth': 53, 'n_estimators': 814}. Best is trial 86 with value: 0.2024901817291798.\u001b[0m\n"
     ]
    },
    {
     "name": "stdout",
     "output_type": "stream",
     "text": [
      "The params that were optimized {'max_depth': 61, 'n_estimators': 845}\n"
     ]
    },
    {
     "name": "stderr",
     "output_type": "stream",
     "text": [
      "\u001b[32m[I 2021-07-06 19:57:55,512]\u001b[0m Trial 132 finished with value: 0.20740944595919775 and parameters: {'max_depth': 61, 'n_estimators': 845}. Best is trial 86 with value: 0.2024901817291798.\u001b[0m\n"
     ]
    },
    {
     "name": "stdout",
     "output_type": "stream",
     "text": [
      "The params that were optimized {'max_depth': 50, 'n_estimators': 789}\n"
     ]
    },
    {
     "name": "stderr",
     "output_type": "stream",
     "text": [
      "\u001b[32m[I 2021-07-06 19:57:57,147]\u001b[0m Trial 133 finished with value: 0.20706064156567505 and parameters: {'max_depth': 50, 'n_estimators': 789}. Best is trial 86 with value: 0.2024901817291798.\u001b[0m\n"
     ]
    },
    {
     "name": "stdout",
     "output_type": "stream",
     "text": [
      "The params that were optimized {'max_depth': 46, 'n_estimators': 857}\n"
     ]
    },
    {
     "name": "stderr",
     "output_type": "stream",
     "text": [
      "\u001b[32m[I 2021-07-06 19:57:58,893]\u001b[0m Trial 134 finished with value: 0.2105828394297116 and parameters: {'max_depth': 46, 'n_estimators': 857}. Best is trial 86 with value: 0.2024901817291798.\u001b[0m\n"
     ]
    },
    {
     "name": "stdout",
     "output_type": "stream",
     "text": [
      "The params that were optimized {'max_depth': 44, 'n_estimators': 640}\n"
     ]
    },
    {
     "name": "stderr",
     "output_type": "stream",
     "text": [
      "\u001b[32m[I 2021-07-06 19:58:00,269]\u001b[0m Trial 135 finished with value: 0.20438766431943342 and parameters: {'max_depth': 44, 'n_estimators': 640}. Best is trial 86 with value: 0.2024901817291798.\u001b[0m\n"
     ]
    },
    {
     "name": "stdout",
     "output_type": "stream",
     "text": [
      "The params that were optimized {'max_depth': 42, 'n_estimators': 628}\n"
     ]
    },
    {
     "name": "stderr",
     "output_type": "stream",
     "text": [
      "\u001b[32m[I 2021-07-06 19:58:01,624]\u001b[0m Trial 136 finished with value: 0.20626122228836596 and parameters: {'max_depth': 42, 'n_estimators': 628}. Best is trial 86 with value: 0.2024901817291798.\u001b[0m\n"
     ]
    },
    {
     "name": "stdout",
     "output_type": "stream",
     "text": [
      "The params that were optimized {'max_depth': 37, 'n_estimators': 308}\n"
     ]
    },
    {
     "name": "stderr",
     "output_type": "stream",
     "text": [
      "\u001b[32m[I 2021-07-06 19:58:02,371]\u001b[0m Trial 137 finished with value: 0.21167236420945762 and parameters: {'max_depth': 37, 'n_estimators': 308}. Best is trial 86 with value: 0.2024901817291798.\u001b[0m\n"
     ]
    },
    {
     "name": "stdout",
     "output_type": "stream",
     "text": [
      "The params that were optimized {'max_depth': 6, 'n_estimators': 655}\n"
     ]
    },
    {
     "name": "stderr",
     "output_type": "stream",
     "text": [
      "\u001b[32m[I 2021-07-06 19:58:03,724]\u001b[0m Trial 138 finished with value: 0.786352835663958 and parameters: {'max_depth': 6, 'n_estimators': 655}. Best is trial 86 with value: 0.2024901817291798.\u001b[0m\n"
     ]
    },
    {
     "name": "stdout",
     "output_type": "stream",
     "text": [
      "The params that were optimized {'max_depth': 32, 'n_estimators': 384}\n"
     ]
    },
    {
     "name": "stderr",
     "output_type": "stream",
     "text": [
      "\u001b[32m[I 2021-07-06 19:58:04,562]\u001b[0m Trial 139 finished with value: 0.20649636198056542 and parameters: {'max_depth': 32, 'n_estimators': 384}. Best is trial 86 with value: 0.2024901817291798.\u001b[0m\n"
     ]
    },
    {
     "name": "stdout",
     "output_type": "stream",
     "text": [
      "The params that were optimized {'max_depth': 26, 'n_estimators': 341}\n"
     ]
    },
    {
     "name": "stderr",
     "output_type": "stream",
     "text": [
      "\u001b[32m[I 2021-07-06 19:58:05,303]\u001b[0m Trial 140 finished with value: 0.21487722743970775 and parameters: {'max_depth': 26, 'n_estimators': 341}. Best is trial 86 with value: 0.2024901817291798.\u001b[0m\n"
     ]
    },
    {
     "name": "stdout",
     "output_type": "stream",
     "text": [
      "The params that were optimized {'max_depth': 56, 'n_estimators': 700}\n"
     ]
    },
    {
     "name": "stderr",
     "output_type": "stream",
     "text": [
      "\u001b[32m[I 2021-07-06 19:58:06,718]\u001b[0m Trial 141 finished with value: 0.2060644359803911 and parameters: {'max_depth': 56, 'n_estimators': 700}. Best is trial 86 with value: 0.2024901817291798.\u001b[0m\n"
     ]
    },
    {
     "name": "stdout",
     "output_type": "stream",
     "text": [
      "The params that were optimized {'max_depth': 44, 'n_estimators': 475}\n"
     ]
    },
    {
     "name": "stderr",
     "output_type": "stream",
     "text": [
      "\u001b[32m[I 2021-07-06 19:58:07,783]\u001b[0m Trial 142 finished with value: 0.20799695098320725 and parameters: {'max_depth': 44, 'n_estimators': 475}. Best is trial 86 with value: 0.2024901817291798.\u001b[0m\n"
     ]
    },
    {
     "name": "stdout",
     "output_type": "stream",
     "text": [
      "The params that were optimized {'max_depth': 50, 'n_estimators': 250}\n"
     ]
    },
    {
     "name": "stderr",
     "output_type": "stream",
     "text": [
      "\u001b[32m[I 2021-07-06 19:58:08,409]\u001b[0m Trial 143 finished with value: 0.20754026358931454 and parameters: {'max_depth': 50, 'n_estimators': 250}. Best is trial 86 with value: 0.2024901817291798.\u001b[0m\n"
     ]
    },
    {
     "name": "stdout",
     "output_type": "stream",
     "text": [
      "The params that were optimized {'max_depth': 65, 'n_estimators': 602}\n"
     ]
    },
    {
     "name": "stderr",
     "output_type": "stream",
     "text": [
      "\u001b[32m[I 2021-07-06 19:58:09,698]\u001b[0m Trial 144 finished with value: 0.20904499060910847 and parameters: {'max_depth': 65, 'n_estimators': 602}. Best is trial 86 with value: 0.2024901817291798.\u001b[0m\n"
     ]
    },
    {
     "name": "stdout",
     "output_type": "stream",
     "text": [
      "The params that were optimized {'max_depth': 34, 'n_estimators': 732}\n"
     ]
    },
    {
     "name": "stderr",
     "output_type": "stream",
     "text": [
      "\u001b[32m[I 2021-07-06 19:58:11,256]\u001b[0m Trial 145 finished with value: 0.20564063352619338 and parameters: {'max_depth': 34, 'n_estimators': 732}. Best is trial 86 with value: 0.2024901817291798.\u001b[0m\n"
     ]
    },
    {
     "name": "stdout",
     "output_type": "stream",
     "text": [
      "The params that were optimized {'max_depth': 2, 'n_estimators': 676}\n"
     ]
    },
    {
     "name": "stderr",
     "output_type": "stream",
     "text": [
      "\u001b[32m[I 2021-07-06 19:58:12,556]\u001b[0m Trial 146 finished with value: 1.220205969550475 and parameters: {'max_depth': 2, 'n_estimators': 676}. Best is trial 86 with value: 0.2024901817291798.\u001b[0m\n"
     ]
    },
    {
     "name": "stdout",
     "output_type": "stream",
     "text": [
      "The params that were optimized {'max_depth': 39, 'n_estimators': 646}\n"
     ]
    },
    {
     "name": "stderr",
     "output_type": "stream",
     "text": [
      "\u001b[32m[I 2021-07-06 19:58:13,979]\u001b[0m Trial 147 finished with value: 0.20787879807370377 and parameters: {'max_depth': 39, 'n_estimators': 646}. Best is trial 86 with value: 0.2024901817291798.\u001b[0m\n"
     ]
    },
    {
     "name": "stdout",
     "output_type": "stream",
     "text": [
      "The params that were optimized {'max_depth': 59, 'n_estimators': 570}\n"
     ]
    },
    {
     "name": "stderr",
     "output_type": "stream",
     "text": [
      "\u001b[32m[I 2021-07-06 19:58:15,147]\u001b[0m Trial 148 finished with value: 0.20444040866579613 and parameters: {'max_depth': 59, 'n_estimators': 570}. Best is trial 86 with value: 0.2024901817291798.\u001b[0m\n"
     ]
    },
    {
     "name": "stdout",
     "output_type": "stream",
     "text": [
      "The params that were optimized {'max_depth': 59, 'n_estimators': 545}\n"
     ]
    },
    {
     "name": "stderr",
     "output_type": "stream",
     "text": [
      "\u001b[32m[I 2021-07-06 19:58:16,329]\u001b[0m Trial 149 finished with value: 0.20511394293515342 and parameters: {'max_depth': 59, 'n_estimators': 545}. Best is trial 86 with value: 0.2024901817291798.\u001b[0m\n"
     ]
    },
    {
     "name": "stdout",
     "output_type": "stream",
     "text": [
      "The params that were optimized {'max_depth': 46, 'n_estimators': 577}\n"
     ]
    },
    {
     "name": "stderr",
     "output_type": "stream",
     "text": [
      "\u001b[32m[I 2021-07-06 19:58:17,568]\u001b[0m Trial 150 finished with value: 0.2075711515111531 and parameters: {'max_depth': 46, 'n_estimators': 577}. Best is trial 86 with value: 0.2024901817291798.\u001b[0m\n"
     ]
    },
    {
     "name": "stdout",
     "output_type": "stream",
     "text": [
      "The params that were optimized {'max_depth': 54, 'n_estimators': 518}\n"
     ]
    },
    {
     "name": "stderr",
     "output_type": "stream",
     "text": [
      "\u001b[32m[I 2021-07-06 19:58:18,661]\u001b[0m Trial 151 finished with value: 0.20800667265984046 and parameters: {'max_depth': 54, 'n_estimators': 518}. Best is trial 86 with value: 0.2024901817291798.\u001b[0m\n"
     ]
    },
    {
     "name": "stdout",
     "output_type": "stream",
     "text": [
      "The params that were optimized {'max_depth': 50, 'n_estimators': 633}\n"
     ]
    },
    {
     "name": "stderr",
     "output_type": "stream",
     "text": [
      "\u001b[32m[I 2021-07-06 19:58:19,978]\u001b[0m Trial 152 finished with value: 0.20577488033543678 and parameters: {'max_depth': 50, 'n_estimators': 633}. Best is trial 86 with value: 0.2024901817291798.\u001b[0m\n"
     ]
    },
    {
     "name": "stdout",
     "output_type": "stream",
     "text": [
      "The params that were optimized {'max_depth': 65, 'n_estimators': 555}\n"
     ]
    },
    {
     "name": "stderr",
     "output_type": "stream",
     "text": [
      "\u001b[32m[I 2021-07-06 19:58:21,134]\u001b[0m Trial 153 finished with value: 0.20925539895598363 and parameters: {'max_depth': 65, 'n_estimators': 555}. Best is trial 86 with value: 0.2024901817291798.\u001b[0m\n"
     ]
    },
    {
     "name": "stdout",
     "output_type": "stream",
     "text": [
      "The params that were optimized {'max_depth': 58, 'n_estimators': 363}\n"
     ]
    },
    {
     "name": "stderr",
     "output_type": "stream",
     "text": [
      "\u001b[32m[I 2021-07-06 19:58:22,008]\u001b[0m Trial 154 finished with value: 0.2086390161476079 and parameters: {'max_depth': 58, 'n_estimators': 363}. Best is trial 86 with value: 0.2024901817291798.\u001b[0m\n"
     ]
    },
    {
     "name": "stdout",
     "output_type": "stream",
     "text": [
      "The params that were optimized {'max_depth': 41, 'n_estimators': 611}\n"
     ]
    },
    {
     "name": "stderr",
     "output_type": "stream",
     "text": [
      "\u001b[32m[I 2021-07-06 19:58:23,331]\u001b[0m Trial 155 finished with value: 0.20405001000322456 and parameters: {'max_depth': 41, 'n_estimators': 611}. Best is trial 86 with value: 0.2024901817291798.\u001b[0m\n"
     ]
    },
    {
     "name": "stdout",
     "output_type": "stream",
     "text": [
      "The params that were optimized {'max_depth': 36, 'n_estimators': 611}\n"
     ]
    },
    {
     "name": "stderr",
     "output_type": "stream",
     "text": [
      "\u001b[32m[I 2021-07-06 19:58:24,648]\u001b[0m Trial 156 finished with value: 0.20912856954744058 and parameters: {'max_depth': 36, 'n_estimators': 611}. Best is trial 86 with value: 0.2024901817291798.\u001b[0m\n"
     ]
    },
    {
     "name": "stdout",
     "output_type": "stream",
     "text": [
      "The params that were optimized {'max_depth': 41, 'n_estimators': 571}\n"
     ]
    },
    {
     "name": "stderr",
     "output_type": "stream",
     "text": [
      "\u001b[32m[I 2021-07-06 19:58:25,849]\u001b[0m Trial 157 finished with value: 0.2093613841399418 and parameters: {'max_depth': 41, 'n_estimators': 571}. Best is trial 86 with value: 0.2024901817291798.\u001b[0m\n"
     ]
    },
    {
     "name": "stdout",
     "output_type": "stream",
     "text": [
      "The params that were optimized {'max_depth': 44, 'n_estimators': 494}\n"
     ]
    },
    {
     "name": "stderr",
     "output_type": "stream",
     "text": [
      "\u001b[32m[I 2021-07-06 19:58:26,936]\u001b[0m Trial 158 finished with value: 0.20873435663544165 and parameters: {'max_depth': 44, 'n_estimators': 494}. Best is trial 86 with value: 0.2024901817291798.\u001b[0m\n"
     ]
    },
    {
     "name": "stdout",
     "output_type": "stream",
     "text": [
      "The params that were optimized {'max_depth': 34, 'n_estimators': 133}\n"
     ]
    },
    {
     "name": "stderr",
     "output_type": "stream",
     "text": [
      "\u001b[32m[I 2021-07-06 19:58:27,300]\u001b[0m Trial 159 finished with value: 0.21635890550917825 and parameters: {'max_depth': 34, 'n_estimators': 133}. Best is trial 86 with value: 0.2024901817291798.\u001b[0m\n"
     ]
    },
    {
     "name": "stdout",
     "output_type": "stream",
     "text": [
      "The params that were optimized {'max_depth': 39, 'n_estimators': 291}\n"
     ]
    },
    {
     "name": "stderr",
     "output_type": "stream",
     "text": [
      "\u001b[32m[I 2021-07-06 19:58:28,380]\u001b[0m Trial 160 finished with value: 0.20902516053684547 and parameters: {'max_depth': 39, 'n_estimators': 291}. Best is trial 86 with value: 0.2024901817291798.\u001b[0m\n"
     ]
    },
    {
     "name": "stdout",
     "output_type": "stream",
     "text": [
      "The params that were optimized {'max_depth': 52, 'n_estimators': 668}\n"
     ]
    },
    {
     "name": "stderr",
     "output_type": "stream",
     "text": [
      "\u001b[32m[I 2021-07-06 19:58:29,800]\u001b[0m Trial 161 finished with value: 0.20482480718853496 and parameters: {'max_depth': 52, 'n_estimators': 668}. Best is trial 86 with value: 0.2024901817291798.\u001b[0m\n"
     ]
    },
    {
     "name": "stdout",
     "output_type": "stream",
     "text": [
      "The params that were optimized {'max_depth': 48, 'n_estimators': 589}\n"
     ]
    },
    {
     "name": "stderr",
     "output_type": "stream",
     "text": [
      "\u001b[32m[I 2021-07-06 19:58:31,075]\u001b[0m Trial 162 finished with value: 0.20866437109760258 and parameters: {'max_depth': 48, 'n_estimators': 589}. Best is trial 86 with value: 0.2024901817291798.\u001b[0m\n"
     ]
    },
    {
     "name": "stdout",
     "output_type": "stream",
     "text": [
      "The params that were optimized {'max_depth': 42, 'n_estimators': 618}\n"
     ]
    },
    {
     "name": "stderr",
     "output_type": "stream",
     "text": [
      "\u001b[32m[I 2021-07-06 19:58:32,420]\u001b[0m Trial 163 finished with value: 0.20833006196011744 and parameters: {'max_depth': 42, 'n_estimators': 618}. Best is trial 86 with value: 0.2024901817291798.\u001b[0m\n"
     ]
    },
    {
     "name": "stdout",
     "output_type": "stream",
     "text": [
      "The params that were optimized {'max_depth': 29, 'n_estimators': 692}\n"
     ]
    },
    {
     "name": "stderr",
     "output_type": "stream",
     "text": [
      "\u001b[32m[I 2021-07-06 19:58:33,892]\u001b[0m Trial 164 finished with value: 0.21119277122939786 and parameters: {'max_depth': 29, 'n_estimators': 692}. Best is trial 86 with value: 0.2024901817291798.\u001b[0m\n"
     ]
    },
    {
     "name": "stdout",
     "output_type": "stream",
     "text": [
      "The params that were optimized {'max_depth': 55, 'n_estimators': 268}\n"
     ]
    },
    {
     "name": "stderr",
     "output_type": "stream",
     "text": [
      "\u001b[32m[I 2021-07-06 19:58:34,558]\u001b[0m Trial 165 finished with value: 0.2075824297130725 and parameters: {'max_depth': 55, 'n_estimators': 268}. Best is trial 86 with value: 0.2024901817291798.\u001b[0m\n"
     ]
    },
    {
     "name": "stdout",
     "output_type": "stream",
     "text": [
      "The params that were optimized {'max_depth': 62, 'n_estimators': 276}\n"
     ]
    },
    {
     "name": "stderr",
     "output_type": "stream",
     "text": [
      "\u001b[32m[I 2021-07-06 19:58:35,211]\u001b[0m Trial 166 finished with value: 0.2087682062476347 and parameters: {'max_depth': 62, 'n_estimators': 276}. Best is trial 86 with value: 0.2024901817291798.\u001b[0m\n"
     ]
    },
    {
     "name": "stdout",
     "output_type": "stream",
     "text": [
      "The params that were optimized {'max_depth': 37, 'n_estimators': 327}\n"
     ]
    },
    {
     "name": "stderr",
     "output_type": "stream",
     "text": [
      "\u001b[32m[I 2021-07-06 19:58:35,983]\u001b[0m Trial 167 finished with value: 0.20774925354319868 and parameters: {'max_depth': 37, 'n_estimators': 327}. Best is trial 86 with value: 0.2024901817291798.\u001b[0m\n"
     ]
    },
    {
     "name": "stdout",
     "output_type": "stream",
     "text": [
      "The params that were optimized {'max_depth': 45, 'n_estimators': 407}\n"
     ]
    },
    {
     "name": "stderr",
     "output_type": "stream",
     "text": [
      "\u001b[32m[I 2021-07-06 19:58:36,932]\u001b[0m Trial 168 finished with value: 0.2046355752130853 and parameters: {'max_depth': 45, 'n_estimators': 407}. Best is trial 86 with value: 0.2024901817291798.\u001b[0m\n"
     ]
    },
    {
     "name": "stdout",
     "output_type": "stream",
     "text": [
      "The params that were optimized {'max_depth': 48, 'n_estimators': 644}\n"
     ]
    },
    {
     "name": "stderr",
     "output_type": "stream",
     "text": [
      "\u001b[32m[I 2021-07-06 19:58:38,324]\u001b[0m Trial 169 finished with value: 0.20851247452961783 and parameters: {'max_depth': 48, 'n_estimators': 644}. Best is trial 86 with value: 0.2024901817291798.\u001b[0m\n"
     ]
    },
    {
     "name": "stdout",
     "output_type": "stream",
     "text": [
      "The params that were optimized {'max_depth': 31, 'n_estimators': 350}\n"
     ]
    },
    {
     "name": "stderr",
     "output_type": "stream",
     "text": [
      "\u001b[32m[I 2021-07-06 19:58:39,131]\u001b[0m Trial 170 finished with value: 0.2095856840857362 and parameters: {'max_depth': 31, 'n_estimators': 350}. Best is trial 86 with value: 0.2024901817291798.\u001b[0m\n"
     ]
    },
    {
     "name": "stdout",
     "output_type": "stream",
     "text": [
      "The params that were optimized {'max_depth': 44, 'n_estimators': 412}\n"
     ]
    },
    {
     "name": "stderr",
     "output_type": "stream",
     "text": [
      "\u001b[32m[I 2021-07-06 19:58:40,050]\u001b[0m Trial 171 finished with value: 0.2029499030708935 and parameters: {'max_depth': 44, 'n_estimators': 412}. Best is trial 86 with value: 0.2024901817291798.\u001b[0m\n"
     ]
    },
    {
     "name": "stdout",
     "output_type": "stream",
     "text": [
      "The params that were optimized {'max_depth': 40, 'n_estimators': 420}\n"
     ]
    },
    {
     "name": "stderr",
     "output_type": "stream",
     "text": [
      "\u001b[32m[I 2021-07-06 19:58:40,963]\u001b[0m Trial 172 finished with value: 0.21006034952258923 and parameters: {'max_depth': 40, 'n_estimators': 420}. Best is trial 86 with value: 0.2024901817291798.\u001b[0m\n"
     ]
    },
    {
     "name": "stdout",
     "output_type": "stream",
     "text": [
      "The params that were optimized {'max_depth': 52, 'n_estimators': 401}\n"
     ]
    },
    {
     "name": "stderr",
     "output_type": "stream",
     "text": [
      "\u001b[32m[I 2021-07-06 19:58:41,862]\u001b[0m Trial 173 finished with value: 0.2118338197969549 and parameters: {'max_depth': 52, 'n_estimators': 401}. Best is trial 86 with value: 0.2024901817291798.\u001b[0m\n"
     ]
    },
    {
     "name": "stdout",
     "output_type": "stream",
     "text": [
      "The params that were optimized {'max_depth': 44, 'n_estimators': 438}\n"
     ]
    },
    {
     "name": "stderr",
     "output_type": "stream",
     "text": [
      "\u001b[32m[I 2021-07-06 19:58:42,828]\u001b[0m Trial 174 finished with value: 0.20691378596127163 and parameters: {'max_depth': 44, 'n_estimators': 438}. Best is trial 86 with value: 0.2024901817291798.\u001b[0m\n"
     ]
    },
    {
     "name": "stdout",
     "output_type": "stream",
     "text": [
      "The params that were optimized {'max_depth': 58, 'n_estimators': 389}\n"
     ]
    },
    {
     "name": "stderr",
     "output_type": "stream",
     "text": [
      "\u001b[32m[I 2021-07-06 19:58:43,714]\u001b[0m Trial 175 finished with value: 0.20862121695159663 and parameters: {'max_depth': 58, 'n_estimators': 389}. Best is trial 86 with value: 0.2024901817291798.\u001b[0m\n"
     ]
    },
    {
     "name": "stdout",
     "output_type": "stream",
     "text": [
      "The params that were optimized {'max_depth': 36, 'n_estimators': 448}\n"
     ]
    },
    {
     "name": "stderr",
     "output_type": "stream",
     "text": [
      "\u001b[32m[I 2021-07-06 19:58:44,717]\u001b[0m Trial 176 finished with value: 0.20275397009144702 and parameters: {'max_depth': 36, 'n_estimators': 448}. Best is trial 86 with value: 0.2024901817291798.\u001b[0m\n"
     ]
    },
    {
     "name": "stdout",
     "output_type": "stream",
     "text": [
      "The params that were optimized {'max_depth': 35, 'n_estimators': 455}\n"
     ]
    },
    {
     "name": "stderr",
     "output_type": "stream",
     "text": [
      "\u001b[32m[I 2021-07-06 19:58:45,686]\u001b[0m Trial 177 finished with value: 0.20788216029371587 and parameters: {'max_depth': 35, 'n_estimators': 455}. Best is trial 86 with value: 0.2024901817291798.\u001b[0m\n"
     ]
    },
    {
     "name": "stdout",
     "output_type": "stream",
     "text": [
      "The params that were optimized {'max_depth': 37, 'n_estimators': 441}\n"
     ]
    },
    {
     "name": "stderr",
     "output_type": "stream",
     "text": [
      "\u001b[32m[I 2021-07-06 19:58:46,659]\u001b[0m Trial 178 finished with value: 0.20595093434305836 and parameters: {'max_depth': 37, 'n_estimators': 441}. Best is trial 86 with value: 0.2024901817291798.\u001b[0m\n"
     ]
    },
    {
     "name": "stdout",
     "output_type": "stream",
     "text": [
      "The params that were optimized {'max_depth': 33, 'n_estimators': 531}\n"
     ]
    },
    {
     "name": "stderr",
     "output_type": "stream",
     "text": [
      "\u001b[32m[I 2021-07-06 19:58:47,811]\u001b[0m Trial 179 finished with value: 0.20734155428329884 and parameters: {'max_depth': 33, 'n_estimators': 531}. Best is trial 86 with value: 0.2024901817291798.\u001b[0m\n"
     ]
    },
    {
     "name": "stdout",
     "output_type": "stream",
     "text": [
      "The params that were optimized {'max_depth': 39, 'n_estimators': 467}\n"
     ]
    },
    {
     "name": "stderr",
     "output_type": "stream",
     "text": [
      "\u001b[32m[I 2021-07-06 19:58:48,842]\u001b[0m Trial 180 finished with value: 0.2106275245929016 and parameters: {'max_depth': 39, 'n_estimators': 467}. Best is trial 86 with value: 0.2024901817291798.\u001b[0m\n"
     ]
    },
    {
     "name": "stdout",
     "output_type": "stream",
     "text": [
      "The params that were optimized {'max_depth': 41, 'n_estimators': 369}\n"
     ]
    },
    {
     "name": "stderr",
     "output_type": "stream",
     "text": [
      "\u001b[32m[I 2021-07-06 19:58:49,695]\u001b[0m Trial 181 finished with value: 0.2058596603428574 and parameters: {'max_depth': 41, 'n_estimators': 369}. Best is trial 86 with value: 0.2024901817291798.\u001b[0m\n"
     ]
    },
    {
     "name": "stdout",
     "output_type": "stream",
     "text": [
      "The params that were optimized {'max_depth': 47, 'n_estimators': 416}\n"
     ]
    },
    {
     "name": "stderr",
     "output_type": "stream",
     "text": [
      "\u001b[32m[I 2021-07-06 19:58:50,594]\u001b[0m Trial 182 finished with value: 0.20875612028100585 and parameters: {'max_depth': 47, 'n_estimators': 416}. Best is trial 86 with value: 0.2024901817291798.\u001b[0m\n"
     ]
    },
    {
     "name": "stdout",
     "output_type": "stream",
     "text": [
      "The params that were optimized {'max_depth': 52, 'n_estimators': 489}\n"
     ]
    },
    {
     "name": "stderr",
     "output_type": "stream",
     "text": [
      "\u001b[32m[I 2021-07-06 19:58:51,675]\u001b[0m Trial 183 finished with value: 0.20451285072784078 and parameters: {'max_depth': 52, 'n_estimators': 489}. Best is trial 86 with value: 0.2024901817291798.\u001b[0m\n"
     ]
    },
    {
     "name": "stdout",
     "output_type": "stream",
     "text": [
      "The params that were optimized {'max_depth': 65, 'n_estimators': 490}\n"
     ]
    },
    {
     "name": "stderr",
     "output_type": "stream",
     "text": [
      "\u001b[32m[I 2021-07-06 19:58:52,799]\u001b[0m Trial 184 finished with value: 0.2096742410366802 and parameters: {'max_depth': 65, 'n_estimators': 490}. Best is trial 86 with value: 0.2024901817291798.\u001b[0m\n"
     ]
    },
    {
     "name": "stdout",
     "output_type": "stream",
     "text": [
      "The params that were optimized {'max_depth': 42, 'n_estimators': 425}\n"
     ]
    },
    {
     "name": "stderr",
     "output_type": "stream",
     "text": [
      "\u001b[32m[I 2021-07-06 19:58:53,767]\u001b[0m Trial 185 finished with value: 0.20643438940058 and parameters: {'max_depth': 42, 'n_estimators': 425}. Best is trial 86 with value: 0.2024901817291798.\u001b[0m\n"
     ]
    },
    {
     "name": "stdout",
     "output_type": "stream",
     "text": [
      "The params that were optimized {'max_depth': 32, 'n_estimators': 511}\n"
     ]
    },
    {
     "name": "stderr",
     "output_type": "stream",
     "text": [
      "\u001b[32m[I 2021-07-06 19:58:54,893]\u001b[0m Trial 186 finished with value: 0.20574889054903472 and parameters: {'max_depth': 32, 'n_estimators': 511}. Best is trial 86 with value: 0.2024901817291798.\u001b[0m\n"
     ]
    },
    {
     "name": "stdout",
     "output_type": "stream",
     "text": [
      "The params that were optimized {'max_depth': 37, 'n_estimators': 454}\n"
     ]
    },
    {
     "name": "stderr",
     "output_type": "stream",
     "text": [
      "\u001b[32m[I 2021-07-06 19:58:55,929]\u001b[0m Trial 187 finished with value: 0.20565576389930992 and parameters: {'max_depth': 37, 'n_estimators': 454}. Best is trial 86 with value: 0.2024901817291798.\u001b[0m\n"
     ]
    },
    {
     "name": "stdout",
     "output_type": "stream",
     "text": [
      "The params that were optimized {'max_depth': 56, 'n_estimators': 476}\n"
     ]
    },
    {
     "name": "stderr",
     "output_type": "stream",
     "text": [
      "\u001b[32m[I 2021-07-06 19:58:57,004]\u001b[0m Trial 188 finished with value: 0.20745011838405933 and parameters: {'max_depth': 56, 'n_estimators': 476}. Best is trial 86 with value: 0.2024901817291798.\u001b[0m\n"
     ]
    },
    {
     "name": "stdout",
     "output_type": "stream",
     "text": [
      "The params that were optimized {'max_depth': 35, 'n_estimators': 299}\n"
     ]
    },
    {
     "name": "stderr",
     "output_type": "stream",
     "text": [
      "\u001b[32m[I 2021-07-06 19:58:57,724]\u001b[0m Trial 189 finished with value: 0.21173354542634465 and parameters: {'max_depth': 35, 'n_estimators': 299}. Best is trial 86 with value: 0.2024901817291798.\u001b[0m\n"
     ]
    },
    {
     "name": "stdout",
     "output_type": "stream",
     "text": [
      "The params that were optimized {'max_depth': 46, 'n_estimators': 317}\n"
     ]
    },
    {
     "name": "stderr",
     "output_type": "stream",
     "text": [
      "\u001b[32m[I 2021-07-06 19:58:58,424]\u001b[0m Trial 190 finished with value: 0.21565089037439816 and parameters: {'max_depth': 46, 'n_estimators': 317}. Best is trial 86 with value: 0.2024901817291798.\u001b[0m\n"
     ]
    },
    {
     "name": "stdout",
     "output_type": "stream",
     "text": [
      "The params that were optimized {'max_depth': 53, 'n_estimators': 715}\n"
     ]
    },
    {
     "name": "stderr",
     "output_type": "stream",
     "text": [
      "\u001b[32m[I 2021-07-06 19:58:59,897]\u001b[0m Trial 191 finished with value: 0.2066118157441014 and parameters: {'max_depth': 53, 'n_estimators': 715}. Best is trial 86 with value: 0.2024901817291798.\u001b[0m\n"
     ]
    },
    {
     "name": "stdout",
     "output_type": "stream",
     "text": [
      "The params that were optimized {'max_depth': 49, 'n_estimators': 898}\n"
     ]
    },
    {
     "name": "stderr",
     "output_type": "stream",
     "text": [
      "\u001b[32m[I 2021-07-06 19:59:01,759]\u001b[0m Trial 192 finished with value: 0.20458631105122083 and parameters: {'max_depth': 49, 'n_estimators': 898}. Best is trial 86 with value: 0.2024901817291798.\u001b[0m\n"
     ]
    },
    {
     "name": "stdout",
     "output_type": "stream",
     "text": [
      "The params that were optimized {'max_depth': 59, 'n_estimators': 259}\n"
     ]
    },
    {
     "name": "stderr",
     "output_type": "stream",
     "text": [
      "\u001b[32m[I 2021-07-06 19:59:02,407]\u001b[0m Trial 193 finished with value: 0.20679901722582267 and parameters: {'max_depth': 59, 'n_estimators': 259}. Best is trial 86 with value: 0.2024901817291798.\u001b[0m\n"
     ]
    },
    {
     "name": "stdout",
     "output_type": "stream",
     "text": [
      "The params that were optimized {'max_depth': 4, 'n_estimators': 599}\n"
     ]
    },
    {
     "name": "stderr",
     "output_type": "stream",
     "text": [
      "\u001b[32m[I 2021-07-06 19:59:03,574]\u001b[0m Trial 194 finished with value: 0.9816336907785889 and parameters: {'max_depth': 4, 'n_estimators': 599}. Best is trial 86 with value: 0.2024901817291798.\u001b[0m\n"
     ]
    },
    {
     "name": "stdout",
     "output_type": "stream",
     "text": [
      "The params that were optimized {'max_depth': 48, 'n_estimators': 895}\n"
     ]
    },
    {
     "name": "stderr",
     "output_type": "stream",
     "text": [
      "\u001b[32m[I 2021-07-06 19:59:05,480]\u001b[0m Trial 195 finished with value: 0.210149438079125 and parameters: {'max_depth': 48, 'n_estimators': 895}. Best is trial 86 with value: 0.2024901817291798.\u001b[0m\n"
     ]
    },
    {
     "name": "stdout",
     "output_type": "stream",
     "text": [
      "The params that were optimized {'max_depth': 43, 'n_estimators': 533}\n"
     ]
    },
    {
     "name": "stderr",
     "output_type": "stream",
     "text": [
      "\u001b[32m[I 2021-07-06 19:59:06,635]\u001b[0m Trial 196 finished with value: 0.20593151029606258 and parameters: {'max_depth': 43, 'n_estimators': 533}. Best is trial 86 with value: 0.2024901817291798.\u001b[0m\n"
     ]
    },
    {
     "name": "stdout",
     "output_type": "stream",
     "text": [
      "The params that were optimized {'max_depth': 49, 'n_estimators': 567}\n"
     ]
    },
    {
     "name": "stderr",
     "output_type": "stream",
     "text": [
      "\u001b[32m[I 2021-07-06 19:59:07,792]\u001b[0m Trial 197 finished with value: 0.207359662413772 and parameters: {'max_depth': 49, 'n_estimators': 567}. Best is trial 86 with value: 0.2024901817291798.\u001b[0m\n"
     ]
    },
    {
     "name": "stdout",
     "output_type": "stream",
     "text": [
      "The params that were optimized {'max_depth': 39, 'n_estimators': 391}\n"
     ]
    },
    {
     "name": "stderr",
     "output_type": "stream",
     "text": [
      "\u001b[32m[I 2021-07-06 19:59:08,636]\u001b[0m Trial 198 finished with value: 0.20883282140053913 and parameters: {'max_depth': 39, 'n_estimators': 391}. Best is trial 86 with value: 0.2024901817291798.\u001b[0m\n"
     ]
    },
    {
     "name": "stdout",
     "output_type": "stream",
     "text": [
      "The params that were optimized {'max_depth': 44, 'n_estimators': 280}\n"
     ]
    },
    {
     "name": "stderr",
     "output_type": "stream",
     "text": [
      "\u001b[32m[I 2021-07-06 19:59:09,323]\u001b[0m Trial 199 finished with value: 0.2083754037330383 and parameters: {'max_depth': 44, 'n_estimators': 280}. Best is trial 86 with value: 0.2024901817291798.\u001b[0m\n"
     ]
    }
   ],
   "source": [
    "best_param_for_rf_oh = evotune_rf( train_oh, train_target, rf_max_depth_kwargs, rf_n_estimator_kwargs,n_trials = 200)"
   ]
  },
  {
   "cell_type": "code",
   "execution_count": 45,
   "metadata": {},
   "outputs": [
    {
     "name": "stderr",
     "output_type": "stream",
     "text": [
      "\u001b[32m[I 2021-07-06 19:59:09,993]\u001b[0m A new study created in memory with name: no-name-397a22bf-9545-444e-acda-0824b74a30f7\u001b[0m\n"
     ]
    },
    {
     "name": "stdout",
     "output_type": "stream",
     "text": [
      "The params that were optimized {'max_depth': 29, 'n_estimators': 222}\n"
     ]
    },
    {
     "name": "stderr",
     "output_type": "stream",
     "text": [
      "\u001b[32m[I 2021-07-06 19:59:11,520]\u001b[0m Trial 0 finished with value: 0.19435617533446795 and parameters: {'max_depth': 29, 'n_estimators': 222}. Best is trial 0 with value: 0.19435617533446795.\u001b[0m\n"
     ]
    },
    {
     "name": "stdout",
     "output_type": "stream",
     "text": [
      "The params that were optimized {'max_depth': 22, 'n_estimators': 276}\n"
     ]
    },
    {
     "name": "stderr",
     "output_type": "stream",
     "text": [
      "\u001b[32m[I 2021-07-06 19:59:13,303]\u001b[0m Trial 1 finished with value: 0.20000524077947188 and parameters: {'max_depth': 22, 'n_estimators': 276}. Best is trial 0 with value: 0.19435617533446795.\u001b[0m\n"
     ]
    },
    {
     "name": "stdout",
     "output_type": "stream",
     "text": [
      "The params that were optimized {'max_depth': 25, 'n_estimators': 308}\n"
     ]
    },
    {
     "name": "stderr",
     "output_type": "stream",
     "text": [
      "\u001b[32m[I 2021-07-06 19:59:15,252]\u001b[0m Trial 2 finished with value: 0.2036083580431614 and parameters: {'max_depth': 25, 'n_estimators': 308}. Best is trial 0 with value: 0.19435617533446795.\u001b[0m\n"
     ]
    },
    {
     "name": "stdout",
     "output_type": "stream",
     "text": [
      "The params that were optimized {'max_depth': 22, 'n_estimators': 541}\n"
     ]
    },
    {
     "name": "stderr",
     "output_type": "stream",
     "text": [
      "\u001b[32m[I 2021-07-06 19:59:18,530]\u001b[0m Trial 3 finished with value: 0.20190962878896804 and parameters: {'max_depth': 22, 'n_estimators': 541}. Best is trial 0 with value: 0.19435617533446795.\u001b[0m\n"
     ]
    },
    {
     "name": "stdout",
     "output_type": "stream",
     "text": [
      "The params that were optimized {'max_depth': 38, 'n_estimators': 154}\n"
     ]
    },
    {
     "name": "stderr",
     "output_type": "stream",
     "text": [
      "\u001b[32m[I 2021-07-06 19:59:19,623]\u001b[0m Trial 4 finished with value: 0.1941040629755893 and parameters: {'max_depth': 38, 'n_estimators': 154}. Best is trial 4 with value: 0.1941040629755893.\u001b[0m\n"
     ]
    },
    {
     "name": "stdout",
     "output_type": "stream",
     "text": [
      "The params that were optimized {'max_depth': 15, 'n_estimators': 494}\n"
     ]
    },
    {
     "name": "stderr",
     "output_type": "stream",
     "text": [
      "\u001b[32m[I 2021-07-06 19:59:22,691]\u001b[0m Trial 5 finished with value: 0.19747691658694858 and parameters: {'max_depth': 15, 'n_estimators': 494}. Best is trial 4 with value: 0.1941040629755893.\u001b[0m\n"
     ]
    },
    {
     "name": "stdout",
     "output_type": "stream",
     "text": [
      "The params that were optimized {'max_depth': 3, 'n_estimators': 136}\n"
     ]
    },
    {
     "name": "stderr",
     "output_type": "stream",
     "text": [
      "\u001b[32m[I 2021-07-06 19:59:23,264]\u001b[0m Trial 6 finished with value: 0.7170208154232603 and parameters: {'max_depth': 3, 'n_estimators': 136}. Best is trial 4 with value: 0.1941040629755893.\u001b[0m\n"
     ]
    },
    {
     "name": "stdout",
     "output_type": "stream",
     "text": [
      "The params that were optimized {'max_depth': 10, 'n_estimators': 464}\n"
     ]
    },
    {
     "name": "stderr",
     "output_type": "stream",
     "text": [
      "\u001b[32m[I 2021-07-06 19:59:26,019]\u001b[0m Trial 7 finished with value: 0.1975104588990799 and parameters: {'max_depth': 10, 'n_estimators': 464}. Best is trial 4 with value: 0.1941040629755893.\u001b[0m\n"
     ]
    },
    {
     "name": "stdout",
     "output_type": "stream",
     "text": [
      "The params that were optimized {'max_depth': 59, 'n_estimators': 324}\n"
     ]
    },
    {
     "name": "stderr",
     "output_type": "stream",
     "text": [
      "\u001b[32m[I 2021-07-06 19:59:28,029]\u001b[0m Trial 8 finished with value: 0.19716546487747585 and parameters: {'max_depth': 59, 'n_estimators': 324}. Best is trial 4 with value: 0.1941040629755893.\u001b[0m\n"
     ]
    },
    {
     "name": "stdout",
     "output_type": "stream",
     "text": [
      "The params that were optimized {'max_depth': 6, 'n_estimators': 207}\n"
     ]
    },
    {
     "name": "stderr",
     "output_type": "stream",
     "text": [
      "\u001b[32m[I 2021-07-06 19:59:29,178]\u001b[0m Trial 9 finished with value: 0.2856502857207804 and parameters: {'max_depth': 6, 'n_estimators': 207}. Best is trial 4 with value: 0.1941040629755893.\u001b[0m\n"
     ]
    },
    {
     "name": "stdout",
     "output_type": "stream",
     "text": [
      "The params that were optimized {'max_depth': 54, 'n_estimators': 892}\n"
     ]
    },
    {
     "name": "stderr",
     "output_type": "stream",
     "text": [
      "\u001b[32m[I 2021-07-06 19:59:34,444]\u001b[0m Trial 10 finished with value: 0.198484582049614 and parameters: {'max_depth': 54, 'n_estimators': 892}. Best is trial 4 with value: 0.1941040629755893.\u001b[0m\n"
     ]
    },
    {
     "name": "stdout",
     "output_type": "stream",
     "text": [
      "The params that were optimized {'max_depth': 42, 'n_estimators': 134}\n"
     ]
    },
    {
     "name": "stderr",
     "output_type": "stream",
     "text": [
      "\u001b[32m[I 2021-07-06 19:59:35,376]\u001b[0m Trial 11 finished with value: 0.1975425938468152 and parameters: {'max_depth': 42, 'n_estimators': 134}. Best is trial 4 with value: 0.1941040629755893.\u001b[0m\n"
     ]
    },
    {
     "name": "stdout",
     "output_type": "stream",
     "text": [
      "The params that were optimized {'max_depth': 42, 'n_estimators': 189}\n"
     ]
    },
    {
     "name": "stderr",
     "output_type": "stream",
     "text": [
      "\u001b[32m[I 2021-07-06 19:59:36,700]\u001b[0m Trial 12 finished with value: 0.20648254388322537 and parameters: {'max_depth': 42, 'n_estimators': 189}. Best is trial 4 with value: 0.1941040629755893.\u001b[0m\n"
     ]
    },
    {
     "name": "stdout",
     "output_type": "stream",
     "text": [
      "The params that were optimized {'max_depth': 32, 'n_estimators': 184}\n"
     ]
    },
    {
     "name": "stderr",
     "output_type": "stream",
     "text": [
      "\u001b[32m[I 2021-07-06 19:59:38,006]\u001b[0m Trial 13 finished with value: 0.1984878095549849 and parameters: {'max_depth': 32, 'n_estimators': 184}. Best is trial 4 with value: 0.1941040629755893.\u001b[0m\n"
     ]
    },
    {
     "name": "stdout",
     "output_type": "stream",
     "text": [
      "The params that were optimized {'max_depth': 65, 'n_estimators': 226}\n"
     ]
    },
    {
     "name": "stderr",
     "output_type": "stream",
     "text": [
      "\u001b[32m[I 2021-07-06 19:59:39,507]\u001b[0m Trial 14 finished with value: 0.19440961524265093 and parameters: {'max_depth': 65, 'n_estimators': 226}. Best is trial 4 with value: 0.1941040629755893.\u001b[0m\n"
     ]
    },
    {
     "name": "stdout",
     "output_type": "stream",
     "text": [
      "The params that were optimized {'max_depth': 11, 'n_estimators': 155}\n"
     ]
    },
    {
     "name": "stderr",
     "output_type": "stream",
     "text": [
      "\u001b[32m[I 2021-07-06 19:59:40,616]\u001b[0m Trial 15 finished with value: 0.2028660161310221 and parameters: {'max_depth': 11, 'n_estimators': 155}. Best is trial 4 with value: 0.1941040629755893.\u001b[0m\n"
     ]
    },
    {
     "name": "stdout",
     "output_type": "stream",
     "text": [
      "The params that were optimized {'max_depth': 6, 'n_estimators': 254}\n"
     ]
    },
    {
     "name": "stderr",
     "output_type": "stream",
     "text": [
      "\u001b[32m[I 2021-07-06 19:59:41,974]\u001b[0m Trial 16 finished with value: 0.2802397482708227 and parameters: {'max_depth': 6, 'n_estimators': 254}. Best is trial 4 with value: 0.1941040629755893.\u001b[0m\n"
     ]
    },
    {
     "name": "stdout",
     "output_type": "stream",
     "text": [
      "The params that were optimized {'max_depth': 17, 'n_estimators': 167}\n"
     ]
    },
    {
     "name": "stderr",
     "output_type": "stream",
     "text": [
      "\u001b[32m[I 2021-07-06 19:59:43,121]\u001b[0m Trial 17 finished with value: 0.19254287961089586 and parameters: {'max_depth': 17, 'n_estimators': 167}. Best is trial 17 with value: 0.19254287961089586.\u001b[0m\n"
     ]
    },
    {
     "name": "stdout",
     "output_type": "stream",
     "text": [
      "The params that were optimized {'max_depth': 18, 'n_estimators': 156}\n"
     ]
    },
    {
     "name": "stderr",
     "output_type": "stream",
     "text": [
      "\u001b[32m[I 2021-07-06 19:59:44,254]\u001b[0m Trial 18 finished with value: 0.20098220995666152 and parameters: {'max_depth': 18, 'n_estimators': 156}. Best is trial 17 with value: 0.19254287961089586.\u001b[0m\n"
     ]
    },
    {
     "name": "stdout",
     "output_type": "stream",
     "text": [
      "The params that were optimized {'max_depth': 6, 'n_estimators': 128}\n"
     ]
    },
    {
     "name": "stderr",
     "output_type": "stream",
     "text": [
      "\u001b[32m[I 2021-07-06 19:59:45,039]\u001b[0m Trial 19 finished with value: 0.2876456740571149 and parameters: {'max_depth': 6, 'n_estimators': 128}. Best is trial 17 with value: 0.19254287961089586.\u001b[0m\n"
     ]
    },
    {
     "name": "stdout",
     "output_type": "stream",
     "text": [
      "The params that were optimized {'max_depth': 14, 'n_estimators': 156}\n"
     ]
    },
    {
     "name": "stderr",
     "output_type": "stream",
     "text": [
      "\u001b[32m[I 2021-07-06 19:59:46,219]\u001b[0m Trial 20 finished with value: 0.20272075058732658 and parameters: {'max_depth': 14, 'n_estimators': 156}. Best is trial 17 with value: 0.19254287961089586.\u001b[0m\n"
     ]
    },
    {
     "name": "stdout",
     "output_type": "stream",
     "text": [
      "The params that were optimized {'max_depth': 33, 'n_estimators': 181}\n"
     ]
    },
    {
     "name": "stderr",
     "output_type": "stream",
     "text": [
      "\u001b[32m[I 2021-07-06 19:59:47,550]\u001b[0m Trial 21 finished with value: 0.20238621619310204 and parameters: {'max_depth': 33, 'n_estimators': 181}. Best is trial 17 with value: 0.19254287961089586.\u001b[0m\n"
     ]
    },
    {
     "name": "stdout",
     "output_type": "stream",
     "text": [
      "The params that were optimized {'max_depth': 31, 'n_estimators': 391}\n"
     ]
    },
    {
     "name": "stderr",
     "output_type": "stream",
     "text": [
      "\u001b[32m[I 2021-07-06 19:59:50,041]\u001b[0m Trial 22 finished with value: 0.20145521787281317 and parameters: {'max_depth': 31, 'n_estimators': 391}. Best is trial 17 with value: 0.19254287961089586.\u001b[0m\n"
     ]
    },
    {
     "name": "stdout",
     "output_type": "stream",
     "text": [
      "The params that were optimized {'max_depth': 40, 'n_estimators': 237}\n"
     ]
    },
    {
     "name": "stderr",
     "output_type": "stream",
     "text": [
      "\u001b[32m[I 2021-07-06 19:59:51,651]\u001b[0m Trial 23 finished with value: 0.20146143693771854 and parameters: {'max_depth': 40, 'n_estimators': 237}. Best is trial 17 with value: 0.19254287961089586.\u001b[0m\n"
     ]
    },
    {
     "name": "stdout",
     "output_type": "stream",
     "text": [
      "The params that were optimized {'max_depth': 18, 'n_estimators': 168}\n"
     ]
    },
    {
     "name": "stderr",
     "output_type": "stream",
     "text": [
      "\u001b[32m[I 2021-07-06 19:59:52,851]\u001b[0m Trial 24 finished with value: 0.19888787114885928 and parameters: {'max_depth': 18, 'n_estimators': 168}. Best is trial 17 with value: 0.19254287961089586.\u001b[0m\n"
     ]
    },
    {
     "name": "stdout",
     "output_type": "stream",
     "text": [
      "The params that were optimized {'max_depth': 2, 'n_estimators': 213}\n"
     ]
    },
    {
     "name": "stderr",
     "output_type": "stream",
     "text": [
      "\u001b[32m[I 2021-07-06 19:59:53,500]\u001b[0m Trial 25 finished with value: 0.9790403687152701 and parameters: {'max_depth': 2, 'n_estimators': 213}. Best is trial 17 with value: 0.19254287961089586.\u001b[0m\n"
     ]
    },
    {
     "name": "stdout",
     "output_type": "stream",
     "text": [
      "The params that were optimized {'max_depth': 26, 'n_estimators': 140}\n"
     ]
    },
    {
     "name": "stderr",
     "output_type": "stream",
     "text": [
      "\u001b[32m[I 2021-07-06 19:59:54,844]\u001b[0m Trial 26 finished with value: 0.20012601079634762 and parameters: {'max_depth': 26, 'n_estimators': 140}. Best is trial 17 with value: 0.19254287961089586.\u001b[0m\n"
     ]
    },
    {
     "name": "stdout",
     "output_type": "stream",
     "text": [
      "The params that were optimized {'max_depth': 48, 'n_estimators': 266}\n"
     ]
    },
    {
     "name": "stderr",
     "output_type": "stream",
     "text": [
      "\u001b[32m[I 2021-07-06 19:59:56,621]\u001b[0m Trial 27 finished with value: 0.1983771409160214 and parameters: {'max_depth': 48, 'n_estimators': 266}. Best is trial 17 with value: 0.19254287961089586.\u001b[0m\n"
     ]
    },
    {
     "name": "stdout",
     "output_type": "stream",
     "text": [
      "The params that were optimized {'max_depth': 13, 'n_estimators': 200}\n"
     ]
    },
    {
     "name": "stderr",
     "output_type": "stream",
     "text": [
      "\u001b[32m[I 2021-07-06 19:59:58,035]\u001b[0m Trial 28 finished with value: 0.19663170753296796 and parameters: {'max_depth': 13, 'n_estimators': 200}. Best is trial 17 with value: 0.19254287961089586.\u001b[0m\n"
     ]
    },
    {
     "name": "stdout",
     "output_type": "stream",
     "text": [
      "The params that were optimized {'max_depth': 8, 'n_estimators': 384}\n"
     ]
    },
    {
     "name": "stderr",
     "output_type": "stream",
     "text": [
      "\u001b[32m[I 2021-07-06 20:00:00,259]\u001b[0m Trial 29 finished with value: 0.2156290075377677 and parameters: {'max_depth': 8, 'n_estimators': 384}. Best is trial 17 with value: 0.19254287961089586.\u001b[0m\n"
     ]
    },
    {
     "name": "stdout",
     "output_type": "stream",
     "text": [
      "The params that were optimized {'max_depth': 20, 'n_estimators': 274}\n"
     ]
    },
    {
     "name": "stderr",
     "output_type": "stream",
     "text": [
      "\u001b[32m[I 2021-07-06 20:00:02,088]\u001b[0m Trial 30 finished with value: 0.19961840607097023 and parameters: {'max_depth': 20, 'n_estimators': 274}. Best is trial 17 with value: 0.19254287961089586.\u001b[0m\n"
     ]
    },
    {
     "name": "stdout",
     "output_type": "stream",
     "text": [
      "The params that were optimized {'max_depth': 65, 'n_estimators': 227}\n"
     ]
    },
    {
     "name": "stderr",
     "output_type": "stream",
     "text": [
      "\u001b[32m[I 2021-07-06 20:00:03,655]\u001b[0m Trial 31 finished with value: 0.19961113848797168 and parameters: {'max_depth': 65, 'n_estimators': 227}. Best is trial 17 with value: 0.19254287961089586.\u001b[0m\n"
     ]
    },
    {
     "name": "stdout",
     "output_type": "stream",
     "text": [
      "The params that were optimized {'max_depth': 27, 'n_estimators': 293}\n"
     ]
    },
    {
     "name": "stderr",
     "output_type": "stream",
     "text": [
      "\u001b[32m[I 2021-07-06 20:00:05,530]\u001b[0m Trial 32 finished with value: 0.20029212352897652 and parameters: {'max_depth': 27, 'n_estimators': 293}. Best is trial 17 with value: 0.19254287961089586.\u001b[0m\n"
     ]
    },
    {
     "name": "stdout",
     "output_type": "stream",
     "text": [
      "The params that were optimized {'max_depth': 64, 'n_estimators': 170}\n"
     ]
    },
    {
     "name": "stderr",
     "output_type": "stream",
     "text": [
      "\u001b[32m[I 2021-07-06 20:00:06,767]\u001b[0m Trial 33 finished with value: 0.2005814662089277 and parameters: {'max_depth': 64, 'n_estimators': 170}. Best is trial 17 with value: 0.19254287961089586.\u001b[0m\n"
     ]
    },
    {
     "name": "stdout",
     "output_type": "stream",
     "text": [
      "The params that were optimized {'max_depth': 24, 'n_estimators': 154}\n"
     ]
    },
    {
     "name": "stderr",
     "output_type": "stream",
     "text": [
      "\u001b[32m[I 2021-07-06 20:00:07,886]\u001b[0m Trial 34 finished with value: 0.19802485970896222 and parameters: {'max_depth': 24, 'n_estimators': 154}. Best is trial 17 with value: 0.19254287961089586.\u001b[0m\n"
     ]
    },
    {
     "name": "stdout",
     "output_type": "stream",
     "text": [
      "The params that were optimized {'max_depth': 37, 'n_estimators': 237}\n"
     ]
    },
    {
     "name": "stderr",
     "output_type": "stream",
     "text": [
      "\u001b[32m[I 2021-07-06 20:00:09,489]\u001b[0m Trial 35 finished with value: 0.2040052414929743 and parameters: {'max_depth': 37, 'n_estimators': 237}. Best is trial 17 with value: 0.19254287961089586.\u001b[0m\n"
     ]
    },
    {
     "name": "stdout",
     "output_type": "stream",
     "text": [
      "The params that were optimized {'max_depth': 51, 'n_estimators': 210}\n"
     ]
    },
    {
     "name": "stderr",
     "output_type": "stream",
     "text": [
      "\u001b[32m[I 2021-07-06 20:00:10,980]\u001b[0m Trial 36 finished with value: 0.20054422924920248 and parameters: {'max_depth': 51, 'n_estimators': 210}. Best is trial 17 with value: 0.19254287961089586.\u001b[0m\n"
     ]
    },
    {
     "name": "stdout",
     "output_type": "stream",
     "text": [
      "The params that were optimized {'max_depth': 16, 'n_estimators': 350}\n"
     ]
    },
    {
     "name": "stderr",
     "output_type": "stream",
     "text": [
      "\u001b[32m[I 2021-07-06 20:00:13,167]\u001b[0m Trial 37 finished with value: 0.19938032189324242 and parameters: {'max_depth': 16, 'n_estimators': 350}. Best is trial 17 with value: 0.19254287961089586.\u001b[0m\n"
     ]
    },
    {
     "name": "stdout",
     "output_type": "stream",
     "text": [
      "The params that were optimized {'max_depth': 22, 'n_estimators': 630}\n"
     ]
    },
    {
     "name": "stderr",
     "output_type": "stream",
     "text": [
      "\u001b[32m[I 2021-07-06 20:00:16,899]\u001b[0m Trial 38 finished with value: 0.19945290379787262 and parameters: {'max_depth': 22, 'n_estimators': 630}. Best is trial 17 with value: 0.19254287961089586.\u001b[0m\n"
     ]
    },
    {
     "name": "stdout",
     "output_type": "stream",
     "text": [
      "The params that were optimized {'max_depth': 28, 'n_estimators': 142}\n"
     ]
    },
    {
     "name": "stderr",
     "output_type": "stream",
     "text": [
      "\u001b[32m[I 2021-07-06 20:00:17,961]\u001b[0m Trial 39 finished with value: 0.2018676189579067 and parameters: {'max_depth': 28, 'n_estimators': 142}. Best is trial 17 with value: 0.19254287961089586.\u001b[0m\n"
     ]
    },
    {
     "name": "stdout",
     "output_type": "stream",
     "text": [
      "The params that were optimized {'max_depth': 9, 'n_estimators': 172}\n"
     ]
    },
    {
     "name": "stderr",
     "output_type": "stream",
     "text": [
      "\u001b[32m[I 2021-07-06 20:00:19,140]\u001b[0m Trial 40 finished with value: 0.20868974295576756 and parameters: {'max_depth': 9, 'n_estimators': 172}. Best is trial 17 with value: 0.19254287961089586.\u001b[0m\n"
     ]
    },
    {
     "name": "stdout",
     "output_type": "stream",
     "text": [
      "The params that were optimized {'max_depth': 12, 'n_estimators': 194}\n"
     ]
    },
    {
     "name": "stderr",
     "output_type": "stream",
     "text": [
      "\u001b[32m[I 2021-07-06 20:00:20,356]\u001b[0m Trial 41 finished with value: 0.19677665348702483 and parameters: {'max_depth': 12, 'n_estimators': 194}. Best is trial 17 with value: 0.19254287961089586.\u001b[0m\n"
     ]
    },
    {
     "name": "stdout",
     "output_type": "stream",
     "text": [
      "The params that were optimized {'max_depth': 14, 'n_estimators': 201}\n"
     ]
    },
    {
     "name": "stderr",
     "output_type": "stream",
     "text": [
      "\u001b[32m[I 2021-07-06 20:00:21,733]\u001b[0m Trial 42 finished with value: 0.2087267694703331 and parameters: {'max_depth': 14, 'n_estimators': 201}. Best is trial 17 with value: 0.19254287961089586.\u001b[0m\n"
     ]
    },
    {
     "name": "stdout",
     "output_type": "stream",
     "text": [
      "The params that were optimized {'max_depth': 8, 'n_estimators': 233}\n"
     ]
    },
    {
     "name": "stderr",
     "output_type": "stream",
     "text": [
      "\u001b[32m[I 2021-07-06 20:00:23,214]\u001b[0m Trial 43 finished with value: 0.21266483219169893 and parameters: {'max_depth': 8, 'n_estimators': 233}. Best is trial 17 with value: 0.19254287961089586.\u001b[0m\n"
     ]
    },
    {
     "name": "stdout",
     "output_type": "stream",
     "text": [
      "The params that were optimized {'max_depth': 13, 'n_estimators': 317}\n"
     ]
    },
    {
     "name": "stderr",
     "output_type": "stream",
     "text": [
      "\u001b[32m[I 2021-07-06 20:00:25,273]\u001b[0m Trial 44 finished with value: 0.20163706137039997 and parameters: {'max_depth': 13, 'n_estimators': 317}. Best is trial 17 with value: 0.19254287961089586.\u001b[0m\n"
     ]
    },
    {
     "name": "stdout",
     "output_type": "stream",
     "text": [
      "The params that were optimized {'max_depth': 21, 'n_estimators': 215}\n"
     ]
    },
    {
     "name": "stderr",
     "output_type": "stream",
     "text": [
      "\u001b[32m[I 2021-07-06 20:00:26,744]\u001b[0m Trial 45 finished with value: 0.19565104197460348 and parameters: {'max_depth': 21, 'n_estimators': 215}. Best is trial 17 with value: 0.19254287961089586.\u001b[0m\n"
     ]
    },
    {
     "name": "stdout",
     "output_type": "stream",
     "text": [
      "The params that were optimized {'max_depth': 35, 'n_estimators': 251}\n"
     ]
    },
    {
     "name": "stderr",
     "output_type": "stream",
     "text": [
      "\u001b[32m[I 2021-07-06 20:00:28,501]\u001b[0m Trial 46 finished with value: 0.1925205545592601 and parameters: {'max_depth': 35, 'n_estimators': 251}. Best is trial 46 with value: 0.1925205545592601.\u001b[0m\n"
     ]
    },
    {
     "name": "stdout",
     "output_type": "stream",
     "text": [
      "The params that were optimized {'max_depth': 49, 'n_estimators': 253}\n"
     ]
    },
    {
     "name": "stderr",
     "output_type": "stream",
     "text": [
      "\u001b[32m[I 2021-07-06 20:00:30,170]\u001b[0m Trial 47 finished with value: 0.20029408986999447 and parameters: {'max_depth': 49, 'n_estimators': 253}. Best is trial 46 with value: 0.1925205545592601.\u001b[0m\n"
     ]
    },
    {
     "name": "stdout",
     "output_type": "stream",
     "text": [
      "The params that were optimized {'max_depth': 36, 'n_estimators': 291}\n"
     ]
    },
    {
     "name": "stderr",
     "output_type": "stream",
     "text": [
      "\u001b[32m[I 2021-07-06 20:00:32,105]\u001b[0m Trial 48 finished with value: 0.20189069460008588 and parameters: {'max_depth': 36, 'n_estimators': 291}. Best is trial 46 with value: 0.1925205545592601.\u001b[0m\n"
     ]
    },
    {
     "name": "stdout",
     "output_type": "stream",
     "text": [
      "The params that were optimized {'max_depth': 57, 'n_estimators': 181}\n"
     ]
    },
    {
     "name": "stderr",
     "output_type": "stream",
     "text": [
      "\u001b[32m[I 2021-07-06 20:00:33,431]\u001b[0m Trial 49 finished with value: 0.20090528037655692 and parameters: {'max_depth': 57, 'n_estimators': 181}. Best is trial 46 with value: 0.1925205545592601.\u001b[0m\n"
     ]
    },
    {
     "name": "stdout",
     "output_type": "stream",
     "text": [
      "The params that were optimized {'max_depth': 45, 'n_estimators': 250}\n"
     ]
    },
    {
     "name": "stderr",
     "output_type": "stream",
     "text": [
      "\u001b[32m[I 2021-07-06 20:00:35,154]\u001b[0m Trial 50 finished with value: 0.2002512882134158 and parameters: {'max_depth': 45, 'n_estimators': 250}. Best is trial 46 with value: 0.1925205545592601.\u001b[0m\n"
     ]
    },
    {
     "name": "stdout",
     "output_type": "stream",
     "text": [
      "The params that were optimized {'max_depth': 20, 'n_estimators': 218}\n"
     ]
    },
    {
     "name": "stderr",
     "output_type": "stream",
     "text": [
      "\u001b[32m[I 2021-07-06 20:00:36,742]\u001b[0m Trial 51 finished with value: 0.19494697109756604 and parameters: {'max_depth': 20, 'n_estimators': 218}. Best is trial 46 with value: 0.1925205545592601.\u001b[0m\n"
     ]
    },
    {
     "name": "stdout",
     "output_type": "stream",
     "text": [
      "The params that were optimized {'max_depth': 31, 'n_estimators': 228}\n"
     ]
    },
    {
     "name": "stderr",
     "output_type": "stream",
     "text": [
      "\u001b[32m[I 2021-07-06 20:00:38,335]\u001b[0m Trial 52 finished with value: 0.19567310297954518 and parameters: {'max_depth': 31, 'n_estimators': 228}. Best is trial 46 with value: 0.1925205545592601.\u001b[0m\n"
     ]
    },
    {
     "name": "stdout",
     "output_type": "stream",
     "text": [
      "The params that were optimized {'max_depth': 17, 'n_estimators': 148}\n"
     ]
    },
    {
     "name": "stderr",
     "output_type": "stream",
     "text": [
      "\u001b[32m[I 2021-07-06 20:00:39,448]\u001b[0m Trial 53 finished with value: 0.20491868069783664 and parameters: {'max_depth': 17, 'n_estimators': 148}. Best is trial 46 with value: 0.1925205545592601.\u001b[0m\n"
     ]
    },
    {
     "name": "stdout",
     "output_type": "stream",
     "text": [
      "The params that were optimized {'max_depth': 24, 'n_estimators': 167}\n"
     ]
    },
    {
     "name": "stderr",
     "output_type": "stream",
     "text": [
      "\u001b[32m[I 2021-07-06 20:00:40,661]\u001b[0m Trial 54 finished with value: 0.20122322201450107 and parameters: {'max_depth': 24, 'n_estimators': 167}. Best is trial 46 with value: 0.1925205545592601.\u001b[0m\n"
     ]
    },
    {
     "name": "stdout",
     "output_type": "stream",
     "text": [
      "The params that were optimized {'max_depth': 37, 'n_estimators': 190}\n"
     ]
    },
    {
     "name": "stderr",
     "output_type": "stream",
     "text": [
      "\u001b[32m[I 2021-07-06 20:00:42,015]\u001b[0m Trial 55 finished with value: 0.20286330177149295 and parameters: {'max_depth': 37, 'n_estimators': 190}. Best is trial 46 with value: 0.1925205545592601.\u001b[0m\n"
     ]
    },
    {
     "name": "stdout",
     "output_type": "stream",
     "text": [
      "The params that were optimized {'max_depth': 19, 'n_estimators': 133}\n"
     ]
    },
    {
     "name": "stderr",
     "output_type": "stream",
     "text": [
      "\u001b[32m[I 2021-07-06 20:00:43,052]\u001b[0m Trial 56 finished with value: 0.19986594066450902 and parameters: {'max_depth': 19, 'n_estimators': 133}. Best is trial 46 with value: 0.1925205545592601.\u001b[0m\n"
     ]
    },
    {
     "name": "stdout",
     "output_type": "stream",
     "text": [
      "The params that were optimized {'max_depth': 29, 'n_estimators': 268}\n"
     ]
    },
    {
     "name": "stderr",
     "output_type": "stream",
     "text": [
      "\u001b[32m[I 2021-07-06 20:00:44,843]\u001b[0m Trial 57 finished with value: 0.20378049994020553 and parameters: {'max_depth': 29, 'n_estimators': 268}. Best is trial 46 with value: 0.1925205545592601.\u001b[0m\n"
     ]
    },
    {
     "name": "stdout",
     "output_type": "stream",
     "text": [
      "The params that were optimized {'max_depth': 40, 'n_estimators': 217}\n"
     ]
    },
    {
     "name": "stderr",
     "output_type": "stream",
     "text": [
      "\u001b[32m[I 2021-07-06 20:00:46,374]\u001b[0m Trial 58 finished with value: 0.2016442688771889 and parameters: {'max_depth': 40, 'n_estimators': 217}. Best is trial 46 with value: 0.1925205545592601.\u001b[0m\n"
     ]
    },
    {
     "name": "stdout",
     "output_type": "stream",
     "text": [
      "The params that were optimized {'max_depth': 23, 'n_estimators': 292}\n"
     ]
    },
    {
     "name": "stderr",
     "output_type": "stream",
     "text": [
      "\u001b[32m[I 2021-07-06 20:00:48,261]\u001b[0m Trial 59 finished with value: 0.2009269115909987 and parameters: {'max_depth': 23, 'n_estimators': 292}. Best is trial 46 with value: 0.1925205545592601.\u001b[0m\n"
     ]
    },
    {
     "name": "stdout",
     "output_type": "stream",
     "text": [
      "The params that were optimized {'max_depth': 33, 'n_estimators': 336}\n"
     ]
    },
    {
     "name": "stderr",
     "output_type": "stream",
     "text": [
      "\u001b[32m[I 2021-07-06 20:00:50,401]\u001b[0m Trial 60 finished with value: 0.20221049820976872 and parameters: {'max_depth': 33, 'n_estimators': 336}. Best is trial 46 with value: 0.1925205545592601.\u001b[0m\n"
     ]
    },
    {
     "name": "stdout",
     "output_type": "stream",
     "text": [
      "The params that were optimized {'max_depth': 21, 'n_estimators': 218}\n"
     ]
    },
    {
     "name": "stderr",
     "output_type": "stream",
     "text": [
      "\u001b[32m[I 2021-07-06 20:00:51,885]\u001b[0m Trial 61 finished with value: 0.19494441674435017 and parameters: {'max_depth': 21, 'n_estimators': 218}. Best is trial 46 with value: 0.1925205545592601.\u001b[0m\n"
     ]
    },
    {
     "name": "stdout",
     "output_type": "stream",
     "text": [
      "The params that were optimized {'max_depth': 17, 'n_estimators': 249}\n"
     ]
    },
    {
     "name": "stderr",
     "output_type": "stream",
     "text": [
      "\u001b[32m[I 2021-07-06 20:00:53,551]\u001b[0m Trial 62 finished with value: 0.19649239088122247 and parameters: {'max_depth': 17, 'n_estimators': 249}. Best is trial 46 with value: 0.1925205545592601.\u001b[0m\n"
     ]
    },
    {
     "name": "stdout",
     "output_type": "stream",
     "text": [
      "The params that were optimized {'max_depth': 20, 'n_estimators': 183}\n"
     ]
    },
    {
     "name": "stderr",
     "output_type": "stream",
     "text": [
      "\u001b[32m[I 2021-07-06 20:00:54,895]\u001b[0m Trial 63 finished with value: 0.20097387663170344 and parameters: {'max_depth': 20, 'n_estimators': 183}. Best is trial 46 with value: 0.1925205545592601.\u001b[0m\n"
     ]
    },
    {
     "name": "stdout",
     "output_type": "stream",
     "text": [
      "The params that were optimized {'max_depth': 26, 'n_estimators': 201}\n"
     ]
    },
    {
     "name": "stderr",
     "output_type": "stream",
     "text": [
      "\u001b[32m[I 2021-07-06 20:00:56,353]\u001b[0m Trial 64 finished with value: 0.19570759369503787 and parameters: {'max_depth': 26, 'n_estimators': 201}. Best is trial 46 with value: 0.1925205545592601.\u001b[0m\n"
     ]
    },
    {
     "name": "stdout",
     "output_type": "stream",
     "text": [
      "The params that were optimized {'max_depth': 15, 'n_estimators': 220}\n"
     ]
    },
    {
     "name": "stderr",
     "output_type": "stream",
     "text": [
      "\u001b[32m[I 2021-07-06 20:00:57,870]\u001b[0m Trial 65 finished with value: 0.20214570178345415 and parameters: {'max_depth': 15, 'n_estimators': 220}. Best is trial 46 with value: 0.1925205545592601.\u001b[0m\n"
     ]
    },
    {
     "name": "stdout",
     "output_type": "stream",
     "text": [
      "The params that were optimized {'max_depth': 29, 'n_estimators': 174}\n"
     ]
    },
    {
     "name": "stderr",
     "output_type": "stream",
     "text": [
      "\u001b[32m[I 2021-07-06 20:00:59,159]\u001b[0m Trial 66 finished with value: 0.20029411798174135 and parameters: {'max_depth': 29, 'n_estimators': 174}. Best is trial 46 with value: 0.1925205545592601.\u001b[0m\n"
     ]
    },
    {
     "name": "stdout",
     "output_type": "stream",
     "text": [
      "The params that were optimized {'max_depth': 11, 'n_estimators': 161}\n"
     ]
    },
    {
     "name": "stderr",
     "output_type": "stream",
     "text": [
      "\u001b[32m[I 2021-07-06 20:01:00,297]\u001b[0m Trial 67 finished with value: 0.2037751993038506 and parameters: {'max_depth': 11, 'n_estimators': 161}. Best is trial 46 with value: 0.1925205545592601.\u001b[0m\n"
     ]
    },
    {
     "name": "stdout",
     "output_type": "stream",
     "text": [
      "The params that were optimized {'max_depth': 45, 'n_estimators': 261}\n"
     ]
    },
    {
     "name": "stderr",
     "output_type": "stream",
     "text": [
      "\u001b[32m[I 2021-07-06 20:01:02,019]\u001b[0m Trial 68 finished with value: 0.20020283793370505 and parameters: {'max_depth': 45, 'n_estimators': 261}. Best is trial 46 with value: 0.1925205545592601.\u001b[0m\n"
     ]
    },
    {
     "name": "stdout",
     "output_type": "stream",
     "text": [
      "The params that were optimized {'max_depth': 55, 'n_estimators': 129}\n"
     ]
    },
    {
     "name": "stderr",
     "output_type": "stream",
     "text": [
      "\u001b[32m[I 2021-07-06 20:01:02,970]\u001b[0m Trial 69 finished with value: 0.20426236481846427 and parameters: {'max_depth': 55, 'n_estimators': 129}. Best is trial 46 with value: 0.1925205545592601.\u001b[0m\n"
     ]
    },
    {
     "name": "stdout",
     "output_type": "stream",
     "text": [
      "The params that were optimized {'max_depth': 34, 'n_estimators': 146}\n"
     ]
    },
    {
     "name": "stderr",
     "output_type": "stream",
     "text": [
      "\u001b[32m[I 2021-07-06 20:01:04,089]\u001b[0m Trial 70 finished with value: 0.20424870570837614 and parameters: {'max_depth': 34, 'n_estimators': 146}. Best is trial 46 with value: 0.1925205545592601.\u001b[0m\n"
     ]
    },
    {
     "name": "stdout",
     "output_type": "stream",
     "text": [
      "The params that were optimized {'max_depth': 21, 'n_estimators': 210}\n"
     ]
    },
    {
     "name": "stderr",
     "output_type": "stream",
     "text": [
      "\u001b[32m[I 2021-07-06 20:01:05,560]\u001b[0m Trial 71 finished with value: 0.20251136538315356 and parameters: {'max_depth': 21, 'n_estimators': 210}. Best is trial 46 with value: 0.1925205545592601.\u001b[0m\n"
     ]
    },
    {
     "name": "stdout",
     "output_type": "stream",
     "text": [
      "The params that were optimized {'max_depth': 22, 'n_estimators': 236}\n"
     ]
    },
    {
     "name": "stderr",
     "output_type": "stream",
     "text": [
      "\u001b[32m[I 2021-07-06 20:01:07,171]\u001b[0m Trial 72 finished with value: 0.19634679868998328 and parameters: {'max_depth': 22, 'n_estimators': 236}. Best is trial 46 with value: 0.1925205545592601.\u001b[0m\n"
     ]
    },
    {
     "name": "stdout",
     "output_type": "stream",
     "text": [
      "The params that were optimized {'max_depth': 18, 'n_estimators': 193}\n"
     ]
    },
    {
     "name": "stderr",
     "output_type": "stream",
     "text": [
      "\u001b[32m[I 2021-07-06 20:01:08,455]\u001b[0m Trial 73 finished with value: 0.18987446034637026 and parameters: {'max_depth': 18, 'n_estimators': 193}. Best is trial 73 with value: 0.18987446034637026.\u001b[0m\n"
     ]
    },
    {
     "name": "stdout",
     "output_type": "stream",
     "text": [
      "The params that were optimized {'max_depth': 24, 'n_estimators': 189}\n"
     ]
    },
    {
     "name": "stderr",
     "output_type": "stream",
     "text": [
      "\u001b[32m[I 2021-07-06 20:01:09,705]\u001b[0m Trial 74 finished with value: 0.20202482692128076 and parameters: {'max_depth': 24, 'n_estimators': 189}. Best is trial 73 with value: 0.18987446034637026.\u001b[0m\n"
     ]
    },
    {
     "name": "stdout",
     "output_type": "stream",
     "text": [
      "The params that were optimized {'max_depth': 16, 'n_estimators': 197}\n"
     ]
    },
    {
     "name": "stderr",
     "output_type": "stream",
     "text": [
      "\u001b[32m[I 2021-07-06 20:01:11,102]\u001b[0m Trial 75 finished with value: 0.2015793830181022 and parameters: {'max_depth': 16, 'n_estimators': 197}. Best is trial 73 with value: 0.18987446034637026.\u001b[0m\n"
     ]
    },
    {
     "name": "stdout",
     "output_type": "stream",
     "text": [
      "The params that were optimized {'max_depth': 19, 'n_estimators': 178}\n"
     ]
    },
    {
     "name": "stderr",
     "output_type": "stream",
     "text": [
      "\u001b[32m[I 2021-07-06 20:01:12,455]\u001b[0m Trial 76 finished with value: 0.20572811493157508 and parameters: {'max_depth': 19, 'n_estimators': 178}. Best is trial 73 with value: 0.18987446034637026.\u001b[0m\n"
     ]
    },
    {
     "name": "stdout",
     "output_type": "stream",
     "text": [
      "The params that were optimized {'max_depth': 27, 'n_estimators': 228}\n"
     ]
    },
    {
     "name": "stderr",
     "output_type": "stream",
     "text": [
      "\u001b[32m[I 2021-07-06 20:01:13,962]\u001b[0m Trial 77 finished with value: 0.20440505347571658 and parameters: {'max_depth': 27, 'n_estimators': 228}. Best is trial 73 with value: 0.18987446034637026.\u001b[0m\n"
     ]
    },
    {
     "name": "stdout",
     "output_type": "stream",
     "text": [
      "The params that were optimized {'max_depth': 3, 'n_estimators': 158}\n"
     ]
    },
    {
     "name": "stderr",
     "output_type": "stream",
     "text": [
      "\u001b[32m[I 2021-07-06 20:01:14,636]\u001b[0m Trial 78 finished with value: 0.7303985806025783 and parameters: {'max_depth': 3, 'n_estimators': 158}. Best is trial 73 with value: 0.18987446034637026.\u001b[0m\n"
     ]
    },
    {
     "name": "stdout",
     "output_type": "stream",
     "text": [
      "The params that were optimized {'max_depth': 62, 'n_estimators': 243}\n"
     ]
    },
    {
     "name": "stderr",
     "output_type": "stream",
     "text": [
      "\u001b[32m[I 2021-07-06 20:01:16,268]\u001b[0m Trial 79 finished with value: 0.20238534962974034 and parameters: {'max_depth': 62, 'n_estimators': 243}. Best is trial 73 with value: 0.18987446034637026.\u001b[0m\n"
     ]
    },
    {
     "name": "stdout",
     "output_type": "stream",
     "text": [
      "The params that were optimized {'max_depth': 31, 'n_estimators': 206}\n"
     ]
    },
    {
     "name": "stderr",
     "output_type": "stream",
     "text": [
      "\u001b[32m[I 2021-07-06 20:01:17,765]\u001b[0m Trial 80 finished with value: 0.1985534021194586 and parameters: {'max_depth': 31, 'n_estimators': 206}. Best is trial 73 with value: 0.18987446034637026.\u001b[0m\n"
     ]
    },
    {
     "name": "stdout",
     "output_type": "stream",
     "text": [
      "The params that were optimized {'max_depth': 18, 'n_estimators': 214}\n"
     ]
    },
    {
     "name": "stderr",
     "output_type": "stream",
     "text": [
      "\u001b[32m[I 2021-07-06 20:01:19,226]\u001b[0m Trial 81 finished with value: 0.2063156376764047 and parameters: {'max_depth': 18, 'n_estimators': 214}. Best is trial 73 with value: 0.18987446034637026.\u001b[0m\n"
     ]
    },
    {
     "name": "stdout",
     "output_type": "stream",
     "text": [
      "The params that were optimized {'max_depth': 15, 'n_estimators': 219}\n"
     ]
    },
    {
     "name": "stderr",
     "output_type": "stream",
     "text": [
      "\u001b[32m[I 2021-07-06 20:01:20,737]\u001b[0m Trial 82 finished with value: 0.19568128752818625 and parameters: {'max_depth': 15, 'n_estimators': 219}. Best is trial 73 with value: 0.18987446034637026.\u001b[0m\n"
     ]
    },
    {
     "name": "stdout",
     "output_type": "stream",
     "text": [
      "The params that were optimized {'max_depth': 25, 'n_estimators': 164}\n"
     ]
    },
    {
     "name": "stderr",
     "output_type": "stream",
     "text": [
      "\u001b[32m[I 2021-07-06 20:01:21,964]\u001b[0m Trial 83 finished with value: 0.1932733513007735 and parameters: {'max_depth': 25, 'n_estimators': 164}. Best is trial 73 with value: 0.18987446034637026.\u001b[0m\n"
     ]
    },
    {
     "name": "stdout",
     "output_type": "stream",
     "text": [
      "The params that were optimized {'max_depth': 25, 'n_estimators': 164}\n"
     ]
    },
    {
     "name": "stderr",
     "output_type": "stream",
     "text": [
      "\u001b[32m[I 2021-07-06 20:01:23,131]\u001b[0m Trial 84 finished with value: 0.19616209272174265 and parameters: {'max_depth': 25, 'n_estimators': 164}. Best is trial 73 with value: 0.18987446034637026.\u001b[0m\n"
     ]
    },
    {
     "name": "stdout",
     "output_type": "stream",
     "text": [
      "The params that were optimized {'max_depth': 39, 'n_estimators': 188}\n"
     ]
    },
    {
     "name": "stderr",
     "output_type": "stream",
     "text": [
      "\u001b[32m[I 2021-07-06 20:01:24,390]\u001b[0m Trial 85 finished with value: 0.19938959238394421 and parameters: {'max_depth': 39, 'n_estimators': 188}. Best is trial 73 with value: 0.18987446034637026.\u001b[0m\n"
     ]
    },
    {
     "name": "stdout",
     "output_type": "stream",
     "text": [
      "The params that were optimized {'max_depth': 44, 'n_estimators': 154}\n"
     ]
    },
    {
     "name": "stderr",
     "output_type": "stream",
     "text": [
      "\u001b[32m[I 2021-07-06 20:01:25,542]\u001b[0m Trial 86 finished with value: 0.20038649837462913 and parameters: {'max_depth': 44, 'n_estimators': 154}. Best is trial 73 with value: 0.18987446034637026.\u001b[0m\n"
     ]
    },
    {
     "name": "stdout",
     "output_type": "stream",
     "text": [
      "The params that were optimized {'max_depth': 34, 'n_estimators': 172}\n"
     ]
    },
    {
     "name": "stderr",
     "output_type": "stream",
     "text": [
      "\u001b[32m[I 2021-07-06 20:01:26,743]\u001b[0m Trial 87 finished with value: 0.20216882475746722 and parameters: {'max_depth': 34, 'n_estimators': 172}. Best is trial 73 with value: 0.18987446034637026.\u001b[0m\n"
     ]
    },
    {
     "name": "stdout",
     "output_type": "stream",
     "text": [
      "The params that were optimized {'max_depth': 13, 'n_estimators': 196}\n"
     ]
    },
    {
     "name": "stderr",
     "output_type": "stream",
     "text": [
      "\u001b[32m[I 2021-07-06 20:01:28,114]\u001b[0m Trial 88 finished with value: 0.20167180247319758 and parameters: {'max_depth': 13, 'n_estimators': 196}. Best is trial 73 with value: 0.18987446034637026.\u001b[0m\n"
     ]
    },
    {
     "name": "stdout",
     "output_type": "stream",
     "text": [
      "The params that were optimized {'max_depth': 30, 'n_estimators': 148}\n"
     ]
    },
    {
     "name": "stderr",
     "output_type": "stream",
     "text": [
      "\u001b[32m[I 2021-07-06 20:01:29,248]\u001b[0m Trial 89 finished with value: 0.2027566821012891 and parameters: {'max_depth': 30, 'n_estimators': 148}. Best is trial 73 with value: 0.18987446034637026.\u001b[0m\n"
     ]
    },
    {
     "name": "stdout",
     "output_type": "stream",
     "text": [
      "The params that were optimized {'max_depth': 22, 'n_estimators': 140}\n"
     ]
    },
    {
     "name": "stderr",
     "output_type": "stream",
     "text": [
      "\u001b[32m[I 2021-07-06 20:01:30,284]\u001b[0m Trial 90 finished with value: 0.20134708838623036 and parameters: {'max_depth': 22, 'n_estimators': 140}. Best is trial 73 with value: 0.18987446034637026.\u001b[0m\n"
     ]
    },
    {
     "name": "stdout",
     "output_type": "stream",
     "text": [
      "The params that were optimized {'max_depth': 19, 'n_estimators': 228}\n"
     ]
    },
    {
     "name": "stderr",
     "output_type": "stream",
     "text": [
      "\u001b[32m[I 2021-07-06 20:01:31,890]\u001b[0m Trial 91 finished with value: 0.1961532584402237 and parameters: {'max_depth': 19, 'n_estimators': 228}. Best is trial 73 with value: 0.18987446034637026.\u001b[0m\n"
     ]
    },
    {
     "name": "stdout",
     "output_type": "stream",
     "text": [
      "The params that were optimized {'max_depth': 21, 'n_estimators': 203}\n"
     ]
    },
    {
     "name": "stderr",
     "output_type": "stream",
     "text": [
      "\u001b[32m[I 2021-07-06 20:01:33,279]\u001b[0m Trial 92 finished with value: 0.1953091065890726 and parameters: {'max_depth': 21, 'n_estimators': 203}. Best is trial 73 with value: 0.18987446034637026.\u001b[0m\n"
     ]
    },
    {
     "name": "stdout",
     "output_type": "stream",
     "text": [
      "The params that were optimized {'max_depth': 26, 'n_estimators': 280}\n"
     ]
    },
    {
     "name": "stderr",
     "output_type": "stream",
     "text": [
      "\u001b[32m[I 2021-07-06 20:01:35,125]\u001b[0m Trial 93 finished with value: 0.19608502938204334 and parameters: {'max_depth': 26, 'n_estimators': 280}. Best is trial 73 with value: 0.18987446034637026.\u001b[0m\n"
     ]
    },
    {
     "name": "stdout",
     "output_type": "stream",
     "text": [
      "The params that were optimized {'max_depth': 16, 'n_estimators': 204}\n"
     ]
    },
    {
     "name": "stderr",
     "output_type": "stream",
     "text": [
      "\u001b[32m[I 2021-07-06 20:01:36,546]\u001b[0m Trial 94 finished with value: 0.20451135431367115 and parameters: {'max_depth': 16, 'n_estimators': 204}. Best is trial 73 with value: 0.18987446034637026.\u001b[0m\n"
     ]
    },
    {
     "name": "stdout",
     "output_type": "stream",
     "text": [
      "The params that were optimized {'max_depth': 21, 'n_estimators': 180}\n"
     ]
    },
    {
     "name": "stderr",
     "output_type": "stream",
     "text": [
      "\u001b[32m[I 2021-07-06 20:01:37,809]\u001b[0m Trial 95 finished with value: 0.20809918126690977 and parameters: {'max_depth': 21, 'n_estimators': 180}. Best is trial 73 with value: 0.18987446034637026.\u001b[0m\n"
     ]
    },
    {
     "name": "stdout",
     "output_type": "stream",
     "text": [
      "The params that were optimized {'max_depth': 28, 'n_estimators': 856}\n"
     ]
    },
    {
     "name": "stderr",
     "output_type": "stream",
     "text": [
      "\u001b[32m[I 2021-07-06 20:01:42,878]\u001b[0m Trial 96 finished with value: 0.19488467666139705 and parameters: {'max_depth': 28, 'n_estimators': 856}. Best is trial 73 with value: 0.18987446034637026.\u001b[0m\n"
     ]
    },
    {
     "name": "stdout",
     "output_type": "stream",
     "text": [
      "The params that were optimized {'max_depth': 28, 'n_estimators': 541}\n"
     ]
    },
    {
     "name": "stderr",
     "output_type": "stream",
     "text": [
      "\u001b[32m[I 2021-07-06 20:01:46,158]\u001b[0m Trial 97 finished with value: 0.19281917736520093 and parameters: {'max_depth': 28, 'n_estimators': 541}. Best is trial 73 with value: 0.18987446034637026.\u001b[0m\n"
     ]
    },
    {
     "name": "stdout",
     "output_type": "stream",
     "text": [
      "The params that were optimized {'max_depth': 36, 'n_estimators': 786}\n"
     ]
    },
    {
     "name": "stderr",
     "output_type": "stream",
     "text": [
      "\u001b[32m[I 2021-07-06 20:01:50,847]\u001b[0m Trial 98 finished with value: 0.19287009392219753 and parameters: {'max_depth': 36, 'n_estimators': 786}. Best is trial 73 with value: 0.18987446034637026.\u001b[0m\n"
     ]
    },
    {
     "name": "stdout",
     "output_type": "stream",
     "text": [
      "The params that were optimized {'max_depth': 51, 'n_estimators': 855}\n"
     ]
    },
    {
     "name": "stderr",
     "output_type": "stream",
     "text": [
      "\u001b[32m[I 2021-07-06 20:01:55,881]\u001b[0m Trial 99 finished with value: 0.19384576550994073 and parameters: {'max_depth': 51, 'n_estimators': 855}. Best is trial 73 with value: 0.18987446034637026.\u001b[0m\n"
     ]
    },
    {
     "name": "stdout",
     "output_type": "stream",
     "text": [
      "The params that were optimized {'max_depth': 53, 'n_estimators': 808}\n"
     ]
    },
    {
     "name": "stderr",
     "output_type": "stream",
     "text": [
      "\u001b[32m[I 2021-07-06 20:02:00,619]\u001b[0m Trial 100 finished with value: 0.19907135521648867 and parameters: {'max_depth': 53, 'n_estimators': 808}. Best is trial 73 with value: 0.18987446034637026.\u001b[0m\n"
     ]
    },
    {
     "name": "stdout",
     "output_type": "stream",
     "text": [
      "The params that were optimized {'max_depth': 42, 'n_estimators': 900}\n"
     ]
    },
    {
     "name": "stderr",
     "output_type": "stream",
     "text": [
      "\u001b[32m[I 2021-07-06 20:02:05,961]\u001b[0m Trial 101 finished with value: 0.1961743068712404 and parameters: {'max_depth': 42, 'n_estimators': 900}. Best is trial 73 with value: 0.18987446034637026.\u001b[0m\n"
     ]
    },
    {
     "name": "stdout",
     "output_type": "stream",
     "text": [
      "The params that were optimized {'max_depth': 37, 'n_estimators': 834}\n"
     ]
    },
    {
     "name": "stderr",
     "output_type": "stream",
     "text": [
      "\u001b[32m[I 2021-07-06 20:02:10,912]\u001b[0m Trial 102 finished with value: 0.1968073197081612 and parameters: {'max_depth': 37, 'n_estimators': 834}. Best is trial 73 with value: 0.18987446034637026.\u001b[0m\n"
     ]
    },
    {
     "name": "stdout",
     "output_type": "stream",
     "text": [
      "The params that were optimized {'max_depth': 35, 'n_estimators': 706}\n"
     ]
    },
    {
     "name": "stderr",
     "output_type": "stream",
     "text": [
      "\u001b[32m[I 2021-07-06 20:02:15,151]\u001b[0m Trial 103 finished with value: 0.19579772155795958 and parameters: {'max_depth': 35, 'n_estimators': 706}. Best is trial 73 with value: 0.18987446034637026.\u001b[0m\n"
     ]
    },
    {
     "name": "stdout",
     "output_type": "stream",
     "text": [
      "The params that were optimized {'max_depth': 49, 'n_estimators': 534}\n"
     ]
    },
    {
     "name": "stderr",
     "output_type": "stream",
     "text": [
      "\u001b[32m[I 2021-07-06 20:02:18,422]\u001b[0m Trial 104 finished with value: 0.19501382701789644 and parameters: {'max_depth': 49, 'n_estimators': 534}. Best is trial 73 with value: 0.18987446034637026.\u001b[0m\n"
     ]
    },
    {
     "name": "stdout",
     "output_type": "stream",
     "text": [
      "The params that were optimized {'max_depth': 32, 'n_estimators': 453}\n"
     ]
    },
    {
     "name": "stderr",
     "output_type": "stream",
     "text": [
      "\u001b[32m[I 2021-07-06 20:02:21,315]\u001b[0m Trial 105 finished with value: 0.19162845836421186 and parameters: {'max_depth': 32, 'n_estimators': 453}. Best is trial 73 with value: 0.18987446034637026.\u001b[0m\n"
     ]
    },
    {
     "name": "stdout",
     "output_type": "stream",
     "text": [
      "The params that were optimized {'max_depth': 61, 'n_estimators': 668}\n"
     ]
    },
    {
     "name": "stderr",
     "output_type": "stream",
     "text": [
      "\u001b[32m[I 2021-07-06 20:02:25,302]\u001b[0m Trial 106 finished with value: 0.19364243756305194 and parameters: {'max_depth': 61, 'n_estimators': 668}. Best is trial 73 with value: 0.18987446034637026.\u001b[0m\n"
     ]
    },
    {
     "name": "stdout",
     "output_type": "stream",
     "text": [
      "The params that were optimized {'max_depth': 39, 'n_estimators': 729}\n"
     ]
    },
    {
     "name": "stderr",
     "output_type": "stream",
     "text": [
      "\u001b[32m[I 2021-07-06 20:02:29,651]\u001b[0m Trial 107 finished with value: 0.1968688000039082 and parameters: {'max_depth': 39, 'n_estimators': 729}. Best is trial 73 with value: 0.18987446034637026.\u001b[0m\n"
     ]
    },
    {
     "name": "stdout",
     "output_type": "stream",
     "text": [
      "The params that were optimized {'max_depth': 32, 'n_estimators': 450}\n"
     ]
    },
    {
     "name": "stderr",
     "output_type": "stream",
     "text": [
      "\u001b[32m[I 2021-07-06 20:02:32,435]\u001b[0m Trial 108 finished with value: 0.1976390455617564 and parameters: {'max_depth': 32, 'n_estimators': 450}. Best is trial 73 with value: 0.18987446034637026.\u001b[0m\n"
     ]
    },
    {
     "name": "stdout",
     "output_type": "stream",
     "text": [
      "The params that were optimized {'max_depth': 41, 'n_estimators': 634}\n"
     ]
    },
    {
     "name": "stderr",
     "output_type": "stream",
     "text": [
      "\u001b[32m[I 2021-07-06 20:02:36,257]\u001b[0m Trial 109 finished with value: 0.19545190079661498 and parameters: {'max_depth': 41, 'n_estimators': 634}. Best is trial 73 with value: 0.18987446034637026.\u001b[0m\n"
     ]
    },
    {
     "name": "stdout",
     "output_type": "stream",
     "text": [
      "The params that were optimized {'max_depth': 60, 'n_estimators': 487}\n"
     ]
    },
    {
     "name": "stderr",
     "output_type": "stream",
     "text": [
      "\u001b[32m[I 2021-07-06 20:02:39,263]\u001b[0m Trial 110 finished with value: 0.19944315074639465 and parameters: {'max_depth': 60, 'n_estimators': 487}. Best is trial 73 with value: 0.18987446034637026.\u001b[0m\n"
     ]
    },
    {
     "name": "stdout",
     "output_type": "stream",
     "text": [
      "The params that were optimized {'max_depth': 46, 'n_estimators': 650}\n"
     ]
    },
    {
     "name": "stderr",
     "output_type": "stream",
     "text": [
      "\u001b[32m[I 2021-07-06 20:02:43,231]\u001b[0m Trial 111 finished with value: 0.19348694990158485 and parameters: {'max_depth': 46, 'n_estimators': 650}. Best is trial 73 with value: 0.18987446034637026.\u001b[0m\n"
     ]
    },
    {
     "name": "stdout",
     "output_type": "stream",
     "text": [
      "The params that were optimized {'max_depth': 46, 'n_estimators': 623}\n"
     ]
    },
    {
     "name": "stderr",
     "output_type": "stream",
     "text": [
      "\u001b[32m[I 2021-07-06 20:02:46,972]\u001b[0m Trial 112 finished with value: 0.1966171087204099 and parameters: {'max_depth': 46, 'n_estimators': 623}. Best is trial 73 with value: 0.18987446034637026.\u001b[0m\n"
     ]
    },
    {
     "name": "stdout",
     "output_type": "stream",
     "text": [
      "The params that were optimized {'max_depth': 50, 'n_estimators': 584}\n"
     ]
    },
    {
     "name": "stderr",
     "output_type": "stream",
     "text": [
      "\u001b[32m[I 2021-07-06 20:02:50,564]\u001b[0m Trial 113 finished with value: 0.19630198142335276 and parameters: {'max_depth': 50, 'n_estimators': 584}. Best is trial 73 with value: 0.18987446034637026.\u001b[0m\n"
     ]
    },
    {
     "name": "stdout",
     "output_type": "stream",
     "text": [
      "The params that were optimized {'max_depth': 57, 'n_estimators': 776}\n"
     ]
    },
    {
     "name": "stderr",
     "output_type": "stream",
     "text": [
      "\u001b[32m[I 2021-07-06 20:02:55,145]\u001b[0m Trial 114 finished with value: 0.19371402113023187 and parameters: {'max_depth': 57, 'n_estimators': 776}. Best is trial 73 with value: 0.18987446034637026.\u001b[0m\n"
     ]
    },
    {
     "name": "stdout",
     "output_type": "stream",
     "text": [
      "The params that were optimized {'max_depth': 56, 'n_estimators': 769}\n"
     ]
    },
    {
     "name": "stderr",
     "output_type": "stream",
     "text": [
      "\u001b[32m[I 2021-07-06 20:02:59,713]\u001b[0m Trial 115 finished with value: 0.19929140215405453 and parameters: {'max_depth': 56, 'n_estimators': 769}. Best is trial 73 with value: 0.18987446034637026.\u001b[0m\n"
     ]
    },
    {
     "name": "stdout",
     "output_type": "stream",
     "text": [
      "The params that were optimized {'max_depth': 53, 'n_estimators': 685}\n"
     ]
    },
    {
     "name": "stderr",
     "output_type": "stream",
     "text": [
      "\u001b[32m[I 2021-07-06 20:03:03,821]\u001b[0m Trial 116 finished with value: 0.20068498799697493 and parameters: {'max_depth': 53, 'n_estimators': 685}. Best is trial 73 with value: 0.18987446034637026.\u001b[0m\n"
     ]
    },
    {
     "name": "stdout",
     "output_type": "stream",
     "text": [
      "The params that were optimized {'max_depth': 65, 'n_estimators': 766}\n"
     ]
    },
    {
     "name": "stderr",
     "output_type": "stream",
     "text": [
      "\u001b[32m[I 2021-07-06 20:03:08,362]\u001b[0m Trial 117 finished with value: 0.1962933278911062 and parameters: {'max_depth': 65, 'n_estimators': 766}. Best is trial 73 with value: 0.18987446034637026.\u001b[0m\n"
     ]
    },
    {
     "name": "stdout",
     "output_type": "stream",
     "text": [
      "The params that were optimized {'max_depth': 46, 'n_estimators': 433}\n"
     ]
    },
    {
     "name": "stderr",
     "output_type": "stream",
     "text": [
      "\u001b[32m[I 2021-07-06 20:03:11,015]\u001b[0m Trial 118 finished with value: 0.1997005269786471 and parameters: {'max_depth': 46, 'n_estimators': 433}. Best is trial 73 with value: 0.18987446034637026.\u001b[0m\n"
     ]
    },
    {
     "name": "stdout",
     "output_type": "stream",
     "text": [
      "The params that were optimized {'max_depth': 36, 'n_estimators': 649}\n"
     ]
    },
    {
     "name": "stderr",
     "output_type": "stream",
     "text": [
      "\u001b[32m[I 2021-07-06 20:03:14,945]\u001b[0m Trial 119 finished with value: 0.1942556904812186 and parameters: {'max_depth': 36, 'n_estimators': 649}. Best is trial 73 with value: 0.18987446034637026.\u001b[0m\n"
     ]
    },
    {
     "name": "stdout",
     "output_type": "stream",
     "text": [
      "The params that were optimized {'max_depth': 58, 'n_estimators': 550}\n"
     ]
    },
    {
     "name": "stderr",
     "output_type": "stream",
     "text": [
      "\u001b[32m[I 2021-07-06 20:03:18,326]\u001b[0m Trial 120 finished with value: 0.19592224500609634 and parameters: {'max_depth': 58, 'n_estimators': 550}. Best is trial 73 with value: 0.18987446034637026.\u001b[0m\n"
     ]
    },
    {
     "name": "stdout",
     "output_type": "stream",
     "text": [
      "The params that were optimized {'max_depth': 37, 'n_estimators': 668}\n"
     ]
    },
    {
     "name": "stderr",
     "output_type": "stream",
     "text": [
      "\u001b[32m[I 2021-07-06 20:03:22,348]\u001b[0m Trial 121 finished with value: 0.19517321367457352 and parameters: {'max_depth': 37, 'n_estimators': 668}. Best is trial 73 with value: 0.18987446034637026.\u001b[0m\n"
     ]
    },
    {
     "name": "stdout",
     "output_type": "stream",
     "text": [
      "The params that were optimized {'max_depth': 33, 'n_estimators': 606}\n"
     ]
    },
    {
     "name": "stderr",
     "output_type": "stream",
     "text": [
      "\u001b[32m[I 2021-07-06 20:03:25,997]\u001b[0m Trial 122 finished with value: 0.19596454044956269 and parameters: {'max_depth': 33, 'n_estimators': 606}. Best is trial 73 with value: 0.18987446034637026.\u001b[0m\n"
     ]
    },
    {
     "name": "stdout",
     "output_type": "stream",
     "text": [
      "The params that were optimized {'max_depth': 43, 'n_estimators': 657}\n"
     ]
    },
    {
     "name": "stderr",
     "output_type": "stream",
     "text": [
      "\u001b[32m[I 2021-07-06 20:03:30,017]\u001b[0m Trial 123 finished with value: 0.19611067494617485 and parameters: {'max_depth': 43, 'n_estimators': 657}. Best is trial 73 with value: 0.18987446034637026.\u001b[0m\n"
     ]
    },
    {
     "name": "stdout",
     "output_type": "stream",
     "text": [
      "The params that were optimized {'max_depth': 40, 'n_estimators': 730}\n"
     ]
    },
    {
     "name": "stderr",
     "output_type": "stream",
     "text": [
      "\u001b[32m[I 2021-07-06 20:03:34,359]\u001b[0m Trial 124 finished with value: 0.19499154781170944 and parameters: {'max_depth': 40, 'n_estimators': 730}. Best is trial 73 with value: 0.18987446034637026.\u001b[0m\n"
     ]
    },
    {
     "name": "stdout",
     "output_type": "stream",
     "text": [
      "The params that were optimized {'max_depth': 30, 'n_estimators': 568}\n"
     ]
    },
    {
     "name": "stderr",
     "output_type": "stream",
     "text": [
      "\u001b[32m[I 2021-07-06 20:03:37,774]\u001b[0m Trial 125 finished with value: 0.1949097289265395 and parameters: {'max_depth': 30, 'n_estimators': 568}. Best is trial 73 with value: 0.18987446034637026.\u001b[0m\n"
     ]
    },
    {
     "name": "stdout",
     "output_type": "stream",
     "text": [
      "The params that were optimized {'max_depth': 35, 'n_estimators': 378}\n"
     ]
    },
    {
     "name": "stderr",
     "output_type": "stream",
     "text": [
      "\u001b[32m[I 2021-07-06 20:03:40,112]\u001b[0m Trial 126 finished with value: 0.19563796358499294 and parameters: {'max_depth': 35, 'n_estimators': 378}. Best is trial 73 with value: 0.18987446034637026.\u001b[0m\n"
     ]
    },
    {
     "name": "stdout",
     "output_type": "stream",
     "text": [
      "The params that were optimized {'max_depth': 49, 'n_estimators': 775}\n"
     ]
    },
    {
     "name": "stderr",
     "output_type": "stream",
     "text": [
      "\u001b[32m[I 2021-07-06 20:03:44,717]\u001b[0m Trial 127 finished with value: 0.19711449111597398 and parameters: {'max_depth': 49, 'n_estimators': 775}. Best is trial 73 with value: 0.18987446034637026.\u001b[0m\n"
     ]
    },
    {
     "name": "stdout",
     "output_type": "stream",
     "text": [
      "The params that were optimized {'max_depth': 28, 'n_estimators': 512}\n"
     ]
    },
    {
     "name": "stderr",
     "output_type": "stream",
     "text": [
      "\u001b[32m[I 2021-07-06 20:03:47,885]\u001b[0m Trial 128 finished with value: 0.19604688125413813 and parameters: {'max_depth': 28, 'n_estimators': 512}. Best is trial 73 with value: 0.18987446034637026.\u001b[0m\n"
     ]
    },
    {
     "name": "stdout",
     "output_type": "stream",
     "text": [
      "The params that were optimized {'max_depth': 38, 'n_estimators': 860}\n"
     ]
    },
    {
     "name": "stderr",
     "output_type": "stream",
     "text": [
      "\u001b[32m[I 2021-07-06 20:03:52,965]\u001b[0m Trial 129 finished with value: 0.19378594311432448 and parameters: {'max_depth': 38, 'n_estimators': 860}. Best is trial 73 with value: 0.18987446034637026.\u001b[0m\n"
     ]
    },
    {
     "name": "stdout",
     "output_type": "stream",
     "text": [
      "The params that were optimized {'max_depth': 32, 'n_estimators': 874}\n"
     ]
    },
    {
     "name": "stderr",
     "output_type": "stream",
     "text": [
      "\u001b[32m[I 2021-07-06 20:03:58,107]\u001b[0m Trial 130 finished with value: 0.19252728480279044 and parameters: {'max_depth': 32, 'n_estimators': 874}. Best is trial 73 with value: 0.18987446034637026.\u001b[0m\n"
     ]
    },
    {
     "name": "stdout",
     "output_type": "stream",
     "text": [
      "The params that were optimized {'max_depth': 32, 'n_estimators': 877}\n"
     ]
    },
    {
     "name": "stderr",
     "output_type": "stream",
     "text": [
      "\u001b[32m[I 2021-07-06 20:04:03,305]\u001b[0m Trial 131 finished with value: 0.19417086995868735 and parameters: {'max_depth': 32, 'n_estimators': 877}. Best is trial 73 with value: 0.18987446034637026.\u001b[0m\n"
     ]
    },
    {
     "name": "stdout",
     "output_type": "stream",
     "text": [
      "The params that were optimized {'max_depth': 25, 'n_estimators': 809}\n"
     ]
    },
    {
     "name": "stderr",
     "output_type": "stream",
     "text": [
      "\u001b[32m[I 2021-07-06 20:04:08,125]\u001b[0m Trial 132 finished with value: 0.1993273354176236 and parameters: {'max_depth': 25, 'n_estimators': 809}. Best is trial 73 with value: 0.18987446034637026.\u001b[0m\n"
     ]
    },
    {
     "name": "stdout",
     "output_type": "stream",
     "text": [
      "The params that were optimized {'max_depth': 38, 'n_estimators': 825}\n"
     ]
    },
    {
     "name": "stderr",
     "output_type": "stream",
     "text": [
      "\u001b[32m[I 2021-07-06 20:04:12,995]\u001b[0m Trial 133 finished with value: 0.19585289410904244 and parameters: {'max_depth': 38, 'n_estimators': 825}. Best is trial 73 with value: 0.18987446034637026.\u001b[0m\n"
     ]
    },
    {
     "name": "stdout",
     "output_type": "stream",
     "text": [
      "The params that were optimized {'max_depth': 45, 'n_estimators': 861}\n"
     ]
    },
    {
     "name": "stderr",
     "output_type": "stream",
     "text": [
      "\u001b[32m[I 2021-07-06 20:04:18,143]\u001b[0m Trial 134 finished with value: 0.19334580577332722 and parameters: {'max_depth': 45, 'n_estimators': 861}. Best is trial 73 with value: 0.18987446034637026.\u001b[0m\n"
     ]
    },
    {
     "name": "stdout",
     "output_type": "stream",
     "text": [
      "The params that were optimized {'max_depth': 43, 'n_estimators': 897}\n"
     ]
    },
    {
     "name": "stderr",
     "output_type": "stream",
     "text": [
      "\u001b[32m[I 2021-07-06 20:04:23,406]\u001b[0m Trial 135 finished with value: 0.19700566066131442 and parameters: {'max_depth': 43, 'n_estimators': 897}. Best is trial 73 with value: 0.18987446034637026.\u001b[0m\n"
     ]
    },
    {
     "name": "stdout",
     "output_type": "stream",
     "text": [
      "The params that were optimized {'max_depth': 48, 'n_estimators': 862}\n"
     ]
    },
    {
     "name": "stderr",
     "output_type": "stream",
     "text": [
      "\u001b[32m[I 2021-07-06 20:04:28,494]\u001b[0m Trial 136 finished with value: 0.19532477697081252 and parameters: {'max_depth': 48, 'n_estimators': 862}. Best is trial 73 with value: 0.18987446034637026.\u001b[0m\n"
     ]
    },
    {
     "name": "stdout",
     "output_type": "stream",
     "text": [
      "The params that were optimized {'max_depth': 61, 'n_estimators': 790}\n"
     ]
    },
    {
     "name": "stderr",
     "output_type": "stream",
     "text": [
      "\u001b[32m[I 2021-07-06 20:04:33,187]\u001b[0m Trial 137 finished with value: 0.19646505754962715 and parameters: {'max_depth': 61, 'n_estimators': 790}. Best is trial 73 with value: 0.18987446034637026.\u001b[0m\n"
     ]
    },
    {
     "name": "stdout",
     "output_type": "stream",
     "text": [
      "The params that were optimized {'max_depth': 53, 'n_estimators': 724}\n"
     ]
    },
    {
     "name": "stderr",
     "output_type": "stream",
     "text": [
      "\u001b[32m[I 2021-07-06 20:04:37,553]\u001b[0m Trial 138 finished with value: 0.1945345424270746 and parameters: {'max_depth': 53, 'n_estimators': 724}. Best is trial 73 with value: 0.18987446034637026.\u001b[0m\n"
     ]
    },
    {
     "name": "stdout",
     "output_type": "stream",
     "text": [
      "The params that were optimized {'max_depth': 41, 'n_estimators': 754}\n"
     ]
    },
    {
     "name": "stderr",
     "output_type": "stream",
     "text": [
      "\u001b[32m[I 2021-07-06 20:04:42,106]\u001b[0m Trial 139 finished with value: 0.19751997886724898 and parameters: {'max_depth': 41, 'n_estimators': 754}. Best is trial 73 with value: 0.18987446034637026.\u001b[0m\n"
     ]
    },
    {
     "name": "stdout",
     "output_type": "stream",
     "text": [
      "The params that were optimized {'max_depth': 29, 'n_estimators': 840}\n"
     ]
    },
    {
     "name": "stderr",
     "output_type": "stream",
     "text": [
      "\u001b[32m[I 2021-07-06 20:04:47,080]\u001b[0m Trial 140 finished with value: 0.19485035704189133 and parameters: {'max_depth': 29, 'n_estimators': 840}. Best is trial 73 with value: 0.18987446034637026.\u001b[0m\n"
     ]
    },
    {
     "name": "stdout",
     "output_type": "stream",
     "text": [
      "The params that were optimized {'max_depth': 33, 'n_estimators': 896}\n"
     ]
    },
    {
     "name": "stderr",
     "output_type": "stream",
     "text": [
      "\u001b[32m[I 2021-07-06 20:04:52,350]\u001b[0m Trial 141 finished with value: 0.19835548893870225 and parameters: {'max_depth': 33, 'n_estimators': 896}. Best is trial 73 with value: 0.18987446034637026.\u001b[0m\n"
     ]
    },
    {
     "name": "stdout",
     "output_type": "stream",
     "text": [
      "The params that were optimized {'max_depth': 46, 'n_estimators': 793}\n"
     ]
    },
    {
     "name": "stderr",
     "output_type": "stream",
     "text": [
      "\u001b[32m[I 2021-07-06 20:04:57,123]\u001b[0m Trial 142 finished with value: 0.19397461595477228 and parameters: {'max_depth': 46, 'n_estimators': 793}. Best is trial 73 with value: 0.18987446034637026.\u001b[0m\n"
     ]
    },
    {
     "name": "stdout",
     "output_type": "stream",
     "text": [
      "The params that were optimized {'max_depth': 46, 'n_estimators': 809}\n"
     ]
    },
    {
     "name": "stderr",
     "output_type": "stream",
     "text": [
      "\u001b[32m[I 2021-07-06 20:05:01,905]\u001b[0m Trial 143 finished with value: 0.19594857760381262 and parameters: {'max_depth': 46, 'n_estimators': 809}. Best is trial 73 with value: 0.18987446034637026.\u001b[0m\n"
     ]
    },
    {
     "name": "stdout",
     "output_type": "stream",
     "text": [
      "The params that were optimized {'max_depth': 55, 'n_estimators': 694}\n"
     ]
    },
    {
     "name": "stderr",
     "output_type": "stream",
     "text": [
      "\u001b[32m[I 2021-07-06 20:05:05,954]\u001b[0m Trial 144 finished with value: 0.19442583592050416 and parameters: {'max_depth': 55, 'n_estimators': 694}. Best is trial 73 with value: 0.18987446034637026.\u001b[0m\n"
     ]
    },
    {
     "name": "stdout",
     "output_type": "stream",
     "text": [
      "The params that were optimized {'max_depth': 44, 'n_estimators': 747}\n"
     ]
    },
    {
     "name": "stderr",
     "output_type": "stream",
     "text": [
      "\u001b[32m[I 2021-07-06 20:05:10,711]\u001b[0m Trial 145 finished with value: 0.19628354197962625 and parameters: {'max_depth': 44, 'n_estimators': 747}. Best is trial 73 with value: 0.18987446034637026.\u001b[0m\n"
     ]
    },
    {
     "name": "stdout",
     "output_type": "stream",
     "text": [
      "The params that were optimized {'max_depth': 65, 'n_estimators': 846}\n"
     ]
    },
    {
     "name": "stderr",
     "output_type": "stream",
     "text": [
      "\u001b[32m[I 2021-07-06 20:05:15,733]\u001b[0m Trial 146 finished with value: 0.1996269767828579 and parameters: {'max_depth': 65, 'n_estimators': 846}. Best is trial 73 with value: 0.18987446034637026.\u001b[0m\n"
     ]
    },
    {
     "name": "stdout",
     "output_type": "stream",
     "text": [
      "The params that were optimized {'max_depth': 7, 'n_estimators': 420}\n"
     ]
    },
    {
     "name": "stderr",
     "output_type": "stream",
     "text": [
      "\u001b[32m[I 2021-07-06 20:05:17,983]\u001b[0m Trial 147 finished with value: 0.23965792407772396 and parameters: {'max_depth': 7, 'n_estimators': 420}. Best is trial 73 with value: 0.18987446034637026.\u001b[0m\n"
     ]
    },
    {
     "name": "stdout",
     "output_type": "stream",
     "text": [
      "The params that were optimized {'max_depth': 38, 'n_estimators': 780}\n"
     ]
    },
    {
     "name": "stderr",
     "output_type": "stream",
     "text": [
      "\u001b[32m[I 2021-07-06 20:05:22,681]\u001b[0m Trial 148 finished with value: 0.19895270122818348 and parameters: {'max_depth': 38, 'n_estimators': 780}. Best is trial 73 with value: 0.18987446034637026.\u001b[0m\n"
     ]
    },
    {
     "name": "stdout",
     "output_type": "stream",
     "text": [
      "The params that were optimized {'max_depth': 51, 'n_estimators': 592}\n"
     ]
    },
    {
     "name": "stderr",
     "output_type": "stream",
     "text": [
      "\u001b[32m[I 2021-07-06 20:05:26,295]\u001b[0m Trial 149 finished with value: 0.19853477350549995 and parameters: {'max_depth': 51, 'n_estimators': 592}. Best is trial 73 with value: 0.18987446034637026.\u001b[0m\n"
     ]
    },
    {
     "name": "stdout",
     "output_type": "stream",
     "text": [
      "The params that were optimized {'max_depth': 27, 'n_estimators': 877}\n"
     ]
    },
    {
     "name": "stderr",
     "output_type": "stream",
     "text": [
      "\u001b[32m[I 2021-07-06 20:05:31,482]\u001b[0m Trial 150 finished with value: 0.19515409245215598 and parameters: {'max_depth': 27, 'n_estimators': 877}. Best is trial 73 with value: 0.18987446034637026.\u001b[0m\n"
     ]
    },
    {
     "name": "stdout",
     "output_type": "stream",
     "text": [
      "The params that were optimized {'max_depth': 34, 'n_estimators': 163}\n"
     ]
    },
    {
     "name": "stderr",
     "output_type": "stream",
     "text": [
      "\u001b[32m[I 2021-07-06 20:05:32,686]\u001b[0m Trial 151 finished with value: 0.19539146179368014 and parameters: {'max_depth': 34, 'n_estimators': 163}. Best is trial 73 with value: 0.18987446034637026.\u001b[0m\n"
     ]
    },
    {
     "name": "stdout",
     "output_type": "stream",
     "text": [
      "The params that were optimized {'max_depth': 31, 'n_estimators': 150}\n"
     ]
    },
    {
     "name": "stderr",
     "output_type": "stream",
     "text": [
      "\u001b[32m[I 2021-07-06 20:05:33,807]\u001b[0m Trial 152 finished with value: 0.20120538582447792 and parameters: {'max_depth': 31, 'n_estimators': 150}. Best is trial 73 with value: 0.18987446034637026.\u001b[0m\n"
     ]
    },
    {
     "name": "stdout",
     "output_type": "stream",
     "text": [
      "The params that were optimized {'max_depth': 36, 'n_estimators': 357}\n"
     ]
    },
    {
     "name": "stderr",
     "output_type": "stream",
     "text": [
      "\u001b[32m[I 2021-07-06 20:05:36,091]\u001b[0m Trial 153 finished with value: 0.1938598604701952 and parameters: {'max_depth': 36, 'n_estimators': 357}. Best is trial 73 with value: 0.18987446034637026.\u001b[0m\n"
     ]
    },
    {
     "name": "stdout",
     "output_type": "stream",
     "text": [
      "The params that were optimized {'max_depth': 41, 'n_estimators': 493}\n"
     ]
    },
    {
     "name": "stderr",
     "output_type": "stream",
     "text": [
      "\u001b[32m[I 2021-07-06 20:05:39,129]\u001b[0m Trial 154 finished with value: 0.19592205188833767 and parameters: {'max_depth': 41, 'n_estimators': 493}. Best is trial 73 with value: 0.18987446034637026.\u001b[0m\n"
     ]
    },
    {
     "name": "stdout",
     "output_type": "stream",
     "text": [
      "The params that were optimized {'max_depth': 35, 'n_estimators': 338}\n"
     ]
    },
    {
     "name": "stderr",
     "output_type": "stream",
     "text": [
      "\u001b[32m[I 2021-07-06 20:05:41,328]\u001b[0m Trial 155 finished with value: 0.19592377548817688 and parameters: {'max_depth': 35, 'n_estimators': 338}. Best is trial 73 with value: 0.18987446034637026.\u001b[0m\n"
     ]
    },
    {
     "name": "stdout",
     "output_type": "stream",
     "text": [
      "The params that were optimized {'max_depth': 24, 'n_estimators': 356}\n"
     ]
    },
    {
     "name": "stderr",
     "output_type": "stream",
     "text": [
      "\u001b[32m[I 2021-07-06 20:05:43,597]\u001b[0m Trial 156 finished with value: 0.19622819726370808 and parameters: {'max_depth': 24, 'n_estimators': 356}. Best is trial 73 with value: 0.18987446034637026.\u001b[0m\n"
     ]
    },
    {
     "name": "stdout",
     "output_type": "stream",
     "text": [
      "The params that were optimized {'max_depth': 38, 'n_estimators': 301}\n"
     ]
    },
    {
     "name": "stderr",
     "output_type": "stream",
     "text": [
      "\u001b[32m[I 2021-07-06 20:05:45,598]\u001b[0m Trial 157 finished with value: 0.20556486488419326 and parameters: {'max_depth': 38, 'n_estimators': 301}. Best is trial 73 with value: 0.18987446034637026.\u001b[0m\n"
     ]
    },
    {
     "name": "stdout",
     "output_type": "stream",
     "text": [
      "The params that were optimized {'max_depth': 48, 'n_estimators': 405}\n"
     ]
    },
    {
     "name": "stderr",
     "output_type": "stream",
     "text": [
      "\u001b[32m[I 2021-07-06 20:05:48,130]\u001b[0m Trial 158 finished with value: 0.1994450967649288 and parameters: {'max_depth': 48, 'n_estimators': 405}. Best is trial 73 with value: 0.18987446034637026.\u001b[0m\n"
     ]
    },
    {
     "name": "stdout",
     "output_type": "stream",
     "text": [
      "The params that were optimized {'max_depth': 58, 'n_estimators': 460}\n"
     ]
    },
    {
     "name": "stderr",
     "output_type": "stream",
     "text": [
      "\u001b[32m[I 2021-07-06 20:05:50,994]\u001b[0m Trial 159 finished with value: 0.19732455780952166 and parameters: {'max_depth': 58, 'n_estimators': 460}. Best is trial 73 with value: 0.18987446034637026.\u001b[0m\n"
     ]
    },
    {
     "name": "stdout",
     "output_type": "stream",
     "text": [
      "The params that were optimized {'max_depth': 10, 'n_estimators': 791}\n"
     ]
    },
    {
     "name": "stderr",
     "output_type": "stream",
     "text": [
      "\u001b[32m[I 2021-07-06 20:05:55,477]\u001b[0m Trial 160 finished with value: 0.20135665711499018 and parameters: {'max_depth': 10, 'n_estimators': 791}. Best is trial 73 with value: 0.18987446034637026.\u001b[0m\n"
     ]
    },
    {
     "name": "stdout",
     "output_type": "stream",
     "text": [
      "The params that were optimized {'max_depth': 31, 'n_estimators': 519}\n"
     ]
    },
    {
     "name": "stderr",
     "output_type": "stream",
     "text": [
      "\u001b[32m[I 2021-07-06 20:05:58,647]\u001b[0m Trial 161 finished with value: 0.19990922648201137 and parameters: {'max_depth': 31, 'n_estimators': 519}. Best is trial 73 with value: 0.18987446034637026.\u001b[0m\n"
     ]
    },
    {
     "name": "stdout",
     "output_type": "stream",
     "text": [
      "The params that were optimized {'max_depth': 44, 'n_estimators': 713}\n"
     ]
    },
    {
     "name": "stderr",
     "output_type": "stream",
     "text": [
      "\u001b[32m[I 2021-07-06 20:06:02,988]\u001b[0m Trial 162 finished with value: 0.20243712323426596 and parameters: {'max_depth': 44, 'n_estimators': 713}. Best is trial 73 with value: 0.18987446034637026.\u001b[0m\n"
     ]
    },
    {
     "name": "stdout",
     "output_type": "stream",
     "text": [
      "The params that were optimized {'max_depth': 36, 'n_estimators': 156}\n"
     ]
    },
    {
     "name": "stderr",
     "output_type": "stream",
     "text": [
      "\u001b[32m[I 2021-07-06 20:06:04,122]\u001b[0m Trial 163 finished with value: 0.19932990122091226 and parameters: {'max_depth': 36, 'n_estimators': 156}. Best is trial 73 with value: 0.18987446034637026.\u001b[0m\n"
     ]
    },
    {
     "name": "stdout",
     "output_type": "stream",
     "text": [
      "The params that were optimized {'max_depth': 40, 'n_estimators': 319}\n"
     ]
    },
    {
     "name": "stderr",
     "output_type": "stream",
     "text": [
      "\u001b[32m[I 2021-07-06 20:06:06,158]\u001b[0m Trial 164 finished with value: 0.1993106890912931 and parameters: {'max_depth': 40, 'n_estimators': 319}. Best is trial 73 with value: 0.18987446034637026.\u001b[0m\n"
     ]
    },
    {
     "name": "stdout",
     "output_type": "stream",
     "text": [
      "The params that were optimized {'max_depth': 34, 'n_estimators': 829}\n"
     ]
    },
    {
     "name": "stderr",
     "output_type": "stream",
     "text": [
      "\u001b[32m[I 2021-07-06 20:06:11,002]\u001b[0m Trial 165 finished with value: 0.19777370838442784 and parameters: {'max_depth': 34, 'n_estimators': 829}. Best is trial 73 with value: 0.18987446034637026.\u001b[0m\n"
     ]
    },
    {
     "name": "stdout",
     "output_type": "stream",
     "text": [
      "The params that were optimized {'max_depth': 47, 'n_estimators': 135}\n"
     ]
    },
    {
     "name": "stderr",
     "output_type": "stream",
     "text": [
      "\u001b[32m[I 2021-07-06 20:06:11,995]\u001b[0m Trial 166 finished with value: 0.20891707574231383 and parameters: {'max_depth': 47, 'n_estimators': 135}. Best is trial 73 with value: 0.18987446034637026.\u001b[0m\n"
     ]
    },
    {
     "name": "stdout",
     "output_type": "stream",
     "text": [
      "The params that were optimized {'max_depth': 29, 'n_estimators': 900}\n"
     ]
    },
    {
     "name": "stderr",
     "output_type": "stream",
     "text": [
      "\u001b[32m[I 2021-07-06 20:06:17,254]\u001b[0m Trial 167 finished with value: 0.19349130365609246 and parameters: {'max_depth': 29, 'n_estimators': 900}. Best is trial 73 with value: 0.18987446034637026.\u001b[0m\n"
     ]
    },
    {
     "name": "stdout",
     "output_type": "stream",
     "text": [
      "The params that were optimized {'max_depth': 27, 'n_estimators': 893}\n"
     ]
    },
    {
     "name": "stderr",
     "output_type": "stream",
     "text": [
      "\u001b[32m[I 2021-07-06 20:06:22,513]\u001b[0m Trial 168 finished with value: 0.1978993644107285 and parameters: {'max_depth': 27, 'n_estimators': 893}. Best is trial 73 with value: 0.18987446034637026.\u001b[0m\n"
     ]
    },
    {
     "name": "stdout",
     "output_type": "stream",
     "text": [
      "The params that were optimized {'max_depth': 30, 'n_estimators': 851}\n"
     ]
    },
    {
     "name": "stderr",
     "output_type": "stream",
     "text": [
      "\u001b[32m[I 2021-07-06 20:06:27,539]\u001b[0m Trial 169 finished with value: 0.19865952411505908 and parameters: {'max_depth': 30, 'n_estimators': 851}. Best is trial 73 with value: 0.18987446034637026.\u001b[0m\n"
     ]
    },
    {
     "name": "stdout",
     "output_type": "stream",
     "text": [
      "The params that were optimized {'max_depth': 23, 'n_estimators': 747}\n"
     ]
    },
    {
     "name": "stderr",
     "output_type": "stream",
     "text": [
      "\u001b[32m[I 2021-07-06 20:06:31,987]\u001b[0m Trial 170 finished with value: 0.1951862240549227 and parameters: {'max_depth': 23, 'n_estimators': 747}. Best is trial 73 with value: 0.18987446034637026.\u001b[0m\n"
     ]
    },
    {
     "name": "stdout",
     "output_type": "stream",
     "text": [
      "The params that were optimized {'max_depth': 32, 'n_estimators': 168}\n"
     ]
    },
    {
     "name": "stderr",
     "output_type": "stream",
     "text": [
      "\u001b[32m[I 2021-07-06 20:06:33,202]\u001b[0m Trial 171 finished with value: 0.19893099526382696 and parameters: {'max_depth': 32, 'n_estimators': 168}. Best is trial 73 with value: 0.18987446034637026.\u001b[0m\n"
     ]
    },
    {
     "name": "stdout",
     "output_type": "stream",
     "text": [
      "The params that were optimized {'max_depth': 29, 'n_estimators': 807}\n"
     ]
    },
    {
     "name": "stderr",
     "output_type": "stream",
     "text": [
      "\u001b[32m[I 2021-07-06 20:06:37,945]\u001b[0m Trial 172 finished with value: 0.19803352264758498 and parameters: {'max_depth': 29, 'n_estimators': 807}. Best is trial 73 with value: 0.18987446034637026.\u001b[0m\n"
     ]
    },
    {
     "name": "stdout",
     "output_type": "stream",
     "text": [
      "The params that were optimized {'max_depth': 38, 'n_estimators': 899}\n"
     ]
    },
    {
     "name": "stderr",
     "output_type": "stream",
     "text": [
      "\u001b[32m[I 2021-07-06 20:06:43,227]\u001b[0m Trial 173 finished with value: 0.19446435667784476 and parameters: {'max_depth': 38, 'n_estimators': 899}. Best is trial 73 with value: 0.18987446034637026.\u001b[0m\n"
     ]
    },
    {
     "name": "stdout",
     "output_type": "stream",
     "text": [
      "The params that were optimized {'max_depth': 42, 'n_estimators': 375}\n"
     ]
    },
    {
     "name": "stderr",
     "output_type": "stream",
     "text": [
      "\u001b[32m[I 2021-07-06 20:06:45,617]\u001b[0m Trial 174 finished with value: 0.1958253697560604 and parameters: {'max_depth': 42, 'n_estimators': 375}. Best is trial 73 with value: 0.18987446034637026.\u001b[0m\n"
     ]
    },
    {
     "name": "stdout",
     "output_type": "stream",
     "text": [
      "The params that were optimized {'max_depth': 36, 'n_estimators': 143}\n"
     ]
    },
    {
     "name": "stderr",
     "output_type": "stream",
     "text": [
      "\u001b[32m[I 2021-07-06 20:06:46,701]\u001b[0m Trial 175 finished with value: 0.20145066519238955 and parameters: {'max_depth': 36, 'n_estimators': 143}. Best is trial 73 with value: 0.18987446034637026.\u001b[0m\n"
     ]
    },
    {
     "name": "stdout",
     "output_type": "stream",
     "text": [
      "The params that were optimized {'max_depth': 25, 'n_estimators': 675}\n"
     ]
    },
    {
     "name": "stderr",
     "output_type": "stream",
     "text": [
      "\u001b[32m[I 2021-07-06 20:06:50,799]\u001b[0m Trial 176 finished with value: 0.19616902272681802 and parameters: {'max_depth': 25, 'n_estimators': 675}. Best is trial 73 with value: 0.18987446034637026.\u001b[0m\n"
     ]
    },
    {
     "name": "stdout",
     "output_type": "stream",
     "text": [
      "The params that were optimized {'max_depth': 51, 'n_estimators': 867}\n"
     ]
    },
    {
     "name": "stderr",
     "output_type": "stream",
     "text": [
      "\u001b[32m[I 2021-07-06 20:06:55,919]\u001b[0m Trial 177 finished with value: 0.19751535612774926 and parameters: {'max_depth': 51, 'n_estimators': 867}. Best is trial 73 with value: 0.18987446034637026.\u001b[0m\n"
     ]
    },
    {
     "name": "stdout",
     "output_type": "stream",
     "text": [
      "The params that were optimized {'max_depth': 32, 'n_estimators': 175}\n"
     ]
    },
    {
     "name": "stderr",
     "output_type": "stream",
     "text": [
      "\u001b[32m[I 2021-07-06 20:06:57,213]\u001b[0m Trial 178 finished with value: 0.19407963485591442 and parameters: {'max_depth': 32, 'n_estimators': 175}. Best is trial 73 with value: 0.18987446034637026.\u001b[0m\n"
     ]
    },
    {
     "name": "stdout",
     "output_type": "stream",
     "text": [
      "The params that were optimized {'max_depth': 28, 'n_estimators': 173}\n"
     ]
    },
    {
     "name": "stderr",
     "output_type": "stream",
     "text": [
      "\u001b[32m[I 2021-07-06 20:06:58,464]\u001b[0m Trial 179 finished with value: 0.20233974607180844 and parameters: {'max_depth': 28, 'n_estimators': 173}. Best is trial 73 with value: 0.18987446034637026.\u001b[0m\n"
     ]
    },
    {
     "name": "stdout",
     "output_type": "stream",
     "text": [
      "The params that were optimized {'max_depth': 12, 'n_estimators': 564}\n"
     ]
    },
    {
     "name": "stderr",
     "output_type": "stream",
     "text": [
      "\u001b[32m[I 2021-07-06 20:07:01,825]\u001b[0m Trial 180 finished with value: 0.19884453022943716 and parameters: {'max_depth': 12, 'n_estimators': 564}. Best is trial 73 with value: 0.18987446034637026.\u001b[0m\n"
     ]
    },
    {
     "name": "stdout",
     "output_type": "stream",
     "text": [
      "The params that were optimized {'max_depth': 33, 'n_estimators': 158}\n"
     ]
    },
    {
     "name": "stderr",
     "output_type": "stream",
     "text": [
      "\u001b[32m[I 2021-07-06 20:07:03,019]\u001b[0m Trial 181 finished with value: 0.2017415098149782 and parameters: {'max_depth': 33, 'n_estimators': 158}. Best is trial 73 with value: 0.18987446034637026.\u001b[0m\n"
     ]
    },
    {
     "name": "stdout",
     "output_type": "stream",
     "text": [
      "The params that were optimized {'max_depth': 31, 'n_estimators': 825}\n"
     ]
    },
    {
     "name": "stderr",
     "output_type": "stream",
     "text": [
      "\u001b[32m[I 2021-07-06 20:07:07,951]\u001b[0m Trial 182 finished with value: 0.1987839517640978 and parameters: {'max_depth': 31, 'n_estimators': 825}. Best is trial 73 with value: 0.18987446034637026.\u001b[0m\n"
     ]
    },
    {
     "name": "stdout",
     "output_type": "stream",
     "text": [
      "The params that were optimized {'max_depth': 39, 'n_estimators': 179}\n"
     ]
    },
    {
     "name": "stderr",
     "output_type": "stream",
     "text": [
      "\u001b[32m[I 2021-07-06 20:07:09,229]\u001b[0m Trial 183 finished with value: 0.19971062612841045 and parameters: {'max_depth': 39, 'n_estimators': 179}. Best is trial 73 with value: 0.18987446034637026.\u001b[0m\n"
     ]
    },
    {
     "name": "stdout",
     "output_type": "stream",
     "text": [
      "The params that were optimized {'max_depth': 35, 'n_estimators': 166}\n"
     ]
    },
    {
     "name": "stderr",
     "output_type": "stream",
     "text": [
      "\u001b[32m[I 2021-07-06 20:07:10,392]\u001b[0m Trial 184 finished with value: 0.20314468397591293 and parameters: {'max_depth': 35, 'n_estimators': 166}. Best is trial 73 with value: 0.18987446034637026.\u001b[0m\n"
     ]
    },
    {
     "name": "stdout",
     "output_type": "stream",
     "text": [
      "The params that were optimized {'max_depth': 43, 'n_estimators': 784}\n"
     ]
    },
    {
     "name": "stderr",
     "output_type": "stream",
     "text": [
      "\u001b[32m[I 2021-07-06 20:07:15,035]\u001b[0m Trial 185 finished with value: 0.19372155213471154 and parameters: {'max_depth': 43, 'n_estimators': 784}. Best is trial 73 with value: 0.18987446034637026.\u001b[0m\n"
     ]
    },
    {
     "name": "stdout",
     "output_type": "stream",
     "text": [
      "The params that were optimized {'max_depth': 42, 'n_estimators': 782}\n"
     ]
    },
    {
     "name": "stderr",
     "output_type": "stream",
     "text": [
      "\u001b[32m[I 2021-07-06 20:07:19,698]\u001b[0m Trial 186 finished with value: 0.19625741608703293 and parameters: {'max_depth': 42, 'n_estimators': 782}. Best is trial 73 with value: 0.18987446034637026.\u001b[0m\n"
     ]
    },
    {
     "name": "stdout",
     "output_type": "stream",
     "text": [
      "The params that were optimized {'max_depth': 53, 'n_estimators': 758}\n"
     ]
    },
    {
     "name": "stderr",
     "output_type": "stream",
     "text": [
      "\u001b[32m[I 2021-07-06 20:07:24,196]\u001b[0m Trial 187 finished with value: 0.19543813062772525 and parameters: {'max_depth': 53, 'n_estimators': 758}. Best is trial 73 with value: 0.18987446034637026.\u001b[0m\n"
     ]
    },
    {
     "name": "stdout",
     "output_type": "stream",
     "text": [
      "The params that were optimized {'max_depth': 45, 'n_estimators': 857}\n"
     ]
    },
    {
     "name": "stderr",
     "output_type": "stream",
     "text": [
      "\u001b[32m[I 2021-07-06 20:07:29,311]\u001b[0m Trial 188 finished with value: 0.19663950298070917 and parameters: {'max_depth': 45, 'n_estimators': 857}. Best is trial 73 with value: 0.18987446034637026.\u001b[0m\n"
     ]
    },
    {
     "name": "stdout",
     "output_type": "stream",
     "text": [
      "The params that were optimized {'max_depth': 4, 'n_estimators': 615}\n"
     ]
    },
    {
     "name": "stderr",
     "output_type": "stream",
     "text": [
      "\u001b[32m[I 2021-07-06 20:07:31,611]\u001b[0m Trial 189 finished with value: 0.5118369393911788 and parameters: {'max_depth': 4, 'n_estimators': 615}. Best is trial 73 with value: 0.18987446034637026.\u001b[0m\n"
     ]
    },
    {
     "name": "stdout",
     "output_type": "stream",
     "text": [
      "The params that were optimized {'max_depth': 60, 'n_estimators': 799}\n"
     ]
    },
    {
     "name": "stderr",
     "output_type": "stream",
     "text": [
      "\u001b[32m[I 2021-07-06 20:07:36,243]\u001b[0m Trial 190 finished with value: 0.1944682800918371 and parameters: {'max_depth': 60, 'n_estimators': 799}. Best is trial 73 with value: 0.18987446034637026.\u001b[0m\n"
     ]
    },
    {
     "name": "stdout",
     "output_type": "stream",
     "text": [
      "The params that were optimized {'max_depth': 37, 'n_estimators': 153}\n"
     ]
    },
    {
     "name": "stderr",
     "output_type": "stream",
     "text": [
      "\u001b[32m[I 2021-07-06 20:07:37,357]\u001b[0m Trial 191 finished with value: 0.1933164708418598 and parameters: {'max_depth': 37, 'n_estimators': 153}. Best is trial 73 with value: 0.18987446034637026.\u001b[0m\n"
     ]
    },
    {
     "name": "stdout",
     "output_type": "stream",
     "text": [
      "The params that were optimized {'max_depth': 32, 'n_estimators': 732}\n"
     ]
    },
    {
     "name": "stderr",
     "output_type": "stream",
     "text": [
      "\u001b[32m[I 2021-07-06 20:07:41,717]\u001b[0m Trial 192 finished with value: 0.19596803711597172 and parameters: {'max_depth': 32, 'n_estimators': 732}. Best is trial 73 with value: 0.18987446034637026.\u001b[0m\n"
     ]
    },
    {
     "name": "stdout",
     "output_type": "stream",
     "text": [
      "The params that were optimized {'max_depth': 40, 'n_estimators': 152}\n"
     ]
    },
    {
     "name": "stderr",
     "output_type": "stream",
     "text": [
      "\u001b[32m[I 2021-07-06 20:07:42,907]\u001b[0m Trial 193 finished with value: 0.19187057169581842 and parameters: {'max_depth': 40, 'n_estimators': 152}. Best is trial 73 with value: 0.18987446034637026.\u001b[0m\n"
     ]
    },
    {
     "name": "stdout",
     "output_type": "stream",
     "text": [
      "The params that were optimized {'max_depth': 41, 'n_estimators': 150}\n"
     ]
    },
    {
     "name": "stderr",
     "output_type": "stream",
     "text": [
      "\u001b[32m[I 2021-07-06 20:07:44,023]\u001b[0m Trial 194 finished with value: 0.19531306243423627 and parameters: {'max_depth': 41, 'n_estimators': 150}. Best is trial 73 with value: 0.18987446034637026.\u001b[0m\n"
     ]
    },
    {
     "name": "stdout",
     "output_type": "stream",
     "text": [
      "The params that were optimized {'max_depth': 47, 'n_estimators': 140}\n"
     ]
    },
    {
     "name": "stderr",
     "output_type": "stream",
     "text": [
      "\u001b[32m[I 2021-07-06 20:07:45,084]\u001b[0m Trial 195 finished with value: 0.19753532606172097 and parameters: {'max_depth': 47, 'n_estimators': 140}. Best is trial 73 with value: 0.18987446034637026.\u001b[0m\n"
     ]
    },
    {
     "name": "stdout",
     "output_type": "stream",
     "text": [
      "The params that were optimized {'max_depth': 38, 'n_estimators': 828}\n"
     ]
    },
    {
     "name": "stderr",
     "output_type": "stream",
     "text": [
      "\u001b[32m[I 2021-07-06 20:07:50,015]\u001b[0m Trial 196 finished with value: 0.19684632344694547 and parameters: {'max_depth': 38, 'n_estimators': 828}. Best is trial 73 with value: 0.18987446034637026.\u001b[0m\n"
     ]
    },
    {
     "name": "stdout",
     "output_type": "stream",
     "text": [
      "The params that were optimized {'max_depth': 43, 'n_estimators': 696}\n"
     ]
    },
    {
     "name": "stderr",
     "output_type": "stream",
     "text": [
      "\u001b[32m[I 2021-07-06 20:07:54,225]\u001b[0m Trial 197 finished with value: 0.19359545585364546 and parameters: {'max_depth': 43, 'n_estimators': 696}. Best is trial 73 with value: 0.18987446034637026.\u001b[0m\n"
     ]
    },
    {
     "name": "stdout",
     "output_type": "stream",
     "text": [
      "The params that were optimized {'max_depth': 36, 'n_estimators': 716}\n"
     ]
    },
    {
     "name": "stderr",
     "output_type": "stream",
     "text": [
      "\u001b[32m[I 2021-07-06 20:07:58,538]\u001b[0m Trial 198 finished with value: 0.19567377228169272 and parameters: {'max_depth': 36, 'n_estimators': 716}. Best is trial 73 with value: 0.18987446034637026.\u001b[0m\n"
     ]
    },
    {
     "name": "stdout",
     "output_type": "stream",
     "text": [
      "The params that were optimized {'max_depth': 43, 'n_estimators': 652}\n"
     ]
    },
    {
     "name": "stderr",
     "output_type": "stream",
     "text": [
      "\u001b[32m[I 2021-07-06 20:08:02,509]\u001b[0m Trial 199 finished with value: 0.19666921827248063 and parameters: {'max_depth': 43, 'n_estimators': 652}. Best is trial 73 with value: 0.18987446034637026.\u001b[0m\n"
     ]
    }
   ],
   "source": [
    "best_param_for_rf_unirep = evotune_rf( train_unirep,train_target, rf_max_depth_kwargs, rf_n_estimator_kwargs,n_trials = 200)"
   ]
  },
  {
   "cell_type": "code",
   "execution_count": 46,
   "metadata": {},
   "outputs": [
    {
     "data": {
      "text/plain": [
       "({'max_depth': 50, 'n_estimators': 378},\n",
       " {'max_depth': 18, 'n_estimators': 193})"
      ]
     },
     "execution_count": 46,
     "metadata": {},
     "output_type": "execute_result"
    }
   ],
   "source": [
    "best_param_for_rf_oh, best_param_for_rf_unirep"
   ]
  },
  {
   "cell_type": "code",
   "execution_count": null,
   "metadata": {},
   "outputs": [],
   "source": []
  },
  {
   "cell_type": "markdown",
   "metadata": {},
   "source": [
    "## start training all models"
   ]
  },
  {
   "cell_type": "code",
   "execution_count": 47,
   "metadata": {},
   "outputs": [],
   "source": [
    "rf_models =  {\n",
    "    \"rf_oh\": RandomForestRegressor(**best_param_for_rf_oh), # unpack dict of \n",
    "    \"rf_unirep\": RandomForestRegressor(**best_param_for_rf_unirep)\n",
    "}"
   ]
  },
  {
   "cell_type": "code",
   "execution_count": 48,
   "metadata": {},
   "outputs": [],
   "source": [
    "model_rfoh = rf_models['rf_oh'].fit(train_oh, train_target)\n",
    "model_rf_unirep = rf_models['rf_unirep'].fit(train_unirep, train_target)\n"
   ]
  },
  {
   "cell_type": "markdown",
   "metadata": {},
   "source": []
  },
  {
   "cell_type": "code",
   "execution_count": null,
   "metadata": {},
   "outputs": [],
   "source": []
  },
  {
   "cell_type": "markdown",
   "metadata": {},
   "source": [
    "## Baseline Model Performance"
   ]
  },
  {
   "cell_type": "markdown",
   "metadata": {},
   "source": [
    "#### linear models"
   ]
  },
  {
   "cell_type": "code",
   "execution_count": 49,
   "metadata": {},
   "outputs": [
    {
     "data": {
      "image/png": "[encoded data removed]",
      "text/plain": [
       "<Figure size 720x360 with 2 Axes>"
      ]
     },
     "metadata": {
      "needs_background": "light"
     },
     "output_type": "display_data"
    },
    {
     "data": {
      "image/png": "[encoded data removed]",
      "text/plain": [
       "<Figure size 720x360 with 2 Axes>"
      ]
     },
     "metadata": {
      "needs_background": "light"
     },
     "output_type": "display_data"
    },
    {
     "data": {
      "image/png": "[encoded data removed]",
      "text/plain": [
       "<Figure size 720x360 with 2 Axes>"
      ]
     },
     "metadata": {
      "needs_background": "light"
     },
     "output_type": "display_data"
    }
   ],
   "source": [
    "plot_performance(sasa_linear,linear_models['sasa'], train_target, linear_models['sasa_test'], test_target, 'Linear SASA', evs, mse)\n",
    "plot_performance(anm_linear,linear_models['anm'], train_target, linear_models['anm_test'], test_target, 'Linear ANM', evs, mse)\n",
    "plot_performance(nma_linear,linear_models['nma'], train_target, linear_models['nma_test'], test_target, 'Linear NMA', evs,mse)\n"
   ]
  },
  {
   "cell_type": "markdown",
   "metadata": {},
   "source": [
    "#### random forest models\n"
   ]
  },
  {
   "cell_type": "code",
   "execution_count": 50,
   "metadata": {
    "tags": []
   },
   "outputs": [
    {
     "data": {
      "image/png": "[encoded data removed]",
      "text/plain": [
       "<Figure size 720x360 with 2 Axes>"
      ]
     },
     "metadata": {
      "needs_background": "light"
     },
     "output_type": "display_data"
    },
    {
     "data": {
      "image/png": "[encoded data removed]",
      "text/plain": [
       "<Figure size 720x360 with 2 Axes>"
      ]
     },
     "metadata": {
      "needs_background": "light"
     },
     "output_type": "display_data"
    }
   ],
   "source": [
    "plot_performance(model_rfoh, train_oh, train_target, test_oh, test_target, 'One Hot rf', evs, mse)\n",
    "plot_performance(model_rf_unirep, train_unirep, train_target, test_unirep, test_target, 'Unirep rf', evs,mse)"
   ]
  },
  {
   "cell_type": "code",
   "execution_count": null,
   "metadata": {},
   "outputs": [],
   "source": []
  },
  {
   "cell_type": "code",
   "execution_count": null,
   "metadata": {},
   "outputs": [],
   "source": []
  },
  {
   "cell_type": "code",
   "execution_count": null,
   "metadata": {},
   "outputs": [],
   "source": []
  },
  {
   "cell_type": "code",
   "execution_count": null,
   "metadata": {},
   "outputs": [],
   "source": []
  }
 ],
 "metadata": {
  "kernelspec": {
   "display_name": "patch_gnn",
   "language": "python",
   "name": "patch_gnn"
  },
  "language_info": {
   "codemirror_mode": {
    "name": "ipython",
    "version": 3
   },
   "file_extension": ".py",
   "mimetype": "text/x-python",
   "name": "python",
   "nbconvert_exporter": "python",
   "pygments_lexer": "ipython3",
   "version": "3.8.10"
  }
 },
 "nbformat": 4,
 "nbformat_minor": 4
}
