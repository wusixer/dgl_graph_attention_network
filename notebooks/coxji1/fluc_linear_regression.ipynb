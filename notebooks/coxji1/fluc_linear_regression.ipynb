{
 "cells": [
  {
   "cell_type": "code",
   "execution_count": 1,
   "metadata": {},
   "outputs": [],
   "source": [
    "%load_ext autoreload\n",
    "%autoreload 2"
   ]
  },
  {
   "cell_type": "markdown",
   "metadata": {},
   "source": [
    "#### The purpose of this notebook is to test whehter with anm or nma fluc values, one can build a linear regresion to predict the oxi level"
   ]
  },
  {
   "cell_type": "code",
   "execution_count": 2,
   "metadata": {},
   "outputs": [
    {
     "name": "stderr",
     "output_type": "stream",
     "text": [
      "WARNING:absl:No GPU/TPU found, falling back to CPU. (Set TF_CPP_MIN_LOG_LEVEL=0 and rerun for more info.)\n"
     ]
    }
   ],
   "source": [
    "from patch_gnn.data import load_ghesquire\n",
    "import pandas as pd\n",
    "from pyprojroot import here\n",
    "import pickle as pkl\n",
    "from patch_gnn.splitting import train_test_split\n",
    "from jax import random\n",
    "from patch_gnn.seqops import one_hot\n",
    "from patch_gnn.unirep import unirep_reps\n",
    "from patch_gnn.graph import graph_tensors\n",
    "from patch_gnn.models import MPNN, DeepMPNN\n",
    "from sklearn.ensemble import RandomForestRegressor\n",
    "from sklearn.metrics import explained_variance_score as evs\n",
    "import matplotlib.pyplot as plt \n",
    "from sklearn.metrics import mean_squared_error as mse\n",
    "import pickle as pkl\n",
    "from patch_gnn.graph import met_position\n",
    "import seaborn as sns\n",
    "import numpy as np\n",
    "from sklearn.linear_model import LinearRegression\n",
    "pd.options.mode.use_inf_as_na = True"
   ]
  },
  {
   "cell_type": "code",
   "execution_count": 3,
   "metadata": {},
   "outputs": [],
   "source": [
    "# taken from bench.ipynb\n",
    "def plot_y_eq_x(ax):\n",
    "    xmin, xmax = ax.get_xlim()\n",
    "    ymin, ymax = ax.get_ylim()\n",
    "\n",
    "    minval = min(xmin, ymin)\n",
    "    maxval = max(xmax, ymax)\n",
    "\n",
    "    ax.plot([minval, maxval], [minval, maxval])\n",
    "def plot_performance(\n",
    "    model,\n",
    "    trainX, trainY, testX, testY,\n",
    "    model_name: str,\n",
    "    ev_func,\n",
    "    checkpoint: int = None,\n",
    "):\n",
    "    fig, ax = plt.subplots(\n",
    "        figsize=(10, 5), nrows=1, ncols=2, sharex=True, sharey=True,\n",
    "    )\n",
    "\n",
    "    if isinstance(model, MPNN):\n",
    "        train_preds = model.predict(trainX, checkpoint=checkpoint)\n",
    "    else:\n",
    "        train_preds = model.predict(trainX)\n",
    "    ax[0].scatter(trainY, train_preds.squeeze())\n",
    "    ax[0].set_title(f\"Model: {model_name}, Training Perf: {ev_func(trainY, train_preds.squeeze()):.3f}\")\n",
    "    plot_y_eq_x(ax[0])\n",
    "\n",
    "    if isinstance(model, MPNN):\n",
    "        test_preds = model.predict(testX, checkpoint=checkpoint)\n",
    "    else:\n",
    "        test_preds = model.predict(testX)\n",
    "    ax[1].scatter(testY, test_preds.squeeze())\n",
    "    ax[1].set_title(f\"Model: {model_name}, Testing Perf: {ev_func(testY, test_preds.squeeze()):.3f}\")\n",
    "    plot_y_eq_x(ax[1])"
   ]
  },
  {
   "cell_type": "markdown",
   "metadata": {},
   "source": [
    "### LOAD train_df and test_df"
   ]
  },
  {
   "cell_type": "code",
   "execution_count": 4,
   "metadata": {},
   "outputs": [],
   "source": [
    "data = load_ghesquire()\n",
    "\n",
    "graph_pickle_path = here() / \"data/ghesquire_2011/graphs.pkl\"\n",
    "\n",
    "with open(graph_pickle_path, \"rb\") as f:\n",
    "    graphs = pkl.load(f)\n",
    "    \n",
    "processed_data_path = here() / \"data/ghesquire_2011/processed_data.pkl\"\n",
    "\n",
    "with open(processed_data_path, \"rb\") as f:\n",
    "    processed_data = pkl.load(f)"
   ]
  },
  {
   "cell_type": "code",
   "execution_count": 6,
   "metadata": {},
   "outputs": [
    {
     "data": {
      "text/plain": [
       "((251, 18), (108, 18))"
      ]
     },
     "execution_count": 6,
     "metadata": {},
     "output_type": "execute_result"
    }
   ],
   "source": [
    "key = random.PRNGKey(490)\n",
    "train_df, test_df = train_test_split(key, processed_data) # 70% training, 30% testing\n",
    "train_df.shape, test_df.shape"
   ]
  },
  {
   "cell_type": "code",
   "execution_count": 7,
   "metadata": {},
   "outputs": [],
   "source": [
    "train_target = train_df['ox_fwd_logit'].values\n",
    "test_target = test_df['ox_fwd_logit'].values"
   ]
  },
  {
   "cell_type": "code",
   "execution_count": 8,
   "metadata": {},
   "outputs": [
    {
     "data": {
      "text/plain": [
       "((251,), (108,))"
      ]
     },
     "execution_count": 8,
     "metadata": {},
     "output_type": "execute_result"
    }
   ],
   "source": [
    "train_target.shape, test_target.shape"
   ]
  },
  {
   "cell_type": "markdown",
   "metadata": {},
   "source": [
    "### Load fluc features anm and nma "
   ]
  },
  {
   "cell_type": "code",
   "execution_count": 9,
   "metadata": {},
   "outputs": [],
   "source": [
    "with open(here() / \"data/ghesquire_2011/ANM.pkl\", \"rb\") as f:\n",
    "    anm_dfs = pkl.load(f)\n",
    "with open(here() / \"data/ghesquire_2011/NMA.pkl\", \"rb\") as f:\n",
    "    nma_dfs = pkl.load(f)"
   ]
  },
  {
   "cell_type": "markdown",
   "metadata": {},
   "source": [
    "#### nma_dfs and anm_dfs are dicts"
   ]
  },
  {
   "cell_type": "code",
   "execution_count": 10,
   "metadata": {},
   "outputs": [],
   "source": [
    "def linear_model_data1(df, feature_dfs):\n",
    "    \"\"\"\n",
    "    return a feature vector \n",
    "    :params df: either train_df or test_df\n",
    "    :params feature_df: either anm_dfs or nma_dfs, they are dictionaries\n",
    "                        with key being accesssion and values being features associated\n",
    "                        that accession number\n",
    "    \"\"\"\n",
    "    linear = []\n",
    "    for acc, pos in zip(df[\"accession\"], df[\"met_position\"]):\n",
    "        # preprocessing already removed all the inf and nan values, so in theory there shouldn't be any\n",
    "        if feature_dfs[acc].loc[:,'fluc'].isnull().any().sum()!=0:\n",
    "            feature_dfs[acc] = feature_dfs[acc].replace(np.inf, 100000000, inplace =True)\n",
    "        feats = feature_dfs[acc].query(\"resnos == @pos\")[[\"fluc\"]]\n",
    "        linear.append(feats)\n",
    "\n",
    "    return pd.concat(linear)\n"
   ]
  },
  {
   "cell_type": "code",
   "execution_count": 11,
   "metadata": {},
   "outputs": [
    {
     "data": {
      "text/html": [
       "<div>\n",
       "<style scoped>\n",
       "    .dataframe tbody tr th:only-of-type {\n",
       "        vertical-align: middle;\n",
       "    }\n",
       "\n",
       "    .dataframe tbody tr th {\n",
       "        vertical-align: top;\n",
       "    }\n",
       "\n",
       "    .dataframe thead th {\n",
       "        text-align: right;\n",
       "    }\n",
       "</style>\n",
       "<table border=\"1\" class=\"dataframe\">\n",
       "  <thead>\n",
       "    <tr style=\"text-align: right;\">\n",
       "      <th></th>\n",
       "      <th>chains</th>\n",
       "      <th>resnos</th>\n",
       "      <th>resids</th>\n",
       "      <th>fluc</th>\n",
       "    </tr>\n",
       "  </thead>\n",
       "  <tbody>\n",
       "    <tr>\n",
       "      <th>0</th>\n",
       "      <td>NaN</td>\n",
       "      <td>83</td>\n",
       "      <td>LYS</td>\n",
       "      <td>208.669763</td>\n",
       "    </tr>\n",
       "    <tr>\n",
       "      <th>1</th>\n",
       "      <td>NaN</td>\n",
       "      <td>84</td>\n",
       "      <td>ALA</td>\n",
       "      <td>54.670175</td>\n",
       "    </tr>\n",
       "    <tr>\n",
       "      <th>2</th>\n",
       "      <td>NaN</td>\n",
       "      <td>85</td>\n",
       "      <td>THR</td>\n",
       "      <td>13.492217</td>\n",
       "    </tr>\n",
       "    <tr>\n",
       "      <th>3</th>\n",
       "      <td>NaN</td>\n",
       "      <td>86</td>\n",
       "      <td>LYS</td>\n",
       "      <td>2.617491</td>\n",
       "    </tr>\n",
       "    <tr>\n",
       "      <th>4</th>\n",
       "      <td>NaN</td>\n",
       "      <td>87</td>\n",
       "      <td>LEU</td>\n",
       "      <td>1.603720</td>\n",
       "    </tr>\n",
       "    <tr>\n",
       "      <th>...</th>\n",
       "      <td>...</td>\n",
       "      <td>...</td>\n",
       "      <td>...</td>\n",
       "      <td>...</td>\n",
       "    </tr>\n",
       "    <tr>\n",
       "      <th>130</th>\n",
       "      <td>NaN</td>\n",
       "      <td>213</td>\n",
       "      <td>LYS</td>\n",
       "      <td>2.281724</td>\n",
       "    </tr>\n",
       "    <tr>\n",
       "      <th>131</th>\n",
       "      <td>NaN</td>\n",
       "      <td>214</td>\n",
       "      <td>LYS</td>\n",
       "      <td>1.476126</td>\n",
       "    </tr>\n",
       "    <tr>\n",
       "      <th>132</th>\n",
       "      <td>NaN</td>\n",
       "      <td>215</td>\n",
       "      <td>PRO</td>\n",
       "      <td>1.284784</td>\n",
       "    </tr>\n",
       "    <tr>\n",
       "      <th>133</th>\n",
       "      <td>NaN</td>\n",
       "      <td>216</td>\n",
       "      <td>ILE</td>\n",
       "      <td>1.310643</td>\n",
       "    </tr>\n",
       "    <tr>\n",
       "      <th>134</th>\n",
       "      <td>NaN</td>\n",
       "      <td>217</td>\n",
       "      <td>GLU</td>\n",
       "      <td>2.659555</td>\n",
       "    </tr>\n",
       "  </tbody>\n",
       "</table>\n",
       "<p>135 rows × 4 columns</p>\n",
       "</div>"
      ],
      "text/plain": [
       "     chains  resnos resids        fluc\n",
       "0       NaN      83    LYS  208.669763\n",
       "1       NaN      84    ALA   54.670175\n",
       "2       NaN      85    THR   13.492217\n",
       "3       NaN      86    LYS    2.617491\n",
       "4       NaN      87    LEU    1.603720\n",
       "..      ...     ...    ...         ...\n",
       "130     NaN     213    LYS    2.281724\n",
       "131     NaN     214    LYS    1.476126\n",
       "132     NaN     215    PRO    1.284784\n",
       "133     NaN     216    ILE    1.310643\n",
       "134     NaN     217    GLU    2.659555\n",
       "\n",
       "[135 rows x 4 columns]"
      ]
     },
     "execution_count": 11,
     "metadata": {},
     "output_type": "execute_result"
    }
   ],
   "source": [
    "anm_dfs[train_df[\"accession\"].tolist()[0]]"
   ]
  },
  {
   "cell_type": "markdown",
   "metadata": {},
   "source": [
    "#### part I: try on AMN feature"
   ]
  },
  {
   "cell_type": "code",
   "execution_count": 13,
   "metadata": {},
   "outputs": [
    {
     "data": {
      "text/plain": [
       "(fluc    False\n",
       " dtype: bool,\n",
       " fluc    False\n",
       " dtype: bool,\n",
       " fluc    False\n",
       " dtype: bool,\n",
       " fluc    False\n",
       " dtype: bool)"
      ]
     },
     "execution_count": 13,
     "metadata": {},
     "output_type": "execute_result"
    }
   ],
   "source": [
    "train_linear_anm = linear_model_data1(train_df, anm_dfs)\n",
    "test_linear_anm = linear_model_data1(test_df, anm_dfs)\n",
    "train_target = train_df['ox_fwd_logit'].values\n",
    "test_target = test_df['ox_fwd_logit'].values\n",
    "np.isnan(train_linear_anm).any(), np.isnan(test_linear_anm).any(), np.isnan(train_linear_anm).any(), np.isnan(test_linear_anm).any()"
   ]
  },
  {
   "cell_type": "markdown",
   "metadata": {},
   "source": [
    "##### fit a linear model"
   ]
  },
  {
   "cell_type": "code",
   "execution_count": 14,
   "metadata": {},
   "outputs": [
    {
     "data": {
      "text/plain": [
       "LinearRegression()"
      ]
     },
     "execution_count": 14,
     "metadata": {},
     "output_type": "execute_result"
    }
   ],
   "source": [
    "model_linear = LinearRegression()\n",
    "model_linear.fit(train_linear_anm, train_target)"
   ]
  },
  {
   "cell_type": "code",
   "execution_count": 15,
   "metadata": {},
   "outputs": [
    {
     "data": {
      "image/png": "[encoded data removed]",
      "text/plain": [
       "<Figure size 720x360 with 2 Axes>"
      ]
     },
     "metadata": {
      "needs_background": "light"
     },
     "output_type": "display_data"
    }
   ],
   "source": [
    "plot_performance(model_linear, train_linear_anm, train_target, test_linear_anm, test_target, 'Linear, evs', evs)"
   ]
  },
  {
   "cell_type": "markdown",
   "metadata": {},
   "source": [
    "##### plot descriptor, target relation scatter plot"
   ]
  },
  {
   "cell_type": "code",
   "execution_count": 18,
   "metadata": {},
   "outputs": [
    {
     "data": {
      "text/plain": [
       "(359, 3)"
      ]
     },
     "execution_count": 18,
     "metadata": {},
     "output_type": "execute_result"
    }
   ],
   "source": [
    "descriptor = pd.concat([train_linear_anm.reset_index(drop=True), test_linear_anm.reset_index(drop=True)], axis=0)\n",
    "target = pd.concat([pd.Series(train_target), pd.Series(test_target)], axis=0)\n",
    "train_test = pd.Series([\"train\"]*train_linear_anm.shape[0] + ['test']* test_linear_anm.shape[0])\n",
    "scatter_df = pd.DataFrame({'fluc': descriptor['fluc'].tolist(), 'target': target.tolist(), 'train_test': train_test.tolist()})\n",
    "scatter_df.shape"
   ]
  },
  {
   "cell_type": "code",
   "execution_count": 19,
   "metadata": {},
   "outputs": [
    {
     "data": {
      "text/plain": [
       "Text(0.5, 1.0, 'ANM fluc vs. target in train and test set')"
      ]
     },
     "execution_count": 19,
     "metadata": {},
     "output_type": "execute_result"
    },
    {
     "data": {
      "image/png": "[encoded data removed]",
      "text/plain": [
       "<Figure size 419.375x360 with 1 Axes>"
      ]
     },
     "metadata": {
      "needs_background": "light"
     },
     "output_type": "display_data"
    }
   ],
   "source": [
    "sns.relplot(x=\"fluc\", y=\"target\",hue=\"train_test\", data=scatter_df)\n",
    "plt.title('ANM fluc vs. target in train and test set')"
   ]
  },
  {
   "cell_type": "markdown",
   "metadata": {},
   "source": [
    "##### drop inf in ANM and MNA for linear regression <- note that this part no longer does anything since the inf or nan values associated samples were dropped already"
   ]
  },
  {
   "cell_type": "code",
   "execution_count": 28,
   "metadata": {},
   "outputs": [
    {
     "data": {
      "text/plain": [
       "fluc    158.755601\n",
       "dtype: float64"
      ]
     },
     "execution_count": 28,
     "metadata": {},
     "output_type": "execute_result"
    }
   ],
   "source": [
    "np.max(train_linear_anm)"
   ]
  },
  {
   "cell_type": "code",
   "execution_count": 29,
   "metadata": {},
   "outputs": [
    {
     "data": {
      "text/plain": [
       "array([], dtype=int64)"
      ]
     },
     "execution_count": 29,
     "metadata": {},
     "output_type": "execute_result"
    }
   ],
   "source": [
    "train_idx_to_drop_anm, _ = np.where(train_linear_anm ==100000000.0 )\n",
    "test_idx_to_drop_anm, _ = np.where(test_linear_anm ==100000000.0 )\n",
    "train_idx_to_drop_anm"
   ]
  },
  {
   "cell_type": "code",
   "execution_count": 30,
   "metadata": {},
   "outputs": [
    {
     "data": {
      "text/plain": [
       "fluc    158.755601\n",
       "dtype: float64"
      ]
     },
     "execution_count": 30,
     "metadata": {},
     "output_type": "execute_result"
    }
   ],
   "source": [
    "# verify the max value is no longer 100000000 after drop\n",
    "np.max(train_linear_anm.reset_index(drop=True).drop(train_idx_to_drop_anm))"
   ]
  },
  {
   "cell_type": "code",
   "execution_count": 31,
   "metadata": {},
   "outputs": [],
   "source": [
    "# verify selected rows\n",
    "#train_linear_anm.reset_index(drop=True).iloc[[ 56,  71,  90, 142, 190, 207],]"
   ]
  },
  {
   "cell_type": "code",
   "execution_count": 32,
   "metadata": {},
   "outputs": [],
   "source": [
    "train_linear_anm_drop_inf = train_linear_anm.reset_index(drop=True).drop(train_idx_to_drop_anm)\n",
    "test_linear_anm_drop_inf = test_linear_anm.reset_index(drop=True).drop(test_idx_to_drop_anm)\n",
    "train_target_anm_drop_inf = np.delete(train_target, train_idx_to_drop_anm)\n",
    "test_target_anm_drop_inf = np.delete(test_target, test_idx_to_drop_anm)\n"
   ]
  },
  {
   "cell_type": "code",
   "execution_count": 33,
   "metadata": {},
   "outputs": [
    {
     "data": {
      "text/plain": [
       "Text(0.5, 1.0, 'ANM drop inf fluc vs. target drop inf in train and test set')"
      ]
     },
     "execution_count": 33,
     "metadata": {},
     "output_type": "execute_result"
    },
    {
     "data": {
      "image/png": "[encoded data removed]",
      "text/plain": [
       "<Figure size 419.375x360 with 1 Axes>"
      ]
     },
     "metadata": {
      "needs_background": "light"
     },
     "output_type": "display_data"
    }
   ],
   "source": [
    "descriptor = pd.concat([train_linear_anm_drop_inf.reset_index(drop=True), test_linear_anm_drop_inf.reset_index(drop=True)], axis=0)\n",
    "target = pd.concat([pd.Series(train_target_anm_drop_inf), pd.Series(test_target_anm_drop_inf)], axis=0)\n",
    "train_test = pd.Series([\"train\"]*train_linear_anm_drop_inf.shape[0] + ['test']* test_linear_anm_drop_inf.shape[0])\n",
    "scatter_df = pd.DataFrame({'fluc': descriptor['fluc'].tolist(), 'target': target.tolist(), 'train_test': train_test.tolist()})\n",
    "scatter_df.shape\n",
    "sns.relplot(x=\"fluc\", y=\"target\",hue=\"train_test\", data=scatter_df)\n",
    "plt.title('ANM drop inf fluc vs. target drop inf in train and test set')"
   ]
  },
  {
   "cell_type": "markdown",
   "metadata": {},
   "source": [
    "#### no improvments after dropping inf on ANM"
   ]
  },
  {
   "cell_type": "code",
   "execution_count": 34,
   "metadata": {},
   "outputs": [
    {
     "data": {
      "image/png": "[encoded data removed]",
      "text/plain": [
       "<Figure size 720x360 with 2 Axes>"
      ]
     },
     "metadata": {
      "needs_background": "light"
     },
     "output_type": "display_data"
    }
   ],
   "source": [
    "model_linear = LinearRegression()\n",
    "model_linear.fit(train_linear_anm_drop_inf, train_target_anm_drop_inf)\n",
    "plot_performance(model_linear, train_linear_anm_drop_inf, train_target_anm_drop_inf, test_linear_anm_drop_inf, test_target_anm_drop_inf, 'Linear, evs', evs)"
   ]
  },
  {
   "cell_type": "markdown",
   "metadata": {},
   "source": [
    "### Conclusion\n",
    "##### some structures are not complete, some proteins won't be typical globular proteins, the parameters don't reflect reliable fluc values. Even if we look at the distribution of the fluc, given the linear model is looking across proteins, the linear regression's parameter values might not be comparable. This descriptor might also not be available to other dataset. "
   ]
  },
  {
   "cell_type": "markdown",
   "metadata": {},
   "source": [
    "#### part II: try on NMA feature"
   ]
  },
  {
   "cell_type": "markdown",
   "metadata": {},
   "source": [
    "##### convert inf to 100000000"
   ]
  },
  {
   "cell_type": "code",
   "execution_count": 35,
   "metadata": {},
   "outputs": [
    {
     "data": {
      "image/png": "[encoded data removed]",
      "text/plain": [
       "<Figure size 720x360 with 2 Axes>"
      ]
     },
     "metadata": {
      "needs_background": "light"
     },
     "output_type": "display_data"
    }
   ],
   "source": [
    "train_linear_nma = linear_model_data1(train_df, nma_dfs)\n",
    "test_linear_nma = linear_model_data1(test_df, nma_dfs)\n",
    "train_target = train_df['ox_fwd_logit'].values\n",
    "test_target = test_df['ox_fwd_logit'].values\n",
    "\n",
    "#fit linear model\n",
    "model_linear = LinearRegression()\n",
    "model_linear.fit(train_linear_nma, train_target)\n",
    "plot_performance(model_linear, train_linear_nma, train_target, test_linear_nma, test_target, 'Linear, evs', evs)"
   ]
  },
  {
   "cell_type": "markdown",
   "metadata": {},
   "source": [
    "##### drop inf, it seems there is only 1 sample with inf value, it is the 7th sample in test set, see below. Therefore, removing inf won't change the above plot much"
   ]
  },
  {
   "cell_type": "code",
   "execution_count": 36,
   "metadata": {},
   "outputs": [
    {
     "data": {
      "text/plain": [
       "(array([], dtype=int64), array([], dtype=int64))"
      ]
     },
     "execution_count": 36,
     "metadata": {},
     "output_type": "execute_result"
    }
   ],
   "source": [
    "train_idx_to_drop_nma, _ = np.where(train_linear_nma ==100000000.0 )\n",
    "test_idx_to_drop_nma, _ = np.where(test_linear_nma ==100000000.0 )\n",
    "train_idx_to_drop_nma, test_idx_to_drop_nma "
   ]
  },
  {
   "cell_type": "code",
   "execution_count": 37,
   "metadata": {},
   "outputs": [],
   "source": [
    "#train_linear_nma_drop_inf = train_linear_nma.reset_index(drop=True).drop(train_idx_to_drop_nma)\n",
    "test_linear_nma_drop_inf = test_linear_nma.reset_index(drop=True).drop(test_idx_to_drop_nma)\n",
    "#train_target_nma_drop_inf = np.delete(train_target, train_idx_to_drop_nma)\n",
    "test_target_nma_drop_inf = np.delete(test_target, test_idx_to_drop_nma)"
   ]
  }
 ],
 "metadata": {
  "kernelspec": {
   "display_name": "patch-gnn",
   "language": "python",
   "name": "patch-gnn"
  },
  "language_info": {
   "codemirror_mode": {
    "name": "ipython",
    "version": 3
   },
   "file_extension": ".py",
   "mimetype": "text/x-python",
   "name": "python",
   "nbconvert_exporter": "python",
   "pygments_lexer": "ipython3",
   "version": "3.8.8"
  }
 },
 "nbformat": 4,
 "nbformat_minor": 4
}
