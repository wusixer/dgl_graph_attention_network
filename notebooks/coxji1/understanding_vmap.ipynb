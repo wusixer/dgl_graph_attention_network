{
 "cells": [
  {
   "cell_type": "code",
   "execution_count": 1,
   "id": "virtual-scheme",
   "metadata": {},
   "outputs": [],
   "source": [
    "import jax.numpy as np\n",
    "from jax import lax, nn, random, vmap\n",
    "from jax._src.nn.functions import normalize\n",
    "from jax.experimental import stax\n",
    "from jax.nn.initializers import glorot_normal\n",
    "from jax.random import normal"
   ]
  },
  {
   "cell_type": "code",
   "execution_count": 7,
   "id": "chemical-track",
   "metadata": {},
   "outputs": [],
   "source": [
    "a = np.array(([1,2], [3,4]))\n",
    "b = np.array(([5,6], [7,8]))"
   ]
  },
  {
   "cell_type": "code",
   "execution_count": 10,
   "id": "lesbian-mapping",
   "metadata": {},
   "outputs": [
    {
     "data": {
      "text/plain": [
       "(DeviceArray([[1, 2],\n",
       "              [3, 4]], dtype=int32),\n",
       " DeviceArray([[5, 6],\n",
       "              [7, 8]], dtype=int32))"
      ]
     },
     "execution_count": 10,
     "metadata": {},
     "output_type": "execute_result"
    }
   ],
   "source": [
    "a,b"
   ]
  },
  {
   "cell_type": "code",
   "execution_count": 8,
   "id": "functioning-windsor",
   "metadata": {},
   "outputs": [
    {
     "data": {
      "text/plain": [
       "DeviceArray([[19, 22],\n",
       "             [43, 50]], dtype=int32)"
      ]
     },
     "execution_count": 8,
     "metadata": {},
     "output_type": "execute_result"
    }
   ],
   "source": [
    "np.dot(a,b)"
   ]
  },
  {
   "cell_type": "code",
   "execution_count": 19,
   "id": "nearby-vienna",
   "metadata": {},
   "outputs": [
    {
     "data": {
      "text/plain": [
       "DeviceArray([17, 53], dtype=int32)"
      ]
     },
     "execution_count": 19,
     "metadata": {},
     "output_type": "execute_result"
    }
   ],
   "source": [
    "vmap(np.dot, in_axes=(0,0))(a,b) #[1*5+2*6, 3*7+4*8] # same if you do out_axe = (-1) or out_axe = (-0)"
   ]
  },
  {
   "cell_type": "code",
   "execution_count": 20,
   "id": "southeast-tenant",
   "metadata": {},
   "outputs": [
    {
     "data": {
      "text/plain": [
       "DeviceArray([19, 50], dtype=int32)"
      ]
     },
     "execution_count": 20,
     "metadata": {},
     "output_type": "execute_result"
    }
   ],
   "source": [
    "vmap(np.dot, in_axes=(0,1))(a,b) #[1*5+2*7, 3*6+4*8] ## consider row combination of a with corresponding col of b"
   ]
  },
  {
   "cell_type": "code",
   "execution_count": 14,
   "id": "white-shift",
   "metadata": {},
   "outputs": [
    {
     "data": {
      "text/plain": [
       "DeviceArray([23, 46], dtype=int32)"
      ]
     },
     "execution_count": 14,
     "metadata": {},
     "output_type": "execute_result"
    }
   ],
   "source": [
    "vmap(np.dot, in_axes=(1,0))(a,b) #[1*5+3*6, 2*7+4*8]"
   ]
  },
  {
   "cell_type": "code",
   "execution_count": 22,
   "id": "equal-settle",
   "metadata": {},
   "outputs": [
    {
     "data": {
      "text/plain": [
       "DeviceArray([26, 44], dtype=int32)"
      ]
     },
     "execution_count": 22,
     "metadata": {},
     "output_type": "execute_result"
    }
   ],
   "source": [
    "vmap(np.dot, in_axes=(1,1))(a,b) #[1*5+3*7, 2*6+4*8]"
   ]
  },
  {
   "cell_type": "code",
   "execution_count": 25,
   "id": "fewer-cocktail",
   "metadata": {},
   "outputs": [
    {
     "data": {
      "text/plain": [
       "DeviceArray([[19, 43],\n",
       "             [22, 50]], dtype=int32)"
      ]
     },
     "execution_count": 25,
     "metadata": {},
     "output_type": "execute_result"
    }
   ],
   "source": [
    "vmap(np.dot, in_axes=(None,1))(a,b) #[[1*5+2*7, 3*5+4*7], [1*6+2*8, 3*6+4*8]] # consider all row combination of a with all col combination of b"
   ]
  },
  {
   "cell_type": "code",
   "execution_count": 27,
   "id": "environmental-peace",
   "metadata": {},
   "outputs": [
    {
     "data": {
      "text/plain": [
       "DeviceArray([[19, 22],\n",
       "             [43, 50]], dtype=int32)"
      ]
     },
     "execution_count": 27,
     "metadata": {},
     "output_type": "execute_result"
    }
   ],
   "source": [
    "vmap(np.dot, in_axes=(None,1))(a,b).T"
   ]
  },
  {
   "cell_type": "code",
   "execution_count": 17,
   "id": "lightweight-microwave",
   "metadata": {},
   "outputs": [
    {
     "data": {
      "text/plain": [
       "DeviceArray([[19, 22],\n",
       "             [43, 50]], dtype=int32)"
      ]
     },
     "execution_count": 17,
     "metadata": {},
     "output_type": "execute_result"
    }
   ],
   "source": [
    "vmap(np.dot, in_axes=(None,1), out_axes=(-1))(a,b) # same as out_axe = (0) and then transpose the output"
   ]
  },
  {
   "cell_type": "code",
   "execution_count": 30,
   "id": "stopped-gasoline",
   "metadata": {},
   "outputs": [
    {
     "data": {
      "text/plain": [
       "(DeviceArray([[1, 2],\n",
       "              [3, 4]], dtype=int32),\n",
       " DeviceArray([[5, 6],\n",
       "              [7, 8]], dtype=int32))"
      ]
     },
     "execution_count": 30,
     "metadata": {},
     "output_type": "execute_result"
    }
   ],
   "source": [
    "a,b"
   ]
  },
  {
   "cell_type": "code",
   "execution_count": 28,
   "id": "cellular-fancy",
   "metadata": {},
   "outputs": [
    {
     "data": {
      "text/plain": [
       "DeviceArray([[26, 30],\n",
       "             [38, 44]], dtype=int32)"
      ]
     },
     "execution_count": 28,
     "metadata": {},
     "output_type": "execute_result"
    }
   ],
   "source": [
    "vmap(np.dot, in_axes=(-1, None), out_axes=0)(a,b) #"
   ]
  },
  {
   "cell_type": "code",
   "execution_count": 29,
   "id": "detected-yorkshire",
   "metadata": {},
   "outputs": [
    {
     "data": {
      "text/plain": [
       "DeviceArray([[26, 30],\n",
       "             [38, 44]], dtype=int32)"
      ]
     },
     "execution_count": 29,
     "metadata": {},
     "output_type": "execute_result"
    }
   ],
   "source": [
    "vmap(np.dot, in_axes=(1, None), out_axes=0)(a,b) #"
   ]
  },
  {
   "cell_type": "code",
   "execution_count": 3,
   "id": "local-symbol",
   "metadata": {},
   "outputs": [
    {
     "name": "stderr",
     "output_type": "stream",
     "text": [
      "WARNING:absl:No GPU/TPU found, falling back to CPU. (Set TF_CPP_MIN_LOG_LEVEL=0 and rerun for more info.)\n"
     ]
    }
   ],
   "source": [
    "key = random.PRNGKey(12)\n",
    "k1, k2 = random.split(key)\n",
    "A = random.normal(k1, (5,5))  # A shape (5, 5), adjacency matrix, 5 node * 5 node\n",
    "F = random.normal(k2, (5, 13)) #F shape (5, 13) feature matrix, 5 node, 13 features"
   ]
  },
  {
   "cell_type": "code",
   "execution_count": 6,
   "id": "southwest-optics",
   "metadata": {},
   "outputs": [
    {
     "data": {
      "text/plain": [
       "(5, 13)"
      ]
     },
     "execution_count": 6,
     "metadata": {},
     "output_type": "execute_result"
    }
   ],
   "source": [
    "mp0 = vmap(np.dot, in_axes=(-1, None), out_axes=0)(A, F)\n",
    "mp0.shape"
   ]
  },
  {
   "cell_type": "code",
   "execution_count": 5,
   "id": "civic-battery",
   "metadata": {},
   "outputs": [
    {
     "data": {
      "text/plain": [
       "(13, 5)"
      ]
     },
     "execution_count": 5,
     "metadata": {},
     "output_type": "execute_result"
    }
   ],
   "source": [
    "mp = vmap(np.dot, in_axes=(-1, None), out_axes=(-1))(A, F) #MessagePassing apply_func in layers.py\n",
    "mp.shape"
   ]
  },
  {
   "cell_type": "code",
   "execution_count": 4,
   "id": "fossil-cause",
   "metadata": {},
   "outputs": [
    {
     "data": {
      "text/plain": [
       "((5, 13), (5, 13))"
      ]
     },
     "execution_count": 4,
     "metadata": {},
     "output_type": "execute_result"
    }
   ],
   "source": [
    "from jax.lax import batch_matmul\n",
    "mp1 = np.dot(A, F)\n",
    "mp2 = batch_matmul(A,F)\n",
    "mp1.shape, mp2.shape"
   ]
  },
  {
   "cell_type": "code",
   "execution_count": 5,
   "id": "ahead-chamber",
   "metadata": {},
   "outputs": [],
   "source": [
    "from patch_gnn.layers import MessagePassing"
   ]
  },
  {
   "cell_type": "code",
   "execution_count": 6,
   "id": "maritime-unknown",
   "metadata": {},
   "outputs": [],
   "source": [
    "init_fun, apply_fun = MessagePassing()"
   ]
  },
  {
   "cell_type": "code",
   "execution_count": 7,
   "id": "minor-private",
   "metadata": {},
   "outputs": [
    {
     "data": {
      "text/plain": [
       "(13, 5)"
      ]
     },
     "execution_count": 7,
     "metadata": {},
     "output_type": "execute_result"
    }
   ],
   "source": [
    "(n_nodes, n_features), (adjacency_weights)  = init_fun(random.PRNGKey(12), input_shape = (5,13,1))\n",
    "adjacency_weights.shape # (1,1)\n",
    "out = apply_fun(adjacency_weights[0][0], (A, F)) # why is message passing params not a matrix?\n",
    "out.shape"
   ]
  },
  {
   "cell_type": "code",
   "execution_count": null,
   "id": "educational-peoples",
   "metadata": {},
   "outputs": [],
   "source": [
    "adjacency_weights.shape"
   ]
  },
  {
   "cell_type": "code",
   "execution_count": null,
   "id": "aging-prevention",
   "metadata": {},
   "outputs": [],
   "source": [
    "n_adjacencies = 1\n",
    "adjacency_weights = random.normal(k1, (n_adjacencies, 1))"
   ]
  },
  {
   "cell_type": "code",
   "execution_count": null,
   "id": "orange-rhythm",
   "metadata": {},
   "outputs": [],
   "source": [
    "mp_out = np.squeeze(np.dot(mp, params))\n",
    "mp_out.shape"
   ]
  },
  {
   "cell_type": "code",
   "execution_count": null,
   "id": "inclusive-whale",
   "metadata": {},
   "outputs": [],
   "source": []
  },
  {
   "cell_type": "code",
   "execution_count": null,
   "id": "filled-harbor",
   "metadata": {},
   "outputs": [],
   "source": []
  }
 ],
 "metadata": {
  "kernelspec": {
   "display_name": "patch-gnn",
   "language": "python",
   "name": "patch-gnn"
  },
  "language_info": {
   "codemirror_mode": {
    "name": "ipython",
    "version": 3
   },
   "file_extension": ".py",
   "mimetype": "text/x-python",
   "name": "python",
   "nbconvert_exporter": "python",
   "pygments_lexer": "ipython3",
   "version": "3.8.8"
  }
 },
 "nbformat": 4,
 "nbformat_minor": 5
}
